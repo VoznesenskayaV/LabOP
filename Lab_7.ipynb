{
  "nbformat": 4,
  "nbformat_minor": 0,
  "metadata": {
    "colab": {
      "provenance": [],
      "authorship_tag": "ABX9TyM7MP1hFpyDDFqk/xYBVkEz",
      "include_colab_link": true
    },
    "kernelspec": {
      "name": "python3",
      "display_name": "Python 3"
    },
    "language_info": {
      "name": "python"
    }
  },
  "cells": [
    {
      "cell_type": "markdown",
      "metadata": {
        "id": "view-in-github",
        "colab_type": "text"
      },
      "source": [
        "<a href=\"https://colab.research.google.com/github/VoznesenskayaV/LabOP/blob/main/Lab_7.ipynb\" target=\"_parent\"><img src=\"https://colab.research.google.com/assets/colab-badge.svg\" alt=\"Open In Colab\"/></a>"
      ]
    },
    {
      "cell_type": "markdown",
      "source": [
        "# Программирование на языке высокого уровня (Python).\n",
        "# https://www.yuripetrov.ru/edu/python\n",
        "# Выполнил: Вознесеснская В.Е.\n",
        "# Группа: АДЭУ-221\n",
        "# E-mail: veroshe4k@gmail.com\n"
      ],
      "metadata": {
        "id": "ljQN1ysyLpWR"
      }
    },
    {
      "cell_type": "markdown",
      "source": [
        "# 7.2.1\n"
      ],
      "metadata": {
        "id": "pVfCcsDWMHx_"
      }
    },
    {
      "cell_type": "code",
      "execution_count": 37,
      "metadata": {
        "id": "fWRTtaPcM_6D"
      },
      "outputs": [],
      "source": [
        "def sum_of_digits(n):\n",
        "    \"\"\"Returns the sum of digits less than 5 for a positive integer n.\n",
        "     If there are no such digits, it returns 0.\"\"\"\n",
        "    c = 0\n",
        "    while n > 0:\n",
        "        digit = n % 10\n",
        "        if digit < 5:\n",
        "            c = c + digit\n",
        "        n //= 10\n",
        "    return c"
      ]
    },
    {
      "cell_type": "code",
      "source": [
        "sum_of_digits(14)"
      ],
      "metadata": {
        "colab": {
          "base_uri": "https://localhost:8080/"
        },
        "id": "CbNqjDQgNZbW",
        "outputId": "255155f0-c308-4305-c5f3-da3262629ea5"
      },
      "execution_count": 38,
      "outputs": [
        {
          "output_type": "execute_result",
          "data": {
            "text/plain": [
              "5"
            ]
          },
          "metadata": {},
          "execution_count": 38
        }
      ]
    },
    {
      "cell_type": "code",
      "source": [
        "help(sum_of_digits)"
      ],
      "metadata": {
        "colab": {
          "base_uri": "https://localhost:8080/"
        },
        "id": "rf_WugRiu_AG",
        "outputId": "679cd3f2-5158-4885-a764-6509bb9ed4f6"
      },
      "execution_count": 39,
      "outputs": [
        {
          "output_type": "stream",
          "name": "stdout",
          "text": [
            "Help on function sum_of_digits in module __main__:\n",
            "\n",
            "sum_of_digits(n)\n",
            "    Returns the sum of digits less than 5 for a positive integer n.\n",
            "    If there are no such digits, it returns 0.\n",
            "\n"
          ]
        }
      ]
    },
    {
      "cell_type": "markdown",
      "source": [
        "# 7.2.2"
      ],
      "metadata": {
        "id": "xJRQ7l-jMbVd"
      }
    },
    {
      "cell_type": "code",
      "source": [
        "def primes(a, b):\n",
        "    \"\"\"Returns a list of primes between 'a' and 'b'.\"\"\"\n",
        "    res = []\n",
        "    c = 0\n",
        "    for i in range(a, b+1):\n",
        "      for j in range(i+1):\n",
        "            if i % (j + 1) == 0:\n",
        "                c += 1\n",
        "      if c == 2:\n",
        "        res.append(i)\n",
        "      else:\n",
        "        c = 0\n",
        "    \n",
        "    return res"
      ],
      "metadata": {
        "id": "h35D468wMetK"
      },
      "execution_count": 34,
      "outputs": []
    },
    {
      "cell_type": "code",
      "source": [
        "primes(101,135)"
      ],
      "metadata": {
        "colab": {
          "base_uri": "https://localhost:8080/"
        },
        "id": "Y6JZwX71MrBP",
        "outputId": "a16ba64b-3ca9-4e38-c901-a6064042dbe3"
      },
      "execution_count": 35,
      "outputs": [
        {
          "output_type": "execute_result",
          "data": {
            "text/plain": [
              "[101, 103, 107, 109, 113, 127, 131]"
            ]
          },
          "metadata": {},
          "execution_count": 35
        }
      ]
    },
    {
      "cell_type": "code",
      "source": [
        "help(primes)"
      ],
      "metadata": {
        "colab": {
          "base_uri": "https://localhost:8080/"
        },
        "id": "dJLJ2b9Du5b5",
        "outputId": "d7702bec-a509-4e4e-c4c6-574faff31c4c"
      },
      "execution_count": 36,
      "outputs": [
        {
          "output_type": "stream",
          "name": "stdout",
          "text": [
            "Help on function primes in module __main__:\n",
            "\n",
            "primes(a, b)\n",
            "    Returns a list of primes between 'a' and 'b'.\n",
            "\n"
          ]
        }
      ]
    },
    {
      "cell_type": "markdown",
      "source": [
        "# 7.2.3"
      ],
      "metadata": {
        "id": "xDKmGBYSNeJk"
      }
    },
    {
      "cell_type": "code",
      "source": [
        "def first_vacant_row(seats):\n",
        "    \"\"\"Returns the first row with the most empty seats and how many of them. \n",
        "    Row numbering starting from 1. If there are no empty seats, return 0, 0.\n",
        "\n",
        "    Options:\n",
        "        - seats (list of list): information about sold tickets\n",
        "                                (1 - sold, 0 - not).\n",
        "\n",
        "   Result:\n",
        "        - tuple (row, number of seats).\n",
        "    \"\"\"\n",
        "    max_count = 0\n",
        "    max_row = 0\n",
        "    for row_index, row in enumerate(seats):\n",
        "        available_seats_count = row.count(0)  # 0 - пусто\n",
        "        if available_seats_count > max_count:\n",
        "            max_row = row_index + 1\n",
        "            max_count = available_seats_count\n",
        "\n",
        "    return max_row, max_count"
      ],
      "metadata": {
        "id": "zrK6Wmq4NewQ"
      },
      "execution_count": 31,
      "outputs": []
    },
    {
      "cell_type": "code",
      "source": [
        "import random\n",
        "random.seed(50)\n",
        "\n",
        "ROWS_MAX = 10\n",
        "SEATS_MAX = 5\n",
        "\n",
        "seats = [[random.randint(0, 1) for seat in range(SEATS_MAX)]\n",
        "                                for row in range(ROWS_MAX)]\n",
        "for seat in seats:\n",
        "    print(seat)\n",
        "\n",
        "print(first_vacant_row(seats))"
      ],
      "metadata": {
        "colab": {
          "base_uri": "https://localhost:8080/"
        },
        "id": "1uhMhRaosLXC",
        "outputId": "65339996-2e28-4b15-a0c7-73d1a7adf456"
      },
      "execution_count": 32,
      "outputs": [
        {
          "output_type": "stream",
          "name": "stdout",
          "text": [
            "[1, 1, 1, 0, 1]\n",
            "[1, 0, 1, 0, 0]\n",
            "[0, 1, 0, 1, 1]\n",
            "[0, 0, 0, 1, 1]\n",
            "[0, 0, 1, 1, 0]\n",
            "[0, 1, 1, 1, 0]\n",
            "[0, 1, 1, 1, 0]\n",
            "[1, 0, 0, 1, 0]\n",
            "[1, 1, 0, 1, 1]\n",
            "[0, 1, 0, 0, 1]\n",
            "(2, 3)\n"
          ]
        }
      ]
    },
    {
      "cell_type": "code",
      "source": [
        "help(first_vacant_row)"
      ],
      "metadata": {
        "colab": {
          "base_uri": "https://localhost:8080/"
        },
        "id": "XHN1SKdMutd_",
        "outputId": "360a77e7-867c-4e83-b026-4be12b8e05e2"
      },
      "execution_count": 33,
      "outputs": [
        {
          "output_type": "stream",
          "name": "stdout",
          "text": [
            "Help on function first_vacant_row in module __main__:\n",
            "\n",
            "first_vacant_row(seats)\n",
            "    Returns the first row with the most empty seats and how many of them. \n",
            "     Row numbering starting from 1. If there are no empty seats, return 0, 0.\n",
            "    \n",
            "     Options:\n",
            "         - seats (list of list): information about sold tickets\n",
            "                                 (1 - sold, 0 - not).\n",
            "    \n",
            "    Result:\n",
            "         - tuple (row, number of seats).\n",
            "\n"
          ]
        }
      ]
    },
    {
      "cell_type": "markdown",
      "source": [
        "# 7.2.4"
      ],
      "metadata": {
        "id": "J2rxLvoBRQST"
      }
    },
    {
      "cell_type": "code",
      "source": [
        "def min_pair(nums):\n",
        "    try:\n",
        "        \"\"\"Returns the minimum sum of adjacent 2 numbers in the 'nums' list.\"\"\"\n",
        "        min1 = nums[0] * nums[1]\n",
        "        for i in range(1, len(nums) - 1):\n",
        "            min1 = min(nums[i] + nums[i + 1], min1)\n",
        "    \n",
        "        return min1\n",
        "    except IndexError:\n",
        "        print(\"Мало данных\")\n",
        "        return\n",
        "    \n"
      ],
      "metadata": {
        "id": "f6lbe-_WRQqe"
      },
      "execution_count": 28,
      "outputs": []
    },
    {
      "cell_type": "code",
      "source": [
        "import random\n",
        "\n",
        "random.seed(50)\n",
        "\n",
        "N_MAX = 10\n",
        "RANGE_MIN = 1\n",
        "RANGE_MAX = 100\n",
        "nums = random.sample(range(RANGE_MIN, RANGE_MAX), N_MAX)\n",
        "\n",
        "print(nums)\n",
        "print(min_pair(nums))"
      ],
      "metadata": {
        "colab": {
          "base_uri": "https://localhost:8080/"
        },
        "id": "Z6uiiTWbtxew",
        "outputId": "e944e5df-e6a9-4f69-93d6-821168c1c6ee"
      },
      "execution_count": 29,
      "outputs": [
        {
          "output_type": "stream",
          "name": "stdout",
          "text": [
            "[64, 35, 47, 82, 32, 89, 61, 99, 43, 11]\n",
            "54\n"
          ]
        }
      ]
    },
    {
      "cell_type": "code",
      "source": [
        "help(min_pair)"
      ],
      "metadata": {
        "colab": {
          "base_uri": "https://localhost:8080/"
        },
        "id": "Zh9JUo0oun-o",
        "outputId": "be0e8d3b-7b35-4451-8950-f1fda5bd33d9"
      },
      "execution_count": 30,
      "outputs": [
        {
          "output_type": "stream",
          "name": "stdout",
          "text": [
            "Help on function min_pair in module __main__:\n",
            "\n",
            "min_pair(nums)\n",
            "    Returns the minimum sum of adjacent 2 numbers in the 'nums' list.\n",
            "\n"
          ]
        }
      ]
    },
    {
      "cell_type": "markdown",
      "source": [
        "# 7.2.5"
      ],
      "metadata": {
        "id": "uZE_3S5mRV9q"
      }
    },
    {
      "cell_type": "code",
      "source": [
        "def non_negatives(nums):\n",
        "    \"\"\"Removes negative elements from the list of numbers 'nums' and returns\n",
        "    modified list.\"\"\"\n",
        "    i = 0\n",
        "    try:\n",
        "        while i < len(nums):\n",
        "            if nums[i] < 0:\n",
        "                del nums[i]\n",
        "            else:\n",
        "                i += 1\n",
        "        return nums\n",
        "    except ValueError:\n",
        "        return\n",
        "\n",
        "\n",
        "import random\n",
        "\n",
        "n = 10\n",
        "nums = [round(random.uniform(-10, 10), 2) for i in range(n)]\n",
        "print(nums)\n",
        "before = len(nums)\n",
        "non_negatives(nums)\n",
        "if before - len(nums) == 0:\n",
        "    print('Отрицательных чисел нету')\n",
        "elif before == 0:\n",
        "    print('Нет положительных чисел')\n",
        "else:\n",
        "    print(nums)"
      ],
      "metadata": {
        "id": "_VJkfk76RYMI",
        "colab": {
          "base_uri": "https://localhost:8080/"
        },
        "outputId": "df04c144-73cc-456b-d359-28b8b378e90e"
      },
      "execution_count": 77,
      "outputs": [
        {
          "output_type": "stream",
          "name": "stdout",
          "text": [
            "[-0.29, 5.15, 7.87, 0.5, -0.11, -6.85, 8.74, -3.31, -6.06, -5.38]\n",
            "[5.15, 7.87, 0.5, 8.74]\n"
          ]
        }
      ]
    },
    {
      "cell_type": "code",
      "source": [
        "import random\n",
        "\n",
        "n = 10\n",
        "nums = [round(random.uniform(-10, 10), 2) for i in range(n)]\n",
        "print(nums)\n",
        "\n",
        "non_negatives(nums)\n",
        "print(nums)\n",
        "\n",
        "\n",
        "    "
      ],
      "metadata": {
        "colab": {
          "base_uri": "https://localhost:8080/"
        },
        "id": "UGRL1Qakuf1f",
        "outputId": "35e8177c-ac05-4874-cd28-bc029d7b7c1f"
      },
      "execution_count": 78,
      "outputs": [
        {
          "output_type": "stream",
          "name": "stdout",
          "text": [
            "[5.66, -4.23, 3.49, 2.69, 8.83, 6.29, 9.03, -5.68, -9.23, -9.4]\n",
            "[5.66, 3.49, 2.69, 8.83, 6.29, 9.03]\n"
          ]
        }
      ]
    },
    {
      "cell_type": "code",
      "source": [
        "help(non_negatives)"
      ],
      "metadata": {
        "colab": {
          "base_uri": "https://localhost:8080/"
        },
        "id": "ftWewIv6q2-J",
        "outputId": "d6d002dc-d2cf-4256-a2c0-e11b5c9aa600"
      },
      "execution_count": 11,
      "outputs": [
        {
          "output_type": "stream",
          "name": "stdout",
          "text": [
            "Help on function non_negatives in module __main__:\n",
            "\n",
            "non_negatives(nums)\n",
            "    Removes negative elements from the list of numbers 'nums' and returns\n",
            "    modified list.\n",
            "\n"
          ]
        }
      ]
    },
    {
      "cell_type": "markdown",
      "source": [
        "# 7.2.7"
      ],
      "metadata": {
        "id": "78M8DorcRmja"
      }
    },
    {
      "cell_type": "code",
      "source": [
        "def power(x, y=2):\n",
        "    \"\"\"Returns x^y.\"\"\"\n",
        "    return x ** y"
      ],
      "metadata": {
        "id": "wsuGOOciRxwr"
      },
      "execution_count": 1,
      "outputs": []
    },
    {
      "cell_type": "code",
      "source": [
        "try:\n",
        "  x = int(input(\"x=\"))\n",
        "  y = int(input(\"y=\"))\n",
        "  print(power(x, y))\n",
        "except Exception as err:\n",
        "  print(\"Произошла ошибка!\")\n",
        "  print(\"Тип\", type(err))\n",
        "  print(\"Описание:\", err)"
      ],
      "metadata": {
        "colab": {
          "base_uri": "https://localhost:8080/"
        },
        "id": "IWTbaJQ0XfSw",
        "outputId": "a2076040-dbb8-4088-999a-87a96b8756f4"
      },
      "execution_count": 5,
      "outputs": [
        {
          "output_type": "stream",
          "name": "stdout",
          "text": [
            "x=2\n",
            "y=4\n",
            "16\n"
          ]
        }
      ]
    },
    {
      "cell_type": "code",
      "source": [
        "help(power)"
      ],
      "metadata": {
        "colab": {
          "base_uri": "https://localhost:8080/"
        },
        "id": "T64Htd-xptFy",
        "outputId": "a85af637-17f3-44e0-a396-da0af24c4668"
      },
      "execution_count": 6,
      "outputs": [
        {
          "output_type": "stream",
          "name": "stdout",
          "text": [
            "Help on function power in module __main__:\n",
            "\n",
            "power(x, y=2)\n",
            "    Returns x^y.\n",
            "\n"
          ]
        }
      ]
    },
    {
      "cell_type": "markdown",
      "source": [
        "# 7.2.8"
      ],
      "metadata": {
        "id": "-VQyYotdR3dg"
      }
    },
    {
      "cell_type": "code",
      "source": [
        "\"\"\"Finds the most common middle name in the list. \n",
        "If there is no middle name, the person is not counted.\"\"\"\n",
        "\n",
        "\n",
        "try:\n",
        "    n = int(input(\"Введите кол-во человек: \"))\n",
        "    \n",
        "    middle_names = {}\n",
        "    count = 0\n",
        "    for i in range(n):\n",
        "        fio = input(\"Введите ФИО через пробел: \").split()\n",
        "        if len(fio) == 3:\n",
        "            middle_name = fio[2]\n",
        "            middle_names[middle_name] = middle_names.get(middle_name, 0) + 1\n",
        "        else:\n",
        "            count += 1\n",
        "except ValueError:\n",
        "    print('Некорректный ввод данных')\n"
      ],
      "metadata": {
        "id": "lMZSpR7SR53h",
        "colab": {
          "base_uri": "https://localhost:8080/"
        },
        "outputId": "2e818bb8-8341-412b-9a59-97ccd4b593cc"
      },
      "execution_count": 54,
      "outputs": [
        {
          "name": "stdout",
          "output_type": "stream",
          "text": [
            "Введите кол-во человек: 3\n",
            "Введите ФИО через пробел: q w e\n",
            "Введите ФИО через пробел: q r e\n",
            "Введите ФИО через пробел: w e w\n"
          ]
        }
      ]
    },
    {
      "cell_type": "code",
      "source": [
        "print(sorted(middle_names.items(), key=lambda item: item[1])[-1][0])\n",
        "print(\"В расчете участвовало человек:\", n - count)\n"
      ],
      "metadata": {
        "colab": {
          "base_uri": "https://localhost:8080/"
        },
        "id": "AjNyFg7hxsB2",
        "outputId": "0af1cdc6-466e-4093-8ad9-68ad8908f8a2"
      },
      "execution_count": 55,
      "outputs": [
        {
          "output_type": "stream",
          "name": "stdout",
          "text": [
            "e\n",
            "В расчете участвовало человек: 3\n"
          ]
        }
      ]
    },
    {
      "cell_type": "code",
      "source": [
        "print(__doc__)"
      ],
      "metadata": {
        "colab": {
          "base_uri": "https://localhost:8080/"
        },
        "id": "Yq8qJygksOrH",
        "outputId": "d887dfb7-c5d8-4864-fab9-2f330565e893"
      },
      "execution_count": 18,
      "outputs": [
        {
          "output_type": "stream",
          "name": "stdout",
          "text": [
            "Finds the most common middle name in the list. \n",
            "If there is no middle name, the person is not counted.\n"
          ]
        }
      ]
    },
    {
      "cell_type": "markdown",
      "source": [
        "# 7.2.9"
      ],
      "metadata": {
        "id": "1Aylqj8uR_-L"
      }
    },
    {
      "cell_type": "code",
      "source": [
        "\n",
        "def f(x):\n",
        "    \"\"\"returns the value of the function\"\"\"\n",
        "    return x**2 / (x + 2) - 3\n",
        "\n",
        "\n",
        "k = int(input(\"Введите границу интервала [-k; k]: \"))\n",
        "h = float(input(\"Введите шаг табуляции: \"))\n",
        "\n",
        "x = -k\n",
        "print(\"{:>10} {:>10}\".format(\"x\", \"f(x)\"))\n",
        "while x <= k:\n",
        "    # Если во время вычисления функции возникнет ошибка,\n",
        "    # при выводе необходимо указать прочерк \"-\"\n",
        "    # Данный случай должен обрабатывать второй вложенный блок try\n",
        "    try:\n",
        "      print(\"{:10.2f} {:10.2f}\".format(x, f(x)))\n",
        "    except:\n",
        "      print(\"{:10.2f} {:>10s}\".format(x, '-'))\n",
        "    \n",
        "    x += h\n",
        "\n",
        "\n",
        " \n",
        "# --------------\n",
        "# Пример вывода:\n",
        "#\n",
        "# Введите границу интервала [-k; k]: 5\n",
        "# Введите шаг табуляции: 0.5\n",
        "#          x       f(x)\n",
        "#      -5.00     -11.33\n",
        "#      -4.50     -11.10\n",
        "#      -4.00     -11.00\n",
        "#      -3.50     -11.17\n",
        "#      -3.00     -12.00\n",
        "#      -2.50     -15.50\n",
        "#      -2.00          -\n",
        "#      -1.50       1.50\n",
        "#      -1.00      -2.00\n",
        "#      -0.50      -2.83\n",
        "#       0.00      -3.00\n",
        "#       0.50      -2.90\n",
        "#       1.00      -2.67\n",
        "#       1.50      -2.36\n",
        "#       2.00      -2.00\n",
        "#       2.50      -1.61\n",
        "#       3.00      -1.20\n",
        "#       3.50      -0.77\n",
        "#       4.00      -0.33\n",
        "#       4.50       0.12\n",
        "#       5.00       0.57"
      ],
      "metadata": {
        "id": "8Mb-PMcrSGtQ",
        "colab": {
          "base_uri": "https://localhost:8080/"
        },
        "outputId": "da729f55-f0c7-4035-f641-09e771e3a375"
      },
      "execution_count": 72,
      "outputs": [
        {
          "output_type": "stream",
          "name": "stdout",
          "text": [
            "Введите границу интервала [-k; k]: 5\n",
            "Введите шаг табуляции: 0.5\n",
            "         x       f(x)\n",
            "     -5.00     -11.33\n",
            "     -4.50     -11.10\n",
            "     -4.00     -11.00\n",
            "     -3.50     -11.17\n",
            "     -3.00     -12.00\n",
            "     -2.50     -15.50\n",
            "     -2.00          -\n",
            "     -1.50       1.50\n",
            "     -1.00      -2.00\n",
            "     -0.50      -2.83\n",
            "      0.00      -3.00\n",
            "      0.50      -2.90\n",
            "      1.00      -2.67\n",
            "      1.50      -2.36\n",
            "      2.00      -2.00\n",
            "      2.50      -1.61\n",
            "      3.00      -1.20\n",
            "      3.50      -0.77\n",
            "      4.00      -0.33\n",
            "      4.50       0.12\n",
            "      5.00       0.57\n"
          ]
        }
      ]
    },
    {
      "cell_type": "code",
      "source": [
        "help(f)"
      ],
      "metadata": {
        "colab": {
          "base_uri": "https://localhost:8080/"
        },
        "id": "G5Wv5E0ZsfI9",
        "outputId": "cba7116f-f92b-4b62-ff8b-86d4fb3f0720"
      },
      "execution_count": 21,
      "outputs": [
        {
          "output_type": "stream",
          "name": "stdout",
          "text": [
            "Help on function f in module __main__:\n",
            "\n",
            "f(x)\n",
            "    returns the value of the function\n",
            "\n"
          ]
        }
      ]
    },
    {
      "cell_type": "markdown",
      "source": [
        "# 7.2.10"
      ],
      "metadata": {
        "id": "Oqjt17cZSNrN"
      }
    },
    {
      "cell_type": "code",
      "source": [
        "\"\"\"Stores a dictionary of entrance exams of the form Subject=Points.\n",
        "Determines whether a person passes to a specialty with his subjects and points.\"\"\"\n",
        "\n",
        "required_exams = {\n",
        "    \"Информатика\": 80,\n",
        "    \"Математика\": 85,\n",
        "    \"Русский язык\": 75\n",
        "}\n",
        "\n",
        "print(\"\"\"Для определения возможности поступления, необходима информация о Вас.\n",
        "\n",
        "Для ввода экзамена и баллов введите их через |: Химия | 40.\n",
        "Для завершения ввода нажмите Enter.\n",
        "\"\"\")\n",
        "\n",
        "passed_exams = {}\n",
        "while True:\n",
        "    a = input(\"\").strip()\n",
        "    if a == \"\":\n",
        "        break\n",
        "    try:\n",
        "        exam, mark = [x.strip() for x in a.split(\"|\")]\n",
        "        passed_exams[exam] = int(mark)\n",
        "    except ValueError:\n",
        "        print('Некорректный ввод данных')\n",
        "\n",
        "print(\"Ваши экзамены:\")\n",
        "for i, (exam, mark) in enumerate(passed_exams.items(), start=1):\n",
        "    print(\"{}) {} {}\".format(i, exam, mark))\n",
        "\n",
        "ok = False\n",
        "for required_exam, marks in required_exams.items():\n",
        "    if required_exam in passed_exams:\n",
        "      if passed_exams[required_exam] < marks:\n",
        "        break\n",
        "    else:\n",
        "      break\n",
        "else:\n",
        "    ok = True\n",
        "\n",
        "print(\"Вы можете к нам поступить!\" if ok else \"Увы...\")\n",
        "\n"
      ],
      "metadata": {
        "id": "82OSCmMxSO4c",
        "colab": {
          "base_uri": "https://localhost:8080/"
        },
        "outputId": "3dd45a9b-9be9-4b43-877f-79c345554548"
      },
      "execution_count": 74,
      "outputs": [
        {
          "output_type": "stream",
          "name": "stdout",
          "text": [
            "Для определения возможности поступления, необходима информация о Вас.\n",
            "\n",
            "Для ввода экзамена и баллов введите их через |: Химия | 40.\n",
            "Для завершения ввода нажмите Enter.\n",
            "\n",
            "Химия | 40\n",
            "\n",
            "Ваши экзамены:\n",
            "1) Химия 40\n",
            "Увы...\n"
          ]
        }
      ]
    },
    {
      "cell_type": "code",
      "source": [
        "print(__doc__)"
      ],
      "metadata": {
        "colab": {
          "base_uri": "https://localhost:8080/"
        },
        "id": "cC3jWS9oueBk",
        "outputId": "3fd635fe-a5b0-4852-a12c-ae1b7d136935"
      },
      "execution_count": 26,
      "outputs": [
        {
          "output_type": "stream",
          "name": "stdout",
          "text": [
            "Stores a dictionary of entrance exams of the form Subject=Points. \n",
            "Determines whether a person passes to a specialty with his subjects and points.\n"
          ]
        }
      ]
    }
  ]
}