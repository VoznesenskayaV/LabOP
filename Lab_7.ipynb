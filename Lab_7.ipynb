{
  "nbformat": 4,
  "nbformat_minor": 0,
  "metadata": {
    "colab": {
      "provenance": [],
      "authorship_tag": "ABX9TyMNz0ZoUFZSP1juKmexa8Ow",
      "include_colab_link": true
    },
    "kernelspec": {
      "name": "python3",
      "display_name": "Python 3"
    },
    "language_info": {
      "name": "python"
    }
  },
  "cells": [
    {
      "cell_type": "markdown",
      "metadata": {
        "id": "view-in-github",
        "colab_type": "text"
      },
      "source": [
        "<a href=\"https://colab.research.google.com/github/VoznesenskayaV/LabOP/blob/main/Lab_7.ipynb\" target=\"_parent\"><img src=\"https://colab.research.google.com/assets/colab-badge.svg\" alt=\"Open In Colab\"/></a>"
      ]
    },
    {
      "cell_type": "markdown",
      "source": [
        "# Программирование на языке высокого уровня (Python).\n",
        "# https://www.yuripetrov.ru/edu/python\n",
        "# Выполнил: Вознесеснская В.Е.\n",
        "# Группа: АДЭУ-221\n",
        "# E-mail: veroshe4k@gmail.com\n"
      ],
      "metadata": {
        "id": "ljQN1ysyLpWR"
      }
    },
    {
      "cell_type": "markdown",
      "source": [
        "# 7.2.1\n"
      ],
      "metadata": {
        "id": "pVfCcsDWMHx_"
      }
    },
    {
      "cell_type": "code",
      "execution_count": null,
      "metadata": {
        "id": "fWRTtaPcM_6D"
      },
      "outputs": [],
      "source": [
        "def sum_of_digits(n):\n",
        "    \"\"\"Returns the sum of digits less than 5 for a positive integer n.\n",
        "     If there are no such digits, it returns 0.\"\"\"\n",
        "    c = 0\n",
        "    while n > 0:\n",
        "        digit = n % 10\n",
        "        if digit < 5:\n",
        "            c = c + digit\n",
        "        n //= 10\n",
        "    return c"
      ]
    },
    {
      "cell_type": "code",
      "source": [
        "sum_of_digits(14)"
      ],
      "metadata": {
        "colab": {
          "base_uri": "https://localhost:8080/"
        },
        "id": "CbNqjDQgNZbW",
        "outputId": "252c0a83-b50a-423c-fb35-ce58e333e21b"
      },
      "execution_count": null,
      "outputs": [
        {
          "output_type": "execute_result",
          "data": {
            "text/plain": [
              "5"
            ]
          },
          "metadata": {},
          "execution_count": 45
        }
      ]
    },
    {
      "cell_type": "markdown",
      "source": [
        "# 7.2.2"
      ],
      "metadata": {
        "id": "xJRQ7l-jMbVd"
      }
    },
    {
      "cell_type": "code",
      "source": [
        "def primes(a, b):\n",
        "    \"\"\"Returns a list of primes between 'a' and 'b'.\"\"\"\n",
        "    res = []\n",
        "    c = 0\n",
        "    for i in range(a, b+1):\n",
        "      for j in range(i+1):\n",
        "            if i % (j + 1) == 0:\n",
        "                c += 1\n",
        "      if c == 2:\n",
        "        res.append(i)\n",
        "      else:\n",
        "        c = 0\n",
        "    \n",
        "    return res"
      ],
      "metadata": {
        "id": "h35D468wMetK"
      },
      "execution_count": null,
      "outputs": []
    },
    {
      "cell_type": "code",
      "source": [
        "primes(101,135)"
      ],
      "metadata": {
        "colab": {
          "base_uri": "https://localhost:8080/"
        },
        "id": "Y6JZwX71MrBP",
        "outputId": "6d6e5e74-d212-4bb4-8a1a-8c4ddec50258"
      },
      "execution_count": null,
      "outputs": [
        {
          "output_type": "execute_result",
          "data": {
            "text/plain": [
              "[101, 103, 107, 109, 113, 127, 131]"
            ]
          },
          "metadata": {},
          "execution_count": 16
        }
      ]
    },
    {
      "cell_type": "markdown",
      "source": [
        "# 7.2.3"
      ],
      "metadata": {
        "id": "xDKmGBYSNeJk"
      }
    },
    {
      "cell_type": "code",
      "source": [
        "def first_vacant_row(seats):\n",
        "    \"\"\"Returns the first row with the most empty seats and how many of them. \n",
        "    Row numbering starting from 1. If there are no empty seats, return 0, 0.\n",
        "\n",
        "    Options:\n",
        "        - seats (list of list): information about sold tickets\n",
        "                                (1 - sold, 0 - not).\n",
        "\n",
        "   Result:\n",
        "        - tuple (row, number of seats).\n",
        "    \"\"\"\n",
        "    max_count = 0\n",
        "    max_row = 0\n",
        "    for row_index, row in enumerate(seats):\n",
        "        available_seats_count = row.count(0)  # 0 - пусто\n",
        "        if available_seats_count > max_count:\n",
        "            max_row = row_index + 1\n",
        "            max_count = available_seats_count\n",
        "\n",
        "    return max_row, max_count"
      ],
      "metadata": {
        "id": "zrK6Wmq4NewQ"
      },
      "execution_count": null,
      "outputs": []
    },
    {
      "cell_type": "code",
      "source": [
        "import random\n",
        "random.seed(50)\n",
        "\n",
        "ROWS_MAX = 10\n",
        "SEATS_MAX = 5\n",
        "\n",
        "seats = [[random.randint(0, 1) for seat in range(SEATS_MAX)]\n",
        "                                for row in range(ROWS_MAX)]\n",
        "for seat in seats:\n",
        "    print(seat)\n",
        "\n",
        "print(first_vacant_row(seats))"
      ],
      "metadata": {
        "colab": {
          "base_uri": "https://localhost:8080/"
        },
        "id": "1uhMhRaosLXC",
        "outputId": "d0566af2-e513-41e2-b29b-2c9a696b4149"
      },
      "execution_count": null,
      "outputs": [
        {
          "output_type": "stream",
          "name": "stdout",
          "text": [
            "[1, 1, 1, 0, 1]\n",
            "[1, 0, 1, 0, 0]\n",
            "[0, 1, 0, 1, 1]\n",
            "[0, 0, 0, 1, 1]\n",
            "[0, 0, 1, 1, 0]\n",
            "[0, 1, 1, 1, 0]\n",
            "[0, 1, 1, 1, 0]\n",
            "[1, 0, 0, 1, 0]\n",
            "[1, 1, 0, 1, 1]\n",
            "[0, 1, 0, 0, 1]\n",
            "(2, 3)\n"
          ]
        }
      ]
    },
    {
      "cell_type": "markdown",
      "source": [
        "# 7.2.4"
      ],
      "metadata": {
        "id": "J2rxLvoBRQST"
      }
    },
    {
      "cell_type": "code",
      "source": [
        "def min_pair(nums):\n",
        "    \"\"\"Returns the minimum sum of adjacent 2 numbers in the 'nums' list.\"\"\"\n",
        "    min1 = nums[0] * nums[1]\n",
        "    for i in range(1, len(nums) - 1):\n",
        "        min1 = min(nums[i] + nums[i + 1], min1)\n",
        "\n",
        "    return min1"
      ],
      "metadata": {
        "id": "f6lbe-_WRQqe"
      },
      "execution_count": null,
      "outputs": []
    },
    {
      "cell_type": "code",
      "source": [
        "import random\n",
        "\n",
        "random.seed(50)\n",
        "\n",
        "N_MAX = 10\n",
        "RANGE_MIN = 1\n",
        "RANGE_MAX = 100\n",
        "nums = random.sample(range(RANGE_MIN, RANGE_MAX), N_MAX)\n",
        "\n",
        "print(nums)\n",
        "\n",
        "print(min_pair(nums))"
      ],
      "metadata": {
        "colab": {
          "base_uri": "https://localhost:8080/"
        },
        "id": "Z6uiiTWbtxew",
        "outputId": "e0b0028b-a029-49cc-d1c8-0c98d3fc13d2"
      },
      "execution_count": null,
      "outputs": [
        {
          "output_type": "stream",
          "name": "stdout",
          "text": [
            "[64, 35, 47, 82, 32, 89, 61, 99, 43, 11]\n",
            "54\n"
          ]
        }
      ]
    },
    {
      "cell_type": "markdown",
      "source": [
        "# 7.2.5"
      ],
      "metadata": {
        "id": "uZE_3S5mRV9q"
      }
    },
    {
      "cell_type": "code",
      "source": [
        "def non_negatives(nums):\n",
        "    \"\"\"Removes negative elements from the list of numbers 'nums' and returns\n",
        "    modified list.\"\"\"\n",
        "    i = 0\n",
        "    while i < len(nums):\n",
        "        if nums[i] < 0:\n",
        "            del nums[i]\n",
        "        else: \n",
        "          i += 1\n",
        "    \n",
        "    return nums"
      ],
      "metadata": {
        "id": "_VJkfk76RYMI"
      },
      "execution_count": null,
      "outputs": []
    },
    {
      "cell_type": "code",
      "source": [
        "import random\n",
        "\n",
        "n = 10\n",
        "nums = [round(random.uniform(-10, 10), 2) for i in range(n)]\n",
        "print(nums)\n",
        "\n",
        "non_negatives(nums)\n",
        "print(nums)"
      ],
      "metadata": {
        "colab": {
          "base_uri": "https://localhost:8080/"
        },
        "id": "UGRL1Qakuf1f",
        "outputId": "95a95af4-6fd8-4d82-f9b7-87c457d0bab8"
      },
      "execution_count": null,
      "outputs": [
        {
          "output_type": "stream",
          "name": "stdout",
          "text": [
            "[0.77, -5.51, 1.13, 8.61, -3.06, -8.03, -3.05, -5.55, -8.63, 7.29]\n",
            "[0.77, 1.13, 8.61, 7.29]\n"
          ]
        }
      ]
    },
    {
      "cell_type": "markdown",
      "source": [
        "# 7.2.7"
      ],
      "metadata": {
        "id": "78M8DorcRmja"
      }
    },
    {
      "cell_type": "code",
      "source": [
        "def power(x, y=2):\n",
        "    \"\"\"Returns x^y.\"\"\"\n",
        "    return x ** y"
      ],
      "metadata": {
        "id": "wsuGOOciRxwr"
      },
      "execution_count": 1,
      "outputs": []
    },
    {
      "cell_type": "code",
      "source": [
        "x = int(input(\"x=\"))\n",
        "y = int(input(\"y=\"))\n",
        "print(power(x, y))"
      ],
      "metadata": {
        "colab": {
          "base_uri": "https://localhost:8080/"
        },
        "id": "IWTbaJQ0XfSw",
        "outputId": "05d22525-4db6-4c18-999e-ccd95b86bd98"
      },
      "execution_count": 2,
      "outputs": [
        {
          "output_type": "stream",
          "name": "stdout",
          "text": [
            "x=5\n",
            "y=0\n",
            "1\n"
          ]
        }
      ]
    },
    {
      "cell_type": "markdown",
      "source": [
        "# 7.2.8"
      ],
      "metadata": {
        "id": "-VQyYotdR3dg"
      }
    },
    {
      "cell_type": "code",
      "source": [
        "\"\"\"Finds the most common middle name in the list. \n",
        "If there is no middle name, the person is not counted.\"\"\"\n",
        "\n",
        "n = int(input(\"Введите кол-во человек: \"))\n",
        "\n",
        "middle_names = {}\n",
        "count = 0\n",
        "for i in range(n):\n",
        "    fio = input(\"Введите ФИО через пробел: \").split()\n",
        "    if len(fio) == 3:\n",
        "      middle_name = fio[2]\n",
        "      middle_names[middle_name] = middle_names.get(middle_name, 0) + 1\n",
        "    else:\n",
        "      count += 1"
      ],
      "metadata": {
        "id": "lMZSpR7SR53h",
        "colab": {
          "base_uri": "https://localhost:8080/"
        },
        "outputId": "937190b7-255e-46bb-9640-06b2e6b52190"
      },
      "execution_count": null,
      "outputs": [
        {
          "name": "stdout",
          "output_type": "stream",
          "text": [
            "Введите кол-во человек: 3\n",
            "Введите ФИО через пробел: q w e\n",
            "Введите ФИО через пробел: w q w\n",
            "Введите ФИО через пробел: a q w\n"
          ]
        }
      ]
    },
    {
      "cell_type": "code",
      "source": [
        "print(sorted(middle_names.items(), key=lambda item: item[1])[-1][0])\n",
        "print(\"В расчете участвовало человек:\", n - count)"
      ],
      "metadata": {
        "colab": {
          "base_uri": "https://localhost:8080/"
        },
        "id": "AjNyFg7hxsB2",
        "outputId": "2c12d9be-6f17-425e-9fba-489492492551"
      },
      "execution_count": null,
      "outputs": [
        {
          "output_type": "stream",
          "name": "stdout",
          "text": [
            "w\n",
            "В расчете участвовало человек: 3\n"
          ]
        }
      ]
    },
    {
      "cell_type": "markdown",
      "source": [
        "# 7.2.9"
      ],
      "metadata": {
        "id": "1Aylqj8uR_-L"
      }
    },
    {
      "cell_type": "code",
      "source": [
        "def f(x):\n",
        "    \"\"\"returns the value of the function\"\"\"\n",
        "    return x**2 / (x + 2) - 3\n",
        "\n",
        "\n",
        "k = int(input(\"Введите границу интервала [-k; k]: \"))\n",
        "h = float(input(\"Введите шаг табуляции: \"))\n",
        "\n",
        "x = -k\n",
        "print(\"{:>10} {:>10}\".format(\"x\", \"f(x)\"))\n",
        "while x <= k:\n",
        "    # Если во время вычисления функции возникнет ошибка,\n",
        "    # при выводе необходимо указать прочерк \"-\"\n",
        "    # Данный случай должен обрабатывать второй вложенный блок try\n",
        "    try:\n",
        "      print(\"{:10.2f} {:10.2f}\".format(x, f(x)))\n",
        "    except:\n",
        "      print(\"{:10.2f} {:>10s}\".format(x, '-'))\n",
        "    \n",
        "    x += h\n",
        "\n",
        " \n",
        "# --------------\n",
        "# Пример вывода:\n",
        "#\n",
        "# Введите границу интервала [-k; k]: 5\n",
        "# Введите шаг табуляции: 0.5\n",
        "#          x       f(x)\n",
        "#      -5.00     -11.33\n",
        "#      -4.50     -11.10\n",
        "#      -4.00     -11.00\n",
        "#      -3.50     -11.17\n",
        "#      -3.00     -12.00\n",
        "#      -2.50     -15.50\n",
        "#      -2.00          -\n",
        "#      -1.50       1.50\n",
        "#      -1.00      -2.00\n",
        "#      -0.50      -2.83\n",
        "#       0.00      -3.00\n",
        "#       0.50      -2.90\n",
        "#       1.00      -2.67\n",
        "#       1.50      -2.36\n",
        "#       2.00      -2.00\n",
        "#       2.50      -1.61\n",
        "#       3.00      -1.20\n",
        "#       3.50      -0.77\n",
        "#       4.00      -0.33\n",
        "#       4.50       0.12\n",
        "#       5.00       0.57"
      ],
      "metadata": {
        "id": "8Mb-PMcrSGtQ",
        "colab": {
          "base_uri": "https://localhost:8080/"
        },
        "outputId": "64a93c9d-7dc1-4521-e1fd-ce5e2d614d6a"
      },
      "execution_count": null,
      "outputs": [
        {
          "output_type": "stream",
          "name": "stdout",
          "text": [
            "Введите границу интервала [-k; k]: 5\n",
            "Введите шаг табуляции: 0.5\n",
            "         x       f(x)\n",
            "     -5.00     -11.33\n",
            "     -4.50     -11.10\n",
            "     -4.00     -11.00\n",
            "     -3.50     -11.17\n",
            "     -3.00     -12.00\n",
            "     -2.50     -15.50\n",
            "     -2.00          -\n",
            "     -1.50       1.50\n",
            "     -1.00      -2.00\n",
            "     -0.50      -2.83\n",
            "      0.00      -3.00\n",
            "      0.50      -2.90\n",
            "      1.00      -2.67\n",
            "      1.50      -2.36\n",
            "      2.00      -2.00\n",
            "      2.50      -1.61\n",
            "      3.00      -1.20\n",
            "      3.50      -0.77\n",
            "      4.00      -0.33\n",
            "      4.50       0.12\n",
            "      5.00       0.57\n"
          ]
        }
      ]
    },
    {
      "cell_type": "markdown",
      "source": [
        "# 7.2.10"
      ],
      "metadata": {
        "id": "Oqjt17cZSNrN"
      }
    },
    {
      "cell_type": "code",
      "source": [
        "\n",
        "\n",
        "\"\"\"Stores a dictionary of entrance exams of the form Subject=Points. \n",
        "Determines whether a person passes to a specialty with his subjects and points.\"\"\"\n",
        "\n",
        "required_exams = {\n",
        "    \"Информатика\": 80,\n",
        "    \"Математика\": 85,\n",
        "    \"Русский язык\": 75\n",
        "}\n",
        "\n",
        "print(\"\"\"Для определения возможности поступления, необходима информация о Вас.\n",
        "\n",
        "Для ввода экзамена и баллов введите их через |: Химия | 40.\n",
        "Для завершения ввода нажмите Enter.\n",
        "\"\"\")\n",
        "\n",
        "passed_exams = {}\n",
        "while True:\n",
        "    a = input(\"\").strip()\n",
        "    if a == \"\":\n",
        "        break\n",
        "\n",
        "    exam, mark = [x.strip() for x in a.split(\"|\")]\n",
        "    passed_exams[exam] = int(mark)\n",
        "\n",
        "print(\"Ваши экзамены:\")\n",
        "for i, (exam, mark) in enumerate(passed_exams.items(), start=1):\n",
        "    print(\"{}) {} {}\".format(i, exam, mark))\n",
        "\n",
        "ok = False\n",
        "for required_exam, marks in required_exams.items():\n",
        "    if required_exam in passed_exams:\n",
        "      if passed_exams[required_exam] < marks:\n",
        "        break\n",
        "    else: \n",
        "      break \n",
        "else:\n",
        "    ok = True\n",
        "\n",
        "print(\"Вы можете к нам поступить!\" if ok else \"Увы...\")"
      ],
      "metadata": {
        "id": "82OSCmMxSO4c",
        "colab": {
          "base_uri": "https://localhost:8080/"
        },
        "outputId": "3fc2b2e0-bd13-4216-9754-a6f831719694"
      },
      "execution_count": null,
      "outputs": [
        {
          "output_type": "stream",
          "name": "stdout",
          "text": [
            "Для определения возможности поступления, необходима информация о Вас.\n",
            "\n",
            "Для ввода экзамена и баллов введите их через |: Химия | 40.\n",
            "Для завершения ввода нажмите Enter.\n",
            "\n",
            "Информатика | 100\n",
            "Математика | 90\n",
            "Русский язык | 100\n",
            "\n",
            "Ваши экзамены:\n",
            "1) Информатика 100\n",
            "2) Математика 90\n",
            "3) Русский язык 100\n",
            "Вы можете к нам поступить!\n"
          ]
        }
      ]
    }
  ]
}