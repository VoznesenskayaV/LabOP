{
  "nbformat": 4,
  "nbformat_minor": 0,
  "metadata": {
    "colab": {
      "provenance": [],
      "authorship_tag": "ABX9TyP1Z37TFjSmPuqU2Bb8bcgK",
      "include_colab_link": true
    },
    "kernelspec": {
      "name": "python3",
      "display_name": "Python 3"
    },
    "language_info": {
      "name": "python"
    }
  },
  "cells": [
    {
      "cell_type": "markdown",
      "metadata": {
        "id": "view-in-github",
        "colab_type": "text"
      },
      "source": [
        "<a href=\"https://colab.research.google.com/github/VoznesenskayaV/LabOP/blob/main/%D0%9F%D1%80%D0%BE%D0%B5%D0%BA%D1%8219_05.ipynb\" target=\"_parent\"><img src=\"https://colab.research.google.com/assets/colab-badge.svg\" alt=\"Open In Colab\"/></a>"
      ]
    },
    {
      "cell_type": "markdown",
      "source": [
        "# Загрузка исходных данных"
      ],
      "metadata": {
        "id": "kQOuaTrC7mvR"
      }
    },
    {
      "cell_type": "code",
      "execution_count": 1,
      "metadata": {
        "id": "qSdB59wryUHS"
      },
      "outputs": [],
      "source": [
        "# Импорт бибилиотеки для работы с файлами\n",
        "\n",
        "from google.colab import files"
      ]
    },
    {
      "cell_type": "code",
      "source": [
        "# Загрузка исходных данных\n",
        "\n",
        "uploaded = files.upload()"
      ],
      "metadata": {
        "colab": {
          "base_uri": "https://localhost:8080/",
          "height": 73
        },
        "id": "krS4g_Hc6slU",
        "outputId": "72d50ad2-b7e4-46cb-f5e1-51922754f3c2"
      },
      "execution_count": 2,
      "outputs": [
        {
          "output_type": "display_data",
          "data": {
            "text/plain": [
              "<IPython.core.display.HTML object>"
            ],
            "text/html": [
              "\n",
              "     <input type=\"file\" id=\"files-4f182fc6-fb7a-4047-95f4-53027c00fb6d\" name=\"files[]\" multiple disabled\n",
              "        style=\"border:none\" />\n",
              "     <output id=\"result-4f182fc6-fb7a-4047-95f4-53027c00fb6d\">\n",
              "      Upload widget is only available when the cell has been executed in the\n",
              "      current browser session. Please rerun this cell to enable.\n",
              "      </output>\n",
              "      <script>// Copyright 2017 Google LLC\n",
              "//\n",
              "// Licensed under the Apache License, Version 2.0 (the \"License\");\n",
              "// you may not use this file except in compliance with the License.\n",
              "// You may obtain a copy of the License at\n",
              "//\n",
              "//      http://www.apache.org/licenses/LICENSE-2.0\n",
              "//\n",
              "// Unless required by applicable law or agreed to in writing, software\n",
              "// distributed under the License is distributed on an \"AS IS\" BASIS,\n",
              "// WITHOUT WARRANTIES OR CONDITIONS OF ANY KIND, either express or implied.\n",
              "// See the License for the specific language governing permissions and\n",
              "// limitations under the License.\n",
              "\n",
              "/**\n",
              " * @fileoverview Helpers for google.colab Python module.\n",
              " */\n",
              "(function(scope) {\n",
              "function span(text, styleAttributes = {}) {\n",
              "  const element = document.createElement('span');\n",
              "  element.textContent = text;\n",
              "  for (const key of Object.keys(styleAttributes)) {\n",
              "    element.style[key] = styleAttributes[key];\n",
              "  }\n",
              "  return element;\n",
              "}\n",
              "\n",
              "// Max number of bytes which will be uploaded at a time.\n",
              "const MAX_PAYLOAD_SIZE = 100 * 1024;\n",
              "\n",
              "function _uploadFiles(inputId, outputId) {\n",
              "  const steps = uploadFilesStep(inputId, outputId);\n",
              "  const outputElement = document.getElementById(outputId);\n",
              "  // Cache steps on the outputElement to make it available for the next call\n",
              "  // to uploadFilesContinue from Python.\n",
              "  outputElement.steps = steps;\n",
              "\n",
              "  return _uploadFilesContinue(outputId);\n",
              "}\n",
              "\n",
              "// This is roughly an async generator (not supported in the browser yet),\n",
              "// where there are multiple asynchronous steps and the Python side is going\n",
              "// to poll for completion of each step.\n",
              "// This uses a Promise to block the python side on completion of each step,\n",
              "// then passes the result of the previous step as the input to the next step.\n",
              "function _uploadFilesContinue(outputId) {\n",
              "  const outputElement = document.getElementById(outputId);\n",
              "  const steps = outputElement.steps;\n",
              "\n",
              "  const next = steps.next(outputElement.lastPromiseValue);\n",
              "  return Promise.resolve(next.value.promise).then((value) => {\n",
              "    // Cache the last promise value to make it available to the next\n",
              "    // step of the generator.\n",
              "    outputElement.lastPromiseValue = value;\n",
              "    return next.value.response;\n",
              "  });\n",
              "}\n",
              "\n",
              "/**\n",
              " * Generator function which is called between each async step of the upload\n",
              " * process.\n",
              " * @param {string} inputId Element ID of the input file picker element.\n",
              " * @param {string} outputId Element ID of the output display.\n",
              " * @return {!Iterable<!Object>} Iterable of next steps.\n",
              " */\n",
              "function* uploadFilesStep(inputId, outputId) {\n",
              "  const inputElement = document.getElementById(inputId);\n",
              "  inputElement.disabled = false;\n",
              "\n",
              "  const outputElement = document.getElementById(outputId);\n",
              "  outputElement.innerHTML = '';\n",
              "\n",
              "  const pickedPromise = new Promise((resolve) => {\n",
              "    inputElement.addEventListener('change', (e) => {\n",
              "      resolve(e.target.files);\n",
              "    });\n",
              "  });\n",
              "\n",
              "  const cancel = document.createElement('button');\n",
              "  inputElement.parentElement.appendChild(cancel);\n",
              "  cancel.textContent = 'Cancel upload';\n",
              "  const cancelPromise = new Promise((resolve) => {\n",
              "    cancel.onclick = () => {\n",
              "      resolve(null);\n",
              "    };\n",
              "  });\n",
              "\n",
              "  // Wait for the user to pick the files.\n",
              "  const files = yield {\n",
              "    promise: Promise.race([pickedPromise, cancelPromise]),\n",
              "    response: {\n",
              "      action: 'starting',\n",
              "    }\n",
              "  };\n",
              "\n",
              "  cancel.remove();\n",
              "\n",
              "  // Disable the input element since further picks are not allowed.\n",
              "  inputElement.disabled = true;\n",
              "\n",
              "  if (!files) {\n",
              "    return {\n",
              "      response: {\n",
              "        action: 'complete',\n",
              "      }\n",
              "    };\n",
              "  }\n",
              "\n",
              "  for (const file of files) {\n",
              "    const li = document.createElement('li');\n",
              "    li.append(span(file.name, {fontWeight: 'bold'}));\n",
              "    li.append(span(\n",
              "        `(${file.type || 'n/a'}) - ${file.size} bytes, ` +\n",
              "        `last modified: ${\n",
              "            file.lastModifiedDate ? file.lastModifiedDate.toLocaleDateString() :\n",
              "                                    'n/a'} - `));\n",
              "    const percent = span('0% done');\n",
              "    li.appendChild(percent);\n",
              "\n",
              "    outputElement.appendChild(li);\n",
              "\n",
              "    const fileDataPromise = new Promise((resolve) => {\n",
              "      const reader = new FileReader();\n",
              "      reader.onload = (e) => {\n",
              "        resolve(e.target.result);\n",
              "      };\n",
              "      reader.readAsArrayBuffer(file);\n",
              "    });\n",
              "    // Wait for the data to be ready.\n",
              "    let fileData = yield {\n",
              "      promise: fileDataPromise,\n",
              "      response: {\n",
              "        action: 'continue',\n",
              "      }\n",
              "    };\n",
              "\n",
              "    // Use a chunked sending to avoid message size limits. See b/62115660.\n",
              "    let position = 0;\n",
              "    do {\n",
              "      const length = Math.min(fileData.byteLength - position, MAX_PAYLOAD_SIZE);\n",
              "      const chunk = new Uint8Array(fileData, position, length);\n",
              "      position += length;\n",
              "\n",
              "      const base64 = btoa(String.fromCharCode.apply(null, chunk));\n",
              "      yield {\n",
              "        response: {\n",
              "          action: 'append',\n",
              "          file: file.name,\n",
              "          data: base64,\n",
              "        },\n",
              "      };\n",
              "\n",
              "      let percentDone = fileData.byteLength === 0 ?\n",
              "          100 :\n",
              "          Math.round((position / fileData.byteLength) * 100);\n",
              "      percent.textContent = `${percentDone}% done`;\n",
              "\n",
              "    } while (position < fileData.byteLength);\n",
              "  }\n",
              "\n",
              "  // All done.\n",
              "  yield {\n",
              "    response: {\n",
              "      action: 'complete',\n",
              "    }\n",
              "  };\n",
              "}\n",
              "\n",
              "scope.google = scope.google || {};\n",
              "scope.google.colab = scope.google.colab || {};\n",
              "scope.google.colab._files = {\n",
              "  _uploadFiles,\n",
              "  _uploadFilesContinue,\n",
              "};\n",
              "})(self);\n",
              "</script> "
            ]
          },
          "metadata": {}
        },
        {
          "output_type": "stream",
          "name": "stdout",
          "text": [
            "Saving Домашнее_задание_Бизнес_4_исходник.csv to Домашнее_задание_Бизнес_4_исходник.csv\n"
          ]
        }
      ]
    },
    {
      "cell_type": "code",
      "source": [
        "import pandas as pd"
      ],
      "metadata": {
        "id": "0QWT_QbF8FYI"
      },
      "execution_count": 3,
      "outputs": []
    },
    {
      "cell_type": "code",
      "source": [
        "# Получаем имя загруженного файла\n",
        "filename = list(uploaded.keys())[0]\n",
        "\n",
        "# Читаем файл с помощью pandas\n",
        "df = pd.read_csv(filename, delimiter=';')"
      ],
      "metadata": {
        "id": "WH-se11y7--A"
      },
      "execution_count": 7,
      "outputs": []
    },
    {
      "cell_type": "markdown",
      "source": [
        "# 1. Исследование зависимости пользования предложением от идентификатора клиента"
      ],
      "metadata": {
        "id": "KXvN_WVs7vVd"
      }
    },
    {
      "cell_type": "code",
      "source": [
        "# Создаем новую колонку, содержащую последнюю цифру идентификатора клиента\n",
        "\n",
        "df['right_symbol'] = df['id_client'].astype(str).str[-1]"
      ],
      "metadata": {
        "id": "1Yee3YRe7EJ9"
      },
      "execution_count": 9,
      "outputs": []
    },
    {
      "cell_type": "code",
      "source": [
        "# Преобразуем колонку с последней цифрой идентификатора в числовой формат\n",
        "df['right_symbol'] = df['right_symbol'].astype(int)"
      ],
      "metadata": {
        "id": "3xvusT_S9HO2"
      },
      "execution_count": 10,
      "outputs": []
    },
    {
      "cell_type": "code",
      "source": [
        "import matplotlib.pyplot as plt\n",
        "import seaborn as sns"
      ],
      "metadata": {
        "id": "EaI9siek97Tv"
      },
      "execution_count": 14,
      "outputs": []
    },
    {
      "cell_type": "code",
      "source": [
        "# Построение гистограммы\n",
        "plt.figure(figsize=(12, 6))\n",
        "sns.histplot(data=df, x='right_symbol', hue='flag_conv', multiple='dodge', shrink=0.8)\n",
        "plt.title('Распределение флага конверсии по последней цифре идентификатора клиента')\n",
        "plt.xlabel('Последняя цифра идентификатора клиента')\n",
        "plt.ylabel('Количество')\n",
        "plt.xticks(range(10))  # Обеспечивает, что метки оси X идут от 0 до 9\n",
        "plt.legend(title='Конверсия', labels=['Не использовал предложение', 'Использовал предложение'])\n",
        "plt.show()"
      ],
      "metadata": {
        "colab": {
          "base_uri": "https://localhost:8080/",
          "height": 564
        },
        "id": "wZWf7BJw9LEt",
        "outputId": "c9219a8c-8c65-4be4-a4d9-0add64d83308"
      },
      "execution_count": 17,
      "outputs": [
        {
          "output_type": "display_data",
          "data": {
            "text/plain": [
              "<Figure size 1200x600 with 1 Axes>"
            ],
            "image/png": "[encoded data removed]"
          },
          "metadata": {}
        }
      ]
    },
    {
      "cell_type": "markdown",
      "source": [
        "Можем заметить, что клиенты с последней цифрой идентификатора 0 в основном не используют предложение."
      ],
      "metadata": {
        "id": "xg2TvHzk_f4d"
      }
    },
    {
      "cell_type": "markdown",
      "source": [
        "# 2. Разбиение клиентов по группам (контроль и тест) в зависимости от остатка деления идентификатора на 10. Проведение AA_теста"
      ],
      "metadata": {
        "id": "Ccx4fwxc__ff"
      }
    },
    {
      "cell_type": "code",
      "source": [
        "# Создаем колонку с остатком от деления идентификатора на 10\n",
        "df['mod_10'] = df['id_client'] % 10"
      ],
      "metadata": {
        "id": "lvxLjRdC8lnL"
      },
      "execution_count": 18,
      "outputs": []
    },
    {
      "cell_type": "code",
      "source": [
        "# Разделяем на контрольную и тестовую группы\n",
        "df['group'] = df['mod_10'] % 2"
      ],
      "metadata": {
        "id": "OeE0E8oOAO91"
      },
      "execution_count": 19,
      "outputs": []
    },
    {
      "cell_type": "markdown",
      "source": [
        "Теперь сравниваем среднюю конверсию между контрольной и тестовой группами:"
      ],
      "metadata": {
        "id": "z43JtagHAUh0"
      }
    },
    {
      "cell_type": "code",
      "source": [
        "import scipy.stats as stats\n",
        "\n",
        "# Разделяем данные на контрольную и тестовую группы\n",
        "control_group = df[df['group'] == 0]\n",
        "test_group = df[df['group'] == 1]"
      ],
      "metadata": {
        "id": "9S46tQbCAUuk"
      },
      "execution_count": 20,
      "outputs": []
    },
    {
      "cell_type": "code",
      "source": [
        "# Рассчитываем среднюю конверсию для каждой группы\n",
        "control_mean = control_group['flag_conv'].mean()\n",
        "test_mean = test_group['flag_conv'].mean()"
      ],
      "metadata": {
        "id": "UgOFomTTAX3F"
      },
      "execution_count": 21,
      "outputs": []
    },
    {
      "cell_type": "code",
      "source": [
        "# Печатаем среднюю конверсию для каждой группы\n",
        "print(f'Средняя конверсия в контрольной группе: {control_mean}')\n",
        "print(f'Средняя конверсия в тестовой группе: {test_mean}')"
      ],
      "metadata": {
        "colab": {
          "base_uri": "https://localhost:8080/"
        },
        "id": "uUrdB5UjAags",
        "outputId": "74ca61f0-b173-44d6-bdae-f0459d987968"
      },
      "execution_count": 22,
      "outputs": [
        {
          "output_type": "stream",
          "name": "stdout",
          "text": [
            "Средняя конверсия в контрольной группе: 0.6317780580075663\n",
            "Средняя конверсия в тестовой группе: 0.5919140871762476\n"
          ]
        }
      ]
    },
    {
      "cell_type": "code",
      "source": [
        "# T-тест для проверки значимости разницы между группами\n",
        "t_stat, p_value = stats.ttest_ind(control_group['flag_conv'], test_group['flag_conv'])\n",
        "\n",
        "print(f'T-статистика: {t_stat}')\n",
        "print(f'P-значение: {p_value}')"
      ],
      "metadata": {
        "colab": {
          "base_uri": "https://localhost:8080/"
        },
        "id": "5XjJNXmGAdqQ",
        "outputId": "158e0c85-7f1f-4c4a-a585-70b227512b41"
      },
      "execution_count": 23,
      "outputs": [
        {
          "output_type": "stream",
          "name": "stdout",
          "text": [
            "T-статистика: 2.303661902563631\n",
            "P-значение: 0.021306090686166332\n"
          ]
        }
      ]
    },
    {
      "cell_type": "markdown",
      "source": [
        "**Анализ результатов**:\n",
        "* Средняя конверсия: Мы рассчитали среднюю конверсию для контрольной и тестовой\n",
        "групп и вывели эти значения.\n",
        "* T-тест: Мы провели T-тест, чтобы проверить, является ли разница между группами статистически значимой.\n",
        "* P-значение: Если P-значение меньше 0.05, разница между группами считается статистически значимой. В противном случае разница не является значимой. В нашем случае P-значение равно 0.021306090686166332, следовательно разница между группами считается статистически значимой."
      ],
      "metadata": {
        "id": "UNJg4GoxAwVE"
      }
    },
    {
      "cell_type": "markdown",
      "source": [
        "# 3. Разбиение клиентов по группам (контроль и тест) в зависимости от остатка деления идентификатора на 2. Проведение AA_теста"
      ],
      "metadata": {
        "id": "6eyqbpM2DB_w"
      }
    },
    {
      "cell_type": "code",
      "source": [
        "# Создаем колонку с четностью идентификатора\n",
        "df['group'] = df['id_client'] % 2"
      ],
      "metadata": {
        "id": "-7dOELezDHh7"
      },
      "execution_count": 26,
      "outputs": []
    },
    {
      "cell_type": "code",
      "source": [
        "# Разделяем данные на контрольную и тестовую группы\n",
        "control_group = df[df['group'] == 0]\n",
        "test_group = df[df['group'] == 1]"
      ],
      "metadata": {
        "id": "WgLnfTGtDLec"
      },
      "execution_count": 27,
      "outputs": []
    },
    {
      "cell_type": "code",
      "source": [
        "# Рассчитываем среднюю конверсию для каждой группы\n",
        "control_mean = control_group['flag_conv'].mean()\n",
        "test_mean = test_group['flag_conv'].mean()"
      ],
      "metadata": {
        "id": "A9-2RraWDQGt"
      },
      "execution_count": 28,
      "outputs": []
    },
    {
      "cell_type": "code",
      "source": [
        "# Печатаем среднюю конверсию для каждой группы\n",
        "print(f'Средняя конверсия в контрольной группе (чётные id): {control_mean}')\n",
        "print(f'Средняя конверсия в тестовой группе (нечётные id): {test_mean}')"
      ],
      "metadata": {
        "colab": {
          "base_uri": "https://localhost:8080/"
        },
        "id": "XbmK1U83DSkG",
        "outputId": "ed720ad4-dc2a-4032-af30-380516d4ffbd"
      },
      "execution_count": 29,
      "outputs": [
        {
          "output_type": "stream",
          "name": "stdout",
          "text": [
            "Средняя конверсия в контрольной группе (чётные id): 0.6317780580075663\n",
            "Средняя конверсия в тестовой группе (нечётные id): 0.5919140871762476\n"
          ]
        }
      ]
    },
    {
      "cell_type": "code",
      "source": [
        "# T-тест для проверки значимости разницы между группами\n",
        "t_stat, p_value = stats.ttest_ind(control_group['flag_conv'], test_group['flag_conv'])"
      ],
      "metadata": {
        "id": "UbWrpWGvDWCZ"
      },
      "execution_count": 30,
      "outputs": []
    },
    {
      "cell_type": "code",
      "source": [
        "print(f'T-статистика: {t_stat}')\n",
        "print(f'P-значение: {p_value}')"
      ],
      "metadata": {
        "colab": {
          "base_uri": "https://localhost:8080/"
        },
        "id": "f2ouG55BDZjn",
        "outputId": "7eafce6b-f484-4f50-fb58-b6df6f9ad038"
      },
      "execution_count": 31,
      "outputs": [
        {
          "output_type": "stream",
          "name": "stdout",
          "text": [
            "T-статистика: 2.303661902563631\n",
            "P-значение: 0.021306090686166332\n"
          ]
        }
      ]
    },
    {
      "cell_type": "code",
      "source": [
        "# Интерпретация результата\n",
        "alpha = 0.05\n",
        "if p_value < alpha:\n",
        "    print(\"Результат статистически значим: отвергаем нулевую гипотезу.\")\n",
        "else:\n",
        "    print(\"Результат не является статистически значимым: не отвергаем нулевую гипотезу.\")"
      ],
      "metadata": {
        "colab": {
          "base_uri": "https://localhost:8080/"
        },
        "id": "W0PSErQPDc3S",
        "outputId": "fc139cfd-cebb-4cae-ba32-4e3219988775"
      },
      "execution_count": 32,
      "outputs": [
        {
          "output_type": "stream",
          "name": "stdout",
          "text": [
            "Результат статистически значим: отвергаем нулевую гипотезу.\n"
          ]
        }
      ]
    },
    {
      "cell_type": "markdown",
      "source": [
        "# 4. Проведение 1000 АА-тестов с использованием sample"
      ],
      "metadata": {
        "id": "pnbsMgBfD_P4"
      }
    },
    {
      "cell_type": "markdown",
      "source": [
        "Теперь мы будем повторять разбиение и проведение АА-теста 1000 раз. Будем сохранять количество случаев, когда разница в конверсии оказывается статистически значимой:"
      ],
      "metadata": {
        "id": "26_QjpOMED0i"
      }
    },
    {
      "cell_type": "code",
      "source": [
        "# Инициализация переменной для подсчета значимых результатов\n",
        "significant_count = 0\n",
        "\n",
        "# Параметры\n",
        "alpha = 0.05\n",
        "n_iterations = 1000"
      ],
      "metadata": {
        "id": "xGS1WGb6EBJs"
      },
      "execution_count": 34,
      "outputs": []
    },
    {
      "cell_type": "code",
      "source": [
        "# Проведение 1000 АА-тестов\n",
        "for i in range(n_iterations):\n",
        "    # Случайное разбиение на контрольную и тестовую группы\n",
        "    df_sample = df.sample(frac=1).reset_index(drop=True)\n",
        "    mid_point = len(df_sample) // 2\n",
        "    control_group = df_sample.iloc[:mid_point]\n",
        "    test_group = df_sample.iloc[mid_point:]\n",
        "\n",
        "    # Рассчитываем среднюю конверсию для каждой группы\n",
        "    control_mean = control_group['flag_conv'].mean()\n",
        "    test_mean = test_group['flag_conv'].mean()\n",
        "\n",
        "    # T-тест для проверки значимости разницы между группами\n",
        "    t_stat, p_value = stats.ttest_ind(control_group['flag_conv'], test_group['flag_conv'])\n",
        "\n",
        "    # Проверяем, является ли разница статистически значимой\n",
        "    if p_value < alpha:\n",
        "        significant_count += 1"
      ],
      "metadata": {
        "id": "88Ep4V5_EJTR"
      },
      "execution_count": 35,
      "outputs": []
    },
    {
      "cell_type": "code",
      "source": [
        "# Рассчитываем процент случаев со значимой разницей\n",
        "significant_percentage = (significant_count / n_iterations) * 100\n",
        "\n",
        "print(f'Статистически значимая разница наблюдается в {significant_percentage}% случаев.')"
      ],
      "metadata": {
        "colab": {
          "base_uri": "https://localhost:8080/"
        },
        "id": "iAo0cfu9EQBY",
        "outputId": "22c1daff-6509-40a7-d636-d7ece937a27e"
      },
      "execution_count": 36,
      "outputs": [
        {
          "output_type": "stream",
          "name": "stdout",
          "text": [
            "Статистически значимая разница наблюдается в 4.8% случаев.\n"
          ]
        }
      ]
    },
    {
      "cell_type": "markdown",
      "source": [
        "Процент случаев со статистически значимой разницей составляет 4.8%, что очень близко к ожидаемому значению 5%. Это означает, что методика случайного разбиения клиентов на контрольную и тестовую группы работает корректно. В идеале, с уровнем значимости α = 0.05, мы ожидаем, что статистически значимая разница будет наблюдаться примерно в 5% случаев просто из-за случайных колебаний."
      ],
      "metadata": {
        "id": "XPDWs1cDEebw"
      }
    },
    {
      "cell_type": "markdown",
      "source": [
        "# Задача со звездочкой"
      ],
      "metadata": {
        "id": "Z6rfLctaEtzw"
      }
    },
    {
      "cell_type": "code",
      "source": [
        "# Наблюдаемая пропорция\n",
        "observed_proportion = 0.048\n",
        "\n",
        "# Общее количество испытаний\n",
        "n_iterations = 1000\n",
        "\n",
        "# Критическое значение для 95%-го доверительного интервала\n",
        "z_value = stats.norm.ppf(0.975)"
      ],
      "metadata": {
        "id": "H7MVCW_fExHV"
      },
      "execution_count": 37,
      "outputs": []
    },
    {
      "cell_type": "code",
      "source": [
        "# Вычисление стандартной ошибки\n",
        "standard_error = (observed_proportion * (1 - observed_proportion) / n_iterations) ** 0.5"
      ],
      "metadata": {
        "id": "YtCuRUw9E1u_"
      },
      "execution_count": 38,
      "outputs": []
    },
    {
      "cell_type": "code",
      "source": [
        "# Вычисление доверительного интервала\n",
        "confidence_interval = (\n",
        "    observed_proportion - z_value * standard_error,\n",
        "    observed_proportion + z_value * standard_error\n",
        ")"
      ],
      "metadata": {
        "id": "T3dfD1hnE4if"
      },
      "execution_count": 39,
      "outputs": []
    },
    {
      "cell_type": "code",
      "source": [
        "print(f'95%-й доверительный интервал: {confidence_interval}')"
      ],
      "metadata": {
        "colab": {
          "base_uri": "https://localhost:8080/"
        },
        "id": "dwkyB3dOE75Z",
        "outputId": "e0b10389-8c76-43e5-b93f-2d27af415ee9"
      },
      "execution_count": 40,
      "outputs": [
        {
          "output_type": "stream",
          "name": "stdout",
          "text": [
            "95%-й доверительный интервал: (0.0347508754149401, 0.061249124585059905)\n"
          ]
        }
      ]
    },
    {
      "cell_type": "code",
      "source": [
        "# Проверка, включается ли 5% в доверительный интервал\n",
        "if confidence_interval[0] <= 0.05 <= confidence_interval[1]:\n",
        "    print(\"5% попадает в 95%-й доверительный интервал. Это подтверждает корректность наблюдаемой пропорции.\")\n",
        "else:\n",
        "    print(\"5% не попадает в 95%-й доверительный интервал. Наблюдаемая пропорция может быть некорректной.\")"
      ],
      "metadata": {
        "colab": {
          "base_uri": "https://localhost:8080/"
        },
        "id": "8tvxfBCBE_ef",
        "outputId": "1b56e3e6-cf97-4ca1-a7fb-54268d00eda8"
      },
      "execution_count": 41,
      "outputs": [
        {
          "output_type": "stream",
          "name": "stdout",
          "text": [
            "5% попадает в 95%-й доверительный интервал. Это подтверждает корректность наблюдаемой пропорции.\n"
          ]
        }
      ]
    },
    {
      "cell_type": "markdown",
      "source": [
        "# 5. Рассчет, сколько наблюдений потребуется для проведения АБ Теста, при условии что MDE = 2"
      ],
      "metadata": {
        "id": "m4HOE-J-FW41"
      }
    },
    {
      "cell_type": "code",
      "source": [
        "import numpy as np"
      ],
      "metadata": {
        "id": "ADKIITWWFq5H"
      },
      "execution_count": 45,
      "outputs": []
    },
    {
      "cell_type": "code",
      "source": [
        "# Параметры\n",
        "alpha = 0.05\n",
        "beta = 0.20\n",
        "power = 1 - beta\n",
        "mde = 0.02  # минимально детектируемая разница\n",
        "avg_conversion_rate = 0.5  # средняя конверсия, можно изменить, если известно точное значение"
      ],
      "metadata": {
        "id": "G9EDPCrLFbRH"
      },
      "execution_count": 42,
      "outputs": []
    },
    {
      "cell_type": "code",
      "source": [
        "# Критические значения для нормального распределения\n",
        "z_alpha = stats.norm.ppf(1 - alpha / 2)\n",
        "z_beta = stats.norm.ppf(power)"
      ],
      "metadata": {
        "id": "N8ECOc-vFjWO"
      },
      "execution_count": 43,
      "outputs": []
    },
    {
      "cell_type": "code",
      "source": [
        "# Стандартное отклонение конверсии\n",
        "std_dev = np.sqrt(2 * avg_conversion_rate * (1 - avg_conversion_rate))"
      ],
      "metadata": {
        "id": "YhQ4Xt87Fl3D"
      },
      "execution_count": 46,
      "outputs": []
    },
    {
      "cell_type": "code",
      "source": [
        "# Размер выборки для каждой группы\n",
        "n = ((z_alpha + z_beta) * std_dev / mde) ** 2"
      ],
      "metadata": {
        "id": "m8_0vWscFsy2"
      },
      "execution_count": 47,
      "outputs": []
    },
    {
      "cell_type": "code",
      "source": [
        "print(f'Необходимое количество наблюдений в каждой группе: {int(np.ceil(n))}')"
      ],
      "metadata": {
        "colab": {
          "base_uri": "https://localhost:8080/"
        },
        "id": "byu32zjuFxH2",
        "outputId": "fef69847-a9b7-44ba-94aa-922d24682a1d"
      },
      "execution_count": 48,
      "outputs": [
        {
          "output_type": "stream",
          "name": "stdout",
          "text": [
            "Необходимое количество наблюдений в каждой группе: 9812\n"
          ]
        }
      ]
    },
    {
      "cell_type": "markdown",
      "source": [
        "# Интерпретация результата\n",
        "Этот результат говорит о том, что для нашего A/B-теста необходимо иметь 9812 наблюдений в каждой группе (контрольной и тестовой), чтобы с вероятностью 80% (мощность теста) обнаружить разницу в конверсии в 2 процентных пункта (0.02) при уровне значимости 5% (α = 0.05).\n",
        "* **Подробнее:**\n",
        "1. Установленный MDE составляет 2 процентных пункта, что означает, что мы определяем, есть ли разница в конверсии между двумя группами, если она составляет хотя бы 2%.\n",
        "2. Уровень значимости установлен на 5% (0.05), что означает, что мы готовы принять риск 5% на ложное обнаружение эффекта\n",
        "3. Мощность теста установлена на 80% (0.80), что означает, что у нас будет 80% шансов обнаружить эффект, если он действительно существует\n",
        "* **Итого:** Необходимо собрать данные о 9812 клиентах в каждой группе (всего 19624 наблюдений), чтобы провести корректный A/B-тест с указанными параметрами.\n",
        "Это позволит уверенно утверждать, что разница в конверсии на уровне 2 процентных пункта действительно существует или отсутствует, основываясь на собранных данных."
      ],
      "metadata": {
        "id": "xx6cwrdqF9l-"
      }
    }
  ]
}