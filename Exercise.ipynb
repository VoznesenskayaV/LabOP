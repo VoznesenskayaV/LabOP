{
  "nbformat": 4,
  "nbformat_minor": 0,
  "metadata": {
    "colab": {
      "provenance": [],
      "authorship_tag": "ABX9TyPhawhIQj5Z3dFm30KmOfju",
      "include_colab_link": true
    },
    "kernelspec": {
      "name": "python3",
      "display_name": "Python 3"
    },
    "language_info": {
      "name": "python"
    }
  },
  "cells": [
    {
      "cell_type": "markdown",
      "metadata": {
        "id": "view-in-github",
        "colab_type": "text"
      },
      "source": [
        "<a href=\"https://colab.research.google.com/github/VoznesenskayaV/LabOP/blob/main/Exercise.ipynb\" target=\"_parent\"><img src=\"https://colab.research.google.com/assets/colab-badge.svg\" alt=\"Open In Colab\"/></a>"
      ]
    },
    {
      "cell_type": "code",
      "execution_count": 13,
      "metadata": {
        "id": "lDN29Vc62nL0"
      },
      "outputs": [],
      "source": [
        "class Style:\n",
        "    def __init__(self, name):\n",
        "        self.name = name\n",
        "\n",
        "\n",
        "class Poem(Style):\n",
        "    def __init__(self, name, author):\n",
        "      super().__init__(name)\n",
        "      self.author = author\n",
        "  \n",
        "  \n",
        "class Rhyme(Poem):\n",
        "    def __init__(self, name, author, rhyme_size):\n",
        "        super().__init__(name, author)\n",
        "        self.rhyme_size = rhyme_size\n",
        "\n",
        "    def get_author(self):\n",
        "        print(self.author, self.name, self.rhyme_size)      \n",
        "\n",
        "\n",
        "class Prose(Style):\n",
        "    def __init__(self, name, author, text):\n",
        "        super().__init__(name)\n",
        "        self.author = author\n",
        "        self.text = text\n",
        "\n",
        "    def get_author(self):\n",
        "        print(self.author, self.name)\n",
        "\n",
        "    def get_text(self):\n",
        "        return self.text"
      ]
    },
    {
      "cell_type": "code",
      "source": [
        "poem_1 = Rhyme(\"Spring\", \"Alexander Pushkin\", \"iamb\")\n",
        "poem_1.get_author()\n",
        "prose_1 = Prose(\"Never Let Me Go\", \"Kazuo Ishiguro\", \"My name is Kathy H. I’m thirty-one years old, and I’ve been a carer now for over eleven years. That sounds long enough, I know, but actually they want me to go on for another eight months, until the end of this year. That’ll make it almost exactly twelve years. Now I know my being a carer so long isn’t necessarily because they think I’m fantastic at what I do.\")\n",
        "prose_1.get_author()\n",
        "prose_1.get_text()"
      ],
      "metadata": {
        "colab": {
          "base_uri": "https://localhost:8080/",
          "height": 91
        },
        "id": "lLAMvJTKPBn8",
        "outputId": "e24ec254-d111-4158-c9a4-664259fd2adc"
      },
      "execution_count": 15,
      "outputs": [
        {
          "output_type": "stream",
          "name": "stdout",
          "text": [
            "Alexander Pushkin Spring iamb\n",
            "Kazuo Ishiguro Never Let Me Go\n"
          ]
        },
        {
          "output_type": "execute_result",
          "data": {
            "text/plain": [
              "'My name is Kathy H. I’m thirty-one years old, and I’ve been a carer now for over eleven years. That sounds long enough, I know, but actually they want me to go on for another eight months, until the end of this year. That’ll make it almost exactly twelve years. Now I know my being a carer so long isn’t necessarily because they think I’m fantastic at what I do.'"
            ],
            "application/vnd.google.colaboratory.intrinsic+json": {
              "type": "string"
            }
          },
          "metadata": {},
          "execution_count": 15
        }
      ]
    }
  ]
}