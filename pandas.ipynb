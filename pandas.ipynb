{
  "nbformat": 4,
  "nbformat_minor": 0,
  "metadata": {
    "colab": {
      "provenance": [],
      "authorship_tag": "ABX9TyMlcqbtsxBdV3Yc+eyKGc0K",
      "include_colab_link": true
    },
    "kernelspec": {
      "name": "python3",
      "display_name": "Python 3"
    },
    "language_info": {
      "name": "python"
    }
  },
  "cells": [
    {
      "cell_type": "markdown",
      "metadata": {
        "id": "view-in-github",
        "colab_type": "text"
      },
      "source": [
        "<a href=\"https://colab.research.google.com/github/VoznesenskayaV/LabOP/blob/main/pandas.ipynb\" target=\"_parent\"><img src=\"https://colab.research.google.com/assets/colab-badge.svg\" alt=\"Open In Colab\"/></a>"
      ]
    },
    {
      "cell_type": "code",
      "execution_count": null,
      "metadata": {
        "id": "mNEKABVk2L7H"
      },
      "outputs": [],
      "source": [
        "import pandas as pd"
      ]
    },
    {
      "cell_type": "code",
      "source": [
        "authors = pd.DataFrame({'author_id': [1, 2, 3], 'author_name': ['Тургенев', 'Чехов', 'Островский']})\n",
        "print(authors)"
      ],
      "metadata": {
        "colab": {
          "base_uri": "https://localhost:8080/"
        },
        "id": "Otdpj-1v2T6v",
        "outputId": "3f7a8113-8578-4f1d-a330-eb02fd4859f3"
      },
      "execution_count": null,
      "outputs": [
        {
          "output_type": "stream",
          "name": "stdout",
          "text": [
            "   author_id author_name\n",
            "0          1    Тургенев\n",
            "1          2       Чехов\n",
            "2          3  Островский\n"
          ]
        }
      ]
    },
    {
      "cell_type": "code",
      "source": [
        "book = pd.DataFrame(\n",
        "    ({'author_id': [1, 1, 1, 2, 2, 3, 3], \n",
        "      'book_title': ['Отцы и дети', \n",
        "                     'Рудин', \n",
        "                     'Дворянское гнездо', \n",
        "                     'Толстый и тонкий', \n",
        "                     'Дама с собачкой', \n",
        "                     'Гроза', \n",
        "                     'Таланты и поклонники'], \n",
        "      'price': [450, 300, 350, 500, 450, 370, 290]})\n",
        "     )\n",
        "print(book)"
      ],
      "metadata": {
        "colab": {
          "base_uri": "https://localhost:8080/"
        },
        "id": "-YzmCXgS2Vj9",
        "outputId": "d6fe7315-caac-4063-a77f-4d999a784004"
      },
      "execution_count": null,
      "outputs": [
        {
          "output_type": "stream",
          "name": "stdout",
          "text": [
            "   author_id            book_title  price\n",
            "0          1           Отцы и дети    450\n",
            "1          1                 Рудин    300\n",
            "2          1     Дворянское гнездо    350\n",
            "3          2      Толстый и тонкий    500\n",
            "4          2       Дама с собачкой    450\n",
            "5          3                 Гроза    370\n",
            "6          3  Таланты и поклонники    290\n"
          ]
        }
      ]
    },
    {
      "cell_type": "code",
      "source": [
        "authors_price = pd.merge(authors, book, on='author_id', how='inner')\n",
        "print(authors_price)"
      ],
      "metadata": {
        "colab": {
          "base_uri": "https://localhost:8080/"
        },
        "id": "tjwSnCwU2Znm",
        "outputId": "c1c94650-954c-481d-f65d-dcd0f2c35b92"
      },
      "execution_count": null,
      "outputs": [
        {
          "output_type": "stream",
          "name": "stdout",
          "text": [
            "   author_id author_name            book_title  price\n",
            "0          1    Тургенев           Отцы и дети    450\n",
            "1          1    Тургенев                 Рудин    300\n",
            "2          1    Тургенев     Дворянское гнездо    350\n",
            "3          2       Чехов      Толстый и тонкий    500\n",
            "4          2       Чехов       Дама с собачкой    450\n",
            "5          3  Островский                 Гроза    370\n",
            "6          3  Островский  Таланты и поклонники    290\n"
          ]
        }
      ]
    },
    {
      "cell_type": "code",
      "source": [
        "top5 = authors_price.nlargest(5, 'price')\n",
        "print(top5)"
      ],
      "metadata": {
        "colab": {
          "base_uri": "https://localhost:8080/"
        },
        "id": "SUfr5eIF2f39",
        "outputId": "9e69afeb-4ea8-4fd4-8e62-bbbbf9d3f59e"
      },
      "execution_count": null,
      "outputs": [
        {
          "output_type": "stream",
          "name": "stdout",
          "text": [
            "   author_id author_name         book_title  price\n",
            "3          2       Чехов   Толстый и тонкий    500\n",
            "0          1    Тургенев        Отцы и дети    450\n",
            "4          2       Чехов    Дама с собачкой    450\n",
            "5          3  Островский              Гроза    370\n",
            "2          1    Тургенев  Дворянское гнездо    350\n"
          ]
        }
      ]
    },
    {
      "cell_type": "markdown",
      "source": [
        "Ваш код:"
      ],
      "metadata": {
        "id": "pU3RxUl827EH"
      }
    },
    {
      "cell_type": "code",
      "source": [
        "authors_stat = (authors_price.groupby('author_name')\n",
        "                              .agg({'price': 'sum', 'book_title': 'count'})\n",
        "                              .reset_index()\\\n",
        "                              .rename(columns={'price': 'total_price', \n",
        "                                               'book_title': 'books_count'}))\n",
        "print(authors_stat)"
      ],
      "metadata": {
        "colab": {
          "base_uri": "https://localhost:8080/"
        },
        "id": "6zPcSonm2kQ3",
        "outputId": "22a7c558-1bc5-46ca-f0ce-c7d1f70f9fbe"
      },
      "execution_count": null,
      "outputs": [
        {
          "output_type": "stream",
          "name": "stdout",
          "text": [
            "  author_name  total_price  books_count\n",
            "0  Островский          660            2\n",
            "1    Тургенев         1100            3\n",
            "2       Чехов          950            2\n"
          ]
        }
      ]
    },
    {
      "cell_type": "markdown",
      "source": [
        "Мой код:"
      ],
      "metadata": {
        "id": "XnMpOyop2-Zy"
      }
    },
    {
      "cell_type": "code",
      "source": [
        "authors_stat = (authors_price.groupby('author_name')\n",
        "                            .agg({'price': ['min', 'max', 'mean']})\n",
        "                            .reset_index()\n",
        "                            .rename(columns={'min': 'min_price', \n",
        "                                            'max': 'max_price', \n",
        "                                            'mean': 'mean_price'}))\n",
        "\n",
        "\n",
        "\n",
        "# убираем мультииндекс\n",
        "authors_stat.columns = authors_stat.columns.droplevel()\n",
        "\n",
        "# переименовываем столбец авторов\n",
        "authors_stat = authors_stat.rename(columns={'': 'author_name'})\n",
        "\n",
        "authors_stat['mean_price'] = authors_stat['mean_price'].round(2)\n",
        "\n",
        "print(authors_stat)"
      ],
      "metadata": {
        "colab": {
          "base_uri": "https://localhost:8080/"
        },
        "id": "HJZRDDDy2_2K",
        "outputId": "9e5a5265-d631-4d03-e3e8-3614c70208d0"
      },
      "execution_count": 26,
      "outputs": [
        {
          "output_type": "stream",
          "name": "stdout",
          "text": [
            "  author_name  min_price  max_price  mean_price\n",
            "0  Островский        290        370      330.00\n",
            "1    Тургенев        300        450      366.67\n",
            "2       Чехов        450        500      475.00\n"
          ]
        }
      ]
    },
    {
      "cell_type": "code",
      "source": [
        "import numpy as np"
      ],
      "metadata": {
        "id": "NQH2nQ3-4Ah_"
      },
      "execution_count": 27,
      "outputs": []
    },
    {
      "cell_type": "code",
      "source": [
        "# Добавление нового столбца \"cover\"\n",
        "cover_types = ['твердая', 'мягкая', 'мягкая', 'твердая', 'твердая', 'мягкая', 'мягкая']\n",
        "authors_price['cover'] = cover_types\n",
        "\n",
        "print(authors_price)"
      ],
      "metadata": {
        "colab": {
          "base_uri": "https://localhost:8080/"
        },
        "id": "-2XCPatd4I6K",
        "outputId": "829dd761-2709-4b8f-a6ab-449a51e8c662"
      },
      "execution_count": 28,
      "outputs": [
        {
          "output_type": "stream",
          "name": "stdout",
          "text": [
            "   author_id author_name            book_title  price    cover\n",
            "0          1    Тургенев           Отцы и дети    450  твердая\n",
            "1          1    Тургенев                 Рудин    300   мягкая\n",
            "2          1    Тургенев     Дворянское гнездо    350   мягкая\n",
            "3          2       Чехов      Толстый и тонкий    500  твердая\n",
            "4          2       Чехов       Дама с собачкой    450  твердая\n",
            "5          3  Островский                 Гроза    370   мягкая\n",
            "6          3  Островский  Таланты и поклонники    290   мягкая\n"
          ]
        }
      ]
    },
    {
      "cell_type": "code",
      "source": [
        "# Создание сводной таблицы с суммарной стоимостью книг для каждого автора и типа обложки\n",
        "pivot_table = pd.pivot_table(authors_price, values='price', index='author_name', columns='cover', aggfunc=np.sum, fill_value=0)\n",
        "\n",
        "# Сброс индекса и сделать столбцом 'author_name'\n",
        "pivot_table = pivot_table.reset_index()\n",
        "\n",
        "# Переименование столбцов\n",
        "pivot_table.columns = ['author_name', 'твердая', 'мягкая']\n",
        "\n",
        "print(pivot_table)"
      ],
      "metadata": {
        "colab": {
          "base_uri": "https://localhost:8080/"
        },
        "id": "cOAawtk94itM",
        "outputId": "b30fe7a6-2816-4712-b8bb-0b724458833b"
      },
      "execution_count": 29,
      "outputs": [
        {
          "output_type": "stream",
          "name": "stdout",
          "text": [
            "  author_name  твердая  мягкая\n",
            "0  Островский      660       0\n",
            "1    Тургенев      650     450\n",
            "2       Чехов        0     950\n"
          ]
        }
      ]
    },
    {
      "cell_type": "code",
      "source": [
        "# Переименование датафрейма authors_price в book_info\n",
        "book_info = authors_price\n",
        "\n",
        "# Сохранение датафрейма book_info в формате pickle\n",
        "book_info.to_pickle(\"book_info.pkl\")"
      ],
      "metadata": {
        "id": "JEYDrx5y6phH"
      },
      "execution_count": 30,
      "outputs": []
    },
    {
      "cell_type": "code",
      "source": [
        "book_info2 = pd.read_pickle(\"book_info.pkl\")"
      ],
      "metadata": {
        "id": "kdTN8VX87YKF"
      },
      "execution_count": 31,
      "outputs": []
    },
    {
      "cell_type": "markdown",
      "source": [
        "Если выводится значение True, это означает, что датафреймы book_info и book_info2 идентичны. Если выводится значение False, значит, датафреймы имеют различия.\n",
        "\n",
        "\n",
        "\n",
        "\n"
      ],
      "metadata": {
        "id": "H5pUGmGC7jN1"
      }
    },
    {
      "cell_type": "code",
      "source": [
        "comparison = book_info.equals(book_info2)\n",
        "print(comparison)"
      ],
      "metadata": {
        "colab": {
          "base_uri": "https://localhost:8080/"
        },
        "id": "Bsi4RbzI7ZyC",
        "outputId": "d63e2d53-10e7-4071-a0b1-9183d0e0cf27"
      },
      "execution_count": 32,
      "outputs": [
        {
          "output_type": "stream",
          "name": "stdout",
          "text": [
            "True\n"
          ]
        }
      ]
    }
  ]
}