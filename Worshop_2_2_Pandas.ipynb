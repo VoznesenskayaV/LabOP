{
  "cells": [
    {
      "cell_type": "markdown",
      "metadata": {
        "id": "view-in-github",
        "colab_type": "text"
      },
      "source": [
        "<a href=\"https://colab.research.google.com/github/VoznesenskayaV/LabOP/blob/main/Worshop_2_2_Pandas.ipynb\" target=\"_parent\"><img src=\"https://colab.research.google.com/assets/colab-badge.svg\" alt=\"Open In Colab\"/></a>"
      ]
    },
    {
      "cell_type": "markdown",
      "metadata": {
        "id": "XbkXv9ILHv7l"
      },
      "source": [
        "## Worshop 2.2 Pandas\n",
        "\n",
        "1. Скачайте этот ноутбук к себе.\n",
        "2. Заполните пропущенные ячейки, отвечая на заданные вопросы. Там должен быть код! (если не сказано обратное)\n",
        "3. Сохраните результат в своём гитхаб репозитории.\n",
        "\n",
        "#### Полезная литература\n",
        "\n",
        "- http://pandas.pydata.org/pandas-docs/stable/10min.html\n",
        "- https://pandas.pydata.org/pandas-docs/stable/indexing.html\n",
        "- https://pandas.pydata.org/pandas-docs/stable/missing_data.html"
      ]
    },
    {
      "cell_type": "markdown",
      "metadata": {
        "id": "P2cPy-RRHv7s"
      },
      "source": [
        "В этом задании мы с вами рассмотрим датасет [Adult Data Set](https://archive.ics.uci.edu/ml/datasets/Adult).\n",
        "Основывается он на данных переписи населения 1994 года в США.\n",
        "\n",
        "Расшифровка содержимого колонок:\n",
        "\n",
        "- age: continuous.\n",
        "- workclass: Private, Self-emp-not-inc, Self-emp-inc, Federal-gov, Local-gov, State-gov, Without-pay, Never-worked.\n",
        "- fnlwgt: continuous. sampling weight, more here: SIPP Weighting.\n",
        "- education: Bachelors, Some-college, 11th, HS-grad, Prof-school, Assoc-acdm, Assoc-voc, 9th, 7th-8th, 12th, Masters, 1st-4th, 10th, Doctorate, 5th-6th, Preschool.\n",
        "- education-num: continuous.\n",
        "- marital-status: Married-civ-spouse, Divorced, Never-married, Separated, Widowed, Married-spouse-absent, Married-AF-spouse.\n",
        "- occupation: Tech-support, Craft-repair, Other-service, Sales, Exec-managerial, Prof-specialty, Handlers-cleaners, Machine-op-inspct, Adm-clerical, Farming-fishing, Transport-moving, Priv-house-serv, Protective-serv, Armed-Forces.\n",
        "- relationship: Wife, Own-child, Husband, Not-in-family, Other-relative, Unmarried.\n",
        "- race: White, Asian-Pac-Islander, Amer-Indian-Eskimo, Other, Black.\n",
        "- sex: Female, Male.\n",
        "- capital-gain: continuous. Income from investment sources, apart from wages/salary.\n",
        "- capital-loss: continuous. Losses from investment sources, apart from wages/salary.\n",
        "- hours-per-week: continuous.\n",
        "- native-country: United-States, Cambodia, England, Puerto-Rico, Canada, Germany, Outlying-US(Guam-USVI-etc), India, Japan, Greece, South, China, Cuba, Iran, Honduras, Philippines, Italy, Poland, Jamaica, Vietnam, Mexico, Portugal, Ireland, France, Dominican-Republic, Laos, Ecuador, Taiwan, Haiti, Columbia, Hungary, Guatemala, Nicaragua, Scotland, Thailand, Yugoslavia, El-Salvador, Trinadad&Tobago, Peru, Hong, Holand-Netherlands."
      ]
    },
    {
      "cell_type": "code",
      "execution_count": 1,
      "metadata": {
        "colab": {
          "base_uri": "https://localhost:8080/",
          "height": 36
        },
        "id": "JIiLL98zHv7u",
        "outputId": "1a40f4a9-4367-40e4-fdee-b8341913b110"
      },
      "outputs": [
        {
          "output_type": "execute_result",
          "data": {
            "text/plain": [
              "'1.5.3'"
            ],
            "application/vnd.google.colaboratory.intrinsic+json": {
              "type": "string"
            }
          },
          "metadata": {},
          "execution_count": 1
        }
      ],
      "source": [
        "%matplotlib inline\n",
        "import pandas as pd\n",
        "pd.__version__"
      ]
    },
    {
      "cell_type": "markdown",
      "metadata": {
        "id": "kJf3qNA9Hv7w"
      },
      "source": [
        "Если вы увидели warning, не переживайте, всё хорошо.\n",
        "- https://stackoverflow.com/questions/40845304/runtimewarning-numpy-dtype-size-changed-may-indicate-binary-incompatibility\n",
        "- https://github.com/numpy/numpy/pull/432"
      ]
    },
    {
      "cell_type": "code",
      "execution_count": 2,
      "metadata": {
        "colab": {
          "base_uri": "https://localhost:8080/",
          "height": 206
        },
        "id": "CXSS6ZQhHv7w",
        "outputId": "64ddf440-e42f-44f7-957e-ba68d3263195"
      },
      "outputs": [
        {
          "output_type": "execute_result",
          "data": {
            "text/plain": [
              "   age          workclass  fnlwgt   education  education.num  \\\n",
              "0   39          State-gov   77516   Bachelors             13   \n",
              "1   50   Self-emp-not-inc   83311   Bachelors             13   \n",
              "2   38            Private  215646     HS-grad              9   \n",
              "3   53            Private  234721        11th              7   \n",
              "4   28            Private  338409   Bachelors             13   \n",
              "\n",
              "        marital.status          occupation    relationship    race      sex  \\\n",
              "0        Never-married        Adm-clerical   Not-in-family   White     Male   \n",
              "1   Married-civ-spouse     Exec-managerial         Husband   White     Male   \n",
              "2             Divorced   Handlers-cleaners   Not-in-family   White     Male   \n",
              "3   Married-civ-spouse   Handlers-cleaners         Husband   Black     Male   \n",
              "4   Married-civ-spouse      Prof-specialty            Wife   Black   Female   \n",
              "\n",
              "   capital.gain  capital.loss  hours.per.week  native.country  income  \n",
              "0          2174             0              40   United-States   <=50K  \n",
              "1             0             0              13   United-States   <=50K  \n",
              "2             0             0              40   United-States   <=50K  \n",
              "3             0             0              40   United-States   <=50K  \n",
              "4             0             0              40            Cuba   <=50K  "
            ],
            "text/html": [
              "\n",
              "  <div id=\"df-9686c7a8-ba3c-45ce-b541-1d1d401f875b\" class=\"colab-df-container\">\n",
              "    <div>\n",
              "<style scoped>\n",
              "    .dataframe tbody tr th:only-of-type {\n",
              "        vertical-align: middle;\n",
              "    }\n",
              "\n",
              "    .dataframe tbody tr th {\n",
              "        vertical-align: top;\n",
              "    }\n",
              "\n",
              "    .dataframe thead th {\n",
              "        text-align: right;\n",
              "    }\n",
              "</style>\n",
              "<table border=\"1\" class=\"dataframe\">\n",
              "  <thead>\n",
              "    <tr style=\"text-align: right;\">\n",
              "      <th></th>\n",
              "      <th>age</th>\n",
              "      <th>workclass</th>\n",
              "      <th>fnlwgt</th>\n",
              "      <th>education</th>\n",
              "      <th>education.num</th>\n",
              "      <th>marital.status</th>\n",
              "      <th>occupation</th>\n",
              "      <th>relationship</th>\n",
              "      <th>race</th>\n",
              "      <th>sex</th>\n",
              "      <th>capital.gain</th>\n",
              "      <th>capital.loss</th>\n",
              "      <th>hours.per.week</th>\n",
              "      <th>native.country</th>\n",
              "      <th>income</th>\n",
              "    </tr>\n",
              "  </thead>\n",
              "  <tbody>\n",
              "    <tr>\n",
              "      <th>0</th>\n",
              "      <td>39</td>\n",
              "      <td>State-gov</td>\n",
              "      <td>77516</td>\n",
              "      <td>Bachelors</td>\n",
              "      <td>13</td>\n",
              "      <td>Never-married</td>\n",
              "      <td>Adm-clerical</td>\n",
              "      <td>Not-in-family</td>\n",
              "      <td>White</td>\n",
              "      <td>Male</td>\n",
              "      <td>2174</td>\n",
              "      <td>0</td>\n",
              "      <td>40</td>\n",
              "      <td>United-States</td>\n",
              "      <td>&lt;=50K</td>\n",
              "    </tr>\n",
              "    <tr>\n",
              "      <th>1</th>\n",
              "      <td>50</td>\n",
              "      <td>Self-emp-not-inc</td>\n",
              "      <td>83311</td>\n",
              "      <td>Bachelors</td>\n",
              "      <td>13</td>\n",
              "      <td>Married-civ-spouse</td>\n",
              "      <td>Exec-managerial</td>\n",
              "      <td>Husband</td>\n",
              "      <td>White</td>\n",
              "      <td>Male</td>\n",
              "      <td>0</td>\n",
              "      <td>0</td>\n",
              "      <td>13</td>\n",
              "      <td>United-States</td>\n",
              "      <td>&lt;=50K</td>\n",
              "    </tr>\n",
              "    <tr>\n",
              "      <th>2</th>\n",
              "      <td>38</td>\n",
              "      <td>Private</td>\n",
              "      <td>215646</td>\n",
              "      <td>HS-grad</td>\n",
              "      <td>9</td>\n",
              "      <td>Divorced</td>\n",
              "      <td>Handlers-cleaners</td>\n",
              "      <td>Not-in-family</td>\n",
              "      <td>White</td>\n",
              "      <td>Male</td>\n",
              "      <td>0</td>\n",
              "      <td>0</td>\n",
              "      <td>40</td>\n",
              "      <td>United-States</td>\n",
              "      <td>&lt;=50K</td>\n",
              "    </tr>\n",
              "    <tr>\n",
              "      <th>3</th>\n",
              "      <td>53</td>\n",
              "      <td>Private</td>\n",
              "      <td>234721</td>\n",
              "      <td>11th</td>\n",
              "      <td>7</td>\n",
              "      <td>Married-civ-spouse</td>\n",
              "      <td>Handlers-cleaners</td>\n",
              "      <td>Husband</td>\n",
              "      <td>Black</td>\n",
              "      <td>Male</td>\n",
              "      <td>0</td>\n",
              "      <td>0</td>\n",
              "      <td>40</td>\n",
              "      <td>United-States</td>\n",
              "      <td>&lt;=50K</td>\n",
              "    </tr>\n",
              "    <tr>\n",
              "      <th>4</th>\n",
              "      <td>28</td>\n",
              "      <td>Private</td>\n",
              "      <td>338409</td>\n",
              "      <td>Bachelors</td>\n",
              "      <td>13</td>\n",
              "      <td>Married-civ-spouse</td>\n",
              "      <td>Prof-specialty</td>\n",
              "      <td>Wife</td>\n",
              "      <td>Black</td>\n",
              "      <td>Female</td>\n",
              "      <td>0</td>\n",
              "      <td>0</td>\n",
              "      <td>40</td>\n",
              "      <td>Cuba</td>\n",
              "      <td>&lt;=50K</td>\n",
              "    </tr>\n",
              "  </tbody>\n",
              "</table>\n",
              "</div>\n",
              "    <div class=\"colab-df-buttons\">\n",
              "\n",
              "  <div class=\"colab-df-container\">\n",
              "    <button class=\"colab-df-convert\" onclick=\"convertToInteractive('df-9686c7a8-ba3c-45ce-b541-1d1d401f875b')\"\n",
              "            title=\"Convert this dataframe to an interactive table.\"\n",
              "            style=\"display:none;\">\n",
              "\n",
              "  <svg xmlns=\"http://www.w3.org/2000/svg\" height=\"24px\" viewBox=\"0 -960 960 960\">\n",
              "    <path d=\"M120-120v-720h720v720H120Zm60-500h600v-160H180v160Zm220 220h160v-160H400v160Zm0 220h160v-160H400v160ZM180-400h160v-160H180v160Zm440 0h160v-160H620v160ZM180-180h160v-160H180v160Zm440 0h160v-160H620v160Z\"/>\n",
              "  </svg>\n",
              "    </button>\n",
              "\n",
              "  <style>\n",
              "    .colab-df-container {\n",
              "      display:flex;\n",
              "      gap: 12px;\n",
              "    }\n",
              "\n",
              "    .colab-df-convert {\n",
              "      background-color: #E8F0FE;\n",
              "      border: none;\n",
              "      border-radius: 50%;\n",
              "      cursor: pointer;\n",
              "      display: none;\n",
              "      fill: #1967D2;\n",
              "      height: 32px;\n",
              "      padding: 0 0 0 0;\n",
              "      width: 32px;\n",
              "    }\n",
              "\n",
              "    .colab-df-convert:hover {\n",
              "      background-color: #E2EBFA;\n",
              "      box-shadow: 0px 1px 2px rgba(60, 64, 67, 0.3), 0px 1px 3px 1px rgba(60, 64, 67, 0.15);\n",
              "      fill: #174EA6;\n",
              "    }\n",
              "\n",
              "    .colab-df-buttons div {\n",
              "      margin-bottom: 4px;\n",
              "    }\n",
              "\n",
              "    [theme=dark] .colab-df-convert {\n",
              "      background-color: #3B4455;\n",
              "      fill: #D2E3FC;\n",
              "    }\n",
              "\n",
              "    [theme=dark] .colab-df-convert:hover {\n",
              "      background-color: #434B5C;\n",
              "      box-shadow: 0px 1px 3px 1px rgba(0, 0, 0, 0.15);\n",
              "      filter: drop-shadow(0px 1px 2px rgba(0, 0, 0, 0.3));\n",
              "      fill: #FFFFFF;\n",
              "    }\n",
              "  </style>\n",
              "\n",
              "    <script>\n",
              "      const buttonEl =\n",
              "        document.querySelector('#df-9686c7a8-ba3c-45ce-b541-1d1d401f875b button.colab-df-convert');\n",
              "      buttonEl.style.display =\n",
              "        google.colab.kernel.accessAllowed ? 'block' : 'none';\n",
              "\n",
              "      async function convertToInteractive(key) {\n",
              "        const element = document.querySelector('#df-9686c7a8-ba3c-45ce-b541-1d1d401f875b');\n",
              "        const dataTable =\n",
              "          await google.colab.kernel.invokeFunction('convertToInteractive',\n",
              "                                                    [key], {});\n",
              "        if (!dataTable) return;\n",
              "\n",
              "        const docLinkHtml = 'Like what you see? Visit the ' +\n",
              "          '<a target=\"_blank\" href=https://colab.research.google.com/notebooks/data_table.ipynb>data table notebook</a>'\n",
              "          + ' to learn more about interactive tables.';\n",
              "        element.innerHTML = '';\n",
              "        dataTable['output_type'] = 'display_data';\n",
              "        await google.colab.output.renderOutput(dataTable, element);\n",
              "        const docLink = document.createElement('div');\n",
              "        docLink.innerHTML = docLinkHtml;\n",
              "        element.appendChild(docLink);\n",
              "      }\n",
              "    </script>\n",
              "  </div>\n",
              "\n",
              "\n",
              "<div id=\"df-0c77a4dc-08d5-471d-be5e-42e36b6499d0\">\n",
              "  <button class=\"colab-df-quickchart\" onclick=\"quickchart('df-0c77a4dc-08d5-471d-be5e-42e36b6499d0')\"\n",
              "            title=\"Suggest charts.\"\n",
              "            style=\"display:none;\">\n",
              "\n",
              "<svg xmlns=\"http://www.w3.org/2000/svg\" height=\"24px\"viewBox=\"0 0 24 24\"\n",
              "     width=\"24px\">\n",
              "    <g>\n",
              "        <path d=\"M19 3H5c-1.1 0-2 .9-2 2v14c0 1.1.9 2 2 2h14c1.1 0 2-.9 2-2V5c0-1.1-.9-2-2-2zM9 17H7v-7h2v7zm4 0h-2V7h2v10zm4 0h-2v-4h2v4z\"/>\n",
              "    </g>\n",
              "</svg>\n",
              "  </button>\n",
              "\n",
              "<style>\n",
              "  .colab-df-quickchart {\n",
              "      --bg-color: #E8F0FE;\n",
              "      --fill-color: #1967D2;\n",
              "      --hover-bg-color: #E2EBFA;\n",
              "      --hover-fill-color: #174EA6;\n",
              "      --disabled-fill-color: #AAA;\n",
              "      --disabled-bg-color: #DDD;\n",
              "  }\n",
              "\n",
              "  [theme=dark] .colab-df-quickchart {\n",
              "      --bg-color: #3B4455;\n",
              "      --fill-color: #D2E3FC;\n",
              "      --hover-bg-color: #434B5C;\n",
              "      --hover-fill-color: #FFFFFF;\n",
              "      --disabled-bg-color: #3B4455;\n",
              "      --disabled-fill-color: #666;\n",
              "  }\n",
              "\n",
              "  .colab-df-quickchart {\n",
              "    background-color: var(--bg-color);\n",
              "    border: none;\n",
              "    border-radius: 50%;\n",
              "    cursor: pointer;\n",
              "    display: none;\n",
              "    fill: var(--fill-color);\n",
              "    height: 32px;\n",
              "    padding: 0;\n",
              "    width: 32px;\n",
              "  }\n",
              "\n",
              "  .colab-df-quickchart:hover {\n",
              "    background-color: var(--hover-bg-color);\n",
              "    box-shadow: 0 1px 2px rgba(60, 64, 67, 0.3), 0 1px 3px 1px rgba(60, 64, 67, 0.15);\n",
              "    fill: var(--button-hover-fill-color);\n",
              "  }\n",
              "\n",
              "  .colab-df-quickchart-complete:disabled,\n",
              "  .colab-df-quickchart-complete:disabled:hover {\n",
              "    background-color: var(--disabled-bg-color);\n",
              "    fill: var(--disabled-fill-color);\n",
              "    box-shadow: none;\n",
              "  }\n",
              "\n",
              "  .colab-df-spinner {\n",
              "    border: 2px solid var(--fill-color);\n",
              "    border-color: transparent;\n",
              "    border-bottom-color: var(--fill-color);\n",
              "    animation:\n",
              "      spin 1s steps(1) infinite;\n",
              "  }\n",
              "\n",
              "  @keyframes spin {\n",
              "    0% {\n",
              "      border-color: transparent;\n",
              "      border-bottom-color: var(--fill-color);\n",
              "      border-left-color: var(--fill-color);\n",
              "    }\n",
              "    20% {\n",
              "      border-color: transparent;\n",
              "      border-left-color: var(--fill-color);\n",
              "      border-top-color: var(--fill-color);\n",
              "    }\n",
              "    30% {\n",
              "      border-color: transparent;\n",
              "      border-left-color: var(--fill-color);\n",
              "      border-top-color: var(--fill-color);\n",
              "      border-right-color: var(--fill-color);\n",
              "    }\n",
              "    40% {\n",
              "      border-color: transparent;\n",
              "      border-right-color: var(--fill-color);\n",
              "      border-top-color: var(--fill-color);\n",
              "    }\n",
              "    60% {\n",
              "      border-color: transparent;\n",
              "      border-right-color: var(--fill-color);\n",
              "    }\n",
              "    80% {\n",
              "      border-color: transparent;\n",
              "      border-right-color: var(--fill-color);\n",
              "      border-bottom-color: var(--fill-color);\n",
              "    }\n",
              "    90% {\n",
              "      border-color: transparent;\n",
              "      border-bottom-color: var(--fill-color);\n",
              "    }\n",
              "  }\n",
              "</style>\n",
              "\n",
              "  <script>\n",
              "    async function quickchart(key) {\n",
              "      const quickchartButtonEl =\n",
              "        document.querySelector('#' + key + ' button');\n",
              "      quickchartButtonEl.disabled = true;  // To prevent multiple clicks.\n",
              "      quickchartButtonEl.classList.add('colab-df-spinner');\n",
              "      try {\n",
              "        const charts = await google.colab.kernel.invokeFunction(\n",
              "            'suggestCharts', [key], {});\n",
              "      } catch (error) {\n",
              "        console.error('Error during call to suggestCharts:', error);\n",
              "      }\n",
              "      quickchartButtonEl.classList.remove('colab-df-spinner');\n",
              "      quickchartButtonEl.classList.add('colab-df-quickchart-complete');\n",
              "    }\n",
              "    (() => {\n",
              "      let quickchartButtonEl =\n",
              "        document.querySelector('#df-0c77a4dc-08d5-471d-be5e-42e36b6499d0 button');\n",
              "      quickchartButtonEl.style.display =\n",
              "        google.colab.kernel.accessAllowed ? 'block' : 'none';\n",
              "    })();\n",
              "  </script>\n",
              "</div>\n",
              "    </div>\n",
              "  </div>\n"
            ]
          },
          "metadata": {},
          "execution_count": 2
        }
      ],
      "source": [
        "columns='age,workclass,fnlwgt,education,education.num,marital.status,occupation,relationship,race,sex,capital.gain,capital.loss,hours.per.week,native.country,income'.split(',')\n",
        "# df = pd.read_csv('../../data/adult.csv.gz', na_values='?') # можно загрузить из файла или URL\n",
        "df = pd.read_csv('https://archive.ics.uci.edu/ml/machine-learning-databases/adult/adult.data', na_values='?', names=columns)\n",
        "df.head()"
      ]
    },
    {
      "cell_type": "markdown",
      "metadata": {
        "id": "PRy1eD2SHv7x"
      },
      "source": [
        "1) Выведите последние 10 элеметнов датасета"
      ]
    },
    {
      "cell_type": "code",
      "execution_count": 4,
      "metadata": {
        "colab": {
          "base_uri": "https://localhost:8080/"
        },
        "id": "AenWfF7IHv7x",
        "outputId": "9731c9cc-95f0-46ac-9683-332e9d041613"
      },
      "outputs": [
        {
          "output_type": "stream",
          "name": "stdout",
          "text": [
            "       age      workclass  fnlwgt      education  education.num  \\\n",
            "32551   32        Private   34066           10th              6   \n",
            "32552   43        Private   84661      Assoc-voc             11   \n",
            "32553   32        Private  116138        Masters             14   \n",
            "32554   53        Private  321865        Masters             14   \n",
            "32555   22        Private  310152   Some-college             10   \n",
            "32556   27        Private  257302     Assoc-acdm             12   \n",
            "32557   40        Private  154374        HS-grad              9   \n",
            "32558   58        Private  151910        HS-grad              9   \n",
            "32559   22        Private  201490        HS-grad              9   \n",
            "32560   52   Self-emp-inc  287927        HS-grad              9   \n",
            "\n",
            "            marital.status          occupation    relationship  \\\n",
            "32551   Married-civ-spouse   Handlers-cleaners         Husband   \n",
            "32552   Married-civ-spouse               Sales         Husband   \n",
            "32553        Never-married        Tech-support   Not-in-family   \n",
            "32554   Married-civ-spouse     Exec-managerial         Husband   \n",
            "32555        Never-married     Protective-serv   Not-in-family   \n",
            "32556   Married-civ-spouse        Tech-support            Wife   \n",
            "32557   Married-civ-spouse   Machine-op-inspct         Husband   \n",
            "32558              Widowed        Adm-clerical       Unmarried   \n",
            "32559        Never-married        Adm-clerical       Own-child   \n",
            "32560   Married-civ-spouse     Exec-managerial            Wife   \n",
            "\n",
            "                      race      sex  capital.gain  capital.loss  \\\n",
            "32551   Amer-Indian-Eskimo     Male             0             0   \n",
            "32552                White     Male             0             0   \n",
            "32553   Asian-Pac-Islander     Male             0             0   \n",
            "32554                White     Male             0             0   \n",
            "32555                White     Male             0             0   \n",
            "32556                White   Female             0             0   \n",
            "32557                White     Male             0             0   \n",
            "32558                White   Female             0             0   \n",
            "32559                White     Male             0             0   \n",
            "32560                White   Female         15024             0   \n",
            "\n",
            "       hours.per.week  native.country  income  \n",
            "32551              40   United-States   <=50K  \n",
            "32552              45   United-States   <=50K  \n",
            "32553              11          Taiwan   <=50K  \n",
            "32554              40   United-States    >50K  \n",
            "32555              40   United-States   <=50K  \n",
            "32556              38   United-States   <=50K  \n",
            "32557              40   United-States    >50K  \n",
            "32558              40   United-States   <=50K  \n",
            "32559              20   United-States   <=50K  \n",
            "32560              40   United-States    >50K  \n"
          ]
        }
      ],
      "source": [
        "elements = df.tail(10)\n",
        "print(elements)"
      ]
    },
    {
      "cell_type": "markdown",
      "metadata": {
        "id": "oG6HR7lrHv7y"
      },
      "source": [
        "2) Сколько колонок и сколько строк в этом датасете?"
      ]
    },
    {
      "cell_type": "code",
      "execution_count": 8,
      "metadata": {
        "colab": {
          "base_uri": "https://localhost:8080/"
        },
        "id": "_7wObh7CHv7y",
        "outputId": "a5700a75-d807-48d9-db18-72bb6e528a38"
      },
      "outputs": [
        {
          "output_type": "stream",
          "name": "stdout",
          "text": [
            "Количество строк: 32561\n",
            "Количество столбцов: 15\n"
          ]
        }
      ],
      "source": [
        "shape = df.shape\n",
        "num_rows, num_columns = shape\n",
        "print(f\"Количество строк: {num_rows}\")\n",
        "print(f\"Количество столбцов: {num_columns}\")"
      ]
    },
    {
      "cell_type": "markdown",
      "metadata": {
        "id": "MgyW6g9JHv7z"
      },
      "source": [
        "3) Какие типы данных у элементов этого датасета?"
      ]
    },
    {
      "cell_type": "code",
      "execution_count": 9,
      "metadata": {
        "colab": {
          "base_uri": "https://localhost:8080/"
        },
        "id": "FMaQ__sSHv7z",
        "outputId": "4b531641-0bf7-4781-f7f7-4df099c772cc"
      },
      "outputs": [
        {
          "output_type": "stream",
          "name": "stdout",
          "text": [
            "age                int64\n",
            "workclass         object\n",
            "fnlwgt             int64\n",
            "education         object\n",
            "education.num      int64\n",
            "marital.status    object\n",
            "occupation        object\n",
            "relationship      object\n",
            "race              object\n",
            "sex               object\n",
            "capital.gain       int64\n",
            "capital.loss       int64\n",
            "hours.per.week     int64\n",
            "native.country    object\n",
            "income            object\n",
            "dtype: object\n"
          ]
        }
      ],
      "source": [
        "data_types = df.dtypes\n",
        "print(data_types)"
      ]
    },
    {
      "cell_type": "markdown",
      "metadata": {
        "id": "5lvhBBnkHv7z"
      },
      "source": [
        "4) Какие признаки имеют пропуски?"
      ]
    },
    {
      "cell_type": "code",
      "execution_count": 11,
      "metadata": {
        "colab": {
          "base_uri": "https://localhost:8080/"
        },
        "id": "kE4yJ7HmHv7z",
        "outputId": "6a60961d-1265-48d0-ac4d-57ca5908385c"
      },
      "outputs": [
        {
          "output_type": "stream",
          "name": "stdout",
          "text": [
            "<class 'pandas.core.frame.DataFrame'>\n",
            "RangeIndex: 32561 entries, 0 to 32560\n",
            "Data columns (total 15 columns):\n",
            " #   Column          Non-Null Count  Dtype \n",
            "---  ------          --------------  ----- \n",
            " 0   age             32561 non-null  int64 \n",
            " 1   workclass       32561 non-null  object\n",
            " 2   fnlwgt          32561 non-null  int64 \n",
            " 3   education       32561 non-null  object\n",
            " 4   education.num   32561 non-null  int64 \n",
            " 5   marital.status  32561 non-null  object\n",
            " 6   occupation      32561 non-null  object\n",
            " 7   relationship    32561 non-null  object\n",
            " 8   race            32561 non-null  object\n",
            " 9   sex             32561 non-null  object\n",
            " 10  capital.gain    32561 non-null  int64 \n",
            " 11  capital.loss    32561 non-null  int64 \n",
            " 12  hours.per.week  32561 non-null  int64 \n",
            " 13  native.country  32561 non-null  object\n",
            " 14  income          32561 non-null  object\n",
            "dtypes: int64(6), object(9)\n",
            "memory usage: 3.7+ MB\n"
          ]
        }
      ],
      "source": [
        "df.info() #Пропусков нет, но, при дальнейшем анализе датасета были обнаружены\n",
        "          # символы \"?\" во многих признаках, поэтому далее подсчитываю количество этих\n",
        "          # символов в каждом признаке датасета"
      ]
    },
    {
      "cell_type": "code",
      "source": [
        "question_marks_count = (df == ' ?').sum()\n",
        "\n",
        "# Выводим количество символов \" ?\" в каждом признаке\n",
        "print(\"Количество символов ' ?' в каждом признаке:\")\n",
        "print(question_marks_count)"
      ],
      "metadata": {
        "colab": {
          "base_uri": "https://localhost:8080/"
        },
        "id": "Xa8jP9paLrJ_",
        "outputId": "3478aec4-cba5-43f4-954f-9d02b729cb30"
      },
      "execution_count": 16,
      "outputs": [
        {
          "output_type": "stream",
          "name": "stdout",
          "text": [
            "Количество символов ' ?' в каждом признаке:\n",
            "age                  0\n",
            "workclass         1836\n",
            "fnlwgt               0\n",
            "education            0\n",
            "education.num        0\n",
            "marital.status       0\n",
            "occupation        1843\n",
            "relationship         0\n",
            "race                 0\n",
            "sex                  0\n",
            "capital.gain         0\n",
            "capital.loss         0\n",
            "hours.per.week       0\n",
            "native.country     583\n",
            "income               0\n",
            "dtype: int64\n"
          ]
        }
      ]
    },
    {
      "cell_type": "markdown",
      "metadata": {
        "id": "IzuyXtCOHv7z"
      },
      "source": [
        "5) Как вы думаете, с чем связаны пропуски этих значение. Напишите развернутый ответ в ячейке ниже."
      ]
    },
    {
      "cell_type": "markdown",
      "metadata": {
        "id": "w7W8og7wHv70"
      },
      "source": [
        "Ваш ответ:\n",
        "Причин может быть несколько. Возможно, информация о каком-либо человеке была не учтена или неккоректно собрана, либо человек сам не указал ту или иную информацию о себе. Также могли возникнуть трудности при обработке данных, в следствие которых данные могли быть утеряны."
      ]
    },
    {
      "cell_type": "markdown",
      "metadata": {
        "id": "pVHXCGRtHv70"
      },
      "source": [
        "6) Какие и сколько различных рабочих классов workclass представлено в выборке?"
      ]
    },
    {
      "cell_type": "code",
      "execution_count": 12,
      "metadata": {
        "colab": {
          "base_uri": "https://localhost:8080/"
        },
        "id": "pKFGPs3ZHv70",
        "outputId": "43a78823-222a-46fd-fbc6-a13bff06bc01"
      },
      "outputs": [
        {
          "output_type": "stream",
          "name": "stdout",
          "text": [
            "Различные рабочие классы и их количество:\n",
            " Private             22696\n",
            " Self-emp-not-inc     2541\n",
            " Local-gov            2093\n",
            " ?                    1836\n",
            " State-gov            1298\n",
            " Self-emp-inc         1116\n",
            " Federal-gov           960\n",
            " Without-pay            14\n",
            " Never-worked            7\n",
            "Name: workclass, dtype: int64\n"
          ]
        }
      ],
      "source": [
        "workclass_counts = df['workclass'].value_counts()\n",
        "print(\"Различные рабочие классы и их количество:\")\n",
        "print(workclass_counts)"
      ]
    },
    {
      "cell_type": "markdown",
      "metadata": {
        "id": "8o8Dcu81Hv70"
      },
      "source": [
        "7) Какой средний возраст женщин и мужчин?"
      ]
    },
    {
      "cell_type": "code",
      "execution_count": 18,
      "metadata": {
        "colab": {
          "base_uri": "https://localhost:8080/"
        },
        "id": "rt-j55GzHv70",
        "outputId": "a786bb04-b8da-4d2e-c5d3-0658ab2721a7"
      },
      "outputs": [
        {
          "output_type": "stream",
          "name": "stdout",
          "text": [
            "Средний возраст женщин: 36.86\n",
            "Средний возраст мужчин: 39.43\n"
          ]
        }
      ],
      "source": [
        "average_age_women = round(df[df['sex'] == ' Female']['age'].mean(), 2)\n",
        "average_age_men = round(df[df['sex'] == ' Male']['age'].mean(), 2)\n",
        "print(\"Средний возраст женщин:\", average_age_women)\n",
        "print(\"Средний возраст мужчин:\", average_age_men)"
      ]
    },
    {
      "cell_type": "markdown",
      "metadata": {
        "id": "iK2XvJd6Hv70"
      },
      "source": [
        "8) Постройте гистограмму(bar) распределения образования людей (education)"
      ]
    },
    {
      "cell_type": "code",
      "execution_count": 21,
      "metadata": {
        "colab": {
          "base_uri": "https://localhost:8080/",
          "height": 607
        },
        "id": "hAUcV1-SHv71",
        "outputId": "e05c15e1-0981-4005-891f-4c74e638fa57"
      },
      "outputs": [
        {
          "output_type": "display_data",
          "data": {
            "text/plain": [
              "<Figure size 1000x600 with 1 Axes>"
            ],
            "image/png": "[encoded data removed]"
          },
          "metadata": {}
        }
      ],
      "source": [
        "import matplotlib.pyplot as plt\n",
        "education_counts = df['education'].value_counts()\n",
        "education_counts.plot(kind='bar', figsize=(10, 6))\n",
        "plt.xlabel('Образование')\n",
        "plt.ylabel('Количество людей')\n",
        "plt.title('Образование людей')\n",
        "plt.xticks(rotation=45, ha='right') # Поворот названий\n",
        "plt.tight_layout()\n",
        "plt.show()"
      ]
    },
    {
      "cell_type": "markdown",
      "metadata": {
        "id": "zKxuyjksHv71"
      },
      "source": [
        "9) Каковы средние значения и среднеквадратичные отклонения возраста тех, кто получает более 50K в год (признак salary) и тех, кто получает менее 50K в год?"
      ]
    },
    {
      "cell_type": "code",
      "execution_count": 23,
      "metadata": {
        "colab": {
          "base_uri": "https://localhost:8080/"
        },
        "id": "5FUadll9Hv71",
        "outputId": "67c588eb-5ceb-46f8-d3e7-3fe146493851"
      },
      "outputs": [
        {
          "output_type": "stream",
          "name": "stdout",
          "text": [
            "Средний возраст для тех, кто получает более 50K: 44.24984058155847\n",
            "Среднеквадратичное отклонение возраста для тех, кто получает более 50K: 10.519027719851826\n",
            "Средний возраст для тех, кто получает менее 50K: 36.78373786407767\n",
            "Среднеквадратичное отклонение возраста для тех, кто получает менее 50K: 14.02008849082488\n"
          ]
        }
      ],
      "source": [
        "average_age_high_income = df[df['income'] == ' >50K']['age'].mean()\n",
        "std_age_high_income = df[df['income'] == ' >50K']['age'].std()\n",
        "average_age_low_income = df[df['income'] == ' <=50K']['age'].mean()\n",
        "std_age_low_income = df[df['income'] == ' <=50K']['age'].std()\n",
        "print(\"Средний возраст для тех, кто получает более 50K:\", average_age_high_income)\n",
        "print(\"Среднеквадратичное отклонение возраста для тех, кто получает более 50K:\", std_age_high_income)\n",
        "print(\"Средний возраст для тех, кто получает менее 50K:\", average_age_low_income)\n",
        "print(\"Среднеквадратичное отклонение возраста для тех, кто получает менее 50K:\", std_age_low_income)"
      ]
    },
    {
      "cell_type": "markdown",
      "metadata": {
        "id": "NRZwyMI6Hv71"
      },
      "source": [
        "10) Правда ли, что люди, которые получают больше 50k, имеют как минимум высшее образование? (признак education - Bachelors, Prof-school, Assoc-acdm, Assoc-voc, Masters или Doctorate)"
      ]
    },
    {
      "cell_type": "code",
      "execution_count": 32,
      "metadata": {
        "colab": {
          "base_uri": "https://localhost:8080/"
        },
        "id": "kNI3mlFJHv71",
        "outputId": "c7450eb3-7b84-4e77-846f-8d159d275fb7"
      },
      "outputs": [
        {
          "output_type": "stream",
          "name": "stdout",
          "text": [
            "has_higher_education  False  True \n",
            "income                            \n",
            " <=50K                18739   5981\n",
            " >50K                  3306   4535\n",
            "Все люди с доходом >50K имеют высшее образование.\n"
          ]
        }
      ],
      "source": [
        "# Список образований (высших)\n",
        "higher_education = [' Bachelors', ' Prof-school', ' Assoc-acdm', ' Assoc-voc', ' Masters', ' Doctorate']\n",
        "\n",
        "# Проверка, имеют ли люди высшее образование\n",
        "def has_higher_education(row):\n",
        "    return row['education'] in higher_education # row - обращение к столбцу с образованиями\n",
        "\n",
        "# Создание столбца \"has_higher_education\"\n",
        "df['has_higher_education'] = df.apply(has_higher_education, axis=1)\n",
        "\n",
        "grouped_data = df.groupby(['income', 'has_higher_education']).size().unstack()\n",
        "print(grouped_data)\n",
        "if '>50K' in grouped_data.index and False in grouped_data.columns:\n",
        "    count = grouped_data.loc['>50K', False]\n",
        "    print(f\"Есть {count} человек(а) с доходом >50K, но без высшего образования.\")\n",
        "else:\n",
        "    print(\"Все люди с доходом >50K имеют высшее образование.\")"
      ]
    },
    {
      "cell_type": "markdown",
      "metadata": {
        "id": "p0Aj3c7OHv71"
      },
      "source": [
        "11) Среди кого больше доля зарабатывающих много (>50K): среди женатых или холостых мужчин (признак marital-status)? Женатыми считаем тех, у кого marital-status начинается с Married (Married-civ-spouse, Married-spouse-absent или Married-AF-spouse), остальных считаем холостыми."
      ]
    },
    {
      "cell_type": "code",
      "source": [
        "result = df[df['sex'] == ' Male'].groupby(['marital.status', 'income'])['income'].count() / df[df['sex'] == ' Male'].groupby(['marital.status'])['income'].count()\n",
        "print(\"Доля женатых мужчин с доходом >50K:\")\n",
        "print(result.loc[' Married-civ-spouse'][' >50K'] + result.loc[' Married-spouse-absent'][' >50K'] + result.loc[' Married-AF-spouse'][' >50K'])\n",
        "print(\"Доля холостых мужчин с доходом >50K:\")\n",
        "print(result.loc[' Never-married'][' >50K'])\n",
        "if (result.loc[' Married-civ-spouse'][' >50K'] + result.loc[' Married-spouse-absent'][' >50K'] + result.loc[' Married-AF-spouse'][' >50K']) > result.loc[' Never-married'][' >50K']:\n",
        "    print(\"Среди женатых мужчин больше доля людей с доходом >50K.\")\n",
        "elif (result.loc[' Married-civ-spouse'][' >50K'] + result.loc[' Married-spouse-absent'][' >50K'] + result.loc[' Married-AF-spouse'][' >50K']) < result.loc[' Never-married'][' >50K']:\n",
        "    print(\"Среди холостых мужчин больше доля людей с доходом >50K.\")\n",
        "else:\n",
        "    print(\"Доли одинаковы среди женатых и холостых мужчин.\")"
      ],
      "metadata": {
        "colab": {
          "base_uri": "https://localhost:8080/"
        },
        "id": "pIkIi_dbQVHm",
        "outputId": "b87f4c7c-f44d-4b34-b7d2-538b0eba1eac"
      },
      "execution_count": 52,
      "outputs": [
        {
          "output_type": "stream",
          "name": "stdout",
          "text": [
            "Доля женатых мужчин с доходом >50K:\n",
            "0.9982549315631675\n",
            "Доля холостых мужчин с доходом >50K:\n",
            "0.054935767410412444\n",
            "Среди женатых мужчин больше доля людей с доходом >50K.\n"
          ]
        }
      ]
    },
    {
      "cell_type": "markdown",
      "metadata": {
        "id": "2nuFOAaVHv72"
      },
      "source": [
        "12) Посчитайте среднее время работы (hours-per-week) зарабатывающих мало и много (salary) для каждой страны (native-country)."
      ]
    },
    {
      "cell_type": "code",
      "execution_count": 54,
      "metadata": {
        "colab": {
          "base_uri": "https://localhost:8080/"
        },
        "id": "fSgeiUMrHv72",
        "outputId": "8c532ce2-6d5f-4f28-cbf4-a1912fe86bbc"
      },
      "outputs": [
        {
          "output_type": "stream",
          "name": "stdout",
          "text": [
            "income                           <=50K       >50K\n",
            "native.country                                   \n",
            " ?                           40.164760  45.547945\n",
            " Cambodia                    41.416667  40.000000\n",
            " Canada                      37.914634  45.641026\n",
            " China                       37.381818  38.900000\n",
            " Columbia                    38.684211  50.000000\n",
            " Cuba                        37.985714  42.440000\n",
            " Dominican-Republic          42.338235  47.000000\n",
            " Ecuador                     38.041667  48.750000\n",
            " El-Salvador                 36.030928  45.000000\n",
            " England                     40.483333  44.533333\n",
            " France                      41.058824  50.750000\n",
            " Germany                     39.139785  44.977273\n",
            " Greece                      41.809524  50.625000\n",
            " Guatemala                   39.360656  36.666667\n",
            " Haiti                       36.325000  42.750000\n",
            " Holand-Netherlands          40.000000        NaN\n",
            " Honduras                    34.333333  60.000000\n",
            " Hong                        39.142857  45.000000\n",
            " Hungary                     31.300000  50.000000\n",
            " India                       38.233333  46.475000\n",
            " Iran                        41.440000  47.500000\n",
            " Ireland                     40.947368  48.000000\n",
            " Italy                       39.625000  45.400000\n",
            " Jamaica                     38.239437  41.100000\n",
            " Japan                       41.000000  47.958333\n",
            " Laos                        40.375000  40.000000\n",
            " Mexico                      40.003279  46.575758\n",
            " Nicaragua                   36.093750  37.500000\n",
            " Outlying-US(Guam-USVI-etc)  41.857143        NaN\n",
            " Peru                        35.068966  40.000000\n",
            " Philippines                 38.065693  43.032787\n",
            " Poland                      38.166667  39.000000\n",
            " Portugal                    41.939394  41.500000\n",
            " Puerto-Rico                 38.470588  39.416667\n",
            " Scotland                    39.444444  46.666667\n",
            " South                       40.156250  51.437500\n",
            " Taiwan                      33.774194  46.800000\n",
            " Thailand                    42.866667  58.333333\n",
            " Trinadad&Tobago             37.058824  40.000000\n",
            " United-States               38.799127  45.505369\n",
            " Vietnam                     37.193548  39.200000\n",
            " Yugoslavia                  41.600000  49.500000\n"
          ]
        }
      ],
      "source": [
        "result = df.groupby(['native.country', 'income'])['hours.per.week'].mean().unstack()\n",
        "print(result)"
      ]
    },
    {
      "cell_type": "markdown",
      "metadata": {
        "id": "koUgul37Hv72"
      },
      "source": [
        "13) Постройте сводную таблицу для сравнения уровня образования и разницы между capital.gain и capital.loss (то есть пассивный доход). Сделайте так, чтобы capital.gain - capital.loss создали не больше 10 разных уникальных значений. То есть, gain и loss - это числа в каком-то диапазоне. Это количественные признаки из вещественных чисел. С помощью математических функций, типа log, извлечение корня N-ой степени и округления можно перейти к категориальным признакам."
      ]
    },
    {
      "cell_type": "code",
      "execution_count": 62,
      "metadata": {
        "colab": {
          "base_uri": "https://localhost:8080/"
        },
        "id": "rQaiTauzHv72",
        "outputId": "6ff0e5d6-319f-4de9-ea39-4f9ba99bc8ed"
      },
      "outputs": [
        {
          "output_type": "stream",
          "name": "stdout",
          "text": [
            "education      10th   11th   12th   1st-4th   5th-6th   7th-8th   9th  \\\n",
            "capital.diff                                                            \n",
            "-1977             2      0      0         0         0         1     0   \n",
            "-1902             0      2      0         0         1         2     0   \n",
            "-1887             4      1      0         0         1         1     0   \n",
            " 0              865   1089    403       159       308       582   474   \n",
            " 3103             1      1      1         0         0         0     0   \n",
            " 5178             1      4      0         0         1         0     2   \n",
            " 7298             0      1      1         0         3         1     0   \n",
            " 7688             1      5      3         1         0         2     0   \n",
            " 15024            0      0      2         0         0         0     0   \n",
            " 99999            2      0      0         0         0         0     1   \n",
            "\n",
            "education      Assoc-acdm   Assoc-voc   Bachelors   Doctorate   HS-grad  \\\n",
            "capital.diff                                                              \n",
            "-1977                   2           6          48          12        17   \n",
            "-1902                   6           4          63          18        42   \n",
            "-1887                   8           8          40           5        42   \n",
            " 0                    930        1194        4384         284      9415   \n",
            " 3103                   3           8          25           1        27   \n",
            " 5178                   5           5          22           1        33   \n",
            " 7298                   4          17          67           3        60   \n",
            " 7688                  11          13          96          10        46   \n",
            " 15024                 10          12         119          18        36   \n",
            " 99999                  1           1          41          12        23   \n",
            "\n",
            "education      Masters   Preschool   Prof-school   Some-college  \n",
            "capital.diff                                                     \n",
            "-1977               47           0            20             13  \n",
            "-1902               29           0             8             27  \n",
            "-1887               13           0             3             33  \n",
            " 0                1300          47           363           6533  \n",
            " 3103                7           0             1             22  \n",
            " 5178                4           0             3             16  \n",
            " 7298               28           0             1             60  \n",
            " 7688               38           0             9             49  \n",
            " 15024              61           0            50             39  \n",
            " 99999              18           0            46             14  \n"
          ]
        }
      ],
      "source": [
        "df['capital.diff'] = df['capital.gain'] - df['capital.loss']\n",
        "pivot_table = df.pivot_table(index='capital.diff', aggfunc='size')\n",
        "\n",
        "# 10 наиболее часто встречающихся разниц\n",
        "top_10_diff = pivot_table.nlargest(10).index.tolist()\n",
        "\n",
        "# Строки с разницами\n",
        "df_filtered = df[df['capital.diff'].isin(top_10_diff)]\n",
        "\n",
        "pivot_table = df_filtered.pivot_table(index='capital.diff', columns='education', aggfunc='size', fill_value=0)\n",
        "print(pivot_table)"
      ]
    },
    {
      "cell_type": "markdown",
      "metadata": {
        "id": "BwECyYAZHv72"
      },
      "source": [
        "14) Женщины из каких стран получают в среднем большую зарплату (>50K) чаще."
      ]
    },
    {
      "cell_type": "code",
      "execution_count": 65,
      "metadata": {
        "colab": {
          "base_uri": "https://localhost:8080/"
        },
        "id": "usrFvp4THv72",
        "outputId": "830c6096-60ac-4362-ecb2-db3b58afbeec"
      },
      "outputs": [
        {
          "output_type": "stream",
          "name": "stdout",
          "text": [
            "Страна, из которой женщины получают в среднем больше дохода (>50K):  United-States\n"
          ]
        }
      ],
      "source": [
        "women_high_income = df[(df['sex'] == ' Female') & (df['income'] == ' >50K')]\n",
        "country_counts = women_high_income['native.country'].value_counts()\n",
        "top_country = country_counts.idxmax()\n",
        "print(f\"Страна, из которой женщины получают в среднем больше дохода (>50K): {top_country}\")"
      ]
    },
    {
      "cell_type": "markdown",
      "metadata": {
        "id": "bZ79MX-FHv72"
      },
      "source": [
        "15) Создайте случайную колонку - magic_salary, которую нужно будет вычислить следующим образом: если зарплата небольшая (<50K), тогда случайно выберите число из диапазона [0,50]. Если зарплата выше 50K тогда из диапазона [51, 200]. Посчитайте среднюю зарплату в час для групп людей с одни уровнем образования на основе нашей случайной колонки magic_salary"
      ]
    },
    {
      "cell_type": "code",
      "source": [
        "import numpy as np\n",
        "df['magic_salary'] = np.where(df['income'] == ' <=50K', np.random.randint(0, 51, len(df)), np.random.randint(51, 201, len(df)))\n",
        "education_salary_mean = df.groupby('education')['magic_salary'].mean()\n",
        "print(education_salary_mean)"
      ],
      "metadata": {
        "colab": {
          "base_uri": "https://localhost:8080/"
        },
        "id": "YTIt6AuxjiTQ",
        "outputId": "14408f9e-ecdf-43d1-91a2-0ebfc8ddb5f8"
      },
      "execution_count": 68,
      "outputs": [
        {
          "output_type": "stream",
          "name": "stdout",
          "text": [
            "education\n",
            " 10th             31.097535\n",
            " 11th             30.421277\n",
            " 12th             31.480370\n",
            " 1st-4th          27.166667\n",
            " 5th-6th          30.135135\n",
            " 7th-8th          30.476780\n",
            " 9th              29.389105\n",
            " Assoc-acdm       50.321462\n",
            " Assoc-voc        51.029667\n",
            " Bachelors        66.417554\n",
            " Doctorate       104.736077\n",
            " HS-grad          40.913913\n",
            " Masters          82.327336\n",
            " Preschool        22.921569\n",
            " Prof-school      99.076389\n",
            " Some-college     44.132081\n",
            "Name: magic_salary, dtype: float64\n"
          ]
        }
      ]
    }
  ],
  "metadata": {
    "kernelspec": {
      "display_name": "Python 3",
      "language": "python",
      "name": "python3"
    },
    "language_info": {
      "codemirror_mode": {
        "name": "ipython",
        "version": 3
      },
      "file_extension": ".py",
      "mimetype": "text/x-python",
      "name": "python",
      "nbconvert_exporter": "python",
      "pygments_lexer": "ipython3",
      "version": "3.8.0"
    },
    "colab": {
      "provenance": [],
      "include_colab_link": true
    }
  },
  "nbformat": 4,
  "nbformat_minor": 0
}