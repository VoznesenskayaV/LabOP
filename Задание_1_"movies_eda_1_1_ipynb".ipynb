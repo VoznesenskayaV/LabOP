{
  "cells": [
    {
      "cell_type": "markdown",
      "metadata": {
        "id": "view-in-github",
        "colab_type": "text"
      },
      "source": [
        "<a href=\"https://colab.research.google.com/github/VoznesenskayaV/LabOP/blob/main/%D0%97%D0%B0%D0%B4%D0%B0%D0%BD%D0%B8%D0%B5_1_%22movies_eda_1_1_ipynb%22.ipynb\" target=\"_parent\"><img src=\"https://colab.research.google.com/assets/colab-badge.svg\" alt=\"Open In Colab\"/></a>"
      ]
    },
    {
      "cell_type": "markdown",
      "source": [
        "# **Разведочный анализ по датасету IMDb Movies: 5000 фильмов с наибольшим рейтингом. Часть 1: Обзор и предобработка данных**"
      ],
      "metadata": {
        "id": "L2Epn7UHiXfS"
      }
    },
    {
      "cell_type": "markdown",
      "source": [
        "![](https://adabul.com/wp-content/uploads/2020/04/diziler-360x240.jpg)"
      ],
      "metadata": {
        "id": "uF5OyCiAZ7Bn"
      }
    },
    {
      "cell_type": "markdown",
      "source": [
        "## 1. Описание датасета и задания"
      ],
      "metadata": {
        "id": "jgCIJe8tjIvI"
      }
    },
    {
      "cell_type": "markdown",
      "source": [
        "Представлен датасет с данными о 5000 фильмах, имеющих наибольший рейтинг на сайте IMDb (датасет выложен на платформе [Kaggle](https://www.kaggle.com/datasets/totoro29/imdb-movies))."
      ],
      "metadata": {
        "id": "ODZr1pzSjUEZ"
      }
    },
    {
      "cell_type": "markdown",
      "source": [
        "***Информация, содержащаяся в датасете:***\n",
        "1.   Ссылка на постер фильма (poster).\n",
        "2.   Наименование фильма (title).\n",
        "3.   Класс фильма по рейтингу the British Board of Film Classification (BBFC) (certificate).\n",
        "4.   Продолжительность фильма (runtime).\n",
        "5.   Жанр фильма (genre).\n",
        "6.   Рейтинг фильма на платформе IMBD (rating).\n",
        "7.   Описание сюжета фильма (about).\n",
        "8.   Кинорежиссер фильма (director).\n",
        "9.   Актеры-звезды фильма (stars).\n",
        "10.  Количество проголосовавших за фильм (votes).\n",
        "11.  Доход с фильма (gross_earn).\n",
        "\n"
      ],
      "metadata": {
        "id": "wU83gIaOVmSq"
      }
    },
    {
      "cell_type": "markdown",
      "source": [
        "***Задача:***\n",
        "провести разведочный анализ данных, найти взаимосвязи и сформулировать выводы."
      ],
      "metadata": {
        "id": "peR0dY_JVeCJ"
      }
    },
    {
      "cell_type": "markdown",
      "source": [
        "**В части 1 задания необходимо:**\n",
        "1.   Выполнить обзор данных.\n",
        "2.   Оценить датасет на наличие дубликатов и при необходимости обработать их.\n",
        "3.   Оценить признаки на наличие пропусков и при необходимости обработать их.\n",
        "4.   Привести данные к необходимому для анализа типу.\n",
        "5.   Отсортировать и сохранить датасет для дальнейшего анализа.\n",
        "\n",
        "\n",
        "\n",
        "\n",
        "\n"
      ],
      "metadata": {
        "id": "Ef42FcCzkpb9"
      }
    },
    {
      "cell_type": "markdown",
      "source": [
        "## 2. Загрузка датасета"
      ],
      "metadata": {
        "id": "Tjg16j1yj7h3"
      }
    },
    {
      "cell_type": "code",
      "source": [
        "!gdown --id 1imLd48Tn7Z2iiORJp6tKWR0whfWBrP-0"
      ],
      "metadata": {
        "id": "hXVPxaqzkA1T",
        "outputId": "63659f66-d540-4b01-d0ae-a857164aa06a",
        "colab": {
          "base_uri": "https://localhost:8080/"
        }
      },
      "execution_count": null,
      "outputs": [
        {
          "output_type": "stream",
          "name": "stdout",
          "text": [
            "/usr/local/lib/python3.10/dist-packages/gdown/cli.py:121: FutureWarning: Option `--id` was deprecated in version 4.3.1 and will be removed in 5.0. You don't need to pass it anymore to use a file ID.\n",
            "  warnings.warn(\n",
            "Downloading...\n",
            "From: https://drive.google.com/uc?id=1imLd48Tn7Z2iiORJp6tKWR0whfWBrP-0\n",
            "To: /content/movies.csv\n",
            "100% 1.89M/1.89M [00:00<00:00, 93.8MB/s]\n"
          ]
        }
      ]
    },
    {
      "cell_type": "markdown",
      "source": [
        "## 3. Подгрузка данных в питон и начало работы с ними"
      ],
      "metadata": {
        "id": "Ui2UmktdkfBX"
      }
    },
    {
      "cell_type": "markdown",
      "source": [
        "Импортируйте библиотеку pandas и присвойте ей короткое название pd"
      ],
      "metadata": {
        "id": "GOhi3LqkhwaO"
      }
    },
    {
      "cell_type": "code",
      "execution_count": null,
      "metadata": {
        "id": "HDirS7pLCdac"
      },
      "outputs": [],
      "source": [
        "import pandas as pd"
      ]
    },
    {
      "cell_type": "markdown",
      "source": [
        "Откройте датасет movies.csv и сохраните его в переменную dataset"
      ],
      "metadata": {
        "id": "XNGRVqpyh28Y"
      }
    },
    {
      "cell_type": "code",
      "execution_count": null,
      "metadata": {
        "id": "PXy_b8D-DYxq"
      },
      "outputs": [],
      "source": [
        "import pandas as pd\n",
        "\n",
        "dataset = pd.read_csv('/content/movies.csv')"
      ]
    },
    {
      "cell_type": "markdown",
      "source": [
        "Проведите обзор таблицы с помощью метода head()"
      ],
      "metadata": {
        "id": "v5G-GfyWiZUg"
      }
    },
    {
      "cell_type": "code",
      "source": [
        "dataset.head() #Метод head() без аргументов по умолчанию выводит первые 5 строк таблицы."
      ],
      "metadata": {
        "id": "777NV7RZkwos",
        "outputId": "4938d75b-7ae0-465c-f4bc-770e04e3a63e",
        "colab": {
          "base_uri": "https://localhost:8080/",
          "height": 458
        }
      },
      "execution_count": null,
      "outputs": [
        {
          "output_type": "execute_result",
          "data": {
            "text/plain": [
              "                                              poster  \\\n",
              "0  https://m.media-amazon.com/images/S/sash/4Fyxw...   \n",
              "1  https://m.media-amazon.com/images/S/sash/4Fyxw...   \n",
              "2  https://m.media-amazon.com/images/S/sash/4Fyxw...   \n",
              "3  https://m.media-amazon.com/images/S/sash/4Fyxw...   \n",
              "4  https://m.media-amazon.com/images/S/sash/4Fyxw...   \n",
              "\n",
              "                      title certificate  runtime                      genre  \\\n",
              "0  The Shawshank Redemption          15  142 min                      Drama   \n",
              "1           The Dark Knight         12A  152 min       Action, Crime, Drama   \n",
              "2                 Inception         12A  148 min  Action, Adventure, Sci-Fi   \n",
              "3                Fight Club          18  139 min                      Drama   \n",
              "4              Pulp Fiction          18  154 min               Crime, Drama   \n",
              "\n",
              "   rating                                              about  \\\n",
              "0     9.3  Two imprisoned men bond over a number of years...   \n",
              "1     9.0  When the menace known as the Joker wreaks havo...   \n",
              "2     8.8  A thief who steals corporate secrets through t...   \n",
              "3     8.8  An insomniac office worker and a devil-may-car...   \n",
              "4     8.9  The lives of two mob hitmen, a boxer, a gangst...   \n",
              "\n",
              "            director                                              stars  \\\n",
              "0     Frank Darabont  ('Tim Robbins',), ('Morgan Freeman',), ('Bob G...   \n",
              "1  Christopher Nolan  ('Christian Bale',), ('Heath Ledger',), ('Aaro...   \n",
              "2  Christopher Nolan  ('Leonardo DiCaprio',), ('Joseph Gordon-Levitt...   \n",
              "3      David Fincher  ('Brad Pitt',), ('Edward Norton',), ('Meat Loa...   \n",
              "4  Quentin Tarantino  ('John Travolta',), ('Uma Thurman',), ('Samuel...   \n",
              "\n",
              "       votes gross_earn  \n",
              "0  26,26,905    $28.34M  \n",
              "1  25,98,173   $534.86M  \n",
              "2  23,04,062   $292.58M  \n",
              "3  20,71,088    $37.03M  \n",
              "4  20,11,013   $107.93M  "
            ],
            "text/html": [
              "\n",
              "  <div id=\"df-e12920ea-74ab-4de9-87b7-985c3745f6c3\">\n",
              "    <div class=\"colab-df-container\">\n",
              "      <div>\n",
              "<style scoped>\n",
              "    .dataframe tbody tr th:only-of-type {\n",
              "        vertical-align: middle;\n",
              "    }\n",
              "\n",
              "    .dataframe tbody tr th {\n",
              "        vertical-align: top;\n",
              "    }\n",
              "\n",
              "    .dataframe thead th {\n",
              "        text-align: right;\n",
              "    }\n",
              "</style>\n",
              "<table border=\"1\" class=\"dataframe\">\n",
              "  <thead>\n",
              "    <tr style=\"text-align: right;\">\n",
              "      <th></th>\n",
              "      <th>poster</th>\n",
              "      <th>title</th>\n",
              "      <th>certificate</th>\n",
              "      <th>runtime</th>\n",
              "      <th>genre</th>\n",
              "      <th>rating</th>\n",
              "      <th>about</th>\n",
              "      <th>director</th>\n",
              "      <th>stars</th>\n",
              "      <th>votes</th>\n",
              "      <th>gross_earn</th>\n",
              "    </tr>\n",
              "  </thead>\n",
              "  <tbody>\n",
              "    <tr>\n",
              "      <th>0</th>\n",
              "      <td>https://m.media-amazon.com/images/S/sash/4Fyxw...</td>\n",
              "      <td>The Shawshank Redemption</td>\n",
              "      <td>15</td>\n",
              "      <td>142 min</td>\n",
              "      <td>Drama</td>\n",
              "      <td>9.3</td>\n",
              "      <td>Two imprisoned men bond over a number of years...</td>\n",
              "      <td>Frank Darabont</td>\n",
              "      <td>('Tim Robbins',), ('Morgan Freeman',), ('Bob G...</td>\n",
              "      <td>26,26,905</td>\n",
              "      <td>$28.34M</td>\n",
              "    </tr>\n",
              "    <tr>\n",
              "      <th>1</th>\n",
              "      <td>https://m.media-amazon.com/images/S/sash/4Fyxw...</td>\n",
              "      <td>The Dark Knight</td>\n",
              "      <td>12A</td>\n",
              "      <td>152 min</td>\n",
              "      <td>Action, Crime, Drama</td>\n",
              "      <td>9.0</td>\n",
              "      <td>When the menace known as the Joker wreaks havo...</td>\n",
              "      <td>Christopher Nolan</td>\n",
              "      <td>('Christian Bale',), ('Heath Ledger',), ('Aaro...</td>\n",
              "      <td>25,98,173</td>\n",
              "      <td>$534.86M</td>\n",
              "    </tr>\n",
              "    <tr>\n",
              "      <th>2</th>\n",
              "      <td>https://m.media-amazon.com/images/S/sash/4Fyxw...</td>\n",
              "      <td>Inception</td>\n",
              "      <td>12A</td>\n",
              "      <td>148 min</td>\n",
              "      <td>Action, Adventure, Sci-Fi</td>\n",
              "      <td>8.8</td>\n",
              "      <td>A thief who steals corporate secrets through t...</td>\n",
              "      <td>Christopher Nolan</td>\n",
              "      <td>('Leonardo DiCaprio',), ('Joseph Gordon-Levitt...</td>\n",
              "      <td>23,04,062</td>\n",
              "      <td>$292.58M</td>\n",
              "    </tr>\n",
              "    <tr>\n",
              "      <th>3</th>\n",
              "      <td>https://m.media-amazon.com/images/S/sash/4Fyxw...</td>\n",
              "      <td>Fight Club</td>\n",
              "      <td>18</td>\n",
              "      <td>139 min</td>\n",
              "      <td>Drama</td>\n",
              "      <td>8.8</td>\n",
              "      <td>An insomniac office worker and a devil-may-car...</td>\n",
              "      <td>David Fincher</td>\n",
              "      <td>('Brad Pitt',), ('Edward Norton',), ('Meat Loa...</td>\n",
              "      <td>20,71,088</td>\n",
              "      <td>$37.03M</td>\n",
              "    </tr>\n",
              "    <tr>\n",
              "      <th>4</th>\n",
              "      <td>https://m.media-amazon.com/images/S/sash/4Fyxw...</td>\n",
              "      <td>Pulp Fiction</td>\n",
              "      <td>18</td>\n",
              "      <td>154 min</td>\n",
              "      <td>Crime, Drama</td>\n",
              "      <td>8.9</td>\n",
              "      <td>The lives of two mob hitmen, a boxer, a gangst...</td>\n",
              "      <td>Quentin Tarantino</td>\n",
              "      <td>('John Travolta',), ('Uma Thurman',), ('Samuel...</td>\n",
              "      <td>20,11,013</td>\n",
              "      <td>$107.93M</td>\n",
              "    </tr>\n",
              "  </tbody>\n",
              "</table>\n",
              "</div>\n",
              "      <button class=\"colab-df-convert\" onclick=\"convertToInteractive('df-e12920ea-74ab-4de9-87b7-985c3745f6c3')\"\n",
              "              title=\"Convert this dataframe to an interactive table.\"\n",
              "              style=\"display:none;\">\n",
              "        \n",
              "  <svg xmlns=\"http://www.w3.org/2000/svg\" height=\"24px\"viewBox=\"0 0 24 24\"\n",
              "       width=\"24px\">\n",
              "    <path d=\"M0 0h24v24H0V0z\" fill=\"none\"/>\n",
              "    <path d=\"M18.56 5.44l.94 2.06.94-2.06 2.06-.94-2.06-.94-.94-2.06-.94 2.06-2.06.94zm-11 1L8.5 8.5l.94-2.06 2.06-.94-2.06-.94L8.5 2.5l-.94 2.06-2.06.94zm10 10l.94 2.06.94-2.06 2.06-.94-2.06-.94-.94-2.06-.94 2.06-2.06.94z\"/><path d=\"M17.41 7.96l-1.37-1.37c-.4-.4-.92-.59-1.43-.59-.52 0-1.04.2-1.43.59L10.3 9.45l-7.72 7.72c-.78.78-.78 2.05 0 2.83L4 21.41c.39.39.9.59 1.41.59.51 0 1.02-.2 1.41-.59l7.78-7.78 2.81-2.81c.8-.78.8-2.07 0-2.86zM5.41 20L4 18.59l7.72-7.72 1.47 1.35L5.41 20z\"/>\n",
              "  </svg>\n",
              "      </button>\n",
              "      \n",
              "  <style>\n",
              "    .colab-df-container {\n",
              "      display:flex;\n",
              "      flex-wrap:wrap;\n",
              "      gap: 12px;\n",
              "    }\n",
              "\n",
              "    .colab-df-convert {\n",
              "      background-color: #E8F0FE;\n",
              "      border: none;\n",
              "      border-radius: 50%;\n",
              "      cursor: pointer;\n",
              "      display: none;\n",
              "      fill: #1967D2;\n",
              "      height: 32px;\n",
              "      padding: 0 0 0 0;\n",
              "      width: 32px;\n",
              "    }\n",
              "\n",
              "    .colab-df-convert:hover {\n",
              "      background-color: #E2EBFA;\n",
              "      box-shadow: 0px 1px 2px rgba(60, 64, 67, 0.3), 0px 1px 3px 1px rgba(60, 64, 67, 0.15);\n",
              "      fill: #174EA6;\n",
              "    }\n",
              "\n",
              "    [theme=dark] .colab-df-convert {\n",
              "      background-color: #3B4455;\n",
              "      fill: #D2E3FC;\n",
              "    }\n",
              "\n",
              "    [theme=dark] .colab-df-convert:hover {\n",
              "      background-color: #434B5C;\n",
              "      box-shadow: 0px 1px 3px 1px rgba(0, 0, 0, 0.15);\n",
              "      filter: drop-shadow(0px 1px 2px rgba(0, 0, 0, 0.3));\n",
              "      fill: #FFFFFF;\n",
              "    }\n",
              "  </style>\n",
              "\n",
              "      <script>\n",
              "        const buttonEl =\n",
              "          document.querySelector('#df-e12920ea-74ab-4de9-87b7-985c3745f6c3 button.colab-df-convert');\n",
              "        buttonEl.style.display =\n",
              "          google.colab.kernel.accessAllowed ? 'block' : 'none';\n",
              "\n",
              "        async function convertToInteractive(key) {\n",
              "          const element = document.querySelector('#df-e12920ea-74ab-4de9-87b7-985c3745f6c3');\n",
              "          const dataTable =\n",
              "            await google.colab.kernel.invokeFunction('convertToInteractive',\n",
              "                                                     [key], {});\n",
              "          if (!dataTable) return;\n",
              "\n",
              "          const docLinkHtml = 'Like what you see? Visit the ' +\n",
              "            '<a target=\"_blank\" href=https://colab.research.google.com/notebooks/data_table.ipynb>data table notebook</a>'\n",
              "            + ' to learn more about interactive tables.';\n",
              "          element.innerHTML = '';\n",
              "          dataTable['output_type'] = 'display_data';\n",
              "          await google.colab.output.renderOutput(dataTable, element);\n",
              "          const docLink = document.createElement('div');\n",
              "          docLink.innerHTML = docLinkHtml;\n",
              "          element.appendChild(docLink);\n",
              "        }\n",
              "      </script>\n",
              "    </div>\n",
              "  </div>\n",
              "  "
            ]
          },
          "metadata": {},
          "execution_count": 27
        }
      ]
    },
    {
      "cell_type": "markdown",
      "source": [
        "## 4. Оценка размеров датасета, наличия дубликатов и пропусков"
      ],
      "metadata": {
        "id": "3uHWsjiUlAVn"
      }
    },
    {
      "cell_type": "markdown",
      "source": [
        "Оцените размеры датасета с помощью атрибута shape"
      ],
      "metadata": {
        "id": "pKCuhhm4feDW"
      }
    },
    {
      "cell_type": "code",
      "execution_count": null,
      "metadata": {
        "id": "Mbniz7lAHMdW",
        "outputId": "53e2010a-1032-4bc9-d0f3-a84051061d3b",
        "colab": {
          "base_uri": "https://localhost:8080/"
        }
      },
      "outputs": [
        {
          "output_type": "stream",
          "name": "stdout",
          "text": [
            "(5000, 11)\n"
          ]
        }
      ],
      "source": [
        "print(dataset.shape) #Этот код выведет размеры датасета в формате (количество строк, количество столбцов). "
      ]
    },
    {
      "cell_type": "markdown",
      "source": [
        "Выведите информацию о датасете с помощью метода info(). Оцените признаки и типы данных, обратите внимание на пропущенные значения"
      ],
      "metadata": {
        "id": "-JVqJfqofmEp"
      }
    },
    {
      "cell_type": "code",
      "source": [
        "dataset.info()"
      ],
      "metadata": {
        "id": "Rb9-5dw7lL-_",
        "outputId": "a87c0b5a-70a2-49c8-c1c9-26d4231e2bc5",
        "colab": {
          "base_uri": "https://localhost:8080/"
        }
      },
      "execution_count": null,
      "outputs": [
        {
          "output_type": "stream",
          "name": "stdout",
          "text": [
            "<class 'pandas.core.frame.DataFrame'>\n",
            "RangeIndex: 5000 entries, 0 to 4999\n",
            "Data columns (total 11 columns):\n",
            " #   Column       Non-Null Count  Dtype  \n",
            "---  ------       --------------  -----  \n",
            " 0   poster       5000 non-null   object \n",
            " 1   title        5000 non-null   object \n",
            " 2   certificate  5000 non-null   object \n",
            " 3   runtime      5000 non-null   object \n",
            " 4   genre        4970 non-null   object \n",
            " 5   rating       5000 non-null   float64\n",
            " 6   about        4986 non-null   object \n",
            " 7   director     5000 non-null   object \n",
            " 8   stars        5000 non-null   object \n",
            " 9   votes        5000 non-null   object \n",
            " 10  gross_earn   4585 non-null   object \n",
            "dtypes: float64(1), object(10)\n",
            "memory usage: 429.8+ KB\n"
          ]
        }
      ]
    },
    {
      "cell_type": "markdown",
      "source": [
        "Оцените наличие дубликатов в датасете с помощью метода duplicated() в связке с sum() (при необходимости исключите полные дубликаты)"
      ],
      "metadata": {
        "id": "AqF3KuIugDUA"
      }
    },
    {
      "cell_type": "code",
      "execution_count": null,
      "metadata": {
        "id": "Q_MAd-7IHVev",
        "outputId": "975017a9-3107-4332-e472-f8b3dc6a5a7b",
        "colab": {
          "base_uri": "https://localhost:8080/"
        }
      },
      "outputs": [
        {
          "output_type": "stream",
          "name": "stdout",
          "text": [
            "Количество дубликатов в датасете: 0\n"
          ]
        }
      ],
      "source": [
        "duplicate_count = dataset.duplicated().sum()\n",
        "print(\"Количество дубликатов в датасете:\", duplicate_count)"
      ]
    },
    {
      "cell_type": "markdown",
      "source": [
        "P.s. бывают ситуации, когда нет необходимости удалять дубликаты, т.к. их наличие может нести ценную информацию при анализе."
      ],
      "metadata": {
        "id": "93d03vUNlDZr"
      }
    },
    {
      "cell_type": "markdown",
      "source": [
        "Оцените наличие пропущенных значений в датасете по признаку gross_earn"
      ],
      "metadata": {
        "id": "mDDGcBNhg4CH"
      }
    },
    {
      "cell_type": "code",
      "source": [
        "missing_values = dataset['gross_earn'].isnull().sum()\n",
        "print(\"Количество пропущенных значений в признаке 'gross_earn':\", missing_values)"
      ],
      "metadata": {
        "id": "ibVN4eMgl3bF",
        "outputId": "0c55d1d9-796a-48ef-f00c-f670e65c0018",
        "colab": {
          "base_uri": "https://localhost:8080/"
        }
      },
      "execution_count": null,
      "outputs": [
        {
          "output_type": "stream",
          "name": "stdout",
          "text": [
            "Количество пропущенных значений в признаке 'gross_earn': 415\n"
          ]
        }
      ]
    },
    {
      "cell_type": "markdown",
      "source": [
        "P.s. не стоит исключать наблюдения с пропущенными значениями на этапе предобработки датасета, если нет жесткого требования это делать. Так можно потерять информацию по другим более значимым признакам. Кроме того, их наличие может нести ценную информацию при анализе."
      ],
      "metadata": {
        "id": "ockjWssjjvDF"
      }
    },
    {
      "cell_type": "markdown",
      "source": [
        "**Выводы:**"
      ],
      "metadata": {
        "id": "g8VaEPz_kVPe"
      }
    },
    {
      "cell_type": "markdown",
      "source": [
        "Напишите выводы по разделу:\n",
        "1.   О размерах датасета (количество признаков и количество наблюдений).\n",
        "2.   О типах данных (какие есть и какие должны быть, нужна ли предобработа).\n",
        "3.   О дубликатах (их наличие, нужна ли предобработка).\n",
        "4.   О пропущенных значениях (их наличие, нужна ли предобработка).\n",
        "5.   О возможных проблемах, которые могут возникнуть при анализе.\n",
        "\n"
      ],
      "metadata": {
        "id": "gTrlw0afkaE4"
      }
    },
    {
      "cell_type": "markdown",
      "source": [
        "# Вывод\n",
        "1. Размеры датасета: для оценки размеров датасета использовался атрибут shape. В данном случае, датасет содержит 5000 наблюдений (строк) и 11 признаков (столбцов).\n",
        "2. Типы данных и необходимость предобработки:\n",
        "Чтобы оценить типы данных в датасете и определить необходимость предобработки, использовался метод info(). В данном случае, в датасете присутствуют следующие типы данных:\n",
        "float64: Это числовой тип данных, который может хранить числа с плавающей запятой (дробные числа). В нашем датасете имеется один столбец с типом данных float64, который называется \"rating\".\n",
        "object: Это общий тип данных в pandas, который обычно используется для хранения текстовых значений (строк) или различных объектов, которые не попадают в другие категории данных (например, столбцы с типом \"object\" могут содержать строки, даты, категориальные переменные и т.д.). В нашем датасете имеется десять столбцов с типом данных object, которые содержат текстовые значения, такие как названия фильмов, сертификаты, жанры, описание, режиссеры, актеры, количество голосов и заработок. Возможно, может потребоваться выполнить предобработку данных для преобразования некоторых столбцов в более подходящие типы данных. Например, столбец \"votes\" может быть числовыми типами данных вместо типа \"object\". \n",
        "3. Дубликаты и необходимость предобработки:\n",
        "Для оценки наличия дубликатов в датасете использовались методы duplicated() и sum(). Если значение переменной duplicate_count больше нуля, это означает, что в датасете присутствуют дубликаты. В таком случае, возможно, потребуется предобработка данных для удаления или обработки дубликатов. В данном датасете количество дубликатов равно 0. \n",
        "4. Пропущенные значения и необходимость предобработки:\n",
        "Для оценки наличия пропущенных значений в датасете использовались методы isnull() и sum(). Так как количество пропущенных значений не равно нулю, возможно, потребуется предобработка данных для обработки или заполнения пропущенных значений.\n",
        "5. Возможные проблемы при анализе:\n",
        "При анализе датасета могут возникнуть следующие проблемы:\n",
        "Неправильные типы данных: Если типы данных признаков не соответствуют ожидаемым типам (например, числовые признаки имеют тип \"object\"), это может затруднить проведение анализа и требовать преобразования типов данных.\n",
        "Пропущенные значения: Пропущенные значения могут влиять на результаты анализа и требовать специальной обработки или заполнения.\n",
        "Дубликаты: Наличие дубликатов может привести к неправильным выводам и искажению статистических метрик. Возможно, потребуется удаление или обработка дубликатов.\n",
        "Важно провести предобработку данных для устранения этих проблем и обеспечения точности и достоверности результатов анализа.\n"
      ],
      "metadata": {
        "id": "vlq7bkMW4jkQ"
      }
    },
    {
      "cell_type": "markdown",
      "source": [
        "## 5. Обработка колонок runtime и gross_earn: приведение к числовому типу"
      ],
      "metadata": {
        "id": "Int1osF-mdy-"
      }
    },
    {
      "cell_type": "markdown",
      "source": [
        "Приведите значения признаков runtime и gross_earn к числовому типу, исключив лишние символы"
      ],
      "metadata": {
        "id": "pr-FxQ0Zlc-z"
      }
    },
    {
      "cell_type": "code",
      "source": [
        "import re\n",
        "import numpy as np\n",
        "\n",
        "# Удаление всех символов, кроме цифр, в признаке \"runtime\"\n",
        "dataset['runtime'] = dataset['runtime'].apply(lambda x: re.sub('\\D', '', str(x)))\n",
        "\n",
        "# Замена пустых значений на NaN\n",
        "dataset['runtime'].replace('', np.nan, inplace=True)\n",
        "\n",
        "# Преобразование признака \"runtime\" в тип данных int\n",
        "dataset['runtime'] = dataset['runtime'].astype(float)\n",
        "\n",
        "\n",
        "# Удаление всех символов, кроме цифр и точки, в признаке \"gross_earn\"\n",
        "dataset['gross_earn'] = dataset['gross_earn'].apply(lambda x: re.sub('[^\\d.]', '', str(x)))\n",
        "\n",
        "# Замена пустых значений на NaN\n",
        "dataset['gross_earn'].replace('', np.nan, inplace=True)\n",
        "\n",
        "# Преобразование признака \"gross_earn\" в тип данных float\n",
        "dataset['gross_earn'] = dataset['gross_earn'].astype(float)\n"
      ],
      "metadata": {
        "id": "SYPpe5377U_y"
      },
      "execution_count": null,
      "outputs": []
    },
    {
      "cell_type": "markdown",
      "source": [
        "### *5.1. runtime*"
      ],
      "metadata": {
        "id": "gp81b9DUrIEr"
      }
    },
    {
      "cell_type": "markdown",
      "source": [
        "Выведите Series ['runtime'] для детального просмотра данных"
      ],
      "metadata": {
        "id": "gcGr7u2Vm7Ny"
      }
    },
    {
      "cell_type": "code",
      "execution_count": 34,
      "metadata": {
        "id": "B4HhGwUOKCfU",
        "colab": {
          "base_uri": "https://localhost:8080/"
        },
        "outputId": "d5d37f5d-9bb6-40a1-9bae-69fb1fea5467"
      },
      "outputs": [
        {
          "output_type": "execute_result",
          "data": {
            "text/plain": [
              "0       142.0\n",
              "1       152.0\n",
              "2       148.0\n",
              "3       139.0\n",
              "4       154.0\n",
              "        ...  \n",
              "4995    102.0\n",
              "4996     94.0\n",
              "4997      NaN\n",
              "4998     92.0\n",
              "4999    120.0\n",
              "Name: runtime, Length: 5000, dtype: float64"
            ]
          },
          "metadata": {},
          "execution_count": 34
        }
      ],
      "source": [
        "dataset['runtime'] \n",
        "\"\"\"В предыдущем коде мы уже произвели удаление всех символов, кроме цифр\n",
        "в признаке \"runtime\". Поэтому значение Drama, Romance мы уже не получаем.\"\"\""
      ]
    },
    {
      "cell_type": "markdown",
      "source": [
        "По индексу 4997 в признак попало аномальное значение - Drama, Romance"
      ],
      "metadata": {
        "id": "MuCBWTvJnEHF"
      }
    },
    {
      "cell_type": "markdown",
      "source": [
        "Выведите уникальные значения по Series ['runtime'] с помощью метода unique()"
      ],
      "metadata": {
        "id": "r8_UlDDRnSg1"
      }
    },
    {
      "cell_type": "code",
      "source": [
        "unique_runtimes = dataset['runtime'].unique() #Этот код выведет массив уникальных значений в столбце 'runtime'. Каждое значение будет отображено только один раз.\n",
        "print(unique_runtimes)"
      ],
      "metadata": {
        "id": "PhrGIpCboJqC",
        "colab": {
          "base_uri": "https://localhost:8080/"
        },
        "outputId": "944bae5e-a957-4741-a76c-741d2e08fe25"
      },
      "execution_count": null,
      "outputs": [
        {
          "output_type": "stream",
          "name": "stdout",
          "text": [
            "[14200. 15200. 14800. 13900. 15400. 17800. 13600. 20100. 17500. 16400.\n",
            " 17900. 12700. 14300. 15500. 14000. 16500. 16900. 12100. 11800. 16200.\n",
            " 15300. 15100. 19500. 11300. 13000. 12400. 12200. 19400. 13200. 20200.\n",
            " 13800. 11900. 18900. 18000. 13700. 10600. 11100. 11600. 14500. 11000.\n",
            "  9800. 10700. 12600. 10000. 13100. 13300. 10300. 10800.  9600.  9900.\n",
            " 11500.  8800. 12000.  8100. 13500. 14600. 11700. 10400.  9200.  9100.\n",
            " 10200. 14900. 17000. 11200. 10100. 14100. 14400. 11400. 15000.  9000.\n",
            " 16100. 12800.  9300. 12900. 16600. 14700. 13400. 10900. 10500. 12500.\n",
            " 15600. 12300.  9500. 15700. 16300. 15800.  8900. 18700. 16700.  8400.\n",
            "  9400.  8500. 17200. 16000. 16800.  8600.  9700.  8700. 18300. 18800.\n",
            " 20700. 15900.  7600. 22900. 23800.  8300. 21800.  7700. 18100. 19100.\n",
            "  8000. 21200.  7800.  7900.  8200.  7400. 18500.  7500. 19700.  6900.\n",
            "  6400. 22400.  6800. 21000. 17700. 19300.  6700. 17400.  7000. 22000.\n",
            " 32100.    nan 18600. 19800.  5800. 19200. 24200. 20400. 17100.  6300.\n",
            " 18200. 17600. 19600. 20500.  7100. 25900.  4500. 21300.  7200. 21600.\n",
            " 31700. 36600.]\n"
          ]
        }
      ]
    },
    {
      "cell_type": "markdown",
      "source": [
        "Таких аномальных значений несколько. Следует исключить их из датасета"
      ],
      "metadata": {
        "id": "aX6ujpINnqVX"
      }
    },
    {
      "cell_type": "markdown",
      "source": [
        "Импортируйте библиотеку re"
      ],
      "metadata": {
        "id": "TZAtdQlbn9IE"
      }
    },
    {
      "cell_type": "code",
      "source": [
        "import re"
      ],
      "metadata": {
        "id": "-YjdyM_7o1aq"
      },
      "execution_count": null,
      "outputs": []
    },
    {
      "cell_type": "markdown",
      "source": [
        "Напишите функцию, которая исключит нецифровые символы с помощью регулярных выражений"
      ],
      "metadata": {
        "id": "JHI-nCi8n_AA"
      }
    },
    {
      "cell_type": "code",
      "source": [
        "import numpy as np\n",
        "\n",
        "def extract_digits(runtime):\n",
        "    if np.isnan(runtime):\n",
        "        return np.nan\n",
        "    else:\n",
        "        return int(runtime)\n",
        "\n",
        "# Пример использования функции\n",
        "runtime_cleaned = dataset['runtime'].apply(extract_digits)\n",
        "print(runtime_cleaned)"
      ],
      "metadata": {
        "id": "bYp8o4HVoZ2v",
        "colab": {
          "base_uri": "https://localhost:8080/"
        },
        "outputId": "1af2e9e5-f041-44ff-f1b5-07c2779112c0"
      },
      "execution_count": null,
      "outputs": [
        {
          "output_type": "stream",
          "name": "stdout",
          "text": [
            "0       14200.0\n",
            "1       15200.0\n",
            "2       14800.0\n",
            "3       13900.0\n",
            "4       15400.0\n",
            "         ...   \n",
            "4995    10200.0\n",
            "4996     9400.0\n",
            "4997        NaN\n",
            "4998     9200.0\n",
            "4999    12000.0\n",
            "Name: runtime, Length: 5000, dtype: float64\n"
          ]
        }
      ]
    },
    {
      "cell_type": "markdown",
      "source": [
        "Примените функцию к Series ['runtime'] с помощью метода apply()"
      ],
      "metadata": {
        "id": "_8glouCioP_6"
      }
    },
    {
      "cell_type": "code",
      "source": [
        "import pandas as pd\n",
        "import numpy as np\n",
        "\n",
        "# Создание новой Series с очищенными значениями\n",
        "runtime_cleaned = dataset['runtime'].apply(lambda x: extract_digits(x))\n",
        "\n",
        "# Вывод новой Series\n",
        "print(runtime_cleaned)"
      ],
      "metadata": {
        "id": "vNc3QynOos0-",
        "colab": {
          "base_uri": "https://localhost:8080/"
        },
        "outputId": "25de80bb-1257-4709-d7d3-9edffdbbeffc"
      },
      "execution_count": null,
      "outputs": [
        {
          "output_type": "stream",
          "name": "stdout",
          "text": [
            "0       14200.0\n",
            "1       15200.0\n",
            "2       14800.0\n",
            "3       13900.0\n",
            "4       15400.0\n",
            "         ...   \n",
            "4995    10200.0\n",
            "4996     9400.0\n",
            "4997        NaN\n",
            "4998     9200.0\n",
            "4999    12000.0\n",
            "Name: runtime, Length: 5000, dtype: float64\n"
          ]
        }
      ]
    },
    {
      "cell_type": "markdown",
      "source": [
        "Создайте столбец runtime_clear в исходном датасете, применив функцию к признаку runtime"
      ],
      "metadata": {
        "id": "Id4WMbV5odI5"
      }
    },
    {
      "cell_type": "code",
      "source": [
        "import pandas as pd\n",
        "import numpy as np\n",
        "\n",
        "# Создание нового столбца с очищенными значениями\n",
        "dataset['runtime_clear'] = dataset['runtime'].apply(lambda x: extract_digits(x))\n",
        "\n",
        "# Вывод обновленного датасета\n",
        "print(dataset)"
      ],
      "metadata": {
        "id": "z134V_42pGVH",
        "colab": {
          "base_uri": "https://localhost:8080/"
        },
        "outputId": "3adf113d-e3e9-4c54-ce03-66db8727bac8"
      },
      "execution_count": 36,
      "outputs": [
        {
          "output_type": "stream",
          "name": "stdout",
          "text": [
            "                                                 poster  \\\n",
            "0     https://m.media-amazon.com/images/S/sash/4Fyxw...   \n",
            "1     https://m.media-amazon.com/images/S/sash/4Fyxw...   \n",
            "2     https://m.media-amazon.com/images/S/sash/4Fyxw...   \n",
            "3     https://m.media-amazon.com/images/S/sash/4Fyxw...   \n",
            "4     https://m.media-amazon.com/images/S/sash/4Fyxw...   \n",
            "...                                                 ...   \n",
            "4995  https://m.media-amazon.com/images/S/sash/4Fyxw...   \n",
            "4996  https://m.media-amazon.com/images/S/sash/4Fyxw...   \n",
            "4997  https://m.media-amazon.com/images/S/sash/4Fyxw...   \n",
            "4998  https://m.media-amazon.com/images/S/sash/4Fyxw...   \n",
            "4999  https://m.media-amazon.com/images/S/sash/4Fyxw...   \n",
            "\n",
            "                                title certificate  runtime  \\\n",
            "0            The Shawshank Redemption          15    142.0   \n",
            "1                     The Dark Knight         12A    152.0   \n",
            "2                           Inception         12A    148.0   \n",
            "3                          Fight Club          18    139.0   \n",
            "4                        Pulp Fiction          18    154.0   \n",
            "...                               ...         ...      ...   \n",
            "4995  Seven Brides for Seven Brothers           U    102.0   \n",
            "4996                  Playing It Cool          15     94.0   \n",
            "4997             A Moment to Remember     144 min      NaN   \n",
            "4998                        Hairspray          PG     92.0   \n",
            "4999             McCabe & Mrs. Miller           X    120.0   \n",
            "\n",
            "                          genre  rating  \\\n",
            "0                         Drama     9.3   \n",
            "1          Action, Crime, Drama     9.0   \n",
            "2     Action, Adventure, Sci-Fi     8.8   \n",
            "3                         Drama     8.8   \n",
            "4                  Crime, Drama     8.9   \n",
            "...                         ...     ...   \n",
            "4995     Comedy, Drama, Musical     7.3   \n",
            "4996            Comedy, Romance     5.9   \n",
            "4997                        NaN     8.1   \n",
            "4998      Comedy, Drama, Family     7.0   \n",
            "4999             Drama, Western     7.6   \n",
            "\n",
            "                                                  about           director  \\\n",
            "0     Two imprisoned men bond over a number of years...     Frank Darabont   \n",
            "1     When the menace known as the Joker wreaks havo...  Christopher Nolan   \n",
            "2     A thief who steals corporate secrets through t...  Christopher Nolan   \n",
            "3     An insomniac office worker and a devil-may-car...      David Fincher   \n",
            "4     The lives of two mob hitmen, a boxer, a gangst...  Quentin Tarantino   \n",
            "...                                                 ...                ...   \n",
            "4995  In 1850 Oregon, when a backwoodsman brings a w...      Stanley Donen   \n",
            "4996  Unrequited love motivates a guy to write about...     Justin Reardon   \n",
            "4997  A young couple's enduring love is tested when ...        John H. Lee   \n",
            "4998  A 'pleasantly plump' teenager teaches 1962 Bal...        John Waters   \n",
            "4999  A gambler and a prostitute become business par...      Robert Altman   \n",
            "\n",
            "                                                  stars      votes  \\\n",
            "0     ('Tim Robbins',), ('Morgan Freeman',), ('Bob G...  26,26,905   \n",
            "1     ('Christian Bale',), ('Heath Ledger',), ('Aaro...  25,98,173   \n",
            "2     ('Leonardo DiCaprio',), ('Joseph Gordon-Levitt...  23,04,062   \n",
            "3     ('Brad Pitt',), ('Edward Norton',), ('Meat Loa...  20,71,088   \n",
            "4     ('John Travolta',), ('Uma Thurman',), ('Samuel...  20,11,013   \n",
            "...                                                 ...        ...   \n",
            "4995  ('Jane Powell',), ('Howard Keel',), ('Jeff Ric...     25,112   \n",
            "4996  ('Chris Evans',), ('Michelle Monaghan',), ('To...     28,515   \n",
            "4997  ('Jung Woo-sung',), ('Son Ye-jin',), ('Jong-ha...     23,957   \n",
            "4998  ('Sonny Bono',), ('Ruth Brown',), ('Divine',),...     21,536   \n",
            "4999  ('Warren Beatty',), ('Julie Christie',), ('Ren...     25,097   \n",
            "\n",
            "      gross_earn  runtime_clear  \n",
            "0          28.34          142.0  \n",
            "1         534.86          152.0  \n",
            "2         292.58          148.0  \n",
            "3          37.03          139.0  \n",
            "4         107.93          154.0  \n",
            "...          ...            ...  \n",
            "4995        9.40          102.0  \n",
            "4996         NaN           94.0  \n",
            "4997         NaN            NaN  \n",
            "4998        6.67           92.0  \n",
            "4999        8.20          120.0  \n",
            "\n",
            "[5000 rows x 12 columns]\n"
          ]
        }
      ]
    },
    {
      "cell_type": "markdown",
      "source": [
        "Выведите Series ['runtime_clear'] для оценки результата"
      ],
      "metadata": {
        "id": "s3olTg3PopAk"
      }
    },
    {
      "cell_type": "code",
      "source": [
        "runtime_clear_series = dataset['runtime_clear']\n",
        "print(runtime_clear_series)"
      ],
      "metadata": {
        "id": "a2qhTdfqpNZX",
        "colab": {
          "base_uri": "https://localhost:8080/"
        },
        "outputId": "10a59114-687e-4f26-d3c1-344f18988967"
      },
      "execution_count": 37,
      "outputs": [
        {
          "output_type": "stream",
          "name": "stdout",
          "text": [
            "0       142.0\n",
            "1       152.0\n",
            "2       148.0\n",
            "3       139.0\n",
            "4       154.0\n",
            "        ...  \n",
            "4995    102.0\n",
            "4996     94.0\n",
            "4997      NaN\n",
            "4998     92.0\n",
            "4999    120.0\n",
            "Name: runtime_clear, Length: 5000, dtype: float64\n"
          ]
        }
      ]
    },
    {
      "cell_type": "markdown",
      "source": [
        "По индексу 4997, где было аномальное значение, теперь на первый взгляд пустота. Проверьте, так ли это, с помощью метода isna()"
      ],
      "metadata": {
        "id": "EapFUrJwowuH"
      }
    },
    {
      "cell_type": "code",
      "source": [
        "is_na = dataset['runtime_clear'].isna()\n",
        "print(is_na[4997]) #True - это означает, что значение по указанному индексу является пропущенным"
      ],
      "metadata": {
        "id": "0vz9e_cDqNPW",
        "colab": {
          "base_uri": "https://localhost:8080/"
        },
        "outputId": "e58fe364-2716-49a8-e1ad-4582f0ba3878"
      },
      "execution_count": 38,
      "outputs": [
        {
          "output_type": "stream",
          "name": "stdout",
          "text": [
            "True\n"
          ]
        }
      ]
    },
    {
      "cell_type": "markdown",
      "source": [
        "Количество пустых полей - 0... Посмотрите поближе, что же на самом деле записано в данном поле с помощью индексации датасет['столбец'][индекс]"
      ],
      "metadata": {
        "id": "uAKaRobspWFO"
      }
    },
    {
      "cell_type": "code",
      "source": [
        "value = dataset['runtime_clear'][4997]\n",
        "print(value)"
      ],
      "metadata": {
        "id": "iRzRAGhDpPMa",
        "colab": {
          "base_uri": "https://localhost:8080/"
        },
        "outputId": "fc51918d-7bf4-4805-b401-294dedb3d7b0"
      },
      "execution_count": 41,
      "outputs": [
        {
          "output_type": "stream",
          "name": "stdout",
          "text": [
            "nan\n"
          ]
        }
      ]
    },
    {
      "cell_type": "markdown",
      "source": [
        "Записано нулевое строковое значение. Убедитесь в этом, проверив тип данных с помощью функции type()"
      ],
      "metadata": {
        "id": "MPmEnBmBpwMs"
      }
    },
    {
      "cell_type": "code",
      "source": [
        "value = dataset['runtime_clear'][4997]\n",
        "print(type(value)) #В данном случае не строковое, так как некорректное значение было преобразовано в числовой тип данных"
      ],
      "metadata": {
        "id": "irGF6aBKpoYl",
        "colab": {
          "base_uri": "https://localhost:8080/"
        },
        "outputId": "ef020f93-4ea8-4e9f-eea1-bbdc841208fd"
      },
      "execution_count": 42,
      "outputs": [
        {
          "output_type": "stream",
          "name": "stdout",
          "text": [
            "<class 'numpy.float64'>\n"
          ]
        }
      ]
    },
    {
      "cell_type": "markdown",
      "source": [
        "Действительно, это строковое значение. Отфильтруйте датасет, исключив все такие значения с помощью оператора !="
      ],
      "metadata": {
        "id": "7aXYnR-YqCwx"
      }
    },
    {
      "cell_type": "code",
      "source": [
        "filtered_dataset = dataset[dataset['runtime_clear'] != '0']"
      ],
      "metadata": {
        "id": "TbbsFoD2psjm"
      },
      "execution_count": 43,
      "outputs": []
    },
    {
      "cell_type": "markdown",
      "source": [
        "Оцените размеры датасета с помощью атрибута shape"
      ],
      "metadata": {
        "id": "K63T4u-mqc9s"
      }
    },
    {
      "cell_type": "code",
      "source": [
        "print(filtered_dataset.shape)"
      ],
      "metadata": {
        "id": "graH8Xv7qq9J",
        "colab": {
          "base_uri": "https://localhost:8080/"
        },
        "outputId": "0ba55216-8908-4410-bac1-8d5f46c1985a"
      },
      "execution_count": 44,
      "outputs": [
        {
          "output_type": "stream",
          "name": "stdout",
          "text": [
            "(5000, 12)\n"
          ]
        }
      ]
    },
    {
      "cell_type": "markdown",
      "source": [
        "А также проверьте тип данных с помощью метода info()"
      ],
      "metadata": {
        "id": "najkeUhhqmaz"
      }
    },
    {
      "cell_type": "code",
      "source": [
        "filtered_dataset.info()"
      ],
      "metadata": {
        "id": "1f1SdjY5quE6",
        "colab": {
          "base_uri": "https://localhost:8080/"
        },
        "outputId": "b7e1b351-c37a-4dd2-ff6f-148c485358bd"
      },
      "execution_count": 45,
      "outputs": [
        {
          "output_type": "stream",
          "name": "stdout",
          "text": [
            "<class 'pandas.core.frame.DataFrame'>\n",
            "Int64Index: 5000 entries, 0 to 4999\n",
            "Data columns (total 12 columns):\n",
            " #   Column         Non-Null Count  Dtype  \n",
            "---  ------         --------------  -----  \n",
            " 0   poster         5000 non-null   object \n",
            " 1   title          5000 non-null   object \n",
            " 2   certificate    5000 non-null   object \n",
            " 3   runtime        4970 non-null   float64\n",
            " 4   genre          4970 non-null   object \n",
            " 5   rating         5000 non-null   float64\n",
            " 6   about          4986 non-null   object \n",
            " 7   director       5000 non-null   object \n",
            " 8   stars          5000 non-null   object \n",
            " 9   votes          5000 non-null   object \n",
            " 10  gross_earn     4585 non-null   float64\n",
            " 11  runtime_clear  4970 non-null   float64\n",
            "dtypes: float64(4), object(8)\n",
            "memory usage: 507.8+ KB\n"
          ]
        }
      ]
    },
    {
      "cell_type": "markdown",
      "source": [
        "Приведите признак runtime_clear в формат int с помощью метода astype()"
      ],
      "metadata": {
        "id": "gqZC_f6-qxx5"
      }
    },
    {
      "cell_type": "code",
      "source": [
        "filtered_dataset['runtime_clear'] = filtered_dataset['runtime_clear'].fillna('0').astype(int)"
      ],
      "metadata": {
        "id": "VqTGqYK3n_BJ"
      },
      "execution_count": 49,
      "outputs": []
    },
    {
      "cell_type": "markdown",
      "source": [
        "Проверьте тип данных с помощью метода info()"
      ],
      "metadata": {
        "id": "CEPHEs3-q_Bq"
      }
    },
    {
      "cell_type": "code",
      "source": [
        "filtered_dataset.info()"
      ],
      "metadata": {
        "id": "1HBemaU4rBcG",
        "colab": {
          "base_uri": "https://localhost:8080/"
        },
        "outputId": "15ee4a4d-9e2a-421a-b248-ee8eea6d64f6"
      },
      "execution_count": 50,
      "outputs": [
        {
          "output_type": "stream",
          "name": "stdout",
          "text": [
            "<class 'pandas.core.frame.DataFrame'>\n",
            "Int64Index: 5000 entries, 0 to 4999\n",
            "Data columns (total 12 columns):\n",
            " #   Column         Non-Null Count  Dtype  \n",
            "---  ------         --------------  -----  \n",
            " 0   poster         5000 non-null   object \n",
            " 1   title          5000 non-null   object \n",
            " 2   certificate    5000 non-null   object \n",
            " 3   runtime        4970 non-null   float64\n",
            " 4   genre          4970 non-null   object \n",
            " 5   rating         5000 non-null   float64\n",
            " 6   about          4986 non-null   object \n",
            " 7   director       5000 non-null   object \n",
            " 8   stars          5000 non-null   object \n",
            " 9   votes          5000 non-null   object \n",
            " 10  gross_earn     4585 non-null   float64\n",
            " 11  runtime_clear  5000 non-null   int64  \n",
            "dtypes: float64(3), int64(1), object(8)\n",
            "memory usage: 507.8+ KB\n"
          ]
        }
      ]
    },
    {
      "cell_type": "markdown",
      "source": [
        "Тип данных - int64. Все получилось!"
      ],
      "metadata": {
        "id": "adSAGmwErDCR"
      }
    },
    {
      "cell_type": "markdown",
      "source": [
        "### *5.2. gross_earn*"
      ],
      "metadata": {
        "id": "a0otq-lsrRQn"
      }
    },
    {
      "cell_type": "markdown",
      "source": [
        "По аналогии приведите признак gross_earn к числовому типу данных"
      ],
      "metadata": {
        "id": "G0BQ0qP-rM_w"
      }
    },
    {
      "cell_type": "code",
      "source": [
        "filtered_dataset['gross_earn'] = filtered_dataset['gross_earn'].replace({'\\$': '', ',': ''}, regex=True).replace('', np.nan).astype(float)"
      ],
      "metadata": {
        "id": "2j9-_hTQCPhm"
      },
      "execution_count": 51,
      "outputs": []
    },
    {
      "cell_type": "markdown",
      "source": [
        "Выведите Series ['gross_earn'] для детального просмотра данных"
      ],
      "metadata": {
        "id": "eBUu_knwrV3n"
      }
    },
    {
      "cell_type": "code",
      "execution_count": 53,
      "metadata": {
        "id": "a5tCaUfZrotU",
        "colab": {
          "base_uri": "https://localhost:8080/"
        },
        "outputId": "f3972afc-82d0-4c27-b0c1-5e2687f7732f"
      },
      "outputs": [
        {
          "output_type": "stream",
          "name": "stdout",
          "text": [
            "0        28.34\n",
            "1       534.86\n",
            "2       292.58\n",
            "3        37.03\n",
            "4       107.93\n",
            "         ...  \n",
            "4995      9.40\n",
            "4996       NaN\n",
            "4997       NaN\n",
            "4998      6.67\n",
            "4999      8.20\n",
            "Name: gross_earn, Length: 5000, dtype: float64\n"
          ]
        }
      ],
      "source": [
        "print(filtered_dataset['gross_earn'])"
      ]
    },
    {
      "cell_type": "markdown",
      "source": [
        "Напишите функцию, которая исключит нецифровые символы с помощью регулярных выражений"
      ],
      "metadata": {
        "id": "uqKoqt1HrZnd"
      }
    },
    {
      "cell_type": "code",
      "source": [
        "import re\n",
        "\n",
        "def clear_gross_earn(gross_earn):\n",
        "    pattern = r'\\D'  # Регулярное выражение для нецифровых символов\n",
        "    return re.sub(pattern, '', str(gross_earn))"
      ],
      "metadata": {
        "id": "HyxrxpfProtX"
      },
      "execution_count": 56,
      "outputs": []
    },
    {
      "cell_type": "markdown",
      "source": [
        "Примените функцию к Series ['gross_earn'] с помощью метода apply()"
      ],
      "metadata": {
        "id": "4xqDl81prgBz"
      }
    },
    {
      "cell_type": "code",
      "source": [
        "filtered_dataset['gross_earn'] = filtered_dataset['gross_earn'].apply(clear_gross_earn)"
      ],
      "metadata": {
        "id": "fWln7bTSrotY"
      },
      "execution_count": 57,
      "outputs": []
    },
    {
      "cell_type": "markdown",
      "source": [
        "Ошибка TypeError, связанная с тем, что в какой-то момент в функцию попали пропущенные значения, которые она не смогла обработать"
      ],
      "metadata": {
        "id": "RAL5uqpnrmhY"
      }
    },
    {
      "cell_type": "markdown",
      "source": [
        "Оцените количество пропущенных значений по признаку с помощью метода isna() в связке с методом sum()"
      ],
      "metadata": {
        "id": "c_x8NDojr3rl"
      }
    },
    {
      "cell_type": "code",
      "source": [
        "missing_values_count = filtered_dataset['gross_earn'].isna().sum()\n",
        "print(\"Количество пропущенных значений в признаке 'gross_earn':\", missing_values_count)"
      ],
      "metadata": {
        "id": "AXWG2J1ErzQT",
        "colab": {
          "base_uri": "https://localhost:8080/"
        },
        "outputId": "7bc62f0a-e389-49cc-f25a-fb3af5baa7df"
      },
      "execution_count": 58,
      "outputs": [
        {
          "output_type": "stream",
          "name": "stdout",
          "text": [
            "Количество пропущенных значений в признаке 'gross_earn': 0\n"
          ]
        }
      ]
    },
    {
      "cell_type": "markdown",
      "source": [
        "Необходимо добавить в функцию обработку пустых значений. Для этого импортируйте библиотеку numpy с коротким наименованием np"
      ],
      "metadata": {
        "id": "GS11wCDTsAbW"
      }
    },
    {
      "cell_type": "code",
      "source": [
        "import numpy as np"
      ],
      "metadata": {
        "id": "hZP7gii2w0lN"
      },
      "execution_count": 59,
      "outputs": []
    },
    {
      "cell_type": "markdown",
      "source": [
        "Добавьте в функцию проверку на пустые значения с помощью метода pandas pd.isna(). В случае пропуска она должна вернуть пустое значение np.nan; в ином случае - сохранить алгоритм, написанный ранее"
      ],
      "metadata": {
        "id": "n8YBVKFXsNY-"
      }
    },
    {
      "cell_type": "code",
      "source": [
        "def clear_gross_earn(gross_earn):\n",
        "  if pd.isna(gross_earn):\n",
        "    return np.nan\n",
        "  else:\n",
        "    return re.sub('\\D', '', gross_earn)"
      ],
      "metadata": {
        "id": "herSamxHwxNo"
      },
      "execution_count": 60,
      "outputs": []
    },
    {
      "cell_type": "markdown",
      "source": [
        "Примените функцию к Series ['gross_earn'] с помощью метода apply()"
      ],
      "metadata": {
        "id": "N1QwLObasy1l"
      }
    },
    {
      "cell_type": "code",
      "source": [
        "filtered_dataset['gross_earn'] = filtered_dataset['gross_earn'].apply(clear_gross_earn)"
      ],
      "metadata": {
        "id": "A6_Q4diKxC8V"
      },
      "execution_count": 68,
      "outputs": []
    },
    {
      "cell_type": "markdown",
      "source": [
        "Создайте столбец gross_earn в исходном датасете, применив функцию к признаку gross_earn"
      ],
      "metadata": {
        "id": "de36T4hks3v_"
      }
    },
    {
      "cell_type": "code",
      "source": [
        "\"\"\"Этот код преобразует значения в столбце 'gross_earn' в числовой тип данных, \n",
        "при этом пустые значения будут преобразованы в NaN. Результаты сохраняются \n",
        "обратно в столбец 'gross_earn' в исходном датасете.\"\"\"\n",
        "dataset['gross_earn'] = pd.to_numeric(dataset['gross_earn'], errors='coerce')\n",
        "dataset['gross_earn_clear'] = pd.to_numeric(dataset['gross_earn'], errors='coerce')"
      ],
      "metadata": {
        "id": "F_ZKUk3xrotZ"
      },
      "execution_count": 73,
      "outputs": []
    },
    {
      "cell_type": "markdown",
      "source": [
        "Выведите Series ['gross_earn_clear'] для оценки результата"
      ],
      "metadata": {
        "id": "jGMzKot8tBji"
      }
    },
    {
      "cell_type": "code",
      "source": [
        "print(dataset['gross_earn_clear'])"
      ],
      "metadata": {
        "id": "YC4Gmts7rotZ",
        "colab": {
          "base_uri": "https://localhost:8080/"
        },
        "outputId": "968fc773-d8f4-4619-e51d-5fed10dd4d92"
      },
      "execution_count": 74,
      "outputs": [
        {
          "output_type": "stream",
          "name": "stdout",
          "text": [
            "0        28.34\n",
            "1       534.86\n",
            "2       292.58\n",
            "3        37.03\n",
            "4       107.93\n",
            "         ...  \n",
            "4995      9.40\n",
            "4996       NaN\n",
            "4997       NaN\n",
            "4998      6.67\n",
            "4999      8.20\n",
            "Name: gross_earn_clear, Length: 5000, dtype: float64\n"
          ]
        }
      ]
    },
    {
      "cell_type": "markdown",
      "source": [
        "Приведите признак gross_earn_clear в формат int с помощью метода astype()"
      ],
      "metadata": {
        "id": "ezGCPh3rtMU_"
      }
    },
    {
      "cell_type": "code",
      "source": [
        "dataset['gross_earn_clear'] = dataset['gross_earn_clear'].astype(int) # Ошибка, так как имеются NaN"
      ],
      "metadata": {
        "id": "8SCkBUOMrotb",
        "colab": {
          "base_uri": "https://localhost:8080/",
          "height": 323
        },
        "outputId": "f1af5c00-a5fe-4d06-b2c5-c4556b87eb2a"
      },
      "execution_count": 75,
      "outputs": [
        {
          "output_type": "error",
          "ename": "IntCastingNaNError",
          "evalue": "ignored",
          "traceback": [
            "\u001b[0;31m---------------------------------------------------------------------------\u001b[0m",
            "\u001b[0;31mIntCastingNaNError\u001b[0m                        Traceback (most recent call last)",
            "\u001b[0;32m<ipython-input-75-a92e4757bcc2>\u001b[0m in \u001b[0;36m<cell line: 1>\u001b[0;34m()\u001b[0m\n\u001b[0;32m----> 1\u001b[0;31m \u001b[0mdataset\u001b[0m\u001b[0;34m[\u001b[0m\u001b[0;34m'gross_earn_clear'\u001b[0m\u001b[0;34m]\u001b[0m \u001b[0;34m=\u001b[0m \u001b[0mdataset\u001b[0m\u001b[0;34m[\u001b[0m\u001b[0;34m'gross_earn_clear'\u001b[0m\u001b[0;34m]\u001b[0m\u001b[0;34m.\u001b[0m\u001b[0mastype\u001b[0m\u001b[0;34m(\u001b[0m\u001b[0mint\u001b[0m\u001b[0;34m)\u001b[0m\u001b[0;34m\u001b[0m\u001b[0;34m\u001b[0m\u001b[0m\n\u001b[0m",
            "\u001b[0;32m/usr/local/lib/python3.10/dist-packages/pandas/core/generic.py\u001b[0m in \u001b[0;36mastype\u001b[0;34m(self, dtype, copy, errors)\u001b[0m\n\u001b[1;32m   6238\u001b[0m         \u001b[0;32melse\u001b[0m\u001b[0;34m:\u001b[0m\u001b[0;34m\u001b[0m\u001b[0;34m\u001b[0m\u001b[0m\n\u001b[1;32m   6239\u001b[0m             \u001b[0;31m# else, only a single dtype is given\u001b[0m\u001b[0;34m\u001b[0m\u001b[0;34m\u001b[0m\u001b[0m\n\u001b[0;32m-> 6240\u001b[0;31m             \u001b[0mnew_data\u001b[0m \u001b[0;34m=\u001b[0m \u001b[0mself\u001b[0m\u001b[0;34m.\u001b[0m\u001b[0m_mgr\u001b[0m\u001b[0;34m.\u001b[0m\u001b[0mastype\u001b[0m\u001b[0;34m(\u001b[0m\u001b[0mdtype\u001b[0m\u001b[0;34m=\u001b[0m\u001b[0mdtype\u001b[0m\u001b[0;34m,\u001b[0m \u001b[0mcopy\u001b[0m\u001b[0;34m=\u001b[0m\u001b[0mcopy\u001b[0m\u001b[0;34m,\u001b[0m \u001b[0merrors\u001b[0m\u001b[0;34m=\u001b[0m\u001b[0merrors\u001b[0m\u001b[0;34m)\u001b[0m\u001b[0;34m\u001b[0m\u001b[0;34m\u001b[0m\u001b[0m\n\u001b[0m\u001b[1;32m   6241\u001b[0m             \u001b[0;32mreturn\u001b[0m \u001b[0mself\u001b[0m\u001b[0;34m.\u001b[0m\u001b[0m_constructor\u001b[0m\u001b[0;34m(\u001b[0m\u001b[0mnew_data\u001b[0m\u001b[0;34m)\u001b[0m\u001b[0;34m.\u001b[0m\u001b[0m__finalize__\u001b[0m\u001b[0;34m(\u001b[0m\u001b[0mself\u001b[0m\u001b[0;34m,\u001b[0m \u001b[0mmethod\u001b[0m\u001b[0;34m=\u001b[0m\u001b[0;34m\"astype\"\u001b[0m\u001b[0;34m)\u001b[0m\u001b[0;34m\u001b[0m\u001b[0;34m\u001b[0m\u001b[0m\n\u001b[1;32m   6242\u001b[0m \u001b[0;34m\u001b[0m\u001b[0m\n",
            "\u001b[0;32m/usr/local/lib/python3.10/dist-packages/pandas/core/internals/managers.py\u001b[0m in \u001b[0;36mastype\u001b[0;34m(self, dtype, copy, errors)\u001b[0m\n\u001b[1;32m    446\u001b[0m \u001b[0;34m\u001b[0m\u001b[0m\n\u001b[1;32m    447\u001b[0m     \u001b[0;32mdef\u001b[0m \u001b[0mastype\u001b[0m\u001b[0;34m(\u001b[0m\u001b[0mself\u001b[0m\u001b[0;34m:\u001b[0m \u001b[0mT\u001b[0m\u001b[0;34m,\u001b[0m \u001b[0mdtype\u001b[0m\u001b[0;34m,\u001b[0m \u001b[0mcopy\u001b[0m\u001b[0;34m:\u001b[0m \u001b[0mbool\u001b[0m \u001b[0;34m=\u001b[0m \u001b[0;32mFalse\u001b[0m\u001b[0;34m,\u001b[0m \u001b[0merrors\u001b[0m\u001b[0;34m:\u001b[0m \u001b[0mstr\u001b[0m \u001b[0;34m=\u001b[0m \u001b[0;34m\"raise\"\u001b[0m\u001b[0;34m)\u001b[0m \u001b[0;34m->\u001b[0m \u001b[0mT\u001b[0m\u001b[0;34m:\u001b[0m\u001b[0;34m\u001b[0m\u001b[0;34m\u001b[0m\u001b[0m\n\u001b[0;32m--> 448\u001b[0;31m         \u001b[0;32mreturn\u001b[0m \u001b[0mself\u001b[0m\u001b[0;34m.\u001b[0m\u001b[0mapply\u001b[0m\u001b[0;34m(\u001b[0m\u001b[0;34m\"astype\"\u001b[0m\u001b[0;34m,\u001b[0m \u001b[0mdtype\u001b[0m\u001b[0;34m=\u001b[0m\u001b[0mdtype\u001b[0m\u001b[0;34m,\u001b[0m \u001b[0mcopy\u001b[0m\u001b[0;34m=\u001b[0m\u001b[0mcopy\u001b[0m\u001b[0;34m,\u001b[0m \u001b[0merrors\u001b[0m\u001b[0;34m=\u001b[0m\u001b[0merrors\u001b[0m\u001b[0;34m)\u001b[0m\u001b[0;34m\u001b[0m\u001b[0;34m\u001b[0m\u001b[0m\n\u001b[0m\u001b[1;32m    449\u001b[0m \u001b[0;34m\u001b[0m\u001b[0m\n\u001b[1;32m    450\u001b[0m     def convert(\n",
            "\u001b[0;32m/usr/local/lib/python3.10/dist-packages/pandas/core/internals/managers.py\u001b[0m in \u001b[0;36mapply\u001b[0;34m(self, f, align_keys, ignore_failures, **kwargs)\u001b[0m\n\u001b[1;32m    350\u001b[0m                     \u001b[0mapplied\u001b[0m \u001b[0;34m=\u001b[0m \u001b[0mb\u001b[0m\u001b[0;34m.\u001b[0m\u001b[0mapply\u001b[0m\u001b[0;34m(\u001b[0m\u001b[0mf\u001b[0m\u001b[0;34m,\u001b[0m \u001b[0;34m**\u001b[0m\u001b[0mkwargs\u001b[0m\u001b[0;34m)\u001b[0m\u001b[0;34m\u001b[0m\u001b[0;34m\u001b[0m\u001b[0m\n\u001b[1;32m    351\u001b[0m                 \u001b[0;32melse\u001b[0m\u001b[0;34m:\u001b[0m\u001b[0;34m\u001b[0m\u001b[0;34m\u001b[0m\u001b[0m\n\u001b[0;32m--> 352\u001b[0;31m                     \u001b[0mapplied\u001b[0m \u001b[0;34m=\u001b[0m \u001b[0mgetattr\u001b[0m\u001b[0;34m(\u001b[0m\u001b[0mb\u001b[0m\u001b[0;34m,\u001b[0m \u001b[0mf\u001b[0m\u001b[0;34m)\u001b[0m\u001b[0;34m(\u001b[0m\u001b[0;34m**\u001b[0m\u001b[0mkwargs\u001b[0m\u001b[0;34m)\u001b[0m\u001b[0;34m\u001b[0m\u001b[0;34m\u001b[0m\u001b[0m\n\u001b[0m\u001b[1;32m    353\u001b[0m             \u001b[0;32mexcept\u001b[0m \u001b[0;34m(\u001b[0m\u001b[0mTypeError\u001b[0m\u001b[0;34m,\u001b[0m \u001b[0mNotImplementedError\u001b[0m\u001b[0;34m)\u001b[0m\u001b[0;34m:\u001b[0m\u001b[0;34m\u001b[0m\u001b[0;34m\u001b[0m\u001b[0m\n\u001b[1;32m    354\u001b[0m                 \u001b[0;32mif\u001b[0m \u001b[0;32mnot\u001b[0m \u001b[0mignore_failures\u001b[0m\u001b[0;34m:\u001b[0m\u001b[0;34m\u001b[0m\u001b[0;34m\u001b[0m\u001b[0m\n",
            "\u001b[0;32m/usr/local/lib/python3.10/dist-packages/pandas/core/internals/blocks.py\u001b[0m in \u001b[0;36mastype\u001b[0;34m(self, dtype, copy, errors)\u001b[0m\n\u001b[1;32m    524\u001b[0m         \u001b[0mvalues\u001b[0m \u001b[0;34m=\u001b[0m \u001b[0mself\u001b[0m\u001b[0;34m.\u001b[0m\u001b[0mvalues\u001b[0m\u001b[0;34m\u001b[0m\u001b[0;34m\u001b[0m\u001b[0m\n\u001b[1;32m    525\u001b[0m \u001b[0;34m\u001b[0m\u001b[0m\n\u001b[0;32m--> 526\u001b[0;31m         \u001b[0mnew_values\u001b[0m \u001b[0;34m=\u001b[0m \u001b[0mastype_array_safe\u001b[0m\u001b[0;34m(\u001b[0m\u001b[0mvalues\u001b[0m\u001b[0;34m,\u001b[0m \u001b[0mdtype\u001b[0m\u001b[0;34m,\u001b[0m \u001b[0mcopy\u001b[0m\u001b[0;34m=\u001b[0m\u001b[0mcopy\u001b[0m\u001b[0;34m,\u001b[0m \u001b[0merrors\u001b[0m\u001b[0;34m=\u001b[0m\u001b[0merrors\u001b[0m\u001b[0;34m)\u001b[0m\u001b[0;34m\u001b[0m\u001b[0;34m\u001b[0m\u001b[0m\n\u001b[0m\u001b[1;32m    527\u001b[0m \u001b[0;34m\u001b[0m\u001b[0m\n\u001b[1;32m    528\u001b[0m         \u001b[0mnew_values\u001b[0m \u001b[0;34m=\u001b[0m \u001b[0mmaybe_coerce_values\u001b[0m\u001b[0;34m(\u001b[0m\u001b[0mnew_values\u001b[0m\u001b[0;34m)\u001b[0m\u001b[0;34m\u001b[0m\u001b[0;34m\u001b[0m\u001b[0m\n",
            "\u001b[0;32m/usr/local/lib/python3.10/dist-packages/pandas/core/dtypes/astype.py\u001b[0m in \u001b[0;36mastype_array_safe\u001b[0;34m(values, dtype, copy, errors)\u001b[0m\n\u001b[1;32m    297\u001b[0m \u001b[0;34m\u001b[0m\u001b[0m\n\u001b[1;32m    298\u001b[0m     \u001b[0;32mtry\u001b[0m\u001b[0;34m:\u001b[0m\u001b[0;34m\u001b[0m\u001b[0;34m\u001b[0m\u001b[0m\n\u001b[0;32m--> 299\u001b[0;31m         \u001b[0mnew_values\u001b[0m \u001b[0;34m=\u001b[0m \u001b[0mastype_array\u001b[0m\u001b[0;34m(\u001b[0m\u001b[0mvalues\u001b[0m\u001b[0;34m,\u001b[0m \u001b[0mdtype\u001b[0m\u001b[0;34m,\u001b[0m \u001b[0mcopy\u001b[0m\u001b[0;34m=\u001b[0m\u001b[0mcopy\u001b[0m\u001b[0;34m)\u001b[0m\u001b[0;34m\u001b[0m\u001b[0;34m\u001b[0m\u001b[0m\n\u001b[0m\u001b[1;32m    300\u001b[0m     \u001b[0;32mexcept\u001b[0m \u001b[0;34m(\u001b[0m\u001b[0mValueError\u001b[0m\u001b[0;34m,\u001b[0m \u001b[0mTypeError\u001b[0m\u001b[0;34m)\u001b[0m\u001b[0;34m:\u001b[0m\u001b[0;34m\u001b[0m\u001b[0;34m\u001b[0m\u001b[0m\n\u001b[1;32m    301\u001b[0m         \u001b[0;31m# e.g. astype_nansafe can fail on object-dtype of strings\u001b[0m\u001b[0;34m\u001b[0m\u001b[0;34m\u001b[0m\u001b[0m\n",
            "\u001b[0;32m/usr/local/lib/python3.10/dist-packages/pandas/core/dtypes/astype.py\u001b[0m in \u001b[0;36mastype_array\u001b[0;34m(values, dtype, copy)\u001b[0m\n\u001b[1;32m    228\u001b[0m \u001b[0;34m\u001b[0m\u001b[0m\n\u001b[1;32m    229\u001b[0m     \u001b[0;32melse\u001b[0m\u001b[0;34m:\u001b[0m\u001b[0;34m\u001b[0m\u001b[0;34m\u001b[0m\u001b[0m\n\u001b[0;32m--> 230\u001b[0;31m         \u001b[0mvalues\u001b[0m \u001b[0;34m=\u001b[0m \u001b[0mastype_nansafe\u001b[0m\u001b[0;34m(\u001b[0m\u001b[0mvalues\u001b[0m\u001b[0;34m,\u001b[0m \u001b[0mdtype\u001b[0m\u001b[0;34m,\u001b[0m \u001b[0mcopy\u001b[0m\u001b[0;34m=\u001b[0m\u001b[0mcopy\u001b[0m\u001b[0;34m)\u001b[0m\u001b[0;34m\u001b[0m\u001b[0;34m\u001b[0m\u001b[0m\n\u001b[0m\u001b[1;32m    231\u001b[0m \u001b[0;34m\u001b[0m\u001b[0m\n\u001b[1;32m    232\u001b[0m     \u001b[0;31m# in pandas we don't store numpy str dtypes, so convert to object\u001b[0m\u001b[0;34m\u001b[0m\u001b[0;34m\u001b[0m\u001b[0m\n",
            "\u001b[0;32m/usr/local/lib/python3.10/dist-packages/pandas/core/dtypes/astype.py\u001b[0m in \u001b[0;36mastype_nansafe\u001b[0;34m(arr, dtype, copy, skipna)\u001b[0m\n\u001b[1;32m    138\u001b[0m \u001b[0;34m\u001b[0m\u001b[0m\n\u001b[1;32m    139\u001b[0m     \u001b[0;32melif\u001b[0m \u001b[0mnp\u001b[0m\u001b[0;34m.\u001b[0m\u001b[0missubdtype\u001b[0m\u001b[0;34m(\u001b[0m\u001b[0marr\u001b[0m\u001b[0;34m.\u001b[0m\u001b[0mdtype\u001b[0m\u001b[0;34m,\u001b[0m \u001b[0mnp\u001b[0m\u001b[0;34m.\u001b[0m\u001b[0mfloating\u001b[0m\u001b[0;34m)\u001b[0m \u001b[0;32mand\u001b[0m \u001b[0mis_integer_dtype\u001b[0m\u001b[0;34m(\u001b[0m\u001b[0mdtype\u001b[0m\u001b[0;34m)\u001b[0m\u001b[0;34m:\u001b[0m\u001b[0;34m\u001b[0m\u001b[0;34m\u001b[0m\u001b[0m\n\u001b[0;32m--> 140\u001b[0;31m         \u001b[0;32mreturn\u001b[0m \u001b[0m_astype_float_to_int_nansafe\u001b[0m\u001b[0;34m(\u001b[0m\u001b[0marr\u001b[0m\u001b[0;34m,\u001b[0m \u001b[0mdtype\u001b[0m\u001b[0;34m,\u001b[0m \u001b[0mcopy\u001b[0m\u001b[0;34m)\u001b[0m\u001b[0;34m\u001b[0m\u001b[0;34m\u001b[0m\u001b[0m\n\u001b[0m\u001b[1;32m    141\u001b[0m \u001b[0;34m\u001b[0m\u001b[0m\n\u001b[1;32m    142\u001b[0m     \u001b[0;32melif\u001b[0m \u001b[0mis_object_dtype\u001b[0m\u001b[0;34m(\u001b[0m\u001b[0marr\u001b[0m\u001b[0;34m.\u001b[0m\u001b[0mdtype\u001b[0m\u001b[0;34m)\u001b[0m\u001b[0;34m:\u001b[0m\u001b[0;34m\u001b[0m\u001b[0;34m\u001b[0m\u001b[0m\n",
            "\u001b[0;32m/usr/local/lib/python3.10/dist-packages/pandas/core/dtypes/astype.py\u001b[0m in \u001b[0;36m_astype_float_to_int_nansafe\u001b[0;34m(values, dtype, copy)\u001b[0m\n\u001b[1;32m    180\u001b[0m     \"\"\"\n\u001b[1;32m    181\u001b[0m     \u001b[0;32mif\u001b[0m \u001b[0;32mnot\u001b[0m \u001b[0mnp\u001b[0m\u001b[0;34m.\u001b[0m\u001b[0misfinite\u001b[0m\u001b[0;34m(\u001b[0m\u001b[0mvalues\u001b[0m\u001b[0;34m)\u001b[0m\u001b[0;34m.\u001b[0m\u001b[0mall\u001b[0m\u001b[0;34m(\u001b[0m\u001b[0;34m)\u001b[0m\u001b[0;34m:\u001b[0m\u001b[0;34m\u001b[0m\u001b[0;34m\u001b[0m\u001b[0m\n\u001b[0;32m--> 182\u001b[0;31m         raise IntCastingNaNError(\n\u001b[0m\u001b[1;32m    183\u001b[0m             \u001b[0;34m\"Cannot convert non-finite values (NA or inf) to integer\"\u001b[0m\u001b[0;34m\u001b[0m\u001b[0;34m\u001b[0m\u001b[0m\n\u001b[1;32m    184\u001b[0m         )\n",
            "\u001b[0;31mIntCastingNaNError\u001b[0m: Cannot convert non-finite values (NA or inf) to integer"
          ]
        }
      ]
    },
    {
      "cell_type": "markdown",
      "source": [
        "Ошибка ValueError, связанная с тем, что метод не может перевести значения NaN (которые имеют тип данных float) в формат int. Попробуйте применить метод pandas pd.numeric(), чтобы привести данные в числовой формат numpy.float64, подходящий для дальнейшего переводы в int64"
      ],
      "metadata": {
        "id": "5hq8CSHQtUdp"
      }
    },
    {
      "cell_type": "code",
      "source": [
        "dataset['gross_earn_clear'] = pd.to_numeric(dataset['gross_earn_clear'])"
      ],
      "metadata": {
        "id": "vwVteSaErotb"
      },
      "execution_count": 76,
      "outputs": []
    },
    {
      "cell_type": "markdown",
      "source": [
        "Проверьте тип данных на любом значении признака с помощью функции type()"
      ],
      "metadata": {
        "id": "USmtQ-IUuRZR"
      }
    },
    {
      "cell_type": "code",
      "source": [
        "value = dataset['gross_earn_clear'].iloc[0] #Метод iloc[0] используется для получения значения по определенному индексу в датафрейме или серии данных.\n",
        "data_type = type(value)\n",
        "print(data_type)"
      ],
      "metadata": {
        "id": "fgyoVFBnzL1p",
        "colab": {
          "base_uri": "https://localhost:8080/"
        },
        "outputId": "12a72f2a-1385-405c-9033-68d0171d2db4"
      },
      "execution_count": 77,
      "outputs": [
        {
          "output_type": "stream",
          "name": "stdout",
          "text": [
            "<class 'numpy.float64'>\n"
          ]
        }
      ]
    },
    {
      "cell_type": "markdown",
      "source": [
        "Тип данных - numpy.float64. Приведите признак gross_earn_clear в формат Int64 с помощью метода astype()"
      ],
      "metadata": {
        "id": "v-hrj5SQuZjE"
      }
    },
    {
      "cell_type": "code",
      "source": [
        "\"\"\"Значения в столбце \"gross_earn_clear\" имеют тип float64, но \n",
        "содержат пропущенные значения (NaN), в таком случае прямое приведение к \n",
        "целочисленному типу int64 может вызвать ошибку. Используем метод fillna() \n",
        "для заполнения пропущенных значений нулями перед приведением типа.\"\"\"\n",
        "\n",
        "dataset['gross_earn_clear'] = dataset['gross_earn_clear'].fillna(0).astype(np.int64)"
      ],
      "metadata": {
        "id": "hjAP_2NuzRiI"
      },
      "execution_count": 82,
      "outputs": []
    },
    {
      "cell_type": "markdown",
      "source": [
        "Код был выполнен. Оцените результат, детально рассмотрев Series ['gross_earn_clear']"
      ],
      "metadata": {
        "id": "XEE1rc2Vuo78"
      }
    },
    {
      "cell_type": "code",
      "source": [
        "print(dataset['gross_earn_clear'])"
      ],
      "metadata": {
        "id": "0LpWHrxJzYl7",
        "colab": {
          "base_uri": "https://localhost:8080/"
        },
        "outputId": "29602389-d81b-4af8-ef53-2f8e914fefd3"
      },
      "execution_count": 83,
      "outputs": [
        {
          "output_type": "stream",
          "name": "stdout",
          "text": [
            "0        28\n",
            "1       534\n",
            "2       292\n",
            "3        37\n",
            "4       107\n",
            "       ... \n",
            "4995      9\n",
            "4996      0\n",
            "4997      0\n",
            "4998      6\n",
            "4999      8\n",
            "Name: gross_earn_clear, Length: 5000, dtype: int64\n"
          ]
        }
      ]
    },
    {
      "cell_type": "markdown",
      "source": [
        "Выведите информацию о датасете с помощью метода info()"
      ],
      "metadata": {
        "id": "pU_iMRmhu19Z"
      }
    },
    {
      "cell_type": "code",
      "source": [
        "print(dataset.info())"
      ],
      "metadata": {
        "id": "mONxpon3rotd",
        "colab": {
          "base_uri": "https://localhost:8080/"
        },
        "outputId": "83d55754-781e-4dc6-ece2-15ccb32062b5"
      },
      "execution_count": 84,
      "outputs": [
        {
          "output_type": "stream",
          "name": "stdout",
          "text": [
            "<class 'pandas.core.frame.DataFrame'>\n",
            "RangeIndex: 5000 entries, 0 to 4999\n",
            "Data columns (total 13 columns):\n",
            " #   Column            Non-Null Count  Dtype  \n",
            "---  ------            --------------  -----  \n",
            " 0   poster            5000 non-null   object \n",
            " 1   title             5000 non-null   object \n",
            " 2   certificate       5000 non-null   object \n",
            " 3   runtime           4970 non-null   float64\n",
            " 4   genre             4970 non-null   object \n",
            " 5   rating            5000 non-null   float64\n",
            " 6   about             4986 non-null   object \n",
            " 7   director          5000 non-null   object \n",
            " 8   stars             5000 non-null   object \n",
            " 9   votes             5000 non-null   object \n",
            " 10  gross_earn        4585 non-null   float64\n",
            " 11  runtime_clear     4970 non-null   float64\n",
            " 12  gross_earn_clear  5000 non-null   int64  \n",
            "dtypes: float64(4), int64(1), object(8)\n",
            "memory usage: 507.9+ KB\n",
            "None\n"
          ]
        }
      ]
    },
    {
      "cell_type": "markdown",
      "source": [
        "Все получилось: признаки runtime и gross_earn в числовом формате!"
      ],
      "metadata": {
        "id": "edPJiFwmu6ta"
      }
    },
    {
      "cell_type": "markdown",
      "source": [
        "## 6. Сортировка по рейтингу"
      ],
      "metadata": {
        "id": "Bd-m3BJcz06-"
      }
    },
    {
      "cell_type": "markdown",
      "source": [
        "Отсортируйте датасет в порядке убывания рейтинга фильмов (rating), применив метод sort_values() с переданным в него параметром ascending=False"
      ],
      "metadata": {
        "id": "gclevZr3vDaj"
      }
    },
    {
      "cell_type": "code",
      "source": [
        "sorted_dataset = dataset.sort_values(by='rating', ascending=False)\n",
        "print(sorted_dataset)"
      ],
      "metadata": {
        "id": "UXanY_pIrDoo",
        "colab": {
          "base_uri": "https://localhost:8080/"
        },
        "outputId": "ef5ecdd4-e13c-46d3-bb96-dc008fe12734"
      },
      "execution_count": 85,
      "outputs": [
        {
          "output_type": "stream",
          "name": "stdout",
          "text": [
            "                                                 poster  \\\n",
            "0     https://m.media-amazon.com/images/S/sash/4Fyxw...   \n",
            "3788  https://m.media-amazon.com/images/S/sash/4Fyxw...   \n",
            "9     https://m.media-amazon.com/images/S/sash/4Fyxw...   \n",
            "8     https://m.media-amazon.com/images/S/sash/4Fyxw...   \n",
            "1     https://m.media-amazon.com/images/S/sash/4Fyxw...   \n",
            "...                                                 ...   \n",
            "4021  https://m.media-amazon.com/images/S/sash/4Fyxw...   \n",
            "3237  https://m.media-amazon.com/images/S/sash/4Fyxw...   \n",
            "1751  https://m.media-amazon.com/images/S/sash/4Fyxw...   \n",
            "3426  https://m.media-amazon.com/images/S/sash/4Fyxw...   \n",
            "3871  https://m.media-amazon.com/images/S/sash/4Fyxw...   \n",
            "\n",
            "                                              title certificate  runtime  \\\n",
            "0                          The Shawshank Redemption          15    142.0   \n",
            "3788                                 Hababam Sinifi         12A     87.0   \n",
            "9                                     The Godfather           X    175.0   \n",
            "8     The Lord of the Rings: The Return of the King         12A    201.0   \n",
            "1                                   The Dark Knight         12A    152.0   \n",
            "...                                             ...         ...      ...   \n",
            "4021                           From Justin to Kelly          PG     81.0   \n",
            "3237                        The Hottie & the Nottie         12A     91.0   \n",
            "1751                                 Disaster Movie         12A     87.0   \n",
            "3426                       Manos: The Hands of Fate      70 min      NaN   \n",
            "3871                   Superbabies: Baby Geniuses 2           U     88.0   \n",
            "\n",
            "                         genre  rating  \\\n",
            "0                        Drama     9.3   \n",
            "3788             Comedy, Drama     9.2   \n",
            "9                 Crime, Drama     9.2   \n",
            "8     Action, Adventure, Drama     9.0   \n",
            "1         Action, Crime, Drama     9.0   \n",
            "...                        ...     ...   \n",
            "4021  Comedy, Musical, Romance     1.9   \n",
            "3237           Comedy, Romance     1.9   \n",
            "1751            Comedy, Sci-Fi     1.9   \n",
            "3426                       NaN     1.6   \n",
            "3871    Comedy, Family, Sci-Fi     1.5   \n",
            "\n",
            "                                                  about              director  \\\n",
            "0     Two imprisoned men bond over a number of years...        Frank Darabont   \n",
            "3788  Lazy, uneducated students share a very close b...         Ertem Egilmez   \n",
            "9     The aging patriarch of an organized crime dyna...  Francis Ford Coppola   \n",
            "8     Gandalf and Aragorn lead the World of Men agai...         Peter Jackson   \n",
            "1     When the menace known as the Joker wreaks havo...     Christopher Nolan   \n",
            "...                                                 ...                   ...   \n",
            "4021  A waitress from Texas and a college student fr...         Robert Iscove   \n",
            "3237  A woman agrees to go on a date with a man only...            Tom Putnam   \n",
            "1751  Over the course of one evening, an unsuspectin...       Jason Friedberg   \n",
            "3426  A family gets lost on the road and stumbles up...      Harold P. Warren   \n",
            "3871  A group of smart-talking toddlers find themsel...             Bob Clark   \n",
            "\n",
            "                                                  stars      votes  \\\n",
            "0     ('Tim Robbins',), ('Morgan Freeman',), ('Bob G...  26,26,905   \n",
            "3788  ('Kemal Sunal',), ('Münir Özkul',), ('Halit Ak...     40,492   \n",
            "9     ('Marlon Brando',), ('Al Pacino',), ('James Ca...  18,19,641   \n",
            "8     ('Elijah Wood',), ('Viggo Mortensen',), ('Ian ...  18,01,662   \n",
            "1     ('Christian Bale',), ('Heath Ledger',), ('Aaro...  25,98,173   \n",
            "...                                                 ...        ...   \n",
            "4021  ('Kelly Clarkson',), ('Justin Guarini',), ('Ka...     26,478   \n",
            "3237  ('Paris Hilton',), ('Joel David Moore',), ('Ch...     38,334   \n",
            "1751  ('Aaron Seltzer',), ('Carmen Electra',), ('Van...     91,413   \n",
            "3426  ('Tom Neyman',), ('John Reynolds',), ('Diane A...     36,352   \n",
            "3871  ('Jon Voight',), ('Scott Baio',), ('Vanessa An...     31,069   \n",
            "\n",
            "      gross_earn  runtime_clear  gross_earn_clear  \n",
            "0          28.34          142.0                28  \n",
            "3788         NaN           87.0                 0  \n",
            "9         134.97          175.0               134  \n",
            "8         377.85          201.0               377  \n",
            "1         534.86          152.0               534  \n",
            "...          ...            ...               ...  \n",
            "4021        4.92           81.0                 4  \n",
            "3237        0.03           91.0                 0  \n",
            "1751       14.19           87.0                14  \n",
            "3426         NaN            NaN                 0  \n",
            "3871        9.11           88.0                 9  \n",
            "\n",
            "[5000 rows x 13 columns]\n"
          ]
        }
      ]
    },
    {
      "cell_type": "markdown",
      "source": [
        "## 7. Переопределение индексов"
      ],
      "metadata": {
        "id": "vAJp76vN0gTL"
      }
    },
    {
      "cell_type": "markdown",
      "source": [
        "Переопределите индексы по порядку с помощью метода reset_index() с переданными в него параметрами drop=True для удаления предыдущего столбца индексов и inplace=True для автоматической перезаписи таблицы"
      ],
      "metadata": {
        "id": "jTBRnhPhvcoT"
      }
    },
    {
      "cell_type": "code",
      "source": [
        "dataset.reset_index(drop=True, inplace=True)\n",
        "print(dataset)"
      ],
      "metadata": {
        "id": "YK8ZVEoB0L9o",
        "colab": {
          "base_uri": "https://localhost:8080/"
        },
        "outputId": "cf03a9ab-a51c-40b7-bbf2-446ba99158db"
      },
      "execution_count": 86,
      "outputs": [
        {
          "output_type": "stream",
          "name": "stdout",
          "text": [
            "                                                 poster  \\\n",
            "0     https://m.media-amazon.com/images/S/sash/4Fyxw...   \n",
            "1     https://m.media-amazon.com/images/S/sash/4Fyxw...   \n",
            "2     https://m.media-amazon.com/images/S/sash/4Fyxw...   \n",
            "3     https://m.media-amazon.com/images/S/sash/4Fyxw...   \n",
            "4     https://m.media-amazon.com/images/S/sash/4Fyxw...   \n",
            "...                                                 ...   \n",
            "4995  https://m.media-amazon.com/images/S/sash/4Fyxw...   \n",
            "4996  https://m.media-amazon.com/images/S/sash/4Fyxw...   \n",
            "4997  https://m.media-amazon.com/images/S/sash/4Fyxw...   \n",
            "4998  https://m.media-amazon.com/images/S/sash/4Fyxw...   \n",
            "4999  https://m.media-amazon.com/images/S/sash/4Fyxw...   \n",
            "\n",
            "                                title certificate  runtime  \\\n",
            "0            The Shawshank Redemption          15    142.0   \n",
            "1                     The Dark Knight         12A    152.0   \n",
            "2                           Inception         12A    148.0   \n",
            "3                          Fight Club          18    139.0   \n",
            "4                        Pulp Fiction          18    154.0   \n",
            "...                               ...         ...      ...   \n",
            "4995  Seven Brides for Seven Brothers           U    102.0   \n",
            "4996                  Playing It Cool          15     94.0   \n",
            "4997             A Moment to Remember     144 min      NaN   \n",
            "4998                        Hairspray          PG     92.0   \n",
            "4999             McCabe & Mrs. Miller           X    120.0   \n",
            "\n",
            "                          genre  rating  \\\n",
            "0                         Drama     9.3   \n",
            "1          Action, Crime, Drama     9.0   \n",
            "2     Action, Adventure, Sci-Fi     8.8   \n",
            "3                         Drama     8.8   \n",
            "4                  Crime, Drama     8.9   \n",
            "...                         ...     ...   \n",
            "4995     Comedy, Drama, Musical     7.3   \n",
            "4996            Comedy, Romance     5.9   \n",
            "4997                        NaN     8.1   \n",
            "4998      Comedy, Drama, Family     7.0   \n",
            "4999             Drama, Western     7.6   \n",
            "\n",
            "                                                  about           director  \\\n",
            "0     Two imprisoned men bond over a number of years...     Frank Darabont   \n",
            "1     When the menace known as the Joker wreaks havo...  Christopher Nolan   \n",
            "2     A thief who steals corporate secrets through t...  Christopher Nolan   \n",
            "3     An insomniac office worker and a devil-may-car...      David Fincher   \n",
            "4     The lives of two mob hitmen, a boxer, a gangst...  Quentin Tarantino   \n",
            "...                                                 ...                ...   \n",
            "4995  In 1850 Oregon, when a backwoodsman brings a w...      Stanley Donen   \n",
            "4996  Unrequited love motivates a guy to write about...     Justin Reardon   \n",
            "4997  A young couple's enduring love is tested when ...        John H. Lee   \n",
            "4998  A 'pleasantly plump' teenager teaches 1962 Bal...        John Waters   \n",
            "4999  A gambler and a prostitute become business par...      Robert Altman   \n",
            "\n",
            "                                                  stars      votes  \\\n",
            "0     ('Tim Robbins',), ('Morgan Freeman',), ('Bob G...  26,26,905   \n",
            "1     ('Christian Bale',), ('Heath Ledger',), ('Aaro...  25,98,173   \n",
            "2     ('Leonardo DiCaprio',), ('Joseph Gordon-Levitt...  23,04,062   \n",
            "3     ('Brad Pitt',), ('Edward Norton',), ('Meat Loa...  20,71,088   \n",
            "4     ('John Travolta',), ('Uma Thurman',), ('Samuel...  20,11,013   \n",
            "...                                                 ...        ...   \n",
            "4995  ('Jane Powell',), ('Howard Keel',), ('Jeff Ric...     25,112   \n",
            "4996  ('Chris Evans',), ('Michelle Monaghan',), ('To...     28,515   \n",
            "4997  ('Jung Woo-sung',), ('Son Ye-jin',), ('Jong-ha...     23,957   \n",
            "4998  ('Sonny Bono',), ('Ruth Brown',), ('Divine',),...     21,536   \n",
            "4999  ('Warren Beatty',), ('Julie Christie',), ('Ren...     25,097   \n",
            "\n",
            "      gross_earn  runtime_clear  gross_earn_clear  \n",
            "0          28.34          142.0                28  \n",
            "1         534.86          152.0               534  \n",
            "2         292.58          148.0               292  \n",
            "3          37.03          139.0                37  \n",
            "4         107.93          154.0               107  \n",
            "...          ...            ...               ...  \n",
            "4995        9.40          102.0                 9  \n",
            "4996         NaN           94.0                 0  \n",
            "4997         NaN            NaN                 0  \n",
            "4998        6.67           92.0                 6  \n",
            "4999        8.20          120.0                 8  \n",
            "\n",
            "[5000 rows x 13 columns]\n"
          ]
        }
      ]
    },
    {
      "cell_type": "markdown",
      "source": [
        "## 8. Сохранение датасета"
      ],
      "metadata": {
        "id": "rfhui4VDeBZ9"
      }
    },
    {
      "cell_type": "markdown",
      "source": [
        "Сохраните датасет под названием movies_clean в формате csv и скачайте его себе на ПК. Он Понадобится Вам при дальнейшем выполнении тренировочных заданий"
      ],
      "metadata": {
        "id": "BM47OTjHv1K_"
      }
    },
    {
      "cell_type": "code",
      "source": [
        "\"\"\"Чтобы сохранить датасет в формате CSV, можно использовать метод to_csv() и \n",
        "указать путь к файлу, в котором нужно сохранить данные.\"\"\"\n",
        "import os\n",
        "dataset.to_csv('movies_clean.csv', index=False)\n",
        "os.getcwd()\n",
        "from google.colab import files\n",
        "files.download('movies_clean.csv')"
      ],
      "metadata": {
        "id": "mQE36Xmz0z_6",
        "colab": {
          "base_uri": "https://localhost:8080/",
          "height": 17
        },
        "outputId": "b0c6eef0-bb85-4c65-be47-a9bf770a6caf"
      },
      "execution_count": 89,
      "outputs": [
        {
          "output_type": "display_data",
          "data": {
            "text/plain": [
              "<IPython.core.display.Javascript object>"
            ],
            "application/javascript": [
              "\n",
              "    async function download(id, filename, size) {\n",
              "      if (!google.colab.kernel.accessAllowed) {\n",
              "        return;\n",
              "      }\n",
              "      const div = document.createElement('div');\n",
              "      const label = document.createElement('label');\n",
              "      label.textContent = `Downloading \"${filename}\": `;\n",
              "      div.appendChild(label);\n",
              "      const progress = document.createElement('progress');\n",
              "      progress.max = size;\n",
              "      div.appendChild(progress);\n",
              "      document.body.appendChild(div);\n",
              "\n",
              "      const buffers = [];\n",
              "      let downloaded = 0;\n",
              "\n",
              "      const channel = await google.colab.kernel.comms.open(id);\n",
              "      // Send a message to notify the kernel that we're ready.\n",
              "      channel.send({})\n",
              "\n",
              "      for await (const message of channel.messages) {\n",
              "        // Send a message to notify the kernel that we're ready.\n",
              "        channel.send({})\n",
              "        if (message.buffers) {\n",
              "          for (const buffer of message.buffers) {\n",
              "            buffers.push(buffer);\n",
              "            downloaded += buffer.byteLength;\n",
              "            progress.value = downloaded;\n",
              "          }\n",
              "        }\n",
              "      }\n",
              "      const blob = new Blob(buffers, {type: 'application/binary'});\n",
              "      const a = document.createElement('a');\n",
              "      a.href = window.URL.createObjectURL(blob);\n",
              "      a.download = filename;\n",
              "      div.appendChild(a);\n",
              "      a.click();\n",
              "      div.remove();\n",
              "    }\n",
              "  "
            ]
          },
          "metadata": {}
        },
        {
          "output_type": "display_data",
          "data": {
            "text/plain": [
              "<IPython.core.display.Javascript object>"
            ],
            "application/javascript": [
              "download(\"download_518d7135-a878-4ffb-b5ee-23344f92a012\", \"movies_clean.csv\", 1910813)"
            ]
          },
          "metadata": {}
        }
      ]
    },
    {
      "cell_type": "markdown",
      "source": [
        "**Поздравляем! Часть 1 задания по модулю EDA выполнена! Далее Вас ожидает разведочный анализ данных!**"
      ],
      "metadata": {
        "id": "jqnyCEDkwGvN"
      }
    }
  ],
  "metadata": {
    "colab": {
      "provenance": [],
      "toc_visible": true,
      "include_colab_link": true
    },
    "kernelspec": {
      "display_name": "Python 3",
      "name": "python3"
    },
    "language_info": {
      "name": "python"
    }
  },
  "nbformat": 4,
  "nbformat_minor": 0
}