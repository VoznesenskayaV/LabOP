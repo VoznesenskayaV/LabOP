{
  "nbformat": 4,
  "nbformat_minor": 0,
  "metadata": {
    "colab": {
      "provenance": [],
      "authorship_tag": "ABX9TyNCZsAobeviGRa/MB2mpII9",
      "include_colab_link": true
    },
    "kernelspec": {
      "name": "python3",
      "display_name": "Python 3"
    },
    "language_info": {
      "name": "python"
    }
  },
  "cells": [
    {
      "cell_type": "markdown",
      "metadata": {
        "id": "view-in-github",
        "colab_type": "text"
      },
      "source": [
        "<a href=\"https://colab.research.google.com/github/VoznesenskayaV/LabOP/blob/main/L1.ipynb\" target=\"_parent\"><img src=\"https://colab.research.google.com/assets/colab-badge.svg\" alt=\"Open In Colab\"/></a>"
      ]
    },
    {
      "cell_type": "code",
      "execution_count": null,
      "metadata": {
        "colab": {
          "base_uri": "https://localhost:8080/"
        },
        "id": "4xGr7wzTZzYW",
        "outputId": "a35f5508-638d-4fa2-9a60-0ae11371d5f3"
      },
      "outputs": [
        {
          "output_type": "stream",
          "name": "stdout",
          "text": [
            "['a', 'b', 'c']\n",
            "This is a string\n"
          ]
        }
      ],
      "source": [
        "x = ['a', 'b']\n",
        "x.append('c')\n",
        "print(x)\n",
        "s = 'This is a string'\n",
        "s.upper()\n",
        "s.lower()\n",
        "s.replace('This', 'That')\n",
        "print(s)"
      ]
    },
    {
      "cell_type": "code",
      "source": [
        "class Car:\n",
        "  color = 'Grey'\n",
        "  def drive(self):\n",
        "    pass\n",
        "  def price(self):\n",
        "    pass \n"
      ],
      "metadata": {
        "id": "K4J2Yl8XsLoZ"
      },
      "execution_count": null,
      "outputs": []
    },
    {
      "cell_type": "code",
      "source": [
        "class Car:\n",
        "# Статические поля (переменные класса)\n",
        "  default_color = 'Grey'\n",
        "  default_model = 'BMW'\n",
        "  def drive(self):\n",
        "    pass\n",
        "  def price(self):\n",
        "    pass "
      ],
      "metadata": {
        "id": "n2WIFojjskIy"
      },
      "execution_count": null,
      "outputs": []
    },
    {
      "cell_type": "code",
      "source": [
        "class Car:\n",
        "# Статические поля (переменные класса)\n",
        "  default_color = 'Grey'\n",
        "  default_model = 'BMW'\n",
        "  def __init__(self, color, model):\n",
        "# Динамические поля (переменные объекта)\n",
        "    self.color = color\n",
        "    self.model = model"
      ],
      "metadata": {
        "id": "qTejxc81tA3j"
      },
      "execution_count": null,
      "outputs": []
    },
    {
      "cell_type": "code",
      "source": [
        "class Car:\n",
        "  def __init__(self, color, model):\n",
        "    self.color = color\n",
        "    self.model = model\n",
        " # Методы экземпляра класса\n",
        " # Первый параметр метода - self\n",
        "  def check_sim(self, country):\n",
        "    if self.model == 'BMW' and country == 'Germany':\n",
        "      print('Your car is good')"
      ],
      "metadata": {
        "id": "ubCwyc1DtU7H"
      },
      "execution_count": null,
      "outputs": []
    },
    {
      "cell_type": "code",
      "source": [
        "import hashlib\n",
        "class Car:\n",
        " # Статический метод справочного характера\n",
        " # Возвращает хэш по номеру модели\n",
        " # self внутри метода отсутствует\n",
        " \n",
        "  def model_hash(model):\n",
        "    if model == 'BMW':\n",
        "      return 'the machine series is not defined in'\n",
        "    elif model == 'BMW X6':\n",
        "      return hash(model)\n",
        "    else:\n",
        "      return 'The manufacturer is not defined'\n",
        " # Обычный метод\n",
        "  def check_model(self, model):\n",
        "    pass \n"
      ],
      "metadata": {
        "id": "VyvdbILztkRW"
      },
      "execution_count": null,
      "outputs": []
    },
    {
      "cell_type": "code",
      "source": [
        "class Car:\n",
        "  def __init__(self, color, model, price):\n",
        "    self.color = color\n",
        "    self.model = model\n",
        "    self.price = price\n",
        " # Метод класса\n",
        " # Принимает 1) ссылку на класс Car и 2) цвет в качестве параметров\n",
        " # Создает специфический объект класса Car(особенность объекта в том, что это модель от завода изготовителя)\n",
        " # При этом вызывается инициализатор класса Car\n",
        " # которому в качестве аргументов передается цвет и модель,\n",
        " # соответствующую оригинальной машины\n",
        " \n",
        "  def origin_car(cls, color):\n",
        "    origin_car = cls(color, 'Origin Car from Germany', None)\n",
        "    return origin_car\n",
        " # Статический метод\n",
        " \n",
        "  def model_hash(model):\n",
        "    if model == 'BMW':\n",
        "      return 'the machine series is not defined in'\n",
        "    elif model == 'BMW X6':\n",
        "      return hash(model)\n",
        "    else:\n",
        "      return 'The manufacturer is not defined'\n",
        " # Обычный метод\n",
        "  def check_model(self, model):\n",
        "    pass "
      ],
      "metadata": {
        "id": "huxBtgjyuFH2"
      },
      "execution_count": null,
      "outputs": []
    },
    {
      "cell_type": "code",
      "source": [
        "class student:\n",
        "  def __init__(self, kurs, idl):\n",
        "    self.kurs = kurs\n",
        "    self.id =idl\n",
        "idl = input(' Введите идентификатор студента: ')\n",
        "kurs = input(' Введите курс студента : ')\n",
        "studentl = student ( kurs, idl ) # создание экземпляра\n",
        "print ('Курс :', studentl.kurs, studentl.id, sep = ' ')\n",
        "student2 = studentl\n",
        "idl = input(' В ведите идентификатор 2-го студента: ')\n",
        "student2.id =idl\n",
        "print('Курс: 1', studentl.kurs, studentl.id, sep = ' ')\n",
        "kurs=input( 'Введите новый курс студентов: ')\n",
        "studentl.kurs = kurs\n",
        "24\n",
        "print('Новый курс : ', studentl.kurs , 'Идентификатор:',\n",
        "studentl.id, sep = ' ')\n",
        "print('Новый курс : ', student2.kurs, 'Идентификато2р:',\n",
        "student2.id, sep = ' ') \n"
      ],
      "metadata": {
        "colab": {
          "base_uri": "https://localhost:8080/"
        },
        "id": "2ASKLsT5uz42",
        "outputId": "f926456b-8777-4a48-d958-2a539321861d"
      },
      "execution_count": null,
      "outputs": [
        {
          "output_type": "stream",
          "name": "stdout",
          "text": [
            " Введите идентификатор студента: 1\n",
            " Введите курс студента : 1\n",
            "Курс : 1 1\n",
            " В ведите идентификатор 2-го студента: 2\n",
            "Курс: 1 1 2\n",
            "Введите новый курс студентов: 2\n",
            "Новый курс :  2 Идентификатор: 2\n",
            "Новый курс :  2 Идентификато2р: 2\n"
          ]
        }
      ]
    },
    {
      "cell_type": "code",
      "source": [
        "def earn(w, y):\n",
        "    \"Потребитель с первоначальным достатком w зарабатывает y\"\n",
        "    return w+y\n",
        "def spend(w, x):\n",
        "    \" Потребитель с начальным достатком w тратит x \"\n",
        "    new_wealth = w -x\n",
        "    if new_wealth < 0:\n",
        "      print(\"Insufficient funds\")\n",
        "    else:\n",
        "      return new_wealth"
      ],
      "metadata": {
        "id": "W3gYqPy-vHOC"
      },
      "execution_count": null,
      "outputs": []
    },
    {
      "cell_type": "code",
      "source": [
        "w0=100\n",
        "w1=earn(w0,10)\n",
        "w2=spend(w1,20)\n",
        "w3=earn(w2,10)\n",
        "w4=spend(w3,20)\n",
        "print(\"w0,w1,w2,w3,w4 = \", w0,w1,w2,w3,w4)"
      ],
      "metadata": {
        "colab": {
          "base_uri": "https://localhost:8080/"
        },
        "id": "7mnzGmDFwkH9",
        "outputId": "ffffef59-905d-4907-fe39-1ae28042ba31"
      },
      "execution_count": null,
      "outputs": [
        {
          "output_type": "stream",
          "name": "stdout",
          "text": [
            "w0,w1,w2,w3,w4 =  100 110 90 100 80\n"
          ]
        }
      ]
    },
    {
      "cell_type": "code",
      "source": [
        "class Consumer:\n",
        "  def __init__(self, w):\n",
        "    \"Initialize consumer with w dollars of wealth\"\n",
        "    self.wealth = w\n",
        "  def earn(self, y):\n",
        "    \"The consumer earns y dollars\"\n",
        "    self.wealth += y\n",
        "  def spend(self, x):\n",
        "    \"The consumer spends x dollars if feasible\"\n",
        "    new_wealth = self.wealth - x\n",
        "    if new_wealth < 0:\n",
        "      print(\"Insufficent funds\")\n",
        "    else:\n",
        "      self.wealth = new_wealth \n"
      ],
      "metadata": {
        "id": "zj6_ocK_wwYX"
      },
      "execution_count": null,
      "outputs": []
    },
    {
      "cell_type": "code",
      "source": [
        "c1 = Consumer(10) # Create instance with initial wealth\n",
        "10\n",
        "c1.spend(5)\n",
        "print(\"c1 = \", c1.wealth)\n",
        "c1.earn(15)\n",
        "print(\"c1 = \", c1.wealth)\n",
        "c1.spend(100)\n",
        "print(\"c1 = \", c1.wealth)\n",
        "c1 = Consumer(10)\n",
        "c2 = Consumer(12)\n",
        "c2.spend(4)\n",
        "print(\"c1 = \", c1.wealth)\n",
        "c2.wealth\n",
        "print(\"c2 = \", c2.wealth)\n",
        "c1.__dict__\n",
        "c2.__dict__ "
      ],
      "metadata": {
        "colab": {
          "base_uri": "https://localhost:8080/"
        },
        "id": "iee4__MzxLmL",
        "outputId": "c7a3fcf3-1664-43f6-8e81-67b1884b7abc"
      },
      "execution_count": null,
      "outputs": [
        {
          "output_type": "stream",
          "name": "stdout",
          "text": [
            "c1 =  5\n",
            "c1 =  20\n",
            "Insufficent funds\n",
            "c1 =  20\n",
            "c1 =  10\n",
            "c2 =  8\n"
          ]
        },
        {
          "output_type": "execute_result",
          "data": {
            "text/plain": [
              "{'wealth': 8}"
            ]
          },
          "metadata": {},
          "execution_count": 19
        }
      ]
    },
    {
      "cell_type": "code",
      "source": [
        "c1 = Consumer(10)\n",
        "c1.earn(10)\n",
        "c1.wealth"
      ],
      "metadata": {
        "colab": {
          "base_uri": "https://localhost:8080/"
        },
        "id": "v4gD9QazxR3P",
        "outputId": "bcb0420e-302f-4f9a-96a7-04d075b80ef1"
      },
      "execution_count": null,
      "outputs": [
        {
          "output_type": "execute_result",
          "data": {
            "text/plain": [
              "20"
            ]
          },
          "metadata": {},
          "execution_count": 20
        }
      ]
    },
    {
      "cell_type": "code",
      "source": [
        "def earn(self, y):\n",
        " \"The consumer earns y dollars\"\n",
        " self.wealth += y "
      ],
      "metadata": {
        "id": "2IQBNGPVxas0"
      },
      "execution_count": null,
      "outputs": []
    },
    {
      "cell_type": "code",
      "source": [
        "class Solow:\n",
        " #\"\"\"\n",
        " #Реализует модель роста Солоу с правилом обновления\n",
        "\n",
        " # k_{t+1} = [(s z k^α_t) + (1 - δ)k_t] /(1 + n)\n",
        "\n",
        "  def __init__(self, n=0.05, # темпы прироста населения\n",
        "    s=0.25, # норма сбережений\n",
        "    δ=0.1, # норма амортизации\n",
        "    α=0.3, # доля рабочей силы\n",
        "    z=2.0, # производительность\n",
        "    k=1.0): # текущий основной капитал\n",
        "    self.n, self.s, self.δ, self.α, self.z = n, s, δ, α, z\n",
        "    self.k = k\n",
        "  def h(self):\n",
        "    print(\" Оценка функции h\")\n",
        " # Распаковка параметров\n",
        " #(избавляемся от self для упрощения обозначения)\n",
        "    n, s, δ, α, z = self.n, self.s, self.δ, self.α, self.z\n",
        " # обновляем на выходе h\n",
        "    return (s * z * self.k**α + (1 - δ) * self.k) / (1 + n)\n",
        "  def update(self):\n",
        "    print(\" Обновляем состояние (основной капитал)\")\n",
        "    self.k = self.h()\n",
        "  def steady_state(self):\n",
        "    print(\" Вычисляем устойчивую стоимость капитала.\")\n",
        " #(избавляемся от self для упрощения обозначения)\n",
        "    n, s, δ, α, z = self.n, self.s, self.δ, self.α, self.z\n",
        " # Вычисление и возврат устойчивого состояния\n",
        "    return ((s * z) / (n + δ))**(1 / (1 - α))\n",
        "  def generate_sequence(self, t):\n",
        "    print(\"Генерация и возврат временного ряда\")\n",
        "    path = []\n",
        "    for i in range(t):\n",
        "      path.append(self.k)\n",
        "      self.update()\n",
        "    return path"
      ],
      "metadata": {
        "id": "DZ2SFpTixmgP"
      },
      "execution_count": null,
      "outputs": []
    },
    {
      "cell_type": "code",
      "source": [
        "import matplotlib.pyplot as plt\n",
        "s1 = Solow()\n",
        "s2 = Solow(k=8.0)\n",
        "T = 60\n",
        "fig, ax = plt.subplots(figsize=(9, 6))\n",
        "# Построение графика общей установившейся стоимости капитала\n",
        "ax.plot([s1.steady_state()]*T, 'k-', label='устойчивое состояние')\n",
        "# Построение временных рядов для каждой экономики\n",
        "for s in s1, s2:\n",
        " lb = f' основной ряд от первоначального состояния {s.k} '\n",
        " ax.plot(s.generate_sequence(T), 'o-', lw=2, alpha=0.6, label=lb)\n",
        "ax.set_xlabel('$t$', fontsize=14)\n",
        "ax.set_ylabel('$k_t$', fontsize=14)\n",
        "ax.legend()\n",
        "plt.show()"
      ],
      "metadata": {
        "colab": {
          "base_uri": "https://localhost:8080/",
          "height": 1000
        },
        "id": "OfisTm6Yy022",
        "outputId": "a893eca2-08b1-4065-de9c-6aaa66065244"
      },
      "execution_count": null,
      "outputs": [
        {
          "output_type": "stream",
          "name": "stdout",
          "text": [
            " Вычисляем устойчивую стоимость капитала.\n",
            "Генерация и возврат временного ряда\n",
            " Обновляем состояние (основной капитал)\n",
            " Оценка функции h\n",
            " Обновляем состояние (основной капитал)\n",
            " Оценка функции h\n",
            " Обновляем состояние (основной капитал)\n",
            " Оценка функции h\n",
            " Обновляем состояние (основной капитал)\n",
            " Оценка функции h\n",
            " Обновляем состояние (основной капитал)\n",
            " Оценка функции h\n",
            " Обновляем состояние (основной капитал)\n",
            " Оценка функции h\n",
            " Обновляем состояние (основной капитал)\n",
            " Оценка функции h\n",
            " Обновляем состояние (основной капитал)\n",
            " Оценка функции h\n",
            " Обновляем состояние (основной капитал)\n",
            " Оценка функции h\n",
            " Обновляем состояние (основной капитал)\n",
            " Оценка функции h\n",
            " Обновляем состояние (основной капитал)\n",
            " Оценка функции h\n",
            " Обновляем состояние (основной капитал)\n",
            " Оценка функции h\n",
            " Обновляем состояние (основной капитал)\n",
            " Оценка функции h\n",
            " Обновляем состояние (основной капитал)\n",
            " Оценка функции h\n",
            " Обновляем состояние (основной капитал)\n",
            " Оценка функции h\n",
            " Обновляем состояние (основной капитал)\n",
            " Оценка функции h\n",
            " Обновляем состояние (основной капитал)\n",
            " Оценка функции h\n",
            " Обновляем состояние (основной капитал)\n",
            " Оценка функции h\n",
            " Обновляем состояние (основной капитал)\n",
            " Оценка функции h\n",
            " Обновляем состояние (основной капитал)\n",
            " Оценка функции h\n",
            " Обновляем состояние (основной капитал)\n",
            " Оценка функции h\n",
            " Обновляем состояние (основной капитал)\n",
            " Оценка функции h\n",
            " Обновляем состояние (основной капитал)\n",
            " Оценка функции h\n",
            " Обновляем состояние (основной капитал)\n",
            " Оценка функции h\n",
            " Обновляем состояние (основной капитал)\n",
            " Оценка функции h\n",
            " Обновляем состояние (основной капитал)\n",
            " Оценка функции h\n",
            " Обновляем состояние (основной капитал)\n",
            " Оценка функции h\n",
            " Обновляем состояние (основной капитал)\n",
            " Оценка функции h\n",
            " Обновляем состояние (основной капитал)\n",
            " Оценка функции h\n",
            " Обновляем состояние (основной капитал)\n",
            " Оценка функции h\n",
            " Обновляем состояние (основной капитал)\n",
            " Оценка функции h\n",
            " Обновляем состояние (основной капитал)\n",
            " Оценка функции h\n",
            " Обновляем состояние (основной капитал)\n",
            " Оценка функции h\n",
            " Обновляем состояние (основной капитал)\n",
            " Оценка функции h\n",
            " Обновляем состояние (основной капитал)\n",
            " Оценка функции h\n",
            " Обновляем состояние (основной капитал)\n",
            " Оценка функции h\n",
            " Обновляем состояние (основной капитал)\n",
            " Оценка функции h\n",
            " Обновляем состояние (основной капитал)\n",
            " Оценка функции h\n",
            " Обновляем состояние (основной капитал)\n",
            " Оценка функции h\n",
            " Обновляем состояние (основной капитал)\n",
            " Оценка функции h\n",
            " Обновляем состояние (основной капитал)\n",
            " Оценка функции h\n",
            " Обновляем состояние (основной капитал)\n",
            " Оценка функции h\n",
            " Обновляем состояние (основной капитал)\n",
            " Оценка функции h\n",
            " Обновляем состояние (основной капитал)\n",
            " Оценка функции h\n",
            " Обновляем состояние (основной капитал)\n",
            " Оценка функции h\n",
            " Обновляем состояние (основной капитал)\n",
            " Оценка функции h\n",
            " Обновляем состояние (основной капитал)\n",
            " Оценка функции h\n",
            " Обновляем состояние (основной капитал)\n",
            " Оценка функции h\n",
            " Обновляем состояние (основной капитал)\n",
            " Оценка функции h\n",
            " Обновляем состояние (основной капитал)\n",
            " Оценка функции h\n",
            " Обновляем состояние (основной капитал)\n",
            " Оценка функции h\n",
            " Обновляем состояние (основной капитал)\n",
            " Оценка функции h\n",
            " Обновляем состояние (основной капитал)\n",
            " Оценка функции h\n",
            " Обновляем состояние (основной капитал)\n",
            " Оценка функции h\n",
            " Обновляем состояние (основной капитал)\n",
            " Оценка функции h\n",
            " Обновляем состояние (основной капитал)\n",
            " Оценка функции h\n",
            " Обновляем состояние (основной капитал)\n",
            " Оценка функции h\n",
            " Обновляем состояние (основной капитал)\n",
            " Оценка функции h\n",
            " Обновляем состояние (основной капитал)\n",
            " Оценка функции h\n",
            " Обновляем состояние (основной капитал)\n",
            " Оценка функции h\n",
            "Генерация и возврат временного ряда\n",
            " Обновляем состояние (основной капитал)\n",
            " Оценка функции h\n",
            " Обновляем состояние (основной капитал)\n",
            " Оценка функции h\n",
            " Обновляем состояние (основной капитал)\n",
            " Оценка функции h\n",
            " Обновляем состояние (основной капитал)\n",
            " Оценка функции h\n",
            " Обновляем состояние (основной капитал)\n",
            " Оценка функции h\n",
            " Обновляем состояние (основной капитал)\n",
            " Оценка функции h\n",
            " Обновляем состояние (основной капитал)\n",
            " Оценка функции h\n",
            " Обновляем состояние (основной капитал)\n",
            " Оценка функции h\n",
            " Обновляем состояние (основной капитал)\n",
            " Оценка функции h\n",
            " Обновляем состояние (основной капитал)\n",
            " Оценка функции h\n",
            " Обновляем состояние (основной капитал)\n",
            " Оценка функции h\n",
            " Обновляем состояние (основной капитал)\n",
            " Оценка функции h\n",
            " Обновляем состояние (основной капитал)\n",
            " Оценка функции h\n",
            " Обновляем состояние (основной капитал)\n",
            " Оценка функции h\n",
            " Обновляем состояние (основной капитал)\n",
            " Оценка функции h\n",
            " Обновляем состояние (основной капитал)\n",
            " Оценка функции h\n",
            " Обновляем состояние (основной капитал)\n",
            " Оценка функции h\n",
            " Обновляем состояние (основной капитал)\n",
            " Оценка функции h\n",
            " Обновляем состояние (основной капитал)\n",
            " Оценка функции h\n",
            " Обновляем состояние (основной капитал)\n",
            " Оценка функции h\n",
            " Обновляем состояние (основной капитал)\n",
            " Оценка функции h\n",
            " Обновляем состояние (основной капитал)\n",
            " Оценка функции h\n",
            " Обновляем состояние (основной капитал)\n",
            " Оценка функции h\n",
            " Обновляем состояние (основной капитал)\n",
            " Оценка функции h\n",
            " Обновляем состояние (основной капитал)\n",
            " Оценка функции h\n",
            " Обновляем состояние (основной капитал)\n",
            " Оценка функции h\n",
            " Обновляем состояние (основной капитал)\n",
            " Оценка функции h\n",
            " Обновляем состояние (основной капитал)\n",
            " Оценка функции h\n",
            " Обновляем состояние (основной капитал)\n",
            " Оценка функции h\n",
            " Обновляем состояние (основной капитал)\n",
            " Оценка функции h\n",
            " Обновляем состояние (основной капитал)\n",
            " Оценка функции h\n",
            " Обновляем состояние (основной капитал)\n",
            " Оценка функции h\n",
            " Обновляем состояние (основной капитал)\n",
            " Оценка функции h\n",
            " Обновляем состояние (основной капитал)\n",
            " Оценка функции h\n",
            " Обновляем состояние (основной капитал)\n",
            " Оценка функции h\n",
            " Обновляем состояние (основной капитал)\n",
            " Оценка функции h\n",
            " Обновляем состояние (основной капитал)\n",
            " Оценка функции h\n",
            " Обновляем состояние (основной капитал)\n",
            " Оценка функции h\n",
            " Обновляем состояние (основной капитал)\n",
            " Оценка функции h\n",
            " Обновляем состояние (основной капитал)\n",
            " Оценка функции h\n",
            " Обновляем состояние (основной капитал)\n",
            " Оценка функции h\n",
            " Обновляем состояние (основной капитал)\n",
            " Оценка функции h\n",
            " Обновляем состояние (основной капитал)\n",
            " Оценка функции h\n",
            " Обновляем состояние (основной капитал)\n",
            " Оценка функции h\n",
            " Обновляем состояние (основной капитал)\n",
            " Оценка функции h\n",
            " Обновляем состояние (основной капитал)\n",
            " Оценка функции h\n",
            " Обновляем состояние (основной капитал)\n",
            " Оценка функции h\n",
            " Обновляем состояние (основной капитал)\n",
            " Оценка функции h\n",
            " Обновляем состояние (основной капитал)\n",
            " Оценка функции h\n",
            " Обновляем состояние (основной капитал)\n",
            " Оценка функции h\n",
            " Обновляем состояние (основной капитал)\n",
            " Оценка функции h\n",
            " Обновляем состояние (основной капитал)\n",
            " Оценка функции h\n",
            " Обновляем состояние (основной капитал)\n",
            " Оценка функции h\n",
            " Обновляем состояние (основной капитал)\n",
            " Оценка функции h\n",
            " Обновляем состояние (основной капитал)\n",
            " Оценка функции h\n",
            " Обновляем состояние (основной капитал)\n",
            " Оценка функции h\n",
            " Обновляем состояние (основной капитал)\n",
            " Оценка функции h\n",
            " Обновляем состояние (основной капитал)\n",
            " Оценка функции h\n",
            " Обновляем состояние (основной капитал)\n",
            " Оценка функции h\n",
            " Обновляем состояние (основной капитал)\n",
            " Оценка функции h\n"
          ]
        },
        {
          "output_type": "display_data",
          "data": {
            "text/plain": [
              "<Figure size 648x432 with 1 Axes>"
            ],
            "image/png": "[encoded data removed]"
          },
          "metadata": {
            "needs_background": "light"
          }
        }
      ]
    },
    {
      "cell_type": "code",
      "source": [
        "from scipy.integrate import quad\n",
        "class Market:\n",
        "  def __init__(self, ad, bd, az, bz, tax):\n",
        "    \"\"\"\n",
        "    Настройка параметров рынка. Все параметры\n",
        "    являются скалярами.\n",
        "    \"\"\"\n",
        "    self.ad, self.bd, self.az, self.bz, self.tax = ad, bd, az, bz, tax\n",
        "    if ad < az:\n",
        "      raise ValueError(' Недостаточный спрос.')\n",
        "  def price(self):\n",
        "    \" Расчет равновесной цены\"\n",
        "    return (self.ad - self.az + self.bz * self.tax) / (self.bd + self.bz)\n",
        "  def quantity(self):\n",
        "    \" Расчет равновесного количества\"\n",
        "    return self.ad - self.bd * self.price()\n",
        "  def consumer_surp(self):\n",
        "    \" Расчет потребительского излишка \"\n",
        " # == Расчет площадь при обнаружении функции потребления == #\n",
        "    integrand = lambda x: (self.ad / self.bd) - (1 / self.bd) * x\n",
        "    area, error = quad(integrand, 0, self.quantity())\n",
        "    return area - self.price() * self.quantity()\n",
        "  def producer_surp(self):\n",
        "    \" Расчет излишка у производителя \"\n",
        " # == Расчет площади над обратной кривой предложения, исключая налог == #\n",
        "    integrand = lambda x: - (self.az / self.bz) + (1 / self.bz) * x\n",
        "    area, error = quad(integrand, 0, self.quantity())\n",
        "    return (self.price() - self.tax) * self.quantity() - area\n",
        "  def taxrev(self):\n",
        "    \" Расчет налоговых поступлений \"\n",
        "    return self.tax * self.quantity()\n",
        "  def inverse_demand(self, x):\n",
        "    \" Расчет обратного спроса \"\n",
        "    return self.ad / self.bd - (1 / self.bd)* x\n",
        "  def inverse_supply(self, x):\n",
        "    \" Расчет обратной кривой предложения \"\n",
        "    return -(self.az / self.bz) + (1 / self.bz) * x + self.tax\n",
        "  def inverse_supply_no_tax(self, x):\n",
        "    \"Расчет обратной кривой предложения без налога \"\n",
        "    return -(self.az / self.bz) + (1 / self.bz) * x\n",
        "  baseline_params = 15, .5, -2, .5, 3\n",
        "  m = Market(*baseline_params)\n",
        "  print(\"равновесная цена = \", m.price())\n",
        "  print(\"потребительский излишек = \", m.consumer_surp())"
      ],
      "metadata": {
        "colab": {
          "base_uri": "https://localhost:8080/"
        },
        "id": "s5GxdDBbzX3a",
        "outputId": "87068075-b726-4721-a458-4df0ed701750"
      },
      "execution_count": null,
      "outputs": [
        {
          "output_type": "stream",
          "name": "stdout",
          "text": [
            "равновесная цена =  18.5\n",
            "потребительский излишек =  33.0625\n"
          ]
        }
      ]
    },
    {
      "cell_type": "code",
      "source": [
        "import numpy as np\n",
        "# Исходные значения ad, bd, az, bz, tax\n",
        "baseline_params = 15, .5, -2, .5, 3\n",
        "m = Market(*baseline_params)\n",
        "q_max = m.quantity() * 2\n",
        "q_grid = np.linspace(0.0, q_max, 100)\n",
        "pd = m.inverse_demand(q_grid)\n",
        "ps = m.inverse_supply(q_grid)\n",
        "psno = m.inverse_supply_no_tax(q_grid)\n",
        "fig, ax = plt.subplots()\n",
        "ax.plot(q_grid, pd, lw=2, alpha=0.6, label='спрос')\n",
        "ax.plot(q_grid, ps, lw=2, alpha=0.6, label='предложение')\n",
        "ax.plot(q_grid, psno, '--k', lw=2, alpha=0.6, label='предложение без налогов')\n",
        "ax.set_xlabel('количество', fontsize=14)\n",
        "ax.set_xlim(0, q_max)\n",
        "ax.set_ylabel('цена', fontsize=14)\n",
        "ax.legend(loc='lower right', frameon=False, fontsize=14)\n",
        "plt.show() \n"
      ],
      "metadata": {
        "colab": {
          "base_uri": "https://localhost:8080/",
          "height": 283
        },
        "id": "VRO9RHjw1Cg9",
        "outputId": "0c154cf9-5db2-45df-e2ef-e24227863c8d"
      },
      "execution_count": null,
      "outputs": [
        {
          "output_type": "display_data",
          "data": {
            "text/plain": [
              "<Figure size 432x288 with 1 Axes>"
            ],
            "image/png": "[encoded data removed]"
          },
          "metadata": {
            "needs_background": "light"
          }
        }
      ]
    },
    {
      "cell_type": "code",
      "source": [
        "def deadw(m):\n",
        "  \" Вычисление безвозвратные потери для рынка m.\"\n",
        "  # == Создание аналогичный рынок без налогов == #\n",
        "  m_no_tax = Market(m.ad, m.bd, m.az, m.bz, 0)\n",
        "  # == Сравнение излишков разницы в доходности == #\n",
        "  surp1 = m_no_tax.consumer_surp() + m_no_tax.producer_surp()\n",
        "  surp2 = m.consumer_surp() + m.producer_surp() + m.taxrev()\n",
        "  return surp1 - surp2\n",
        "#Пример использования метода deadw представлен ниже.\n",
        "baseline_params = 15, .5, -2, .5, 3\n",
        "m = Market(*baseline_params)\n",
        "deadw(m) # Безвозвратные потери"
      ],
      "metadata": {
        "colab": {
          "base_uri": "https://localhost:8080/"
        },
        "id": "55QP-FOm1QyK",
        "outputId": "8de36503-7afd-490c-9a66-5671cc78da31"
      },
      "execution_count": null,
      "outputs": [
        {
          "output_type": "execute_result",
          "data": {
            "text/plain": [
              "1.125"
            ]
          },
          "metadata": {},
          "execution_count": 32
        }
      ]
    },
    {
      "cell_type": "code",
      "source": [],
      "metadata": {
        "id": "8v4TRmKM2QLP"
      },
      "execution_count": null,
      "outputs": []
    }
  ]
}