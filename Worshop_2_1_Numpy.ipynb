{
  "cells": [
    {
      "cell_type": "markdown",
      "metadata": {
        "id": "view-in-github",
        "colab_type": "text"
      },
      "source": [
        "<a href=\"https://colab.research.google.com/github/VoznesenskayaV/LabOP/blob/main/Worshop_2_1_Numpy.ipynb\" target=\"_parent\"><img src=\"https://colab.research.google.com/assets/colab-badge.svg\" alt=\"Open In Colab\"/></a>"
      ]
    },
    {
      "cell_type": "markdown",
      "metadata": {
        "id": "7yJd0JWf4mvd"
      },
      "source": [
        "# Worshop 2.1 Numpy\n",
        "\n",
        "1. Скачайте этот ноутбук к себе.\n",
        "2. Заполните пропущенные ячейки, отвечая на заданные вопросы. Там должен быть код! (если не сказано обратное)\n",
        "3. Сохраните результат в своём гитхаб репозитории.\n",
        "\n",
        "#### Полезная литература\n",
        "\n",
        "- http://www.numpy.org/\n",
        "- https://jakevdp.github.io/PythonDataScienceHandbook/02.00-introduction-to-numpy.html\n",
        "- https://docs.scipy.org/doc/numpy/user/quickstart.html"
      ]
    },
    {
      "cell_type": "markdown",
      "metadata": {
        "id": "gbGkX8Y24mvq"
      },
      "source": [
        "1) Импортировать numpy и написать версию"
      ]
    },
    {
      "cell_type": "code",
      "execution_count": 1,
      "metadata": {
        "colab": {
          "base_uri": "https://localhost:8080/"
        },
        "id": "zKP0I9pb4mvr",
        "outputId": "2a20a06d-2e7f-4522-a43b-4793d5568374"
      },
      "outputs": [
        {
          "output_type": "stream",
          "name": "stdout",
          "text": [
            "Версия Numpy:  1.23.5\n"
          ]
        }
      ],
      "source": [
        "import numpy as np\n",
        "print(\"Версия Numpy: \", np.__version__)"
      ]
    },
    {
      "cell_type": "markdown",
      "metadata": {
        "id": "HbAD4se74mvs"
      },
      "source": [
        "2) Создать нулевой вектор размера 10"
      ]
    },
    {
      "cell_type": "code",
      "execution_count": 2,
      "metadata": {
        "colab": {
          "base_uri": "https://localhost:8080/"
        },
        "id": "nxpjjNwC4mvt",
        "outputId": "bcb66b90-6f6d-4f26-990f-fe29181f0460"
      },
      "outputs": [
        {
          "output_type": "stream",
          "name": "stdout",
          "text": [
            "[0. 0. 0. 0. 0. 0. 0. 0. 0. 0.]\n"
          ]
        }
      ],
      "source": [
        "zero_vector = np.zeros(10)\n",
        "print(zero_vector)"
      ]
    },
    {
      "cell_type": "markdown",
      "metadata": {
        "id": "KJNPqBmH4mvt"
      },
      "source": [
        "3) Создать вектор заполненный 7-ами размера 7"
      ]
    },
    {
      "cell_type": "code",
      "execution_count": 4,
      "metadata": {
        "colab": {
          "base_uri": "https://localhost:8080/"
        },
        "id": "SY4E2UQz4mvu",
        "outputId": "235b1262-6de4-4923-96f7-63fae2c1dc27"
      },
      "outputs": [
        {
          "output_type": "stream",
          "name": "stdout",
          "text": [
            "[7 7 7 7 7 7 7]\n"
          ]
        }
      ],
      "source": [
        "seven_vector = np.full(7, 7)\n",
        "print(seven_vector)"
      ]
    },
    {
      "cell_type": "markdown",
      "metadata": {
        "id": "4f5AFlnC4mvv"
      },
      "source": [
        "4) Создать вектор заполненный четными числами от 10 до 100"
      ]
    },
    {
      "cell_type": "code",
      "execution_count": 5,
      "metadata": {
        "colab": {
          "base_uri": "https://localhost:8080/"
        },
        "id": "XYiGMaax4mvw",
        "outputId": "d04fd990-0251-4553-d2d1-96a677278571"
      },
      "outputs": [
        {
          "output_type": "stream",
          "name": "stdout",
          "text": [
            "[ 10  12  14  16  18  20  22  24  26  28  30  32  34  36  38  40  42  44\n",
            "  46  48  50  52  54  56  58  60  62  64  66  68  70  72  74  76  78  80\n",
            "  82  84  86  88  90  92  94  96  98 100]\n"
          ]
        }
      ],
      "source": [
        "even_vector = np.arange(10, 101, 2)\n",
        "print(even_vector)"
      ]
    },
    {
      "cell_type": "markdown",
      "metadata": {
        "id": "b4CbwHt54mvx"
      },
      "source": [
        "5) Создать массив случайных чисел и развернуть его задом наперёд"
      ]
    },
    {
      "cell_type": "code",
      "execution_count": 9,
      "metadata": {
        "colab": {
          "base_uri": "https://localhost:8080/"
        },
        "id": "9To4ZnB14mvx",
        "outputId": "24e250f7-f5ba-4c64-beef-b1a2557f81c1"
      },
      "outputs": [
        {
          "output_type": "stream",
          "name": "stdout",
          "text": [
            "Исходный массив:  [71 12 16 51 74 40 30 10 70 28]\n",
            "Разворот массива:  [28 70 10 30 40 74 51 16 12 71]\n"
          ]
        }
      ],
      "source": [
        "random_array = np.random.randint(1, 101, 10)\n",
        "rev_array = random_array[::-1]\n",
        "print(\"Исходный массив: \", random_array)\n",
        "print(\"Разворот массива: \", rev_array)"
      ]
    },
    {
      "cell_type": "markdown",
      "metadata": {
        "id": "ag-9z6p14mvy"
      },
      "source": [
        "6) Создать двумерную матрицу размера 3 на 3, заполненную числами от 0 до 9"
      ]
    },
    {
      "cell_type": "code",
      "execution_count": 11,
      "metadata": {
        "colab": {
          "base_uri": "https://localhost:8080/"
        },
        "id": "QJxzoth74mvy",
        "outputId": "9a4dc4b9-4e79-4275-b0f6-c9fb780f59d1"
      },
      "outputs": [
        {
          "output_type": "stream",
          "name": "stdout",
          "text": [
            "[[0 1 2]\n",
            " [3 4 5]\n",
            " [6 7 8]]\n"
          ]
        }
      ],
      "source": [
        "matrix = np.arange(9).reshape(3, 3)\n",
        "print(matrix)"
      ]
    },
    {
      "cell_type": "markdown",
      "metadata": {
        "id": "xPDrnkXM4mvz"
      },
      "source": [
        "7) Создать матрицу размера 4 на 4 с единицами на диагонали смещеной на один наверх."
      ]
    },
    {
      "cell_type": "code",
      "execution_count": 12,
      "metadata": {
        "colab": {
          "base_uri": "https://localhost:8080/"
        },
        "id": "-P6hhZeO4mvz",
        "outputId": "b15d0e8a-3406-4f9e-bb5b-2d813d6e3711"
      },
      "outputs": [
        {
          "output_type": "stream",
          "name": "stdout",
          "text": [
            "[[0 1 0 0]\n",
            " [0 0 1 0]\n",
            " [0 0 0 1]\n",
            " [0 0 0 0]]\n"
          ]
        }
      ],
      "source": [
        "matrix_2 = np.zeros((4, 4), dtype=int)\n",
        "for i in range(3):\n",
        "  matrix_2[i, i+1] = 1\n",
        "print(matrix_2)"
      ]
    },
    {
      "cell_type": "markdown",
      "metadata": {
        "id": "Iv4jlqDJ4mvz"
      },
      "source": [
        "8) Создать матрицу с числами в диапазоне от 1 до 4 по диагонали. В других ячейках матрицы должны быть семерки."
      ]
    },
    {
      "cell_type": "code",
      "execution_count": 13,
      "metadata": {
        "colab": {
          "base_uri": "https://localhost:8080/"
        },
        "id": "RV7qGEri4mv0",
        "outputId": "8db5b54f-934f-4938-ecd2-1bf9fc25007b"
      },
      "outputs": [
        {
          "output_type": "stream",
          "name": "stdout",
          "text": [
            "[[1 7 7 7]\n",
            " [7 2 7 7]\n",
            " [7 7 3 7]\n",
            " [7 7 7 4]]\n"
          ]
        }
      ],
      "source": [
        "matrix = np.full((4, 4), 7, dtype=int)\n",
        "for i in range(4):\n",
        "    matrix[i, i] = i + 1\n",
        "print(matrix)"
      ]
    },
    {
      "cell_type": "markdown",
      "metadata": {
        "id": "kl0HBHE04mv0"
      },
      "source": [
        "9) Создать матрицу размера 5 на 5 заполненную чилами от 0 до 4 в строках."
      ]
    },
    {
      "cell_type": "code",
      "execution_count": 15,
      "metadata": {
        "colab": {
          "base_uri": "https://localhost:8080/"
        },
        "id": "oa0Kt-F_4mv1",
        "outputId": "7e81e381-664f-49db-9949-5913c863156c"
      },
      "outputs": [
        {
          "output_type": "stream",
          "name": "stdout",
          "text": [
            "[[0 1 2 3 4]\n",
            " [0 1 2 3 4]\n",
            " [0 1 2 3 4]\n",
            " [0 1 2 3 4]\n",
            " [0 1 2 3 4]]\n"
          ]
        }
      ],
      "source": [
        "matrix = np.tile(np.arange(5), (5, 1))\n",
        "print(matrix)"
      ]
    },
    {
      "cell_type": "markdown",
      "metadata": {
        "id": "xXxvsjix4mv2"
      },
      "source": [
        "10) Создать матрицу случайных чисел размера 10 на 10 и отнять среднее по строкам из каждого элемента строки"
      ]
    },
    {
      "cell_type": "code",
      "execution_count": 23,
      "metadata": {
        "colab": {
          "base_uri": "https://localhost:8080/"
        },
        "id": "kzom4Pcf4mv2",
        "outputId": "93a0e33a-35e4-4996-b46f-a4050cd74d66"
      },
      "outputs": [
        {
          "output_type": "stream",
          "name": "stdout",
          "text": [
            "Исходная матрица:\n",
            "[[3 2 5 7 6 2 4 1 8 5]\n",
            " [0 6 8 1 1 7 6 5 0 0]\n",
            " [9 2 6 6 6 1 8 0 7 2]\n",
            " [2 4 7 6 7 5 3 8 6 7]\n",
            " [3 4 1 6 8 5 1 7 6 2]\n",
            " [5 3 6 0 5 0 5 2 3 0]\n",
            " [4 6 4 5 8 8 6 9 2 8]\n",
            " [2 5 2 7 8 5 2 9 4 0]\n",
            " [9 1 3 1 4 6 1 4 3 7]\n",
            " [3 1 8 0 8 2 4 0 1 8]]\n",
            "\n",
            "Матрица после вычитания среднего:\n",
            "[[-1.3 -2.3  0.7  2.7  1.7 -2.3 -0.3 -3.3  3.7  0.7]\n",
            " [-3.4  2.6  4.6 -2.4 -2.4  3.6  2.6  1.6 -3.4 -3.4]\n",
            " [ 4.3 -2.7  1.3  1.3  1.3 -3.7  3.3 -4.7  2.3 -2.7]\n",
            " [-3.5 -1.5  1.5  0.5  1.5 -0.5 -2.5  2.5  0.5  1.5]\n",
            " [-1.3 -0.3 -3.3  1.7  3.7  0.7 -3.3  2.7  1.7 -2.3]\n",
            " [ 2.1  0.1  3.1 -2.9  2.1 -2.9  2.1 -0.9  0.1 -2.9]\n",
            " [-2.   0.  -2.  -1.   2.   2.   0.   3.  -4.   2. ]\n",
            " [-2.4  0.6 -2.4  2.6  3.6  0.6 -2.4  4.6 -0.4 -4.4]\n",
            " [ 5.1 -2.9 -0.9 -2.9  0.1  2.1 -2.9  0.1 -0.9  3.1]\n",
            " [-0.5 -2.5  4.5 -3.5  4.5 -1.5  0.5 -3.5 -2.5  4.5]]\n"
          ]
        }
      ],
      "source": [
        "matrix = np.random.randint(0, 10, size=(10, 10))\n",
        "row_means = matrix.mean(axis=1, keepdims=True)\n",
        "matrix_normalized = matrix - row_means\n",
        "\n",
        "print(\"Исходная матрица:\")\n",
        "print(matrix)\n",
        "\n",
        "print(\"\\nМатрица после вычитания среднего:\")\n",
        "print(matrix_normalized)"
      ]
    },
    {
      "cell_type": "markdown",
      "metadata": {
        "id": "ZoNZL_P64mv2"
      },
      "source": [
        "11) Создать матрицу случайных чисел размера 10 на 10 и отнять медиану по столбцам из каждого элемента столбца  "
      ]
    },
    {
      "cell_type": "code",
      "execution_count": 22,
      "metadata": {
        "colab": {
          "base_uri": "https://localhost:8080/"
        },
        "id": "h_5NkLTP4mv3",
        "outputId": "c5402e23-26a6-4337-b30f-972e4cce2fe9"
      },
      "outputs": [
        {
          "output_type": "stream",
          "name": "stdout",
          "text": [
            "Исходная матрица:\n",
            "[[8 4 2 5 1 8 9 4 8 9]\n",
            " [7 8 2 8 9 2 1 1 7 9]\n",
            " [6 0 5 2 9 5 5 7 6 1]\n",
            " [0 3 2 8 3 6 9 5 4 6]\n",
            " [1 5 2 6 7 8 5 9 4 3]\n",
            " [2 2 2 2 7 5 6 7 3 3]\n",
            " [3 5 7 0 6 4 6 0 5 3]\n",
            " [4 8 8 7 7 6 7 2 6 2]\n",
            " [9 1 8 8 9 3 9 9 7 0]\n",
            " [4 8 4 8 6 0 1 6 1 0]]\n",
            "\n",
            "Матрица после вычитания медианы:\n",
            "[[ 4.  -0.5 -1.  -1.5 -6.   3.   3.  -1.5  2.5  6. ]\n",
            " [ 3.   3.5 -1.   1.5  2.  -3.  -5.  -4.5  1.5  6. ]\n",
            " [ 2.  -4.5  2.  -4.5  2.   0.  -1.   1.5  0.5 -2. ]\n",
            " [-4.  -1.5 -1.   1.5 -4.   1.   3.  -0.5 -1.5  3. ]\n",
            " [-3.   0.5 -1.  -0.5  0.   3.  -1.   3.5 -1.5  0. ]\n",
            " [-2.  -2.5 -1.  -4.5  0.   0.   0.   1.5 -2.5  0. ]\n",
            " [-1.   0.5  4.  -6.5 -1.  -1.   0.  -5.5 -0.5  0. ]\n",
            " [ 0.   3.5  5.   0.5  0.   1.   1.  -3.5  0.5 -1. ]\n",
            " [ 5.  -3.5  5.   1.5  2.  -2.   3.   3.5  1.5 -3. ]\n",
            " [ 0.   3.5  1.   1.5 -1.  -5.  -5.   0.5 -4.5 -3. ]]\n"
          ]
        }
      ],
      "source": [
        "matrix = np.random.randint(0, 10, size=(10, 10))\n",
        "column_medians = np.median(matrix, axis=0, keepdims=True)\n",
        "matrix_normalized = matrix - column_medians\n",
        "\n",
        "print(\"Исходная матрица:\")\n",
        "print(matrix)\n",
        "\n",
        "print(\"\\nМатрица после вычитания медианы:\")\n",
        "print(matrix_normalized)"
      ]
    },
    {
      "cell_type": "markdown",
      "metadata": {
        "id": "EUyjh2rT4mv3"
      },
      "source": [
        "12) Создать матрицу случайных чисел 5x5. Добавить к ней столбецы максимумов и минимумов по строкам. Получится матрица 5x7.  "
      ]
    },
    {
      "cell_type": "code",
      "execution_count": 24,
      "metadata": {
        "colab": {
          "base_uri": "https://localhost:8080/"
        },
        "id": "X1YFSbOr4mv3",
        "outputId": "51af05de-9da0-4972-afd2-982d94b77857"
      },
      "outputs": [
        {
          "output_type": "stream",
          "name": "stdout",
          "text": [
            "Исходная матрица:\n",
            "[[8 0 4 1 9]\n",
            " [8 2 0 7 0]\n",
            " [9 7 1 9 8]\n",
            " [2 8 4 2 8]\n",
            " [5 5 9 5 1]]\n",
            "\n",
            "Матрица с максимумами и минимумами по строкам:\n",
            "[[8 0 4 1 9 9 0]\n",
            " [8 2 0 7 0 8 0]\n",
            " [9 7 1 9 8 9 1]\n",
            " [2 8 4 2 8 8 2]\n",
            " [5 5 9 5 1 9 1]]\n"
          ]
        }
      ],
      "source": [
        "matrix = np.random.randint(0, 10, size=(5, 5))\n",
        "row_max = matrix.max(axis=1, keepdims=True)\n",
        "row_min = matrix.min(axis=1, keepdims=True)\n",
        "matrix_extended = np.hstack((matrix, row_max, row_min))\n",
        "\n",
        "print(\"Исходная матрица:\")\n",
        "print(matrix)\n",
        "\n",
        "print(\"\\nМатрица с максимумами и минимумами по строкам:\")\n",
        "print(matrix_extended)"
      ]
    },
    {
      "cell_type": "markdown",
      "metadata": {
        "id": "PhaqSy9O4mv4"
      },
      "source": [
        "13) Вектор чисел от 1 до 51 преобразовать в вектор нечетных чисел и в вектор четных чисел, поменять их размерности, чтобы получились две матрица. Найти произведение этих матриц. Найти обратную матрицу эётого произведения.  "
      ]
    },
    {
      "cell_type": "code",
      "execution_count": 30,
      "metadata": {
        "colab": {
          "base_uri": "https://localhost:8080/"
        },
        "id": "-eeDrhJU4mv4",
        "outputId": "91210813-11cc-46cf-f706-d74410265622"
      },
      "outputs": [
        {
          "output_type": "stream",
          "name": "stdout",
          "text": [
            "Матрица нечетных чисел:\n",
            "[[ 1  3  5  7  9]\n",
            " [11 13 15 17 19]\n",
            " [21 23 25 27 29]\n",
            " [31 33 35 37 39]\n",
            " [41 43 45 47 49]]\n",
            "\n",
            "Матрица четных чисел:\n",
            "[[ 2  4  6  8 10]\n",
            " [12 14 16 18 20]\n",
            " [22 24 26 28 30]\n",
            " [32 34 36 38 40]\n",
            " [42 44 46 48 50]]\n",
            "\n",
            "Матрица с максимумами и минимумами:\n",
            "[[ 9  1 10  2]\n",
            " [19 11 20 12]\n",
            " [29 21 30 22]\n",
            " [39 31 40 32]\n",
            " [49 41 50 42]]\n",
            "\n",
            "Произведение матриц:\n",
            "[[ 750  800  850  900  950]\n",
            " [1850 2000 2150 2300 2450]\n",
            " [2950 3200 3450 3700 3950]\n",
            " [4050 4400 4750 5100 5450]\n",
            " [5150 5600 6050 6500 6950]]\n",
            "\n",
            "Обратная матрица произведения:\n",
            "Обратная матрица не существует\n"
          ]
        }
      ],
      "source": [
        "vector = np.arange(1, 52)\n",
        "# Нечетные и четные числа\n",
        "odd_vector = vector[vector % 2 == 1]\n",
        "even_vector = vector[vector % 2 == 0]\n",
        "\n",
        "# Меняем размерности векторов, получаем 2 матрицы\n",
        "odd_matrix = odd_vector[:25].reshape(5, 5)\n",
        "even_matrix = even_vector[:25].reshape(5, 5)\n",
        "\n",
        "odd_max = odd_matrix.max(axis=1, keepdims=True)\n",
        "odd_min = odd_matrix.min(axis=1, keepdims=True)\n",
        "even_max = even_matrix.max(axis=1, keepdims=True)\n",
        "even_min = even_matrix.min(axis=1, keepdims=True)\n",
        "\n",
        "# Матрицы с максимумами и минимумами (размер 5x2)\n",
        "max_min_matrix = np.hstack((odd_max, odd_min, even_max, even_min))\n",
        "\n",
        "# Находим произведение матриц\n",
        "product_matrix = np.dot(odd_matrix, even_matrix)\n",
        "\n",
        "# Находим обратную матрицу произведения\n",
        "try:\n",
        "    inverse_matrix = np.linalg.inv(product_matrix)\n",
        "except np.linalg.LinAlgError:\n",
        "    inverse_matrix = \"Обратная матрица не существует\"\n",
        "\n",
        "print(\"Матрица нечетных чисел:\")\n",
        "print(odd_matrix)\n",
        "\n",
        "print(\"\\nМатрица четных чисел:\")\n",
        "print(even_matrix)\n",
        "\n",
        "print(\"\\nМатрица с максимумами и минимумами:\")\n",
        "print(max_min_matrix)\n",
        "\n",
        "print(\"\\nПроизведение матриц:\")\n",
        "print(product_matrix)\n",
        "\n",
        "print(\"\\nОбратная матрица произведения:\")\n",
        "print(inverse_matrix)"
      ]
    },
    {
      "cell_type": "markdown",
      "metadata": {
        "id": "HUGxV-X34mv4"
      },
      "source": [
        "14) Создать 8x8 матрицу и заполнить её в шахматном порядке нулями и единицами."
      ]
    },
    {
      "cell_type": "code",
      "execution_count": 34,
      "metadata": {
        "colab": {
          "base_uri": "https://localhost:8080/"
        },
        "id": "e5brnxuJ4mv5",
        "outputId": "de862fcc-52b7-4fba-8df4-1e5b699e2c14"
      },
      "outputs": [
        {
          "output_type": "stream",
          "name": "stdout",
          "text": [
            "[[0 1 0 1 0 1 0 1]\n",
            " [1 0 1 0 1 0 1 0]\n",
            " [0 1 0 1 0 1 0 1]\n",
            " [1 0 1 0 1 0 1 0]\n",
            " [0 1 0 1 0 1 0 1]\n",
            " [1 0 1 0 1 0 1 0]\n",
            " [0 1 0 1 0 1 0 1]\n",
            " [1 0 1 0 1 0 1 0]]\n"
          ]
        }
      ],
      "source": [
        "matrix = np.zeros((8, 8), dtype=int)\n",
        "matrix[1::2, ::2] = 1  # Нечетные строки, четные столбцы\n",
        "matrix[::2, 1::2] = 1  # Четные строки, нечетные столбцы\n",
        "print(matrix)"
      ]
    }
  ],
  "metadata": {
    "kernelspec": {
      "display_name": "Python 3",
      "language": "python",
      "name": "python3"
    },
    "language_info": {
      "codemirror_mode": {
        "name": "ipython",
        "version": 3
      },
      "file_extension": ".py",
      "mimetype": "text/x-python",
      "name": "python",
      "nbconvert_exporter": "python",
      "pygments_lexer": "ipython3",
      "version": "3.8.0"
    },
    "colab": {
      "provenance": [],
      "include_colab_link": true
    }
  },
  "nbformat": 4,
  "nbformat_minor": 0
}