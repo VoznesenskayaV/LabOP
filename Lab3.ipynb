{
  "nbformat": 4,
  "nbformat_minor": 0,
  "metadata": {
    "colab": {
      "provenance": [],
      "authorship_tag": "ABX9TyMuhVdsB8DYGcX8wRxzGQt6",
      "include_colab_link": true
    },
    "kernelspec": {
      "name": "python3",
      "display_name": "Python 3"
    },
    "language_info": {
      "name": "python"
    }
  },
  "cells": [
    {
      "cell_type": "markdown",
      "metadata": {
        "id": "view-in-github",
        "colab_type": "text"
      },
      "source": [
        "<a href=\"https://colab.research.google.com/github/VoznesenskayaV/LabOP/blob/main/Lab3.ipynb\" target=\"_parent\"><img src=\"https://colab.research.google.com/assets/colab-badge.svg\" alt=\"Open In Colab\"/></a>"
      ]
    },
    {
      "cell_type": "code",
      "execution_count": null,
      "metadata": {
        "id": "TwVFSPtFUdF8"
      },
      "outputs": [],
      "source": [
        "class Counter:\n",
        "  def __init__(self, start=0, end=10):\n",
        "    self._value = start\n",
        "    self._start = start\n",
        "    self._end = end\n",
        "\n",
        "  def increase(self):\n",
        "    if self._value == self._end:\n",
        "      raise ValueError(\"Counter value is at maximum\")\n",
        "    self._value += 1\n",
        "    print(self._value)\n",
        "\n",
        "  def decrease(self):\n",
        "    if self._value == self._start:\n",
        "      raise ValueError(\"Counter value is at minimum\")\n",
        "    self._value -= 1\n",
        "    print(self._value)\n",
        "\n",
        "  def value(self): #a property that allows you to get the current state\n",
        "    return self._value"
      ]
    },
    {
      "cell_type": "code",
      "source": [
        "\"\"\"Creating a Counter with Default Values\"\"\"\n",
        "counter1 = Counter()\n",
        "counter1.increase()\n",
        "counter1.decrease()\n",
        "\n",
        "\"\"\"Creating a counter with arbitrary values\"\"\"\n",
        "counter2 = Counter(10, 20)\n",
        "counter2.increase()\n",
        "counter2.decrease()"
      ],
      "metadata": {
        "colab": {
          "base_uri": "https://localhost:8080/"
        },
        "id": "ANASn6g8XGX2",
        "outputId": "a2eff6ed-7749-4ad1-e611-66ed476c8da4"
      },
      "execution_count": null,
      "outputs": [
        {
          "output_type": "stream",
          "name": "stdout",
          "text": [
            "1\n",
            "0\n",
            "11\n",
            "10\n"
          ]
        }
      ]
    }
  ]
}