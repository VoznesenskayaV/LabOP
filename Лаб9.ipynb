{
  "nbformat": 4,
  "nbformat_minor": 0,
  "metadata": {
    "colab": {
      "provenance": [],
      "authorship_tag": "ABX9TyNiddpRN1wuxtKP0k/TgXVi",
      "include_colab_link": true
    },
    "kernelspec": {
      "name": "python3",
      "display_name": "Python 3"
    },
    "language_info": {
      "name": "python"
    }
  },
  "cells": [
    {
      "cell_type": "markdown",
      "metadata": {
        "id": "view-in-github",
        "colab_type": "text"
      },
      "source": [
        "<a href=\"https://colab.research.google.com/github/VoznesenskayaV/LabOP/blob/main/%D0%9B%D0%B0%D0%B19.ipynb\" target=\"_parent\"><img src=\"https://colab.research.google.com/assets/colab-badge.svg\" alt=\"Open In Colab\"/></a>"
      ]
    },
    {
      "cell_type": "markdown",
      "source": [
        "# Программирование на языке высокого уровня (Python).\n",
        "# https://www.yuripetrov.ru/edu/python\n",
        "\n",
        "# Выполнил: Вознесенская В.Е.\n",
        "# Группа: АДЭУ-221\n",
        "# E-mail: veroshe4k@gmail.com\n"
      ],
      "metadata": {
        "id": "rSBTPYCzcfHE"
      }
    },
    {
      "cell_type": "markdown",
      "source": [
        "# 9.2.1"
      ],
      "metadata": {
        "id": "I3sZTLesccHr"
      }
    },
    {
      "cell_type": "code",
      "execution_count": 2,
      "metadata": {
        "colab": {
          "base_uri": "https://localhost:8080/"
        },
        "id": "KxMRXx3cupE9",
        "outputId": "2d3b47fa-2771-42fb-9c80-765948090743"
      },
      "outputs": [
        {
          "output_type": "stream",
          "name": "stdout",
          "text": [
            "Looking in indexes: https://pypi.org/simple, https://us-python.pkg.dev/colab-wheels/public/simple/\n",
            "Collecting py-romanify\n",
            "  Downloading py-romanify-1.0.0.tar.gz (76 kB)\n",
            "\u001b[K     |████████████████████████████████| 76 kB 3.3 MB/s \n",
            "\u001b[?25hBuilding wheels for collected packages: py-romanify\n",
            "  Building wheel for py-romanify (setup.py) ... \u001b[?25l\u001b[?25hdone\n",
            "  Created wheel for py-romanify: filename=py_romanify-1.0.0-py3-none-any.whl size=9806 sha256=8c7d6f87ac95ee3c24e70d129f0fa5c4a9b073169f2dd13934a0bed0de341a05\n",
            "  Stored in directory: /root/.cache/pip/wheels/67/48/79/e904f191fb0a5b413da0ea55912f65c3c2cc388ddccc6ec92f\n",
            "Successfully built py-romanify\n",
            "Installing collected packages: py-romanify\n",
            "Successfully installed py-romanify-1.0.0\n"
          ]
        }
      ],
      "source": [
        "pip install py-romanify"
      ]
    },
    {
      "cell_type": "code",
      "source": [
        "import romanify\n",
        "romanify.roman2arabic(\"MMXV\")\n",
        "romanify.arabic2roman(2015)"
      ],
      "metadata": {
        "colab": {
          "base_uri": "https://localhost:8080/",
          "height": 36
        },
        "id": "k2ehNzDxwUf9",
        "outputId": "d51a2ccb-d742-4a36-c3e8-6f9f85364ef8"
      },
      "execution_count": 3,
      "outputs": [
        {
          "output_type": "execute_result",
          "data": {
            "text/plain": [
              "'MMXV'"
            ],
            "application/vnd.google.colaboratory.intrinsic+json": {
              "type": "string"
            }
          },
          "metadata": {},
          "execution_count": 3
        }
      ]
    },
    {
      "cell_type": "code",
      "source": [
        "def numbers():\n",
        "  try:\n",
        "    arabic = int(input(\"Число арабскими цифрами: \"))\n",
        "  except ValueError:\n",
        "    print(\"Введите число арабскими цифрами!\")\n",
        "     \n",
        "  roman = input(\"Число римскими цифрами: \")\n",
        "\n",
        "  #Вычисление суммы\n",
        "  sum_a = arabic + romanify.roman2arabic(roman)\n",
        "  sum_r = romanify.arabic2roman(sum_a)\n",
        "  print(sum_a, sum_r)\n",
        "  #Вычисление разности\n",
        "  sub_a = arabic - romanify.roman2arabic(roman)\n",
        "  sub_r = romanify.arabic2roman(sub_a)\n",
        "  print(sub_a, sub_r)\n",
        "  #Вычисление произведения\n",
        "  mult_a = arabic * romanify.roman2arabic(roman)\n",
        "  mult_r = romanify.arabic2roman(mult_a)\n",
        "  print(mult_a, mult_r)\n",
        "  #Вычисление частного\n",
        "  div_a = arabic // romanify.roman2arabic(roman)\n",
        "  div_r = romanify.arabic2roman(div_a)\n",
        "  print(div_a, div_r)\n",
        "  \n",
        "\n",
        "\n"
      ],
      "metadata": {
        "id": "DEQxoLjEw2wL"
      },
      "execution_count": 6,
      "outputs": []
    },
    {
      "cell_type": "code",
      "source": [
        "numbers()"
      ],
      "metadata": {
        "colab": {
          "base_uri": "https://localhost:8080/"
        },
        "id": "nomTxNDR6Pt3",
        "outputId": "58973b9e-1b89-4f7b-cb71-11566b7200e9"
      },
      "execution_count": 8,
      "outputs": [
        {
          "output_type": "stream",
          "name": "stdout",
          "text": [
            "Число арабскими цифрами: 10\n",
            "Число римскими цифрами: V\n",
            "15 XV\n",
            "5 V\n",
            "50 L\n",
            "2 II\n"
          ]
        }
      ]
    },
    {
      "cell_type": "code",
      "source": [
        "from google.colab import files \n",
        "uploaded = files.upload()"
      ],
      "metadata": {
        "colab": {
          "base_uri": "https://localhost:8080/",
          "height": 74
        },
        "id": "uXi5fFxgm1iX",
        "outputId": "8ec2032c-563a-4675-cc63-75105d119eff"
      },
      "execution_count": 9,
      "outputs": [
        {
          "output_type": "display_data",
          "data": {
            "text/plain": [
              "<IPython.core.display.HTML object>"
            ],
            "text/html": [
              "\n",
              "     <input type=\"file\" id=\"files-3c17b06f-35a7-4e87-8f6d-9d217176d22e\" name=\"files[]\" multiple disabled\n",
              "        style=\"border:none\" />\n",
              "     <output id=\"result-3c17b06f-35a7-4e87-8f6d-9d217176d22e\">\n",
              "      Upload widget is only available when the cell has been executed in the\n",
              "      current browser session. Please rerun this cell to enable.\n",
              "      </output>\n",
              "      <script>// Copyright 2017 Google LLC\n",
              "//\n",
              "// Licensed under the Apache License, Version 2.0 (the \"License\");\n",
              "// you may not use this file except in compliance with the License.\n",
              "// You may obtain a copy of the License at\n",
              "//\n",
              "//      http://www.apache.org/licenses/LICENSE-2.0\n",
              "//\n",
              "// Unless required by applicable law or agreed to in writing, software\n",
              "// distributed under the License is distributed on an \"AS IS\" BASIS,\n",
              "// WITHOUT WARRANTIES OR CONDITIONS OF ANY KIND, either express or implied.\n",
              "// See the License for the specific language governing permissions and\n",
              "// limitations under the License.\n",
              "\n",
              "/**\n",
              " * @fileoverview Helpers for google.colab Python module.\n",
              " */\n",
              "(function(scope) {\n",
              "function span(text, styleAttributes = {}) {\n",
              "  const element = document.createElement('span');\n",
              "  element.textContent = text;\n",
              "  for (const key of Object.keys(styleAttributes)) {\n",
              "    element.style[key] = styleAttributes[key];\n",
              "  }\n",
              "  return element;\n",
              "}\n",
              "\n",
              "// Max number of bytes which will be uploaded at a time.\n",
              "const MAX_PAYLOAD_SIZE = 100 * 1024;\n",
              "\n",
              "function _uploadFiles(inputId, outputId) {\n",
              "  const steps = uploadFilesStep(inputId, outputId);\n",
              "  const outputElement = document.getElementById(outputId);\n",
              "  // Cache steps on the outputElement to make it available for the next call\n",
              "  // to uploadFilesContinue from Python.\n",
              "  outputElement.steps = steps;\n",
              "\n",
              "  return _uploadFilesContinue(outputId);\n",
              "}\n",
              "\n",
              "// This is roughly an async generator (not supported in the browser yet),\n",
              "// where there are multiple asynchronous steps and the Python side is going\n",
              "// to poll for completion of each step.\n",
              "// This uses a Promise to block the python side on completion of each step,\n",
              "// then passes the result of the previous step as the input to the next step.\n",
              "function _uploadFilesContinue(outputId) {\n",
              "  const outputElement = document.getElementById(outputId);\n",
              "  const steps = outputElement.steps;\n",
              "\n",
              "  const next = steps.next(outputElement.lastPromiseValue);\n",
              "  return Promise.resolve(next.value.promise).then((value) => {\n",
              "    // Cache the last promise value to make it available to the next\n",
              "    // step of the generator.\n",
              "    outputElement.lastPromiseValue = value;\n",
              "    return next.value.response;\n",
              "  });\n",
              "}\n",
              "\n",
              "/**\n",
              " * Generator function which is called between each async step of the upload\n",
              " * process.\n",
              " * @param {string} inputId Element ID of the input file picker element.\n",
              " * @param {string} outputId Element ID of the output display.\n",
              " * @return {!Iterable<!Object>} Iterable of next steps.\n",
              " */\n",
              "function* uploadFilesStep(inputId, outputId) {\n",
              "  const inputElement = document.getElementById(inputId);\n",
              "  inputElement.disabled = false;\n",
              "\n",
              "  const outputElement = document.getElementById(outputId);\n",
              "  outputElement.innerHTML = '';\n",
              "\n",
              "  const pickedPromise = new Promise((resolve) => {\n",
              "    inputElement.addEventListener('change', (e) => {\n",
              "      resolve(e.target.files);\n",
              "    });\n",
              "  });\n",
              "\n",
              "  const cancel = document.createElement('button');\n",
              "  inputElement.parentElement.appendChild(cancel);\n",
              "  cancel.textContent = 'Cancel upload';\n",
              "  const cancelPromise = new Promise((resolve) => {\n",
              "    cancel.onclick = () => {\n",
              "      resolve(null);\n",
              "    };\n",
              "  });\n",
              "\n",
              "  // Wait for the user to pick the files.\n",
              "  const files = yield {\n",
              "    promise: Promise.race([pickedPromise, cancelPromise]),\n",
              "    response: {\n",
              "      action: 'starting',\n",
              "    }\n",
              "  };\n",
              "\n",
              "  cancel.remove();\n",
              "\n",
              "  // Disable the input element since further picks are not allowed.\n",
              "  inputElement.disabled = true;\n",
              "\n",
              "  if (!files) {\n",
              "    return {\n",
              "      response: {\n",
              "        action: 'complete',\n",
              "      }\n",
              "    };\n",
              "  }\n",
              "\n",
              "  for (const file of files) {\n",
              "    const li = document.createElement('li');\n",
              "    li.append(span(file.name, {fontWeight: 'bold'}));\n",
              "    li.append(span(\n",
              "        `(${file.type || 'n/a'}) - ${file.size} bytes, ` +\n",
              "        `last modified: ${\n",
              "            file.lastModifiedDate ? file.lastModifiedDate.toLocaleDateString() :\n",
              "                                    'n/a'} - `));\n",
              "    const percent = span('0% done');\n",
              "    li.appendChild(percent);\n",
              "\n",
              "    outputElement.appendChild(li);\n",
              "\n",
              "    const fileDataPromise = new Promise((resolve) => {\n",
              "      const reader = new FileReader();\n",
              "      reader.onload = (e) => {\n",
              "        resolve(e.target.result);\n",
              "      };\n",
              "      reader.readAsArrayBuffer(file);\n",
              "    });\n",
              "    // Wait for the data to be ready.\n",
              "    let fileData = yield {\n",
              "      promise: fileDataPromise,\n",
              "      response: {\n",
              "        action: 'continue',\n",
              "      }\n",
              "    };\n",
              "\n",
              "    // Use a chunked sending to avoid message size limits. See b/62115660.\n",
              "    let position = 0;\n",
              "    do {\n",
              "      const length = Math.min(fileData.byteLength - position, MAX_PAYLOAD_SIZE);\n",
              "      const chunk = new Uint8Array(fileData, position, length);\n",
              "      position += length;\n",
              "\n",
              "      const base64 = btoa(String.fromCharCode.apply(null, chunk));\n",
              "      yield {\n",
              "        response: {\n",
              "          action: 'append',\n",
              "          file: file.name,\n",
              "          data: base64,\n",
              "        },\n",
              "      };\n",
              "\n",
              "      let percentDone = fileData.byteLength === 0 ?\n",
              "          100 :\n",
              "          Math.round((position / fileData.byteLength) * 100);\n",
              "      percent.textContent = `${percentDone}% done`;\n",
              "\n",
              "    } while (position < fileData.byteLength);\n",
              "  }\n",
              "\n",
              "  // All done.\n",
              "  yield {\n",
              "    response: {\n",
              "      action: 'complete',\n",
              "    }\n",
              "  };\n",
              "}\n",
              "\n",
              "scope.google = scope.google || {};\n",
              "scope.google.colab = scope.google.colab || {};\n",
              "scope.google.colab._files = {\n",
              "  _uploadFiles,\n",
              "  _uploadFilesContinue,\n",
              "};\n",
              "})(self);\n",
              "</script> "
            ]
          },
          "metadata": {}
        },
        {
          "output_type": "stream",
          "name": "stdout",
          "text": [
            "Saving numb.py to numb.py\n"
          ]
        }
      ]
    },
    {
      "cell_type": "code",
      "source": [
        "!ls"
      ],
      "metadata": {
        "colab": {
          "base_uri": "https://localhost:8080/"
        },
        "id": "F2yJirHKm_WK",
        "outputId": "87599728-a1d4-4395-ef34-0d7ad63f9494"
      },
      "execution_count": 10,
      "outputs": [
        {
          "output_type": "stream",
          "name": "stdout",
          "text": [
            "numb.py  sample_data\n"
          ]
        }
      ]
    },
    {
      "cell_type": "code",
      "source": [
        "from numb import numbers\n",
        "\n",
        "numbers()"
      ],
      "metadata": {
        "colab": {
          "base_uri": "https://localhost:8080/"
        },
        "id": "A-laMLt5nCF2",
        "outputId": "6f93a580-c1e3-47fa-8d3f-aabe172bc143"
      },
      "execution_count": 12,
      "outputs": [
        {
          "output_type": "stream",
          "name": "stdout",
          "text": [
            "Число арабскими цифрами: 10\n",
            "Число римскими цифрами: V\n",
            "15 XV\n",
            "5 V\n",
            "50 L\n",
            "2 II\n"
          ]
        }
      ]
    },
    {
      "cell_type": "markdown",
      "source": [
        "# 9.2.2 (Pycharm)"
      ],
      "metadata": {
        "id": "KUjdSkw7i5ci"
      }
    },
    {
      "cell_type": "code",
      "source": [
        "import pyscreenshot\n",
        "image = pyscreenshot.grab()\n",
        "image.save(\"screen.png\")"
      ],
      "metadata": {
        "id": "HT-FvuY5leR9"
      },
      "execution_count": null,
      "outputs": []
    },
    {
      "cell_type": "markdown",
      "source": [
        "# 9.2.3 (Pycharm)\n"
      ],
      "metadata": {
        "id": "4AqYjIVW7wuF"
      }
    },
    {
      "cell_type": "code",
      "source": [
        "import sys\n",
        "from PyQt5.QtWidgets import (\n",
        "    QApplication,\n",
        "    QWidget,\n",
        "    QLabel,\n",
        "    QLineEdit,\n",
        "    QGridLayout,\n",
        "    QHBoxLayout,\n",
        "    QPushButton,\n",
        "    QGroupBox,\n",
        "    QSizePolicy\n",
        ")\n",
        "from PyQt5.QtCore import Qt\n",
        "from PyQt5.QtGui import QIcon\n",
        "# Масштабирование для 4K-Мониторов\n",
        "import PyQt5\n",
        "QApplication.setAttribute(PyQt5.QtCore.Qt.AA_EnableHighDpiScaling, True)\n",
        "\n",
        "def make_operation(a, b, op):\n",
        "    \"\"\"Вернуть результат операции 'op' над 'a' и 'b'.\n",
        "\n",
        "    Параметры:\n",
        "        - a (int): первое число;\n",
        "        - b (int): первое число;\n",
        "        - op (str): операция над числами (\"+\", \"-\", \"*\", \"/\", \"//\", \"%\").\n",
        "\n",
        "    Результат:\n",
        "        - int, float или None (если нет такой операции).\n",
        "    \"\"\"\n",
        "    if op == \"+\":\n",
        "        return a + b\n",
        "    elif op == \"-\":\n",
        "        return a - b\n",
        "    elif op == \"*\":\n",
        "        return a * b\n",
        "    elif op == \"/\":\n",
        "        return a / b\n",
        "    elif op == \"//\":\n",
        "        return a // b\n",
        "    elif op == \"%\":\n",
        "        return a % b\n",
        "\n",
        "    # Удалите комментарий и допишите код\n",
        "\n",
        "\n",
        "def on_click(op):\n",
        "    try:\n",
        "        x = int(edt_x.text())\n",
        "        y = int(edt_y.text())\n",
        "        edt_res.setText(\"{}\".format(make_operation(x, y, op)))\n",
        "    except Exception as err:\n",
        "        # Текст ошибки выводится в текстовое поле и терминал\n",
        "        print(type(err), err)\n",
        "        edt_res.setText(\"Не могу выполнить операцию!\")\n",
        "\n",
        "\n",
        "if __name__ == \"__main__\":\n",
        "    app = QApplication(sys.argv)\n",
        "\n",
        "    # Главное окно приложения\n",
        "    w = QWidget()\n",
        "    w.setFixedSize(400, 150)\n",
        "    w.setWindowTitle(\"Мини-калькулятор\")\n",
        "    w.setWindowIcon(QIcon('main_icon.png'))\n",
        "\n",
        "    # Общее расположение элементов - сетка\n",
        "    grid = QGridLayout()\n",
        "    grid.setSpacing(10)\n",
        "\n",
        "    # 1-е метка\n",
        "    lbl_x = QLabel(\"Первое число:\")\n",
        "    # 2-е метка\n",
        "    lbl_y = QLabel(\"Второе число:\")\n",
        "    # Метка для результата\n",
        "    lbl_res = QLabel(\"Результат:\")\n",
        "\n",
        "    buttons_layout = QHBoxLayout()\n",
        "    grid.setSpacing(5)\n",
        "\n",
        "    # Кнопки\n",
        "    btn_add1 = QPushButton(\"+\")\n",
        "    btn_add2 = QPushButton(\"-\")\n",
        "    btn_add3 = QPushButton(\"*\")\n",
        "    btn_add4 = QPushButton(\"/\")\n",
        "    btn_add5 = QPushButton(\"//\")\n",
        "    btn_add6 = QPushButton(\"%\")\n",
        "    btn_add1.setSizePolicy(QSizePolicy.Expanding, QSizePolicy.Expanding)\n",
        "    btn_add2.setSizePolicy(QSizePolicy.Expanding, QSizePolicy.Expanding)\n",
        "    btn_add3.setSizePolicy(QSizePolicy.Expanding, QSizePolicy.Expanding)\n",
        "    btn_add4.setSizePolicy(QSizePolicy.Expanding, QSizePolicy.Expanding)\n",
        "    btn_add5.setSizePolicy(QSizePolicy.Expanding, QSizePolicy.Expanding)\n",
        "    btn_add6.setSizePolicy(QSizePolicy.Expanding, QSizePolicy.Expanding)\n",
        "\n",
        "\n",
        "    # Удалите комментарий и допишите код\n",
        "\n",
        "    buttons_layout.addWidget(btn_add1)\n",
        "    buttons_layout.addWidget(btn_add2)\n",
        "    buttons_layout.addWidget(btn_add3)\n",
        "    buttons_layout.addWidget(btn_add4)\n",
        "    buttons_layout.addWidget(btn_add5)\n",
        "    buttons_layout.addWidget(btn_add6)\n",
        "    # Удалите комментарий и допишите код\n",
        "\n",
        "    # Действия кнопок\n",
        "    btn_add1.clicked.connect(lambda: on_click(\"+\"))\n",
        "    btn_add2.clicked.connect(lambda: on_click(\"-\"))\n",
        "    btn_add3.clicked.connect(lambda: on_click(\"*\"))\n",
        "    btn_add4.clicked.connect(lambda: on_click(\"/\"))\n",
        "    btn_add5.clicked.connect(lambda: on_click(\"//\"))\n",
        "    btn_add6.clicked.connect(lambda: on_click(\"%\"))\n",
        "\n",
        "    # Удалите комментарий и допишите код\n",
        "\n",
        "    # 1-е текстовое поле\n",
        "    edt_x = QLineEdit()\n",
        "    edt_x.setAlignment(Qt.AlignCenter)\n",
        "    # 2-е текстовое поле\n",
        "    edt_y = QLineEdit()\n",
        "    edt_y.setAlignment(Qt.AlignCenter)\n",
        "    # Поле для результата\n",
        "    edt_res = QLineEdit()\n",
        "    edt_res.setAlignment(Qt.AlignCenter)\n",
        "    edt_res.setReadOnly(True)\n",
        "\n",
        "    gb_ops = QGroupBox(\"Операции\")\n",
        "    gb_ops.setLayout(buttons_layout)\n",
        "\n",
        "    # Общее расположение элементов\n",
        "    grid.addWidget(lbl_x, 0, 0, Qt.AlignRight)\n",
        "    grid.addWidget(edt_x, 0, 1)\n",
        "    grid.addWidget(lbl_y, 0, 2, Qt.AlignRight)\n",
        "    grid.addWidget(edt_y, 0, 3)\n",
        "    grid.addWidget(gb_ops, 1, 0, 1, 4)\n",
        "    grid.addWidget(lbl_res, 2, 0, Qt.AlignRight)\n",
        "    grid.addWidget(edt_res, 2, 1, 1, 3)\n",
        "\n",
        "    # Запуск приложения\n",
        "    w.setLayout(grid)\n",
        "    w.show()\n",
        "    sys.exit(app.exec_())\n",
        "\n",
        "\n",
        "\n"
      ],
      "metadata": {
        "id": "1mjAP96tcTQ-"
      },
      "execution_count": null,
      "outputs": []
    },
    {
      "cell_type": "markdown",
      "source": [
        "# 9.2.7 (Pycharm)"
      ],
      "metadata": {
        "id": "HFF4tJUif2kp"
      }
    },
    {
      "cell_type": "code",
      "source": [
        "try:\n",
        "    first = int(input())\n",
        "    second = int(input())\n",
        "\n",
        "except TypeError:\n",
        "    print(\"Введите целые числа!\")\n",
        "except ValueError:\n",
        "    print(\"Введите числа отличные от нуля!\")\n",
        "\n",
        "def gcd(first, second): #Нахожу по алгоритму Евклида\n",
        "    \"\"\"Вернуть НОД для целых чисел 'first' и 'second'.\n",
        "\n",
        "    Пример:\n",
        "        - gcd(54, 24) == 6;\n",
        "        - gcd(-54, 24) == 6.\n",
        "\n",
        "    Исключения:\n",
        "        - TypeError: 'first' или 'second' - любой тип кроме int;\n",
        "        - ValueError: 'first' или second равны 0.\n",
        "    \"\"\"\n",
        "\n",
        "    while first != 0 and second != 0:\n",
        "        if first > second:\n",
        "            first = first % second\n",
        "        else:\n",
        "            second = second % first\n",
        "\n",
        "    nod = first + second\n",
        "    return nod\n",
        "\n",
        "print(gcd(first, second))\n",
        "\n",
        "def lcm(first, second):\n",
        "    \"\"\"Вернуть НОК для чисел 'first' и 'second'.\n",
        "\n",
        "    Пример:\n",
        "        - lcm(4, 6) == 12;\n",
        "        - lcm(-4, 6) == 12.\n",
        "\n",
        "    Исключения:\n",
        "        - TypeError: 'first' или 'second' - любой тип кроме int;\n",
        "        - ValueError: 'first' или second равны 0.\n",
        "\n",
        "    \"\"\"\n",
        "    if first > second:\n",
        "        greater = first\n",
        "    else:\n",
        "        greater = second\n",
        "    while (True):\n",
        "        if ((greater % first == 0) and (greater % second == 0)):\n",
        "            lcm1 = greater\n",
        "            break\n",
        "        greater += 1\n",
        "    return lcm1\n",
        "\n",
        "print(lcm(first, second))\n",
        "\n",
        "\n",
        "try:\n",
        "    number = int(input())\n",
        "except TypeError:\n",
        "    print(\"Введите целое число!\")\n",
        "except ValueError:\n",
        "    print(\"Не натуральное число!\")\n",
        "\n",
        "def is_prime(number):\n",
        "    \"\"\"Вернуть True, если 'number' - простое число, иначе False.\n",
        "\n",
        "    Пример: is_prime(7) == True.\n",
        "\n",
        "    Исключения:\n",
        "        - TypeError: 'number' - любой тип кроме int;\n",
        "        - ValueError: 'number' - не натуральное число.\n",
        "    \"\"\"\n",
        "    k = 0\n",
        "    for i in range(2, number // 2 + 1):\n",
        "        if (number % i == 0):\n",
        "            k = k + 1\n",
        "    if (k <= 0):\n",
        "        return True\n",
        "    else:\n",
        "        return False\n",
        "\n",
        "print(is_prime(number))\n",
        "\n",
        "\n",
        "\n",
        "def inverse(number):\n",
        "    \"\"\"Вернуть число, обратное 'number' (1 / number).\n",
        "\n",
        "    Пример: inverse(2) == 0.5.\n",
        "\n",
        "    Исключения:\n",
        "        - TypeError: 'number' - любой тип кроме int, float;\n",
        "        - ZeroDivisionError: 'number' - 0.\n",
        "    \"\"\"\n",
        "    nm = 1 / number\n",
        "    return nm\n",
        "\n",
        "print(inverse(number))\n",
        "\n",
        "\n",
        "try:\n",
        "    power = int(input())\n",
        "\n",
        "except TypeError:\n",
        "    print(\"Введите число!\")\n",
        "except ValueError:\n",
        "    print(\"Введите число, отличное от нуля!\")\n",
        "except ValueError:\n",
        "    print(\"Значение степени меньше единицы!\")\n",
        "\n",
        "def root(number, power):\n",
        "    \"\"\"Вернуть корень 'power'-степени из 'number'.\n",
        "\n",
        "    Пример: root(9) == 3.0.\n",
        "\n",
        "    Исключения:\n",
        "        - TypeError: 'number' - любой тип кроме int, float;\n",
        "        - TypeError: 'power' - любой тип кроме int, float;\n",
        "        - ValueError: 'power' - меньше единицы.\n",
        "    \"\"\"\n",
        "    res = number ** (1 / power)\n",
        "    return res\n",
        "print(root(number, power))"
      ],
      "metadata": {
        "id": "G6a7zcOLf1u8"
      },
      "execution_count": null,
      "outputs": []
    }
  ]
}