{
  "nbformat": 4,
  "nbformat_minor": 0,
  "metadata": {
    "colab": {
      "provenance": [],
      "authorship_tag": "ABX9TyMuKrbUCP2kj9S9NXAhPPVD",
      "include_colab_link": true
    },
    "kernelspec": {
      "name": "python3",
      "display_name": "Python 3"
    },
    "language_info": {
      "name": "python"
    }
  },
  "cells": [
    {
      "cell_type": "markdown",
      "metadata": {
        "id": "view-in-github",
        "colab_type": "text"
      },
      "source": [
        "<a href=\"https://colab.research.google.com/github/VoznesenskayaV/LabOP/blob/main/%D0%9B%D0%B0%D0%B19.ipynb\" target=\"_parent\"><img src=\"https://colab.research.google.com/assets/colab-badge.svg\" alt=\"Open In Colab\"/></a>"
      ]
    },
    {
      "cell_type": "markdown",
      "source": [
        "# Программирование на языке высокого уровня (Python).\n",
        "# https://www.yuripetrov.ru/edu/python\n",
        "\n",
        "# Выполнил: Вознесенская В.Е.\n",
        "# Группа: АДЭУ-221\n",
        "# E-mail: veroshe4k@gmail.com\n"
      ],
      "metadata": {
        "id": "rSBTPYCzcfHE"
      }
    },
    {
      "cell_type": "markdown",
      "source": [
        "# 9.2.1"
      ],
      "metadata": {
        "id": "I3sZTLesccHr"
      }
    },
    {
      "cell_type": "code",
      "execution_count": 2,
      "metadata": {
        "colab": {
          "base_uri": "https://localhost:8080/"
        },
        "id": "KxMRXx3cupE9",
        "outputId": "c96cae95-e74c-4e55-c5da-831ab6c02c09"
      },
      "outputs": [
        {
          "output_type": "stream",
          "name": "stdout",
          "text": [
            "Looking in indexes: https://pypi.org/simple, https://us-python.pkg.dev/colab-wheels/public/simple/\n",
            "Collecting py-romanify\n",
            "  Downloading py-romanify-1.0.0.tar.gz (76 kB)\n",
            "\u001b[K     |████████████████████████████████| 76 kB 3.5 MB/s \n",
            "\u001b[?25hBuilding wheels for collected packages: py-romanify\n",
            "  Building wheel for py-romanify (setup.py) ... \u001b[?25l\u001b[?25hdone\n",
            "  Created wheel for py-romanify: filename=py_romanify-1.0.0-py3-none-any.whl size=9806 sha256=84d95342bbdc165ef4871617965f12a0e7e1395cf2f4d30cad8007176b975660\n",
            "  Stored in directory: /root/.cache/pip/wheels/67/48/79/e904f191fb0a5b413da0ea55912f65c3c2cc388ddccc6ec92f\n",
            "Successfully built py-romanify\n",
            "Installing collected packages: py-romanify\n",
            "Successfully installed py-romanify-1.0.0\n"
          ]
        }
      ],
      "source": [
        "pip install py-romanify"
      ]
    },
    {
      "cell_type": "code",
      "source": [
        "import romanify\n",
        "romanify.roman2arabic(\"MMXV\")\n",
        "romanify.arabic2roman(2015)"
      ],
      "metadata": {
        "colab": {
          "base_uri": "https://localhost:8080/",
          "height": 36
        },
        "id": "k2ehNzDxwUf9",
        "outputId": "b341eff2-9b51-4009-9b9a-cf0a4fe8a8af"
      },
      "execution_count": 2,
      "outputs": [
        {
          "output_type": "execute_result",
          "data": {
            "text/plain": [
              "'MMXV'"
            ],
            "application/vnd.google.colaboratory.intrinsic+json": {
              "type": "string"
            }
          },
          "metadata": {},
          "execution_count": 2
        }
      ]
    },
    {
      "cell_type": "code",
      "source": [
        "arabic = int(input())\n",
        "roman = input()\n",
        "\n",
        "\n",
        "\n",
        "\n",
        "def sum_n():\n",
        "  sum_a = arabic + romanify.roman2arabic(roman)\n",
        "  sum_r = romanify.arabic2roman(sum_a)\n",
        "  return sum_a, sum_r\n",
        "\n",
        "  \n",
        "\n",
        "def sub_n():\n",
        "  sub_a = arabic - romanify.roman2arabic(roman)\n",
        "  sub_r = romanify.arabic2roman(sub_a)\n",
        "  return sub_a, sub_r\n",
        "\n",
        "\n",
        "def mult_n():\n",
        "  mult_a = arabic * romanify.roman2arabic(roman)\n",
        "  mult_r = romanify.arabic2roman(mult_a)\n",
        "  return mult_a, mult_r\n",
        "\n",
        "\n",
        "\n",
        "def div_n():\n",
        "  div_a = arabic // romanify.roman2arabic(roman)\n",
        "  div_r = romanify.arabic2roman(div_a)\n",
        "  return div_a, div_r\n",
        "\n",
        "\n"
      ],
      "metadata": {
        "colab": {
          "base_uri": "https://localhost:8080/"
        },
        "id": "DEQxoLjEw2wL",
        "outputId": "2ceb3ed6-0731-425f-df86-8b0988f13968"
      },
      "execution_count": 23,
      "outputs": [
        {
          "name": "stdout",
          "output_type": "stream",
          "text": [
            "10\n",
            "V\n"
          ]
        }
      ]
    },
    {
      "cell_type": "code",
      "source": [
        "print(sum_n())\n",
        "print(sub_n())\n",
        "print(mult_n())\n",
        "print(div_n())"
      ],
      "metadata": {
        "colab": {
          "base_uri": "https://localhost:8080/"
        },
        "id": "nomTxNDR6Pt3",
        "outputId": "19c68def-a19a-4298-d092-6185bfe29b2b"
      },
      "execution_count": 24,
      "outputs": [
        {
          "output_type": "stream",
          "name": "stdout",
          "text": [
            "(15, 'XV')\n",
            "(5, 'V')\n",
            "(50, 'L')\n",
            "(2, 'II')\n"
          ]
        }
      ]
    },
    {
      "cell_type": "markdown",
      "source": [
        "# 9.2.3\n"
      ],
      "metadata": {
        "id": "4AqYjIVW7wuF"
      }
    },
    {
      "cell_type": "code",
      "source": [
        "import sys\n",
        "from PyQt5.QtWidgets import (\n",
        "    QApplication,\n",
        "    QWidget,\n",
        "    QLabel,\n",
        "    QLineEdit,\n",
        "    QGridLayout,\n",
        "    QHBoxLayout,\n",
        "    QPushButton,\n",
        "    QGroupBox,\n",
        "    QSizePolicy\n",
        ")\n",
        "from PyQt5.QtCore import Qt\n",
        "from PyQt5.QtGui import QIcon\n",
        "# Масштабирование для 4K-Мониторов\n",
        "import PyQt5\n",
        "QApplication.setAttribute(PyQt5.QtCore.Qt.AA_EnableHighDpiScaling, True)\n",
        "\n",
        "def make_operation(a, b, op):\n",
        "    \"\"\"Вернуть результат операции 'op' над 'a' и 'b'.\n",
        "\n",
        "    Параметры:\n",
        "        - a (int): первое число;\n",
        "        - b (int): первое число;\n",
        "        - op (str): операция над числами (\"+\", \"-\", \"*\", \"/\", \"//\", \"%\").\n",
        "\n",
        "    Результат:\n",
        "        - int, float или None (если нет такой операции).\n",
        "    \"\"\"\n",
        "    if op == \"+\":\n",
        "        return a + b\n",
        "    elif op == \"-\":\n",
        "        return a - b\n",
        "    elif op == \"*\":\n",
        "        return a * b\n",
        "    elif op == \"/\":\n",
        "        return a / b\n",
        "    elif op == \"//\":\n",
        "        return a // b\n",
        "    elif op == \"%\":\n",
        "        return a % b\n",
        "\n",
        "    # Удалите комментарий и допишите код\n",
        "\n",
        "\n",
        "def on_click(op):\n",
        "    try:\n",
        "        x = int(edt_x.text())\n",
        "        y = int(edt_y.text())\n",
        "        edt_res.setText(\"{}\".format(make_operation(x, y, op)))\n",
        "    except Exception as err:\n",
        "        # Текст ошибки выводится в текстовое поле и терминал\n",
        "        print(type(err), err)\n",
        "        edt_res.setText(\"Не могу выполнить операцию!\")\n",
        "\n",
        "\n",
        "if __name__ == \"__main__\":\n",
        "    app = QApplication(sys.argv)\n",
        "\n",
        "    # Главное окно приложения\n",
        "    w = QWidget()\n",
        "    w.setFixedSize(400, 150)\n",
        "    w.setWindowTitle(\"Мини-калькулятор\")\n",
        "    w.setWindowIcon(QIcon('main_icon.png'))\n",
        "\n",
        "    # Общее расположение элементов - сетка\n",
        "    grid = QGridLayout()\n",
        "    grid.setSpacing(10)\n",
        "\n",
        "    # 1-е метка\n",
        "    lbl_x = QLabel(\"Первое число:\")\n",
        "    # 2-е метка\n",
        "    lbl_y = QLabel(\"Второе число:\")\n",
        "    # Метка для результата\n",
        "    lbl_res = QLabel(\"Результат:\")\n",
        "\n",
        "    buttons_layout = QHBoxLayout()\n",
        "    grid.setSpacing(5)\n",
        "\n",
        "    # Кнопки\n",
        "    btn_add1 = QPushButton(\"+\")\n",
        "    btn_add2 = QPushButton(\"-\")\n",
        "    btn_add3 = QPushButton(\"*\")\n",
        "    btn_add4 = QPushButton(\"/\")\n",
        "    btn_add5 = QPushButton(\"//\")\n",
        "    btn_add6 = QPushButton(\"%\")\n",
        "    btn_add1.setSizePolicy(QSizePolicy.Expanding, QSizePolicy.Expanding)\n",
        "    btn_add2.setSizePolicy(QSizePolicy.Expanding, QSizePolicy.Expanding)\n",
        "    btn_add3.setSizePolicy(QSizePolicy.Expanding, QSizePolicy.Expanding)\n",
        "    btn_add4.setSizePolicy(QSizePolicy.Expanding, QSizePolicy.Expanding)\n",
        "    btn_add5.setSizePolicy(QSizePolicy.Expanding, QSizePolicy.Expanding)\n",
        "    btn_add6.setSizePolicy(QSizePolicy.Expanding, QSizePolicy.Expanding)\n",
        "\n",
        "\n",
        "    # Удалите комментарий и допишите код\n",
        "\n",
        "    buttons_layout.addWidget(btn_add1)\n",
        "    buttons_layout.addWidget(btn_add2)\n",
        "    buttons_layout.addWidget(btn_add3)\n",
        "    buttons_layout.addWidget(btn_add4)\n",
        "    buttons_layout.addWidget(btn_add5)\n",
        "    buttons_layout.addWidget(btn_add6)\n",
        "    # Удалите комментарий и допишите код\n",
        "\n",
        "    # Действия кнопок\n",
        "    btn_add1.clicked.connect(lambda: on_click(\"+\"))\n",
        "    btn_add2.clicked.connect(lambda: on_click(\"-\"))\n",
        "    btn_add3.clicked.connect(lambda: on_click(\"*\"))\n",
        "    btn_add4.clicked.connect(lambda: on_click(\"/\"))\n",
        "    btn_add5.clicked.connect(lambda: on_click(\"//\"))\n",
        "    btn_add6.clicked.connect(lambda: on_click(\"%\"))\n",
        "\n",
        "    # Удалите комментарий и допишите код\n",
        "\n",
        "    # 1-е текстовое поле\n",
        "    edt_x = QLineEdit()\n",
        "    edt_x.setAlignment(Qt.AlignCenter)\n",
        "    # 2-е текстовое поле\n",
        "    edt_y = QLineEdit()\n",
        "    edt_y.setAlignment(Qt.AlignCenter)\n",
        "    # Поле для результата\n",
        "    edt_res = QLineEdit()\n",
        "    edt_res.setAlignment(Qt.AlignCenter)\n",
        "    edt_res.setReadOnly(True)\n",
        "\n",
        "    gb_ops = QGroupBox(\"Операции\")\n",
        "    gb_ops.setLayout(buttons_layout)\n",
        "\n",
        "    # Общее расположение элементов\n",
        "    grid.addWidget(lbl_x, 0, 0, Qt.AlignRight)\n",
        "    grid.addWidget(edt_x, 0, 1)\n",
        "    grid.addWidget(lbl_y, 0, 2, Qt.AlignRight)\n",
        "    grid.addWidget(edt_y, 0, 3)\n",
        "    grid.addWidget(gb_ops, 1, 0, 1, 4)\n",
        "    grid.addWidget(lbl_res, 2, 0, Qt.AlignRight)\n",
        "    grid.addWidget(edt_res, 2, 1, 1, 3)\n",
        "\n",
        "    # Запуск приложения\n",
        "    w.setLayout(grid)\n",
        "    w.show()\n",
        "    sys.exit(app.exec_())\n",
        "\n",
        "\n",
        "\n"
      ],
      "metadata": {
        "id": "1mjAP96tcTQ-"
      },
      "execution_count": null,
      "outputs": []
    }
  ]
}