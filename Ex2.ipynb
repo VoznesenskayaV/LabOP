{
  "nbformat": 4,
  "nbformat_minor": 0,
  "metadata": {
    "colab": {
      "provenance": [],
      "authorship_tag": "ABX9TyO4hFGaRNTSrAOOp29ehIxg",
      "include_colab_link": true
    },
    "kernelspec": {
      "name": "python3",
      "display_name": "Python 3"
    },
    "language_info": {
      "name": "python"
    }
  },
  "cells": [
    {
      "cell_type": "markdown",
      "metadata": {
        "id": "view-in-github",
        "colab_type": "text"
      },
      "source": [
        "<a href=\"https://colab.research.google.com/github/VoznesenskayaV/LabOP/blob/main/Ex2.ipynb\" target=\"_parent\"><img src=\"https://colab.research.google.com/assets/colab-badge.svg\" alt=\"Open In Colab\"/></a>"
      ]
    },
    {
      "cell_type": "code",
      "execution_count": 20,
      "metadata": {
        "id": "TnbYC9Ix9d4N"
      },
      "outputs": [],
      "source": [
        "class Track:\n",
        "  def data1(self):\n",
        "    self.name_t = input(\"Track name: \")\n",
        "  def data2(self):\n",
        "    self.duration = int(input(\"Duration: \"))\n",
        "\n",
        "  def show(self):\n",
        "    print(\"Name of the track: \")\n",
        "    print(\"Track duration: \")\n",
        "\n",
        "class Album:\n",
        "  def data3(self):\n",
        "    self.name_a = input(\"Album name: \")\n",
        "    self.singer = input(\"Singer: \")\n",
        "    self.list_t1 = t1\n",
        "    self.list_t2 = t2\n",
        "\n",
        "  def get_tracks(self):\n",
        "    print(self.list_t1)\n",
        "    print(self.list_t2)\n",
        "    \n",
        "  def add_track(self):\n",
        "    self.new_track = Track()\n",
        "    self.new_track.data1()\n",
        "    self.new_track.data2()\n",
        "    self.list_t1.append(self.new_track.name_t)\n",
        "    self.list_t2.append(self.new_track.duration)\n",
        "    print(self.list_t1)\n",
        "    print(self.list_t2)\n",
        "    \n",
        "  def get_duration(self):\n",
        "    res = sum(self.list_t2)\n",
        "    print(res)"
      ]
    },
    {
      "cell_type": "code",
      "source": [
        "# For first album!\n",
        "if __name__ == '__main__':\n",
        "  def tracks1():\n",
        "    n = 3\n",
        "    l1 = [] # tracks name\n",
        "    while n != 0:\n",
        "      track = Track()\n",
        "      track.data1()\n",
        "      l1.append(track.name_t)\n",
        "      n -= 1\n",
        "    return l1\n",
        "\n",
        "if __name__ == '__main__':\n",
        "  def tracks2():\n",
        "    n = 3\n",
        "    l2 = [] #tracks duration\n",
        "    while n != 0:\n",
        "      track = Track()\n",
        "      track.data2()\n",
        "      l2.append(track.duration)\n",
        "      n -= 1\n",
        "    return l2\n",
        "\n",
        "t1 = tracks1()\n",
        "t2 = tracks2()\n",
        "\n",
        "album1 = Album()\n",
        "album1.data3()\n",
        "album1.get_tracks()\n",
        "album1.add_track()\n",
        "album1.get_duration()\n"
      ],
      "metadata": {
        "colab": {
          "base_uri": "https://localhost:8080/"
        },
        "id": "D1WJYUWlLTev",
        "outputId": "58a91629-f224-4946-a930-8b57f1a07a72"
      },
      "execution_count": 21,
      "outputs": [
        {
          "output_type": "stream",
          "name": "stdout",
          "text": [
            "Track name: Something\n",
            "Track name: Bacause\n",
            "Track name: Sun King\n",
            "Duration: 3\n",
            "Duration: 2\n",
            "Duration: 2\n",
            "Album name: Abbey Road\n",
            "Singer: The Beatles\n",
            "['Something', 'Bacause', 'Sun King']\n",
            "[3, 2, 2]\n",
            "Track name: Come Together\n",
            "Duration: 4\n",
            "['Something', 'Bacause', 'Sun King', 'Come Together']\n",
            "[3, 2, 2, 4]\n",
            "11\n"
          ]
        }
      ]
    },
    {
      "cell_type": "code",
      "source": [
        "# For second album!\n",
        "if __name__ == '__main__':\n",
        "  def tracks1():\n",
        "    n = 3\n",
        "    l1 = [] # tracks name\n",
        "    while n != 0:\n",
        "      track = Track()\n",
        "      track.data1()\n",
        "      l1.append(track.name_t)\n",
        "      n -= 1\n",
        "    return l1\n",
        "\n",
        "if __name__ == '__main__':\n",
        "  def tracks2():\n",
        "    n = 3\n",
        "    l2 = [] #tracks duration\n",
        "    while n != 0:\n",
        "      track = Track()\n",
        "      track.data2()\n",
        "      l2.append(track.duration)\n",
        "      n -= 1\n",
        "    return l2\n",
        "\n",
        "t1 = tracks1()\n",
        "t2 = tracks2()\n",
        "\n",
        "album2 = Album()\n",
        "album2.data3()\n",
        "album2.get_tracks()\n",
        "album2.add_track()\n",
        "album2.get_duration()\n"
      ],
      "metadata": {
        "colab": {
          "base_uri": "https://localhost:8080/"
        },
        "id": "GmbkonffM_AU",
        "outputId": "7381abce-b985-455f-d793-fdfa947b3fab"
      },
      "execution_count": 22,
      "outputs": [
        {
          "output_type": "stream",
          "name": "stdout",
          "text": [
            "Track name: It's Only Love\n",
            "Track name: I need you\n",
            "Track name: Help!\n",
            "Duration: 1\n",
            "Duration: 2\n",
            "Duration: 2\n",
            "Album name: Help!\n",
            "Singer: The Beatles\n",
            "[\"It's Only Love\", 'I need you', 'Help!']\n",
            "[1, 2, 2]\n",
            "Track name: Yesterday\n",
            "Duration: 2\n",
            "[\"It's Only Love\", 'I need you', 'Help!', 'Yesterday']\n",
            "[1, 2, 2, 2]\n",
            "7\n"
          ]
        }
      ]
    }
  ]
}