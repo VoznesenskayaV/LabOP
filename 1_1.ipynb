{
  "nbformat": 4,
  "nbformat_minor": 0,
  "metadata": {
    "colab": {
      "provenance": [],
      "authorship_tag": "ABX9TyNu6s8SiqEeWMES1RktAPPA",
      "include_colab_link": true
    },
    "kernelspec": {
      "name": "python3",
      "display_name": "Python 3"
    },
    "language_info": {
      "name": "python"
    }
  },
  "cells": [
    {
      "cell_type": "markdown",
      "metadata": {
        "id": "view-in-github",
        "colab_type": "text"
      },
      "source": [
        "<a href=\"https://colab.research.google.com/github/VoznesenskayaV/LabOP/blob/main/1_1.ipynb\" target=\"_parent\"><img src=\"https://colab.research.google.com/assets/colab-badge.svg\" alt=\"Open In Colab\"/></a>"
      ]
    },
    {
      "cell_type": "code",
      "execution_count": null,
      "metadata": {
        "id": "t-q_CVOVvqnv"
      },
      "outputs": [],
      "source": [
        "class A:\n",
        "    \"\"\" Class with fields a and b. Has a function that divides and subtracts a and b.\"\"\"\n",
        "    __a = float()\n",
        "    __b = float()\n",
        "\n",
        "    def __init__(self, a, b):\n",
        "        \"\"\" Field initialization. \"\"\"\n",
        "        self.a = a\n",
        "        self.b = b\n",
        "\n",
        "    def val(self):\n",
        "        \"\"\" Actions on a and b. \"\"\"\n",
        "        c1 = self.a / self.b\n",
        "        c2 = self.a - self.b\n",
        "        print(c1, c2)\n",
        "\n",
        "class Programm:\n",
        "    def __init__(self):\n",
        "        obg1 = A(10, 2)  # creating an object of class A\n",
        "        print(obg1.val())\n",
        "\n",
        "\n",
        "if __name__ == \"__main__\":\n",
        "    f1 = Programm()"
      ]
    }
  ]
}