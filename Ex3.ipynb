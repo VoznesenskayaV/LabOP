{
  "nbformat": 4,
  "nbformat_minor": 0,
  "metadata": {
    "colab": {
      "provenance": [],
      "authorship_tag": "ABX9TyPfb2v/VJ/I5CrpSVKE2tfp",
      "include_colab_link": true
    },
    "kernelspec": {
      "name": "python3",
      "display_name": "Python 3"
    },
    "language_info": {
      "name": "python"
    }
  },
  "cells": [
    {
      "cell_type": "markdown",
      "metadata": {
        "id": "view-in-github",
        "colab_type": "text"
      },
      "source": [
        "<a href=\"https://colab.research.google.com/github/VoznesenskayaV/LabOP/blob/main/Ex3.ipynb\" target=\"_parent\"><img src=\"https://colab.research.google.com/assets/colab-badge.svg\" alt=\"Open In Colab\"/></a>"
      ]
    },
    {
      "cell_type": "markdown",
      "source": [
        "# №1"
      ],
      "metadata": {
        "id": "qiswusR2EgdR"
      }
    },
    {
      "cell_type": "code",
      "execution_count": 3,
      "metadata": {
        "id": "Ph-ovqJuEcW8"
      },
      "outputs": [],
      "source": [
        "class Product:\n",
        "  def __init__(self, name, price, weight):\n",
        "    self.name = name\n",
        "    self.price = price\n",
        "    self.weight = weight\n",
        "\n",
        "class Buy(Product):\n",
        "  def __init__(self, name, price, weight, quantity_of_goods):\n",
        "    super().__init__(name, price, weight)\n",
        "    self.quantity_of_goods = quantity_of_goods\n",
        "\n",
        "  def all_price(self):\n",
        "    self.p = self.quantity_of_goods * self.price\n",
        "    return self.p\n",
        "\n",
        "class Check(Buy):\n",
        "  def purchase(self):\n",
        "    print(f\"Name of good: {self.name}\\nWeight: {self.weight}\\nPrice for 1 piece: {self.price}\\nPrice for all purchased goods: {self.p}\")\n"
      ]
    },
    {
      "cell_type": "code",
      "source": [
        "check1 = Check('Table', 13000, 5.5, 2)\n",
        "check1.all_price()\n",
        "check1.purchase()"
      ],
      "metadata": {
        "colab": {
          "base_uri": "https://localhost:8080/"
        },
        "id": "-IM0p4MAIBWc",
        "outputId": "c3b8ed9e-92c9-48fa-9e4e-a79c47883992"
      },
      "execution_count": 4,
      "outputs": [
        {
          "output_type": "stream",
          "name": "stdout",
          "text": [
            "Name of good: Table\n",
            "Weight: 5.5\n",
            "Price for 1 piece: 13000\n",
            "Price for all purchased goods: 26000\n"
          ]
        }
      ]
    },
    {
      "cell_type": "markdown",
      "source": [
        "# №2"
      ],
      "metadata": {
        "id": "3wM2Bz4VIwVz"
      }
    },
    {
      "cell_type": "code",
      "source": [
        "from enum import Enum\n",
        "class Person:\n",
        "  def __init__(self, name, surname, patronymic):\n",
        "    self.name = name\n",
        "    self.surname = surname\n",
        "    self.patronymic = patronymic\n",
        "  \n",
        "  def show_data(self):\n",
        "    print(f\"Name: {self.name}\\nSurname: {self.surname}\\nPatronymic: {self.patronymic}\")\n",
        "\n",
        "class Student(Person):\n",
        "  def __init__(self, name, surname, patronymic, average):\n",
        "    super().__init__(name, surname, patronymic)\n",
        "    self.average = average\n",
        "  \n",
        "  def show_data(self):\n",
        "    print(f\"Name: {self.name}\\nSurname: {self.surname}\\nPatronymic: {self.patronymic}\\nAcademic performance: {self.average}\")\n",
        "\n",
        "  \n",
        "class Professor(Person):\n",
        "\n",
        "  class Position(Enum):\n",
        "        TEACHER = 1\n",
        "        SENIOR_LECTURER = 2\n",
        "        ASSOCIATE_PROFESSOR = 3\n",
        "        PROFESSOR = 4\n",
        "\n",
        "  def __init__(self, name, surname, patronymic, publications, position, age):\n",
        "    super().__init__(name, surname, patronymic)\n",
        "    self.publications = publications\n",
        "    self.position = position\n",
        "    self.age = age\n",
        "\n",
        "  def show_data(self):\n",
        "    print(f\"Name: {self.name}\\nSurname: {self.surname}\\nPatronymic: {self.patronymic}\\nNumber of publications: {self.publications}\\nPosition: {self.position}\\nAge: {self.age}\")\n"
      ],
      "metadata": {
        "id": "Sd_wycuiIyaR"
      },
      "execution_count": 9,
      "outputs": []
    },
    {
      "cell_type": "code",
      "source": [
        "student1 = Student(\"Mark\", \"Markov\", \"Markovich\", \"4,8\")\n",
        "student1.show_data()\n",
        "student2 = Student(\"Evgeny\", \"Evgenev\", \"Evgenevich\", \"3,3\")\n",
        "student2.show_data()\n",
        "\n",
        "professor1 = Professor(\"Victor\", \"Victorov\", \"Victorovich\", \"10\", \"1\", \"55\")\n",
        "professor1.show_data()\n",
        "professor2 = Professor(\"Sergey\", \"Sergeev\", \"Sergeevich\", \"15\", \"3\", \"57\")\n",
        "professor2.show_data()\n",
        "\n",
        "\n"
      ],
      "metadata": {
        "colab": {
          "base_uri": "https://localhost:8080/"
        },
        "id": "-VDBQ_wAMdlH",
        "outputId": "bf50325d-b35b-4c88-a4cc-f2756402f6a8"
      },
      "execution_count": 10,
      "outputs": [
        {
          "output_type": "stream",
          "name": "stdout",
          "text": [
            "Name: Mark\n",
            "Surname: Markov\n",
            "Patronymic: Markovich\n",
            "Academic performance: 4,8\n",
            "Name: Evgeny\n",
            "Surname: Evgenev\n",
            "Patronymic: Evgenevich\n",
            "Academic performance: 3,3\n",
            "Name: Victor\n",
            "Surname: Victorov\n",
            "Patronymic: Victorovich\n",
            "Number of publications: 10\n",
            "Position: 1\n",
            "Age: 55\n",
            "Name: Sergey\n",
            "Surname: Sergeev\n",
            "Patronymic: Sergeevich\n",
            "Number of publications: 15\n",
            "Position: 3\n",
            "Age: 57\n"
          ]
        }
      ]
    }
  ]
}