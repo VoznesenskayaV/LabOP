{
  "nbformat": 4,
  "nbformat_minor": 0,
  "metadata": {
    "colab": {
      "provenance": [],
      "authorship_tag": "ABX9TyOfDcr5mHqttfZ9ajc7IqH3",
      "include_colab_link": true
    },
    "kernelspec": {
      "name": "python3",
      "display_name": "Python 3"
    },
    "language_info": {
      "name": "python"
    }
  },
  "cells": [
    {
      "cell_type": "markdown",
      "metadata": {
        "id": "view-in-github",
        "colab_type": "text"
      },
      "source": [
        "<a href=\"https://colab.research.google.com/github/VoznesenskayaV/LabOP/blob/main/%D0%9C%D0%9E%D0%A3_4.ipynb\" target=\"_parent\"><img src=\"https://colab.research.google.com/assets/colab-badge.svg\" alt=\"Open In Colab\"/></a>"
      ]
    },
    {
      "cell_type": "markdown",
      "source": [
        "# Пример 1 в gurobi"
      ],
      "metadata": {
        "id": "CtyQKOYBc1Ih"
      }
    },
    {
      "cell_type": "code",
      "execution_count": 1,
      "metadata": {
        "colab": {
          "base_uri": "https://localhost:8080/"
        },
        "id": "fluePlgLcB0T",
        "outputId": "2c74fbd2-5e83-461e-9711-b82a892cb831"
      },
      "outputs": [
        {
          "output_type": "stream",
          "name": "stdout",
          "text": [
            "Collecting gurobipy\n",
            "  Downloading gurobipy-11.0.1-cp310-cp310-manylinux2014_x86_64.manylinux_2_17_x86_64.whl (13.4 MB)\n",
            "\u001b[2K     \u001b[90m━━━━━━━━━━━━━━━━━━━━━━━━━━━━━━━━━━━━━━━━\u001b[0m \u001b[32m13.4/13.4 MB\u001b[0m \u001b[31m29.9 MB/s\u001b[0m eta \u001b[36m0:00:00\u001b[0m\n",
            "\u001b[?25hInstalling collected packages: gurobipy\n",
            "Successfully installed gurobipy-11.0.1\n"
          ]
        }
      ],
      "source": [
        "# Установка GUROBI\n",
        "!pip install gurobipy"
      ]
    },
    {
      "cell_type": "code",
      "source": [
        "# Подключение пакета\n",
        "import gurobipy as op"
      ],
      "metadata": {
        "id": "NG2BLzzOcb5p"
      },
      "execution_count": 2,
      "outputs": []
    },
    {
      "cell_type": "code",
      "source": [
        "# Определяем окружение\n",
        "prob = op.Model(\"MyOptProblem\")\n",
        "\n",
        "# Определим переменные задачи\n",
        "x1 = prob.addVar(vtype=op.GRB.CONTINUOUS, lb=0, name='x1')\n",
        "x2 = prob.addVar(vtype=op.GRB.CONTINUOUS, lb=0, name='x2')\n",
        "\n",
        "# Добавление целевой функции\n",
        "prob.setObjective(2*x1+3*x2, op.GRB.MAXIMIZE)\n",
        "\n",
        "# Добавление ограничений\n",
        "prob.addConstr(x1+x2<=16, \"const1\")\n",
        "prob.addConstr(3*x1<=36, \"const2\")\n",
        "prob.addConstr(2*x2<=20, \"const3\")\n",
        "\n",
        "# Вызов процедуры оптимизации\n",
        "prob.optimize()"
      ],
      "metadata": {
        "colab": {
          "base_uri": "https://localhost:8080/"
        },
        "id": "006tZUPucjnP",
        "outputId": "27f5b9a8-f250-429d-efb4-9e0ee147dc2f"
      },
      "execution_count": 3,
      "outputs": [
        {
          "output_type": "stream",
          "name": "stdout",
          "text": [
            "Restricted license - for non-production use only - expires 2025-11-24\n",
            "Gurobi Optimizer version 11.0.1 build v11.0.1rc0 (linux64 - \"Ubuntu 22.04.3 LTS\")\n",
            "\n",
            "CPU model: Intel(R) Xeon(R) CPU @ 2.20GHz, instruction set [SSE2|AVX|AVX2]\n",
            "Thread count: 1 physical cores, 2 logical processors, using up to 2 threads\n",
            "\n",
            "Optimize a model with 3 rows, 2 columns and 4 nonzeros\n",
            "Model fingerprint: 0xd52ef52b\n",
            "Coefficient statistics:\n",
            "  Matrix range     [1e+00, 3e+00]\n",
            "  Objective range  [2e+00, 3e+00]\n",
            "  Bounds range     [0e+00, 0e+00]\n",
            "  RHS range        [2e+01, 4e+01]\n",
            "Presolve removed 2 rows and 0 columns\n",
            "Presolve time: 0.02s\n",
            "Presolved: 1 rows, 2 columns, 2 nonzeros\n",
            "\n",
            "Iteration    Objective       Primal Inf.    Dual Inf.      Time\n",
            "       0    4.8000000e+01   3.000000e+00   0.000000e+00      0s\n",
            "       1    4.2000000e+01   0.000000e+00   0.000000e+00      0s\n",
            "\n",
            "Solved in 1 iterations and 0.04 seconds (0.00 work units)\n",
            "Optimal objective  4.200000000e+01\n"
          ]
        }
      ]
    },
    {
      "cell_type": "code",
      "source": [
        "# Вывод оптимальных значений переменных\n",
        "print('Оптимальное решение:')\n",
        "for v in prob.getVars():\n",
        "  print(' %s = %g' % (v.VarName, v.X))"
      ],
      "metadata": {
        "colab": {
          "base_uri": "https://localhost:8080/"
        },
        "id": "mb5YcVpgcoCy",
        "outputId": "5d6bd003-3cff-4c8b-8ca8-47a6fdb141d1"
      },
      "execution_count": 4,
      "outputs": [
        {
          "output_type": "stream",
          "name": "stdout",
          "text": [
            "Оптимальное решение:\n",
            " x1 = 6\n",
            " x2 = 10\n"
          ]
        }
      ]
    },
    {
      "cell_type": "code",
      "source": [
        "# Вывод значения целевой функции\n",
        "print('Целевая функция = %g' % prob.ObjVal)"
      ],
      "metadata": {
        "colab": {
          "base_uri": "https://localhost:8080/"
        },
        "id": "GlrMx_jwcvFr",
        "outputId": "f923dbe0-4e3d-4c65-d2fd-779f99afb518"
      },
      "execution_count": 5,
      "outputs": [
        {
          "output_type": "stream",
          "name": "stdout",
          "text": [
            "Целевая функция = 42\n"
          ]
        }
      ]
    },
    {
      "cell_type": "markdown",
      "source": [
        "# Пример 1 в cplex"
      ],
      "metadata": {
        "id": "NXMA0SrUc8zH"
      }
    },
    {
      "cell_type": "code",
      "source": [
        "# Установка пакетов cplex, docplex\n",
        "!pip install cplex\n",
        "!pip install docplex"
      ],
      "metadata": {
        "colab": {
          "base_uri": "https://localhost:8080/"
        },
        "id": "p9HiukfHc_rP",
        "outputId": "c0cbe811-3312-4b44-9e44-41442f181d64"
      },
      "execution_count": 6,
      "outputs": [
        {
          "output_type": "stream",
          "name": "stdout",
          "text": [
            "Collecting cplex\n",
            "  Downloading cplex-22.1.1.2-cp310-cp310-manylinux1_x86_64.whl (44.2 MB)\n",
            "\u001b[2K     \u001b[90m━━━━━━━━━━━━━━━━━━━━━━━━━━━━━━━━━━━━━━━━\u001b[0m \u001b[32m44.2/44.2 MB\u001b[0m \u001b[31m16.9 MB/s\u001b[0m eta \u001b[36m0:00:00\u001b[0m\n",
            "\u001b[?25hInstalling collected packages: cplex\n",
            "Successfully installed cplex-22.1.1.2\n",
            "Collecting docplex\n",
            "  Downloading docplex-2.27.239.tar.gz (635 kB)\n",
            "\u001b[2K     \u001b[90m━━━━━━━━━━━━━━━━━━━━━━━━━━━━━━━━━━━━━━━━\u001b[0m \u001b[32m635.6/635.6 kB\u001b[0m \u001b[31m7.2 MB/s\u001b[0m eta \u001b[36m0:00:00\u001b[0m\n",
            "\u001b[?25h  Installing build dependencies ... \u001b[?25l\u001b[?25hdone\n",
            "  Getting requirements to build wheel ... \u001b[?25l\u001b[?25hdone\n",
            "  Installing backend dependencies ... \u001b[?25l\u001b[?25hdone\n",
            "  Preparing metadata (pyproject.toml) ... \u001b[?25l\u001b[?25hdone\n",
            "Requirement already satisfied: six in /usr/local/lib/python3.10/dist-packages (from docplex) (1.16.0)\n",
            "Building wheels for collected packages: docplex\n",
            "  Building wheel for docplex (pyproject.toml) ... \u001b[?25l\u001b[?25hdone\n",
            "  Created wheel for docplex: filename=docplex-2.27.239-py3-none-any.whl size=674503 sha256=c01e378c2b1273c22e28abfd03973395a6f90d5f104aca275b61849f5e9aca20\n",
            "  Stored in directory: /root/.cache/pip/wheels/62/7c/db/cef9425e1cedbf45621545097eaaeed5efe07005bd8229dd74\n",
            "Successfully built docplex\n",
            "Installing collected packages: docplex\n",
            "Successfully installed docplex-2.27.239\n"
          ]
        }
      ]
    },
    {
      "cell_type": "code",
      "source": [
        "# подключение\n",
        "import docplex as op\n",
        "from docplex.mp.model import Model"
      ],
      "metadata": {
        "id": "660lMP3VdNas"
      },
      "execution_count": 7,
      "outputs": []
    },
    {
      "cell_type": "code",
      "source": [
        "# определяем окружение\n",
        "prob = Model(\"MyOptProblem\")\n",
        "\n",
        "# переменные задачи\n",
        "x1 = prob.continuous_var(lb=0,ub=None)\n",
        "x2 = prob.continuous_var(lb=0,ub=None)\n",
        "\n",
        "# целевая функция\n",
        "prob.set_objective(\"max\", 2*x1+3*x2)\n",
        "\n",
        "# ограничения\n",
        "prob.add_constraint(x1+x2<=16, ctname=\"const1\")\n",
        "prob.add_constraint(3*x1<=36, ctname=\"const2\")\n",
        "prob.add_constraint(2*x2<=20, ctname=\"const3\")\n",
        "\n",
        "# Статус задачи\n",
        "prob.print_information()\n",
        "prob.solve()"
      ],
      "metadata": {
        "colab": {
          "base_uri": "https://localhost:8080/"
        },
        "id": "8yKusp3DdPbW",
        "outputId": "efe07249-6797-4051-95d5-38eaab9c5d3e"
      },
      "execution_count": 8,
      "outputs": [
        {
          "output_type": "stream",
          "name": "stdout",
          "text": [
            "Model: MyOptProblem\n",
            " - number of variables: 2\n",
            "   - binary=0, integer=0, continuous=2\n",
            " - number of constraints: 3\n",
            "   - linear=3\n",
            " - parameters: defaults\n",
            " - objective: maximize\n",
            " - problem type is: LP\n"
          ]
        },
        {
          "output_type": "execute_result",
          "data": {
            "text/plain": [
              "docplex.mp.solution.SolveSolution(obj=42,values={x1:6,x2:10})"
            ]
          },
          "metadata": {},
          "execution_count": 8
        }
      ]
    },
    {
      "cell_type": "code",
      "source": [
        "# Значения переменных в оптимальном решении\n",
        "prob.print_solution()"
      ],
      "metadata": {
        "colab": {
          "base_uri": "https://localhost:8080/"
        },
        "id": "vyeBPpkjdXui",
        "outputId": "f7834721-9b86-48b0-c254-588148888977"
      },
      "execution_count": 9,
      "outputs": [
        {
          "output_type": "stream",
          "name": "stdout",
          "text": [
            "objective: 42.000\n",
            "status: OPTIMAL_SOLUTION(2)\n",
            "  x1=6.000\n",
            "  x2=10.000\n"
          ]
        }
      ]
    },
    {
      "cell_type": "code",
      "source": [
        "# ЦФ в оптимальном решении\n",
        "print(\"Целевая функция = \",prob.objective_value)"
      ],
      "metadata": {
        "colab": {
          "base_uri": "https://localhost:8080/"
        },
        "id": "JFDJCHHYdbJE",
        "outputId": "76c8cb0a-a49b-4bd1-8410-2fba3f88eac3"
      },
      "execution_count": 10,
      "outputs": [
        {
          "output_type": "stream",
          "name": "stdout",
          "text": [
            "Целевая функция =  42.0\n"
          ]
        }
      ]
    },
    {
      "cell_type": "markdown",
      "source": [
        "# Пример 1 в pulp"
      ],
      "metadata": {
        "id": "VSSNBJ0idjlf"
      }
    },
    {
      "cell_type": "code",
      "source": [
        "# установка пакета\n",
        "!pip install pulp\n",
        "import pulp as op"
      ],
      "metadata": {
        "colab": {
          "base_uri": "https://localhost:8080/"
        },
        "id": "EWuE4plfdmgP",
        "outputId": "4d65447b-75c4-408e-ab4f-12328f20d23f"
      },
      "execution_count": 11,
      "outputs": [
        {
          "output_type": "stream",
          "name": "stdout",
          "text": [
            "Collecting pulp\n",
            "  Downloading PuLP-2.8.0-py3-none-any.whl (17.7 MB)\n",
            "\u001b[2K     \u001b[90m━━━━━━━━━━━━━━━━━━━━━━━━━━━━━━━━━━━━━━━━\u001b[0m \u001b[32m17.7/17.7 MB\u001b[0m \u001b[31m29.0 MB/s\u001b[0m eta \u001b[36m0:00:00\u001b[0m\n",
            "\u001b[?25hInstalling collected packages: pulp\n",
            "Successfully installed pulp-2.8.0\n"
          ]
        }
      ]
    },
    {
      "cell_type": "code",
      "source": [
        "# Определим окружение и тип оптимизации\n",
        "prob = op.LpProblem(\"MyOptProblem\", op.LpMaximize)\n",
        "\n",
        "# Переменные задачи\n",
        "x1 = op.LpVariable(\"x1\", lowBound = 0, upBound = None, cat='Continuous')\n",
        "x2 = op.LpVariable(\"x2\", lowBound = 0, upBound = None, cat='Continuous')\n",
        "\n",
        "# Добавим в окружение целевую функцию\n",
        "prob += 2*x1+3*x2, \"Objective\"\n",
        "\n",
        "# Добавим в окружение ограничения\n",
        "prob += x1+x2<=16, \"Constraint1\"\n",
        "prob += 3*x1<=36, \"Constraint2\"\n",
        "prob += 2*x2<=20, \"Constraint3\"\n",
        "\n",
        "# Решаем задачу\n",
        "prob.solve()"
      ],
      "metadata": {
        "colab": {
          "base_uri": "https://localhost:8080/"
        },
        "id": "x9Pn_G_cdul2",
        "outputId": "0e32209c-48e1-473c-ced6-e2acc14059c3"
      },
      "execution_count": 12,
      "outputs": [
        {
          "output_type": "execute_result",
          "data": {
            "text/plain": [
              "1"
            ]
          },
          "metadata": {},
          "execution_count": 12
        }
      ]
    },
    {
      "cell_type": "code",
      "source": [
        "# Вывод статуса задачи\n",
        "print(\"Status:\", op.LpStatus[prob.status])"
      ],
      "metadata": {
        "colab": {
          "base_uri": "https://localhost:8080/"
        },
        "id": "w5PWUNx0d5CZ",
        "outputId": "0a6291eb-b454-4de4-9d71-a4fe05b871c5"
      },
      "execution_count": 13,
      "outputs": [
        {
          "output_type": "stream",
          "name": "stdout",
          "text": [
            "Status: Optimal\n"
          ]
        }
      ]
    },
    {
      "cell_type": "code",
      "source": [
        "# Вывод оптимального решения\n",
        "print(\"Оптимальное решение:\")\n",
        "for variables in prob.variables():\n",
        "  print(variables.name, \"=\", variables.varValue)"
      ],
      "metadata": {
        "colab": {
          "base_uri": "https://localhost:8080/"
        },
        "id": "2TRi6SJtd8Ii",
        "outputId": "c5597acf-91d7-4e00-9bc0-06ffcfda0829"
      },
      "execution_count": 15,
      "outputs": [
        {
          "output_type": "stream",
          "name": "stdout",
          "text": [
            "Оптимальное решение:\n",
            "x1 = 6.0\n",
            "x2 = 10.0\n"
          ]
        }
      ]
    },
    {
      "cell_type": "code",
      "source": [
        "# Вывод значения целевой функции при оптимальном решении\n",
        "print(\"Целевая функция = \", op.value(prob.objective))"
      ],
      "metadata": {
        "colab": {
          "base_uri": "https://localhost:8080/"
        },
        "id": "e7DGarhyeBgM",
        "outputId": "38490738-f8e3-4fda-da78-daa3527268df"
      },
      "execution_count": 16,
      "outputs": [
        {
          "output_type": "stream",
          "name": "stdout",
          "text": [
            "Целевая функция =  42.0\n"
          ]
        }
      ]
    },
    {
      "cell_type": "markdown",
      "source": [
        "# Пример 1 в scipy.optimize"
      ],
      "metadata": {
        "id": "F99SuVNeeJUH"
      }
    },
    {
      "cell_type": "code",
      "source": [
        "from scipy.optimize import linprog\n",
        "c = [-2,-3] #Функция цели с минусом, поскольку пакет ищет минимум\n",
        "\n",
        "A_ub = [[1, 1],\n",
        "        [3, 0], #'матрица коэффициентов с неравенствами <='\n",
        "        [0, 2]]\n",
        "\n",
        "b_ub = [16, 36, 20] # правые части ограничений с неравенствами <=\n",
        "#A_eq = [[]] # аналогично можно задать матрицу коэффициентов с равенствами ==\n",
        "#b_eq = [] # правые части ограничений с равенствами\n",
        "Abc=linprog(c, A_ub, b_ub)\n",
        "print ('z=', Abc.fun, '\\nx=',Abc.x)"
      ],
      "metadata": {
        "colab": {
          "base_uri": "https://localhost:8080/"
        },
        "id": "18fwUl00eGit",
        "outputId": "af67fdaa-75b6-421f-b0d9-61e1b5685ec2"
      },
      "execution_count": 17,
      "outputs": [
        {
          "output_type": "stream",
          "name": "stdout",
          "text": [
            "z= -42.0 \n",
            "x= [ 6. 10.]\n"
          ]
        }
      ]
    },
    {
      "cell_type": "markdown",
      "source": [
        "# Пример 2 в gurobi"
      ],
      "metadata": {
        "id": "mmyZrT5Xeevs"
      }
    },
    {
      "cell_type": "code",
      "source": [
        "# Установка GUROBI\n",
        "!pip install gurobipy\n",
        "import gurobipy as op"
      ],
      "metadata": {
        "colab": {
          "base_uri": "https://localhost:8080/"
        },
        "id": "w2cUvmjIefxa",
        "outputId": "74c92af8-4c5a-493b-a463-cd36d1c0ab7f"
      },
      "execution_count": 18,
      "outputs": [
        {
          "output_type": "stream",
          "name": "stdout",
          "text": [
            "Requirement already satisfied: gurobipy in /usr/local/lib/python3.10/dist-packages (11.0.1)\n"
          ]
        }
      ]
    },
    {
      "cell_type": "code",
      "source": [
        "pa = ['A1','A2']\n",
        "pb = ['B1','B2','B3']\n",
        "cost = {\n",
        "('A1','B1'): 40,\n",
        "('A1','B2'): 120,\n",
        "('A1','B3'): 190,\n",
        "('A2','B1'): 60,\n",
        "('A2','B2'): 100,\n",
        "('A2','B3'): 140\n",
        "}\n",
        "supply = {\n",
        "('A1'): 80,\n",
        "('A2'): 50\n",
        "}\n",
        "demand = {\n",
        "('B1'): 40,\n",
        "('B2'): 60,\n",
        "('B3'): 30\n",
        "}\n",
        "\n",
        "# создание новой модели\n",
        "m = op.Model(\"transport_problem_1\")\n",
        "\n",
        "# Блокируем промежуточный вывод\n",
        "m.Params.LogToConsole = 0\n",
        "\n",
        "# Создаём переменные модели\n",
        "flow = {}\n",
        "for i in pa:\n",
        "  for j in pb:\n",
        "    flow[i,j] = m.addVar(obj=cost[i,j], name='flow_%s_%s' % (i, j))\n",
        "\n",
        "# добавление переменных в модель\n",
        "m.update()\n",
        "\n",
        "# Ограничения по поставщикам\n",
        "for i in pa:\n",
        "  m.addConstr(op.quicksum(flow[i,j] for j in pb) == supply[i], 'supply_%s' % (i))\n",
        "\n",
        "# Ограничения по потребителям\n",
        "for j in pb:\n",
        "  m.addConstr(op.quicksum(flow[i,j] for i in pa) == demand[j], 'demand_%s' % (j))\n",
        "\n",
        "# Минимизация целевой функции\n",
        "m.optimize()\n",
        "\n",
        "# Вывод решения\n",
        "if m.status == op.GRB.status.OPTIMAL:\n",
        "  print ('\\nОптимальные перевозки :')\n",
        "  for i in pa:\n",
        "    for j in pb:\n",
        "      print (i, '->', j, ':', flow[i,j].x)\n",
        "  print ('Суммарные затраты =%g'%m.ObjVal)\n",
        "else :\n",
        "  print ('Решение не найдено. Проверьте условия задачи')"
      ],
      "metadata": {
        "colab": {
          "base_uri": "https://localhost:8080/"
        },
        "id": "VTJkJ8NfepZE",
        "outputId": "170912bf-4b95-4261-94f1-4a9fc067d5dd"
      },
      "execution_count": 19,
      "outputs": [
        {
          "output_type": "stream",
          "name": "stdout",
          "text": [
            "\n",
            "Оптимальные перевозки :\n",
            "A1 -> B1 : 40.0\n",
            "A1 -> B2 : 40.0\n",
            "A1 -> B3 : 0.0\n",
            "A2 -> B1 : 0.0\n",
            "A2 -> B2 : 20.0\n",
            "A2 -> B3 : 30.0\n",
            "Суммарные затраты =12600\n"
          ]
        }
      ]
    },
    {
      "cell_type": "markdown",
      "source": [
        "# Задание из КР_1 (Вариант 2)"
      ],
      "metadata": {
        "id": "Omc8S2slfdjf"
      }
    },
    {
      "cell_type": "code",
      "source": [
        "# Определяем окружение\n",
        "prob = op.Model(\"MyOptProblem\")\n",
        "\n",
        "# Определим переменные задачи\n",
        "x1 = prob.addVar(vtype=op.GRB.CONTINUOUS, lb=0, name='x1')\n",
        "x2 = prob.addVar(vtype=op.GRB.CONTINUOUS, lb=0, name='x2')\n",
        "\n",
        "# Добавление целевой функции\n",
        "prob.setObjective(5*x1-2*x2, op.GRB.MAXIMIZE)\n",
        "\n",
        "# Добавление ограничений\n",
        "prob.addConstr(10*x1+x2<=20, \"const1\")\n",
        "prob.addConstr(x1+x2<=9, \"const2\")\n",
        "prob.addConstr(x1-x2<=1, \"const3\")\n",
        "\n",
        "\n",
        "# Вызов процедуры оптимизации\n",
        "prob.optimize()"
      ],
      "metadata": {
        "colab": {
          "base_uri": "https://localhost:8080/"
        },
        "id": "fjIzPSHDfisl",
        "outputId": "aaef56ea-f3c6-4cce-8cc6-00bbd98d4e13"
      },
      "execution_count": 20,
      "outputs": [
        {
          "output_type": "stream",
          "name": "stdout",
          "text": [
            "Gurobi Optimizer version 11.0.1 build v11.0.1rc0 (linux64 - \"Ubuntu 22.04.3 LTS\")\n",
            "\n",
            "CPU model: Intel(R) Xeon(R) CPU @ 2.20GHz, instruction set [SSE2|AVX|AVX2]\n",
            "Thread count: 1 physical cores, 2 logical processors, using up to 2 threads\n",
            "\n",
            "Optimize a model with 3 rows, 2 columns and 6 nonzeros\n",
            "Model fingerprint: 0xfbc6d21e\n",
            "Coefficient statistics:\n",
            "  Matrix range     [1e+00, 1e+01]\n",
            "  Objective range  [2e+00, 5e+00]\n",
            "  Bounds range     [0e+00, 0e+00]\n",
            "  RHS range        [1e+00, 2e+01]\n",
            "Presolve time: 0.02s\n",
            "Presolved: 3 rows, 2 columns, 6 nonzeros\n",
            "\n",
            "Iteration    Objective       Primal Inf.    Dual Inf.      Time\n",
            "       0    5.0000000e+30   3.250000e+30   5.000000e+00      0s\n",
            "       2    7.7272727e+00   0.000000e+00   0.000000e+00      0s\n",
            "\n",
            "Solved in 2 iterations and 0.04 seconds (0.00 work units)\n",
            "Optimal objective  7.727272727e+00\n"
          ]
        }
      ]
    },
    {
      "cell_type": "code",
      "source": [
        "# Вывод оптимальных значений переменных\n",
        "print('Оптимальное решение:')\n",
        "for v in prob.getVars():\n",
        "  print(' %s = %g' % (v.VarName, v.X))"
      ],
      "metadata": {
        "colab": {
          "base_uri": "https://localhost:8080/"
        },
        "id": "Cp0h0jfKf38L",
        "outputId": "6a3cd734-2ba3-4b03-bf25-2d0b787feff8"
      },
      "execution_count": 21,
      "outputs": [
        {
          "output_type": "stream",
          "name": "stdout",
          "text": [
            "Оптимальное решение:\n",
            " x1 = 1.90909\n",
            " x2 = 0.909091\n"
          ]
        }
      ]
    },
    {
      "cell_type": "code",
      "source": [
        "# Вывод значения целевой функции\n",
        "print('Целевая функция = %g' % prob.ObjVal)"
      ],
      "metadata": {
        "colab": {
          "base_uri": "https://localhost:8080/"
        },
        "id": "Y9Tc97Rvf4kt",
        "outputId": "d97f6488-9835-4aad-8b7e-639fd3cdc876"
      },
      "execution_count": 22,
      "outputs": [
        {
          "output_type": "stream",
          "name": "stdout",
          "text": [
            "Целевая функция = 7.72727\n"
          ]
        }
      ]
    },
    {
      "cell_type": "markdown",
      "source": [
        "# Индивидуальное задание"
      ],
      "metadata": {
        "id": "6ya55FgShR26"
      }
    },
    {
      "cell_type": "code",
      "source": [
        "# Определяем окружение\n",
        "prob = op.Model(\"MyOptProblem\")\n",
        "\n",
        "# Определим переменные задачи\n",
        "x1 = prob.addVar(vtype=op.GRB.CONTINUOUS, lb=0, name='x1')\n",
        "x2 = prob.addVar(vtype=op.GRB.CONTINUOUS, lb=0, name='x2')\n",
        "x3 = prob.addVar(vtype=op.GRB.CONTINUOUS, lb=0, name='x3')\n",
        "\n",
        "# Добавление целевой функции\n",
        "prob.setObjective(10*x1+14*x2+12*x3, op.GRB.MAXIMIZE)\n",
        "\n",
        "# Добавление ограничений\n",
        "prob.addConstr(4*x1+2*x2+x3<=180, \"const1\")\n",
        "prob.addConstr(3*x1+x2+3*x3<=210, \"const2\")\n",
        "prob.addConstr(x1+2*x2+5*x3<=244, \"const3\")\n",
        "\n",
        "\n",
        "# Вызов процедуры оптимизации\n",
        "prob.optimize()"
      ],
      "metadata": {
        "colab": {
          "base_uri": "https://localhost:8080/"
        },
        "id": "WfYqw21shWmH",
        "outputId": "1f8329aa-f1a4-4e01-ed9d-5b47b07fc5d0"
      },
      "execution_count": 23,
      "outputs": [
        {
          "output_type": "stream",
          "name": "stdout",
          "text": [
            "Gurobi Optimizer version 11.0.1 build v11.0.1rc0 (linux64 - \"Ubuntu 22.04.3 LTS\")\n",
            "\n",
            "CPU model: Intel(R) Xeon(R) CPU @ 2.20GHz, instruction set [SSE2|AVX|AVX2]\n",
            "Thread count: 1 physical cores, 2 logical processors, using up to 2 threads\n",
            "\n",
            "Optimize a model with 3 rows, 3 columns and 9 nonzeros\n",
            "Model fingerprint: 0x9f242dae\n",
            "Coefficient statistics:\n",
            "  Matrix range     [1e+00, 5e+00]\n",
            "  Objective range  [1e+01, 1e+01]\n",
            "  Bounds range     [0e+00, 0e+00]\n",
            "  RHS range        [2e+02, 2e+02]\n",
            "Presolve time: 0.01s\n",
            "Presolved: 3 rows, 3 columns, 9 nonzeros\n",
            "\n",
            "Iteration    Objective       Primal Inf.    Dual Inf.      Time\n",
            "       0    5.0000000e+31   5.500000e+30   5.000000e+01      0s\n",
            "       2    1.3400000e+03   0.000000e+00   0.000000e+00      0s\n",
            "\n",
            "Solved in 2 iterations and 0.02 seconds (0.00 work units)\n",
            "Optimal objective  1.340000000e+03\n"
          ]
        }
      ]
    },
    {
      "cell_type": "code",
      "source": [
        "# Вывод оптимальных значений переменных\n",
        "print('Оптимальное решение:')\n",
        "for v in prob.getVars():\n",
        "  print(' %s = %g' % (v.VarName, v.X))"
      ],
      "metadata": {
        "colab": {
          "base_uri": "https://localhost:8080/"
        },
        "id": "_lM-T4QbilM2",
        "outputId": "c86ecf8d-c303-44f3-ceda-730529ca0dfa"
      },
      "execution_count": 24,
      "outputs": [
        {
          "output_type": "stream",
          "name": "stdout",
          "text": [
            "Оптимальное решение:\n",
            " x1 = 0\n",
            " x2 = 82\n",
            " x3 = 16\n"
          ]
        }
      ]
    },
    {
      "cell_type": "code",
      "source": [
        "# Вывод значения целевой функции\n",
        "print('Целевая функция = %g' % prob.ObjVal)"
      ],
      "metadata": {
        "colab": {
          "base_uri": "https://localhost:8080/"
        },
        "id": "_EfkJvoAipVY",
        "outputId": "af083549-54da-4dbe-f18f-cc79e0748bc5"
      },
      "execution_count": 25,
      "outputs": [
        {
          "output_type": "stream",
          "name": "stdout",
          "text": [
            "Целевая функция = 1340\n"
          ]
        }
      ]
    }
  ]
}