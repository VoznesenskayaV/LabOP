{
  "nbformat": 4,
  "nbformat_minor": 0,
  "metadata": {
    "colab": {
      "provenance": [],
      "authorship_tag": "ABX9TyNnj92FmrE1jM81me9a+u5V",
      "include_colab_link": true
    },
    "kernelspec": {
      "name": "python3",
      "display_name": "Python 3"
    },
    "language_info": {
      "name": "python"
    }
  },
  "cells": [
    {
      "cell_type": "markdown",
      "metadata": {
        "id": "view-in-github",
        "colab_type": "text"
      },
      "source": [
        "<a href=\"https://colab.research.google.com/github/VoznesenskayaV/LabOP/blob/main/2.ipynb\" target=\"_parent\"><img src=\"https://colab.research.google.com/assets/colab-badge.svg\" alt=\"Open In Colab\"/></a>"
      ]
    },
    {
      "cell_type": "markdown",
      "source": [
        "# 1.1"
      ],
      "metadata": {
        "id": "SxWuMzTFD4qn"
      }
    },
    {
      "cell_type": "code",
      "execution_count": 8,
      "metadata": {
        "id": "oBGPe69eCDV2"
      },
      "outputs": [],
      "source": [
        "class A():\n",
        "  def __init__(self, a, b, d):\n",
        "    self.a = a \n",
        "    self.b = b\n",
        "    self.d = d\n",
        "  def val(self):\n",
        "    \"\"\" Actions on a and b. \"\"\"\n",
        "    self.c1 = self.a / self.b\n",
        "    self.c2 = self.a - self.b\n",
        "    print(self.c1, self.c2)\n",
        "\n",
        "class B(A):\n",
        "  def val2(self):\n",
        "    if self.d > 0:\n",
        "      self.c3 = self.c1 / self.d\n",
        "      print(self.c3)\n",
        "    else:\n",
        "      print(\"Сan't be divided by 0\")\n"
      ]
    },
    {
      "cell_type": "code",
      "source": [
        "b = B(10, 2, 5)\n",
        "b.val()\n",
        "b.val2()"
      ],
      "metadata": {
        "colab": {
          "base_uri": "https://localhost:8080/"
        },
        "id": "CBtjfKBLS7gt",
        "outputId": "d48f06ab-5cbd-4170-acac-052878567ee2"
      },
      "execution_count": 9,
      "outputs": [
        {
          "output_type": "stream",
          "name": "stdout",
          "text": [
            "5.0 8\n",
            "1.0\n"
          ]
        }
      ]
    },
    {
      "cell_type": "markdown",
      "source": [
        "# 1\n"
      ],
      "metadata": {
        "id": "ZfQjpWgeE_8H"
      }
    },
    {
      "cell_type": "code",
      "source": [
        "class Salary():\n",
        "  def __init__(self, rate, days):\n",
        "    self.rate = rate\n",
        "    self.days = days\n",
        "  def sal(self):\n",
        "    self.res = self.rate * self.days\n",
        "    print(\"Salary: \", self.res)\n",
        "\n",
        "class Calculation(Salary):\n",
        "  def value(self):\n",
        "    r = float(input(\"Required sales volume: \"))\n",
        "    n = float(input(\"Сompleted sales volume: \"))\n",
        "    if n > r:\n",
        "      p = float(input(\"Percent: \"))\n",
        "      val1 = self.res * (p / 100)\n",
        "      val2 = self.res + val1\n",
        "      print(\"Salary with percents: \", val2)\n",
        "    else:\n",
        "      print(\"You didn't meet the sales target!\")\n",
        "\n",
        "person1 = Calculation(500, 21)\n",
        "person1.sal()\n",
        "person1.value()"
      ],
      "metadata": {
        "colab": {
          "base_uri": "https://localhost:8080/"
        },
        "id": "h3FuJqNxFBI-",
        "outputId": "efac4a13-d10e-4f30-cfba-e5a6c88e0a07"
      },
      "execution_count": null,
      "outputs": [
        {
          "output_type": "stream",
          "name": "stdout",
          "text": [
            "Salary:  10500\n",
            "Required sales volume: 5000\n",
            "Сompleted sales volume: 5500\n",
            "Percent: 10\n",
            "Salary with percents:  11550.0\n"
          ]
        }
      ]
    },
    {
      "cell_type": "markdown",
      "source": [
        "# 2"
      ],
      "metadata": {
        "id": "MnOQRH1EMVmR"
      }
    },
    {
      "cell_type": "code",
      "source": [
        "class Salary():\n",
        "  def __init__(self, rate, days):\n",
        "    self.rate = rate\n",
        "    self.days = days\n",
        "  def sal(self):\n",
        "    self.res = self.rate * self.days\n",
        "    print(\"Salary: \", self.res)\n",
        "\n",
        "class Calculation(Salary):\n",
        "  def value(self):\n",
        "    r = 1000000 #Required sales volume\n",
        "    n = float(input(\"Сompleted sales volume: \"))\n",
        "    p = float(input(\"Percent: \"))\n",
        "    if n > r:\n",
        "      val1 = self.res * (p / 100)\n",
        "      val2 = self.res + val1\n",
        "      print(\"Salary with percents: \", val2)\n",
        "    else:\n",
        "      val1 = self.res * (p / 100)\n",
        "      val2 = self.res - val1\n",
        "      print(\"You didn't meet the sales target!\", val2)\n",
        "\n",
        "person1 = Calculation(500, 21)\n",
        "person1.sal()\n",
        "person1.value()"
      ],
      "metadata": {
        "colab": {
          "base_uri": "https://localhost:8080/"
        },
        "id": "Fu1HJZogIWVp",
        "outputId": "866dd91c-e3fb-4d6d-eac2-7a73cb77dfc2"
      },
      "execution_count": null,
      "outputs": [
        {
          "output_type": "stream",
          "name": "stdout",
          "text": [
            "Salary:  10500\n",
            "Сompleted sales volume: 5000\n",
            "Percent: 5\n",
            "You didn't meet the sales target! 9975.0\n"
          ]
        }
      ]
    },
    {
      "cell_type": "markdown",
      "source": [
        "# 3"
      ],
      "metadata": {
        "id": "ZfYebJYO5DoC"
      }
    },
    {
      "cell_type": "code",
      "source": [
        "class Workers():\n",
        "  def data(self):\n",
        "    self.name = input(\"Name: \")\n",
        "    self.days = int(input(\"Number of days worked: \"))\n",
        "    self.pay = float(input(\"1 working day fee: \"))\n",
        "\n",
        "class Sales_department(Workers):\n",
        "  def sal(self):\n",
        "    self.res = self.days * self.pay\n",
        "    print(\"Salary: \", self.res, self.name)\n",
        "  def value(self):\n",
        "    r = float(input(\"Required sales volume: \"))\n",
        "    n = float(input(\"Сompleted sales volume: \"))\n",
        "    if n > r:\n",
        "      p = float(input(\"Percent: \"))\n",
        "      val1 = self.res * (p / 100)\n",
        "      val2 = self.res + val1\n",
        "      print(\"Salary with percents: \", val2)\n",
        "    else:\n",
        "      print(\"You didn't meet the sales target!\")\n",
        "\n",
        "class Warehouse_worker(Workers):\n",
        "    def sal2(self):\n",
        "      self.res2 = self.days * self.pay\n",
        "      print(\"Salary: \", self.res2, self.name)"
      ],
      "metadata": {
        "id": "TJDYW4CK5EYV"
      },
      "execution_count": null,
      "outputs": []
    },
    {
      "cell_type": "code",
      "source": [
        "w1 = Sales_department()\n",
        "w1.data()\n",
        "w1.sal()\n",
        "w1.value()\n",
        "w2 = Warehouse_worker()\n",
        "w2.data()\n",
        "w2.sal2()"
      ],
      "metadata": {
        "colab": {
          "base_uri": "https://localhost:8080/"
        },
        "id": "XmoR4Nqr8DMp",
        "outputId": "2dfe02a9-b7eb-4c7e-f6da-be4bf0cf13d3"
      },
      "execution_count": null,
      "outputs": [
        {
          "output_type": "stream",
          "name": "stdout",
          "text": [
            "Name: Mary\n",
            "Number of days worked: 31\n",
            "1 working day fee: 1200\n",
            "Salary:  37200.0 Mary\n",
            "Required sales volume: 15000\n",
            "Сompleted sales volume: 20000\n",
            "Percent: 3\n",
            "Salary with percents:  38316.0\n",
            "Name: Nansy\n",
            "Number of days worked: 21\n",
            "1 working day fee: 1000\n",
            "Salary:  21000.0 Nansy\n"
          ]
        }
      ]
    },
    {
      "cell_type": "markdown",
      "source": [
        "# 5"
      ],
      "metadata": {
        "id": "1raK-QQuXN9t"
      }
    },
    {
      "cell_type": "code",
      "source": [
        "class Furniture():\n",
        "  def a(self):\n",
        "    self.amount = input(\"Enter the amount of furniture: \")\n",
        "    print(\"Your order(amount):\", self.amount)\n",
        "\n",
        "class Cabinet_furniture(Furniture):\n",
        "  def cupboards(self):\n",
        "    self.width = float(input(\"Cupboard width: \"))\n",
        "    self.length = float(input(\"Cupboard length: \"))\n",
        "    print(\"Cupboard width:\", self.width)\n",
        "    print(\"Cupboard length:\", self.length)\n",
        "  def shelves(self):\n",
        "    self.thickness = float(input(\"Shelf thickness: \"))\n",
        "    print(\"Shelf thickness:\", self.thickness)\n",
        "\n",
        "class Cushioned_furniture(Furniture):\n",
        "  def sofas(self):\n",
        "    print(\"Make a choice: Spring sofa(enter 1), Polyurethane foam sofa(enter 2)\")\n",
        "    self.c = int(input())\n",
        "    if self.c == 1:\n",
        "      print(\"Your choice: spring sofa\")\n",
        "    elif self.c == 2:\n",
        "      print(\"Your choice: polyurethane foam sofa\")\n",
        "    else:\n",
        "      print(\"Enter 1 or 2\")\n",
        "  def beds(self):\n",
        "    self.bed_height = float(input(\"Enter bed height: \"))\n",
        "    print(\"You choosed:\", self.bed_height)\n",
        "\n",
        "class Kitchen_furniture(Furniture):\n",
        "  def kitchen_set(self):\n",
        "    self.material = input(\"Enter material for kitchen set: \")\n",
        "    print(\"You choosed:\", self.material)"
      ],
      "metadata": {
        "id": "Tdtb1tMZXO7M"
      },
      "execution_count": null,
      "outputs": []
    },
    {
      "cell_type": "code",
      "source": [
        "fur = Furniture()\n",
        "fur.a()\n",
        "cab1 = Cabinet_furniture()\n",
        "cab1.cupboards()\n",
        "cab1.shelves()\n",
        "cush1 = Cushioned_furniture()\n",
        "cush1.sofas()\n",
        "cush1.beds()\n",
        "kitch1 = Kitchen_furniture()\n",
        "kitch1.kitchen_set()"
      ],
      "metadata": {
        "colab": {
          "base_uri": "https://localhost:8080/"
        },
        "id": "PknCzB6vYcuF",
        "outputId": "883a0300-acf9-41cd-dbf8-34bb35ec1ad7"
      },
      "execution_count": null,
      "outputs": [
        {
          "output_type": "stream",
          "name": "stdout",
          "text": [
            "Enter the amount of furniture: 2\n",
            "Your order(amount): 2\n",
            "Cupboard width: 12\n",
            "Cupboard length: 13\n",
            "Cupboard width: 12.0\n",
            "Cupboard length: 13.0\n",
            "Shelf thickness: 0.5\n",
            "Shelf thickness: 0.5\n",
            "Make a choice: Spring sofa(enter 1), Polyurethane foam sofa(enter 2)\n",
            "1\n",
            "Your choice: spring sofa\n",
            "Enter 1 or 2\n",
            "Enter bed height: 13\n",
            "You choosed: 13.0\n",
            "Enter material for kitchen set: marble\n",
            "You choosed: marble\n"
          ]
        }
      ]
    },
    {
      "cell_type": "markdown",
      "source": [
        "# 6"
      ],
      "metadata": {
        "id": "yT_x96Md-aY7"
      }
    },
    {
      "cell_type": "code",
      "source": [
        "class Man():\n",
        "  def data(self):\n",
        "    self.name = input(\"Enter name and surname: \")\n",
        "    self.number = input(\"Enter phone number: \")\n",
        "    self.adress = input(\"Enter adress: \")\n",
        "    self.age = input(\"Enter age: \")\n",
        "    self.res = \"Information: \", \"Name: \", str(self.name), \"Phone number: \", str(self.number), \"Adress: \", str(self.adress), \"Age: \", str(self.age)\n",
        "\n",
        "class Manager(Man):\n",
        "  def data2(self):\n",
        "    self.dep_num = input(\"Enter department_number: \")\n",
        "    self.am = input(\"Enter number of subordinates: \")\n",
        "    print(self.res)\n",
        "    print(\"Department number: \", self.dep_num)\n",
        "    print(\"Number of subordinates: \", self.am)\n",
        "\n",
        "class Secretary(Man):\n",
        "  def data3(self):\n",
        "    self.dep_num = input(\"Enter department_number: \")\n",
        "    self.am = input(\"Enter number of subordinates: \")\n",
        "    self.c = input(\"Enter chief's name: \")\n",
        "    print(self.res)\n",
        "    print(\"Department number: \", self.dep_num)\n",
        "    print(\"Number of subordinates: \", self.am)\n",
        "    print(\"Chief's name: \", self.c)"
      ],
      "metadata": {
        "id": "4BlE5wiB8tGv"
      },
      "execution_count": null,
      "outputs": []
    },
    {
      "cell_type": "code",
      "source": [
        "m1 = Manager()\n",
        "m1.data()\n",
        "m1.data2()\n",
        "s1 = Secretary()\n",
        "s1.data()\n",
        "s1.data3()"
      ],
      "metadata": {
        "colab": {
          "base_uri": "https://localhost:8080/"
        },
        "id": "ib2akbosDkjp",
        "outputId": "b42d1956-5873-49cc-8139-ce96606787cb"
      },
      "execution_count": null,
      "outputs": [
        {
          "output_type": "stream",
          "name": "stdout",
          "text": [
            "Enter name and surname: Виктор Викторов\n",
            "Enter phone number: 8968684\n",
            "Enter adress: Москва\n",
            "Enter age: 56\n",
            "Enter department_number: 3\n",
            "Enter number of subordinates: 32\n",
            "('Information: ', 'Name: ', 'Виктор Викторов', 'Phone number: ', '8968684', 'Adress: ', 'Москва', 'Age: ', '56')\n",
            "Department number:  3\n",
            "Number of subordinates:  32\n",
            "Enter name and surname: Петр Петров\n",
            "Enter phone number: 96884\n",
            "Enter adress: Москва\n",
            "Enter age: 45\n",
            "Enter department_number: 3\n",
            "Enter number of subordinates: 10\n",
            "Enter chief's name: Николай Николаев\n",
            "('Information: ', 'Name: ', 'Петр Петров', 'Phone number: ', '96884', 'Adress: ', 'Москва', 'Age: ', '45')\n",
            "Department number:  3\n",
            "Number of subordinates:  10\n",
            "Chief's name:  Николай Николаев\n"
          ]
        }
      ]
    },
    {
      "cell_type": "markdown",
      "source": [
        "# 7"
      ],
      "metadata": {
        "id": "15qmV0y4WSyv"
      }
    },
    {
      "cell_type": "code",
      "source": [
        "class Building():\n",
        "  def data(self):\n",
        "    self.pr = 1000 #price for 1 square meter\n",
        "    try:\n",
        "      self.floor = int(input(\"Enter floor: \"))\n",
        "      self.number_rooms = int(input(\"Enter number of rooms: \"))\n",
        "    except:\n",
        "      print(\"Enter an integer!\")\n",
        "    try:\n",
        "      self.area = float(input(\"Enter apartment area: \"))\n",
        "    except:\n",
        "      print(\"Enter the number!\")\n",
        "    self.pr = self.pr * self.area\n",
        "\n",
        "class house_k(Building):\n",
        "  def brick_house(self):\n",
        "    try:\n",
        "      self.p = float(input(\"Price per square meter: \"))\n",
        "    except:\n",
        "      print(\"Enter the number!\")\n",
        "    self.res = self.area * self.p\n",
        "    self.pr = self.pr + self.res\n",
        "\n",
        "class house_p(Building):\n",
        "  def ceramic_stones(self):\n",
        "    try:\n",
        "      self.p2 = float(input(\"Price per square meter: \"))\n",
        "    except:\n",
        "      print(\"Enter the number!\")\n",
        "    self.res2 = self.area * self.p2\n",
        "    self.pr = self.pr + self.res2\n",
        "\n",
        "\n",
        "class house_m(Building):\n",
        "  def aerated_concrete_blocks(self):\n",
        "    try:\n",
        "      self.p3 = float(input(\"Price per square meter: \"))\n",
        "    except:\n",
        "      print(\"Enter the number!\")      \n",
        "    self.res3 = self.area * self.p3\n",
        "    self.pr = self.pr + self.res3   \n",
        "\n",
        "class office(house_k, house_p, house_m):\n",
        "  def loggia(self):\n",
        "    self.l = int(input(\"If you need an apartment with a loggia, enter 0. If without a loggia, enter 1: \"))\n",
        "    if self.l != 0 and self.l != 1:\n",
        "      print(\"Enter 0 or 1!\")\n",
        "    elif self.l == 0:\n",
        "      print(\"You have chosen an apartment with a loggia, surcharge will be included in the final cost.\")\n",
        "      self.pr = self.pr + 5000\n",
        "\n",
        "  def district(self):\n",
        "    self.d = int(input(\"If you want an apartment in the city center, enter 0, if in another area, enter 1: \"))\n",
        "    if self.l != 0 and self.l != 1:\n",
        "      print(\"Enter 0 or 1!\")\n",
        "    elif self.l == 0:\n",
        "      print(\"You have chosen an apartment in the city center, the surcharge will be included in the final price.\")\n",
        "      self.pr = self.pr + 10000\n",
        "\n",
        "  def result(self):\n",
        "    print(\"Final cost of the apartment:\", self.pr)"
      ],
      "metadata": {
        "id": "N0iKwozvWTmf"
      },
      "execution_count": 5,
      "outputs": []
    },
    {
      "cell_type": "code",
      "source": [
        "ap1 = office()\n",
        "ap1.data()\n",
        "ap1.brick_house()\n",
        "ap1.loggia()\n",
        "ap1.district()\n",
        "ap1.result()"
      ],
      "metadata": {
        "colab": {
          "base_uri": "https://localhost:8080/"
        },
        "id": "mAd9NiVFhXCA",
        "outputId": "5165cd71-0aa6-4a95-a09f-3cb9512f87ff"
      },
      "execution_count": 7,
      "outputs": [
        {
          "output_type": "stream",
          "name": "stdout",
          "text": [
            "Enter floor: 3\n",
            "Enter number of rooms: 1\n",
            "Enter apartment area: 23\n",
            "Price per square meter: 100000\n",
            "If you need an apartment with a loggia, enter 0. If without a loggia, enter 1: 0\n",
            "You have chosen an apartment with a loggia, surcharge will be included in the final cost.\n",
            "If you want an apartment in the city center, enter 0, if in another area, enter 1: 0\n",
            "You have chosen an apartment in the city center, the surcharge will be included in the final price.\n",
            "Final cost of the apartment: 2338000.0\n"
          ]
        }
      ]
    }
  ]
}