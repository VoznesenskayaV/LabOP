{
  "nbformat": 4,
  "nbformat_minor": 0,
  "metadata": {
    "colab": {
      "provenance": [],
      "authorship_tag": "ABX9TyPlfFp9eK/rXhITNhHGX2iv",
      "include_colab_link": true
    },
    "kernelspec": {
      "name": "python3",
      "display_name": "Python 3"
    },
    "language_info": {
      "name": "python"
    }
  },
  "cells": [
    {
      "cell_type": "markdown",
      "metadata": {
        "id": "view-in-github",
        "colab_type": "text"
      },
      "source": [
        "<a href=\"https://colab.research.google.com/github/VoznesenskayaV/LabOP/blob/main/Schetchik_Elena.ipynb\" target=\"_parent\"><img src=\"https://colab.research.google.com/assets/colab-badge.svg\" alt=\"Open In Colab\"/></a>"
      ]
    },
    {
      "cell_type": "code",
      "execution_count": 1,
      "metadata": {
        "colab": {
          "base_uri": "https://localhost:8080/"
        },
        "id": "d9Txe5jLQ_hd",
        "outputId": "dcb1efda-c244-4877-9563-b3b01baa82cb"
      },
      "outputs": [
        {
          "output_type": "stream",
          "name": "stdout",
          "text": [
            "Введите левую границу промежутка: 1\n",
            "Введите правую границу промежутка: 10\n",
            "Введите число (пустая строка для завершения ввода): 1\n",
            "Введите число (пустая строка для завершения ввода): 2\n",
            "Введите число (пустая строка для завершения ввода): 3\n",
            "Введите число (пустая строка для завершения ввода): 4\n",
            "Введите число (пустая строка для завершения ввода): \n",
            "True\n"
          ]
        }
      ],
      "source": [
        "def check_in_range(left, right, numbers):\n",
        "    # Проверка, входят ли все числа в заданный промежуток\n",
        "    return all(left <= num <= right for num in numbers)\n",
        "\n",
        "\n",
        "def main():\n",
        "    try:\n",
        "        # Ввод левой границы промежутка\n",
        "        left_boundary = int(input(\"Введите левую границу промежутка: \"))\n",
        "\n",
        "        # Ввод правой границы промежутка\n",
        "        right_boundary = int(input(\"Введите правую границу промежутка: \"))\n",
        "\n",
        "        # Ввод чисел до пустой строки\n",
        "        input_numbers = []\n",
        "        while True:\n",
        "            input_str = input(\"Введите число (пустая строка для завершения ввода): \")\n",
        "            if input_str == \"\":\n",
        "                break\n",
        "            input_numbers.append(int(input_str))\n",
        "\n",
        "        # Проверка и вывод результата\n",
        "        result = check_in_range(left_boundary, right_boundary, input_numbers)\n",
        "        print(result)\n",
        "\n",
        "    except ValueError:\n",
        "        print(\"Ошибка ввода. Убедитесь, что введены целочисленные значения.\")\n",
        "\n",
        "if __name__ == \"__main__\":\n",
        "    main()"
      ]
    }
  ]
}