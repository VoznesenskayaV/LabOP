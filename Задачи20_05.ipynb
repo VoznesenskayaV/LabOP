{
  "nbformat": 4,
  "nbformat_minor": 0,
  "metadata": {
    "colab": {
      "provenance": [],
      "authorship_tag": "ABX9TyPdB9+qf0gIgFaiz9UWRBAI",
      "include_colab_link": true
    },
    "kernelspec": {
      "name": "python3",
      "display_name": "Python 3"
    },
    "language_info": {
      "name": "python"
    }
  },
  "cells": [
    {
      "cell_type": "markdown",
      "metadata": {
        "id": "view-in-github",
        "colab_type": "text"
      },
      "source": [
        "<a href=\"https://colab.research.google.com/github/VoznesenskayaV/LabOP/blob/main/%D0%97%D0%B0%D0%B4%D0%B0%D1%87%D0%B820_05.ipynb\" target=\"_parent\"><img src=\"https://colab.research.google.com/assets/colab-badge.svg\" alt=\"Open In Colab\"/></a>"
      ]
    },
    {
      "cell_type": "markdown",
      "source": [
        "# Задача 1"
      ],
      "metadata": {
        "id": "GcxagCAd1D2o"
      }
    },
    {
      "cell_type": "code",
      "execution_count": 3,
      "metadata": {
        "colab": {
          "base_uri": "https://localhost:8080/"
        },
        "id": "Pku3qAwiqsL1",
        "outputId": "4a46a5ae-1686-49f1-800c-66a0ecf7edf3"
      },
      "outputs": [
        {
          "output_type": "stream",
          "name": "stdout",
          "text": [
            "0.63\n"
          ]
        }
      ],
      "source": [
        "def calculate_tversky_index(sentence1, sentence2, a=0.25, b=0.25):\n",
        "    # Функция для очистки и разделения предложения на уникальные слова\n",
        "    def get_unique_words(sentence):\n",
        "        import re\n",
        "        # Преобразование в нижний регистр и удаление знаков препинания, кроме точек\n",
        "        sentence = re.sub(r'[^\\w\\s,]', '', sentence).lower()\n",
        "        # Разделение по пробелам и запятым и удаление пустых строк\n",
        "        words = set(re.split(r'[ ,]+', sentence))\n",
        "        return words\n",
        "\n",
        "    # Извлечение уникальных слов из обоих предложений\n",
        "    words1 = get_unique_words(sentence1)\n",
        "    words2 = get_unique_words(sentence2)\n",
        "\n",
        "    # Удаление пустых строк из множеств\n",
        "    words1.discard('')\n",
        "    words2.discard('')\n",
        "\n",
        "    # Вычисление пересечений и разностей\n",
        "    intersection = words1.intersection(words2)\n",
        "    unique_to_sentence1 = words1 - words2\n",
        "    unique_to_sentence2 = words2 - words1\n",
        "\n",
        "    # Размеры множеств\n",
        "    intersection_size = len(intersection)\n",
        "    unique_to_sentence1_size = len(unique_to_sentence1)\n",
        "    unique_to_sentence2_size = len(unique_to_sentence2)\n",
        "\n",
        "    # Вычисление индекса Тверского\n",
        "    tversky_index = intersection_size / (intersection_size + a * unique_to_sentence1_size + b * unique_to_sentence2_size)\n",
        "\n",
        "    # Возвращение результата с округлением до 2 знаков после запятой\n",
        "    return \"{:.2f}\".format(tversky_index)\n",
        "\n",
        "# Пример ввода\n",
        "sentence1 = \"Hello, World I am busy today.\"\n",
        "sentence2 = \"Hi world,,how are you today, BUSY.\"\n",
        "\n",
        "# Вычисление и вывод индекса Тверского\n",
        "print(calculate_tversky_index(sentence1, sentence2))\n"
      ]
    },
    {
      "cell_type": "markdown",
      "source": [
        "# Задача 2"
      ],
      "metadata": {
        "id": "qMIBHAmy1GIx"
      }
    },
    {
      "cell_type": "code",
      "source": [
        "def process_election_results(lines):\n",
        "    from collections import defaultdict\n",
        "\n",
        "    # Словарь для хранения голосов кандидатов\n",
        "    votes = defaultdict(int)\n",
        "\n",
        "    # Обработка каждой строки ввода\n",
        "    for line in lines:\n",
        "        name, vote_count = line.split()\n",
        "        votes[name] += int(vote_count)\n",
        "\n",
        "    # Сортировка кандидатов по количеству голосов в порядке убывания\n",
        "    sorted_candidates = sorted(votes.items(), key=lambda item: item[1], reverse=True)\n",
        "\n",
        "    # Вывод результата\n",
        "    for candidate, total_votes in sorted_candidates:\n",
        "        print(f\"{candidate} {total_votes}\")\n",
        "\n",
        "# Пример ввода\n",
        "input_lines = [\n",
        "    \"McCain 10\",\n",
        "    \"McCain 5\",\n",
        "    \"Obama 9\",\n",
        "    \"Obama 8\",\n",
        "    \"McCain 1\"\n",
        "]\n",
        "\n",
        "# Обработка и вывод результата\n",
        "process_election_results(input_lines)"
      ],
      "metadata": {
        "colab": {
          "base_uri": "https://localhost:8080/"
        },
        "id": "SHKMy5AhuUxB",
        "outputId": "97c94cd7-01e3-4c5e-e9a3-f02810998e60"
      },
      "execution_count": 4,
      "outputs": [
        {
          "output_type": "stream",
          "name": "stdout",
          "text": [
            "Obama 17\n",
            "McCain 16\n"
          ]
        }
      ]
    },
    {
      "cell_type": "markdown",
      "source": [
        "# Задача 3"
      ],
      "metadata": {
        "id": "vPlCRDV61K9V"
      }
    },
    {
      "cell_type": "code",
      "source": [
        "def sort_grades(input_str):\n",
        "    # Разбиваем входную строку на тройки\n",
        "    triplets = [item.strip().split() for item in input_str.split(',')]\n",
        "    triplets = [(triplet[0], triplet[1], int(triplet[2])) for triplet in triplets]\n",
        "\n",
        "    # Сортируем тройки согласно правилам\n",
        "    sorted_triplets = sorted(triplets, key=lambda triplet: (triplet[1][0], triplet[0][0], triplet[2]))\n",
        "\n",
        "    # Форматируем отсортированные тройки обратно в строку\n",
        "    sorted_str = '\\n'.join(['{} {} {}'.format(triplet[0], triplet[1], triplet[2]) for triplet in sorted_triplets])\n",
        "\n",
        "    return sorted_str\n",
        "\n",
        "# Пример ввода\n",
        "input_str = \"\"\"Marjorie Schade 2,\n",
        "Carol Peters 4,\n",
        "Cora Silva 3,\n",
        "Bryan Not 7,\n",
        "Robert Jackson 10,\n",
        "Michael Wyatt 1,\n",
        "Gregory Jackson 3,\n",
        "Veronica Wagner 0,\n",
        "William Rivera 4,\n",
        "Claude Hackworth 8,\n",
        "William Hayes 4,\n",
        "Veronica Wagner 5,\n",
        "Robert Irwin 8,\n",
        "Amy Post 7,\n",
        "John Hamilton 1,\n",
        "Kevin Warren 0,\n",
        "Anne Leusink 0,\n",
        "Sandra Cotton 3,\n",
        "Karen Whaley 2,\n",
        "Scott Wilson 6\"\"\"\n",
        "\n",
        "# Получаем отсортированный результат\n",
        "sorted_result = sort_grades(input_str)\n",
        "print(sorted_result)"
      ],
      "metadata": {
        "colab": {
          "base_uri": "https://localhost:8080/"
        },
        "id": "rAT6B3gkzjLe",
        "outputId": "1a9c9a8a-5fa5-4013-e6bf-f9b758c24780"
      },
      "execution_count": 16,
      "outputs": [
        {
          "output_type": "stream",
          "name": "stdout",
          "text": [
            "Sandra Cotton 3\n",
            "Claude Hackworth 8\n",
            "John Hamilton 1\n",
            "William Hayes 4\n",
            "Robert Irwin 8\n",
            "Gregory Jackson 3\n",
            "Robert Jackson 10\n",
            "Anne Leusink 0\n",
            "Bryan Not 7\n",
            "Amy Post 7\n",
            "Carol Peters 4\n",
            "William Rivera 4\n",
            "Cora Silva 3\n",
            "Marjorie Schade 2\n",
            "Kevin Warren 0\n",
            "Karen Whaley 2\n",
            "Michael Wyatt 1\n",
            "Scott Wilson 6\n",
            "Veronica Wagner 0\n",
            "Veronica Wagner 5\n"
          ]
        }
      ]
    }
  ]
}