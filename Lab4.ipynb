{
  "nbformat": 4,
  "nbformat_minor": 0,
  "metadata": {
    "colab": {
      "provenance": [],
      "authorship_tag": "ABX9TyPFPpmr6fuWgkwHxyG9bw0b",
      "include_colab_link": true
    },
    "kernelspec": {
      "name": "python3",
      "display_name": "Python 3"
    },
    "language_info": {
      "name": "python"
    }
  },
  "cells": [
    {
      "cell_type": "markdown",
      "metadata": {
        "id": "view-in-github",
        "colab_type": "text"
      },
      "source": [
        "<a href=\"https://colab.research.google.com/github/VoznesenskayaV/LabOP/blob/main/Lab4.ipynb\" target=\"_parent\"><img src=\"https://colab.research.google.com/assets/colab-badge.svg\" alt=\"Open In Colab\"/></a>"
      ]
    },
    {
      "cell_type": "code",
      "execution_count": 14,
      "metadata": {
        "id": "DzaPBjJ2kRlU"
      },
      "outputs": [],
      "source": [
        "class Computer:\n",
        "  def __init__(self, processor, speed, memory):\n",
        "    self.p = processor\n",
        "    self.s = speed\n",
        "    self.m = memory\n",
        "  \n",
        "  def quality(self):\n",
        "    self.q = (0.1*self.s) + self.m\n",
        "    return self.q\n",
        "\n",
        "  def data(self):\n",
        "    print(f\"Processor name: {self.p}\\nProcessor clock frequency (MHz): {self.s}\\nAmount of RAM (MB): {self.m}\\nQuality: {self.q}\")\n",
        "    \n",
        "class Descendant(Computer):\n",
        "  def __init__(self, processor, speed, memory, p):\n",
        "    super().__init__(processor, speed, memory)\n",
        "    self.p = p\n",
        "\n",
        "  def quality(self):\n",
        "    super().quality()\n",
        "    self.qp = self.q + 0.5 * self.p\n",
        "    return self.qp\n",
        "  \n",
        "  def data(self):\n",
        "    print(f\"Quality: {self.qp}\")"
      ]
    },
    {
      "cell_type": "code",
      "source": [
        "computer1 = Computer(\"Intel Core i9\", 10, 2)\n",
        "descendant1 = Descendant(\"Intel\", 2, 5, 4)\n",
        "\n",
        "lst = [computer1, descendant1]\n",
        "try:\n",
        "  for i in lst:\n",
        "    i.quality()\n",
        "    i.data()\n",
        "except TypeError:\n",
        "  print(\"All data except the name of the processor must be numbers!\")\n",
        "  "
      ],
      "metadata": {
        "colab": {
          "base_uri": "https://localhost:8080/"
        },
        "id": "6prI0N4DpzJc",
        "outputId": "2708e705-385f-4f3e-84cf-98b781858ca7"
      },
      "execution_count": 32,
      "outputs": [
        {
          "output_type": "stream",
          "name": "stdout",
          "text": [
            "Processor name: Intel Core i9\n",
            "Processor clock frequency (MHz): 10\n",
            "Amount of RAM (MB): 2\n",
            "Quality: 3.0\n",
            "Quality: 7.2\n"
          ]
        }
      ]
    }
  ]
}