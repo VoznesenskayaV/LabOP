{
  "nbformat": 4,
  "nbformat_minor": 0,
  "metadata": {
    "colab": {
      "provenance": [],
      "authorship_tag": "ABX9TyMMHkadfB7jC5iJQDdyJLzv",
      "include_colab_link": true
    },
    "kernelspec": {
      "name": "python3",
      "display_name": "Python 3"
    },
    "language_info": {
      "name": "python"
    }
  },
  "cells": [
    {
      "cell_type": "markdown",
      "metadata": {
        "id": "view-in-github",
        "colab_type": "text"
      },
      "source": [
        "<a href=\"https://colab.research.google.com/github/VoznesenskayaV/LabOP/blob/main/1_3.ipynb\" target=\"_parent\"><img src=\"https://colab.research.google.com/assets/colab-badge.svg\" alt=\"Open In Colab\"/></a>"
      ]
    },
    {
      "cell_type": "markdown",
      "source": [
        "# 1.3.1"
      ],
      "metadata": {
        "id": "ML5QUpgS1G4w"
      }
    },
    {
      "cell_type": "code",
      "execution_count": 3,
      "metadata": {
        "colab": {
          "base_uri": "https://localhost:8080/"
        },
        "id": "zlu2ixEzzV15",
        "outputId": "e1fb0a25-d376-462b-9b97-d96865ad3642"
      },
      "outputs": [
        {
          "output_type": "stream",
          "name": "stdout",
          "text": [
            "4.67\n"
          ]
        }
      ],
      "source": [
        "class Student:\n",
        "  def __init__(self, d1, d2, d3):\n",
        "    self.d1 = d1\n",
        "    self.d2 = d2\n",
        "    self.d3 = d3\n",
        "  def av(self):\n",
        "    av1 = (self.d1 + self.d2 + self.d3)/3\n",
        "    print(round(av1, 2))\n",
        "\n",
        "student1 = Student(5, 4, 5)\n",
        "student1.av()"
      ]
    },
    {
      "cell_type": "code",
      "source": [
        "class Student:\n",
        "  def i(self):\n",
        "    self.d1 = int(input())\n",
        "    self.d2 = int(input())\n",
        "    self.d3 = int(input())\n",
        "  def av(self):\n",
        "    av1 = (self.d1 + self.d2 + self.d3)/3\n",
        "    print(round(av1, 2))\n",
        "\n",
        "student1 = Student()\n",
        "student1.i()\n",
        "student1.av()"
      ],
      "metadata": {
        "colab": {
          "base_uri": "https://localhost:8080/"
        },
        "id": "HIPALXnNzjZ7",
        "outputId": "ced7b4e3-1b28-452a-9558-18747477e472"
      },
      "execution_count": 5,
      "outputs": [
        {
          "output_type": "stream",
          "name": "stdout",
          "text": [
            "5\n",
            "4\n",
            "5\n",
            "4.67\n"
          ]
        }
      ]
    },
    {
      "cell_type": "markdown",
      "source": [
        "# 1.3.2"
      ],
      "metadata": {
        "id": "gGX6k8ZE1gWG"
      }
    },
    {
      "cell_type": "code",
      "source": [
        "class A():\n",
        "  def inp(self):\n",
        "    self.name = input(\"Введите имя сотрудника: \")\n",
        "    self.d = int(input(\"Введите кол-во отработаннных дней: \"))\n",
        "    self.p = int(input(\"Введите плату за 1 рабочий день (в руб.): \"))\n",
        "\n",
        "  \n",
        "  def calculations(self):\n",
        "    self.s = self.d * self.p\n",
        "    self.a = \"ФИО: \" + self.name + \" \" + \"Итог: \" + str(self.s) + \"\\n\"\n",
        "    return self.a\n",
        "    \n",
        "    \n",
        "  \n",
        "\n",
        "def ss():\n",
        "  n = int(input(\"Введите кол-во сотрудников: \"))\n",
        "  for i in range(n):\n",
        "    w = A()\n",
        "    w.inp()\n",
        "    s = w.calculations()\n",
        "    filename = \"workers.txt\"\n",
        "    f = open(filename, 'a')\n",
        "    f.write(str(s))\n",
        "    f.close()\n",
        "\n",
        "ss()\n"
      ],
      "metadata": {
        "colab": {
          "base_uri": "https://localhost:8080/"
        },
        "id": "CWGJkhSw1CWc",
        "outputId": "e1e265f3-9aff-4dde-dade-b8a3c607bd8e"
      },
      "execution_count": null,
      "outputs": [
        {
          "name": "stdout",
          "output_type": "stream",
          "text": [
            "Введите кол-во сотрудников: 2\n",
            "Введите имя сотрудника: Сергей Сергеевич\n",
            "Введите кол-во отработаннных дней: 25\n",
            "Введите плату за 1 рабочий день (в руб.): 1000\n",
            "Введите имя сотрудника: Павел Павлович\n",
            "Введите кол-во отработаннных дней: 31\n",
            "Введите плату за 1 рабочий день (в руб.): 1000\n"
          ]
        }
      ]
    },
    {
      "cell_type": "markdown",
      "source": [
        "# 1.3.3"
      ],
      "metadata": {
        "id": "jSXqlpAHw6sI"
      }
    },
    {
      "cell_type": "code",
      "source": [
        "class A():\n",
        "  def inp(self):\n",
        "    self.name = input(\"Введите имя сотрудника: \")\n",
        "    self.d = int(input(\"Введите кол-во отработаннных дней: \"))\n",
        "    self.p = int(input(\"Введите плату за 1 рабочий день (в руб.): \"))\n",
        "\n",
        "  \n",
        "  def calculations(self):\n",
        "    self.s = self.d * self.p\n",
        "    self.per = 0.01\n",
        "    self.p = self.s * self.per\n",
        "    self.premium = self.s + self.p\n",
        "    self.a = \"ФИО: \" + self.name + \" \" + \"Итог: \" + str(self.s) + \" \" + \"Начисление премии: \" + str(self.premium) + \"\\n\"\n",
        "    return str(self.a)\n",
        "\n",
        "  \n",
        "\n",
        "\n",
        "def ss():\n",
        "  n = int(input(\"Введите кол-во сотрудников: \"))\n",
        "  for i in range(n):\n",
        "    w = A()\n",
        "    w.inp()\n",
        "    s = w.calculations()\n",
        "    filename = \"workers.txt\"\n",
        "    f = open(filename, 'a')\n",
        "    f.write(str(s))\n",
        "    f.close()\n",
        "\n",
        "ss()"
      ],
      "metadata": {
        "id": "GAGn54P_1j8D",
        "colab": {
          "base_uri": "https://localhost:8080/"
        },
        "outputId": "3498e600-3483-493f-f838-97dd2ff8ca9d"
      },
      "execution_count": null,
      "outputs": [
        {
          "name": "stdout",
          "output_type": "stream",
          "text": [
            "Введите кол-во сотрудников: 2\n",
            "Введите имя сотрудника: ннпа\n",
            "Введите кол-во отработаннных дней: 14\n",
            "Введите плату за 1 рабочий день (в руб.): 1000\n",
            "Введите имя сотрудника: пн\n",
            "Введите кол-во отработаннных дней: 17\n",
            "Введите плату за 1 рабочий день (в руб.): 1000\n"
          ]
        }
      ]
    },
    {
      "cell_type": "markdown",
      "source": [
        "# 1.3.4"
      ],
      "metadata": {
        "id": "cPjxxCRo1Rwh"
      }
    },
    {
      "cell_type": "code",
      "source": [
        "class A():\n",
        "  def inp(self):\n",
        "    self.name = input(\"Введите имя сотрудника: \")\n",
        "    self.d = int(input(\"Введите кол-во отработаннных дней: \"))\n",
        "    self.p = int(input(\"Введите плату за 1 рабочий день (в руб.): \"))\n",
        "\n",
        "  \n",
        "  def calculations(self):\n",
        "    self.s = self.d * self.p\n",
        "    self.per = 0.01\n",
        "    self.p = self.s * self.per\n",
        "    self.premium = self.s + self.p\n",
        "    self.a = \"ФИО: \" + self.name + \" \" + \"Итог(с учетом премии): \" + str(self.premium) + \"\\n\"\n",
        "    return str(self.a)\n",
        "\n",
        "  def money(self):\n",
        "    self.s = self.d * self.p\n",
        "    self.per = 0.01\n",
        "    self.p = self.s * self.per\n",
        "    self.premium = self.s + self.p\n",
        "    return self.premium\n",
        "  \n",
        "\n",
        "\n",
        "def ss():\n",
        "  c = []\n",
        "  n = int(input(\"Введите кол-во сотрудников: \"))\n",
        "  while n != 0:\n",
        "    w = A()\n",
        "    w.inp()\n",
        "    c.append(w.money())\n",
        "    s = w.calculations()\n",
        "    filename = \"workers.txt\"\n",
        "    f = open(filename, 'a')\n",
        "    f.write(str(s))\n",
        "    f.close()\n",
        "    n -= 1\n",
        "  result = sum(c) / 0.7\n",
        "  return round(result, 2)\n",
        "  \n",
        "\n",
        "filename = \"workers.txt\"\n",
        "f = open(filename, 'a')\n",
        "f.write(str(ss()))\n",
        "f.close()\n",
        "\n",
        "\n",
        "\"\"\"val = []\n",
        "str_nm = ''\n",
        "filename = \"workers.txt\"\n",
        "file = open(filename, 'r')\n",
        "for i in file:\n",
        "  line = file.readline()\n",
        "  for j in line:\n",
        "    if j.isdigit() or j == '.':\n",
        "      str_nm += j\n",
        "  val.append(str_nm)\n",
        "file.close()\n",
        "\n",
        "print(val)\"\"\""
      ],
      "metadata": {
        "colab": {
          "base_uri": "https://localhost:8080/",
          "height": 182
        },
        "id": "9h56nIM2MpjB",
        "outputId": "ea4a22dd-d92a-4781-dd08-7aeac1f6c178"
      },
      "execution_count": null,
      "outputs": [
        {
          "name": "stdout",
          "output_type": "stream",
          "text": [
            "Введите кол-во сотрудников: 2\n",
            "Введите имя сотрудника: wwww\n",
            "Введите кол-во отработаннных дней: 1\n",
            "Введите плату за 1 рабочий день (в руб.): 2\n",
            "Введите имя сотрудника: eeee\n",
            "Введите кол-во отработаннных дней: 1\n",
            "Введите плату за 1 рабочий день (в руб.): 3\n"
          ]
        },
        {
          "output_type": "execute_result",
          "data": {
            "text/plain": [
              "'val = []\\nstr_nm = \\'\\'\\nfilename = \"workers.txt\"\\nfile = open(filename, \\'r\\')\\nfor i in file:\\n  line = file.readline()\\n  for j in line:\\n    if j.isdigit() or j == \\'.\\':\\n      str_nm += j\\n  val.append(str_nm)\\nfile.close()\\n\\nprint(val)'"
            ],
            "application/vnd.google.colaboratory.intrinsic+json": {
              "type": "string"
            }
          },
          "metadata": {},
          "execution_count": 16
        }
      ]
    },
    {
      "cell_type": "markdown",
      "source": [
        "# 1.3.5"
      ],
      "metadata": {
        "id": "0Cf864wxXxs0"
      }
    },
    {
      "cell_type": "code",
      "source": [
        "class A():\n",
        "  def __init__(self, x):\n",
        "    self.c = float(x)\n",
        "  def __truediv__(self, y):\n",
        "    return y / self.c\n",
        "  def __floordiv__(self, z):\n",
        "    return z // self.c\n",
        "  def __mod__(self, a):\n",
        "    return a % self.c\n",
        "\n",
        "a = A(5)\n",
        "print(a / 9) # 1,8\n",
        "print(a // 11) # 2\n",
        "print(a % 12) # 2\n",
        "\n",
        "\n"
      ],
      "metadata": {
        "colab": {
          "base_uri": "https://localhost:8080/"
        },
        "id": "A3xoW1KJX0mu",
        "outputId": "4866acda-1881-4028-b7e9-e788a4addf8f"
      },
      "execution_count": null,
      "outputs": [
        {
          "output_type": "stream",
          "name": "stdout",
          "text": [
            "1.8\n",
            "2.0\n",
            "2.0\n"
          ]
        }
      ]
    }
  ]
}